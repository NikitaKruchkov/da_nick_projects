{
 "cells": [
  {
   "cell_type": "markdown",
   "id": "a9d38cfd",
   "metadata": {},
   "source": [
    "# Исследование для телекоммуникационной компании."
   ]
  },
  {
   "cell_type": "markdown",
   "id": "58d0e4cd",
   "metadata": {},
   "source": [
    "# Цель исследования- задача определить текущий уровень потребительской лояльности, или NPS среди клиентов из России."
   ]
  },
  {
   "cell_type": "markdown",
   "id": "1ede254d",
   "metadata": {
    "toc": true
   },
   "source": [
    "<h1>План исследования.<span class=\"tocSkip\"></span></h1>\n",
    "<div class=\"toc\"><ul class=\"toc-item\"><li><span><a href=\"#Выгрузить-данные-из-БД-и-создать-датафрейм-соответствующий-ТЗ\" data-toc-modified-id=\"Выгрузить-данные-из-БД-и-создать-датафрейм-соответствующий-ТЗ-1\"><span class=\"toc-item-num\">1&nbsp;&nbsp;</span>Выгрузить данные из БД и создать датафрейм соответствующий ТЗ</a></span></li><li><span><a href=\"#Исследовать-и-подготовить-данные-для-создания-.csv-таблицы\" data-toc-modified-id=\"Исследовать-и-подготовить-данные-для-создания-.csv-таблицы-2\"><span class=\"toc-item-num\">2&nbsp;&nbsp;</span>Исследовать и подготовить данные для создания .csv таблицы</a></span></li><li><span><a href=\"#Ссылка-на-дашборд-на-сайте-Tableau-Public:\" data-toc-modified-id=\"Ссылка-на-дашборд-на-сайте-Tableau-Public:-3\"><span class=\"toc-item-num\">3&nbsp;&nbsp;</span>Ссылка на дашборд на сайте Tableau Public:</a></span></li><li><span><a href=\"#Ссылка-на-pdf-файл-с-презентацией:\" data-toc-modified-id=\"Ссылка-на-pdf-файл-с-презентацией:-4\"><span class=\"toc-item-num\">4&nbsp;&nbsp;</span>Ссылка на pdf-файл с презентацией:</a></span></li></ul></div>"
   ]
  },
  {
   "cell_type": "markdown",
   "id": "4c4259bf",
   "metadata": {},
   "source": [
    "### Выгрузить данные из БД и создать датафрейм соответствующий ТЗ"
   ]
  },
  {
   "cell_type": "code",
   "execution_count": 1,
   "id": "f13c0cd8",
   "metadata": {},
   "outputs": [],
   "source": [
    "import pandas as pd\n",
    "import numpy as np\n",
    "\n",
    "from sqlalchemy import create_engine"
   ]
  },
  {
   "cell_type": "code",
   "execution_count": 2,
   "id": "cb635b3f",
   "metadata": {},
   "outputs": [],
   "source": [
    "path_to_db = '/datasets/telecomm_csi.db'\n",
    "engine = create_engine(f'sqlite:///{path_to_db}', echo = False)"
   ]
  },
  {
   "cell_type": "code",
   "execution_count": 3,
   "id": "6c789619",
   "metadata": {},
   "outputs": [],
   "source": [
    "query = \"\"\"\n",
    "WITH u AS\n",
    "  (SELECT user_id,\n",
    "          lt_day,\n",
    "          (CASE\n",
    "               WHEN lt_day <= 365 THEN 'new'\n",
    "               WHEN lt_day > 365 THEN 'not_new'\n",
    "           END) AS is_new,\n",
    "          age,\n",
    "          (CASE\n",
    "               WHEN gender_segment=1 THEN 'female'\n",
    "               WHEN gender_segment=0 THEN 'male'\n",
    "           END) AS gender_segment,\n",
    "          os_name,\n",
    "          cpe_type_name,\n",
    "          nps_score,\n",
    "          (CASE\n",
    "               WHEN nps_score>=9 THEN 'promoters'\n",
    "               WHEN nps_score>=7\n",
    "                    AND nps_score<9 THEN 'passives'\n",
    "               ELSE 'detractors'\n",
    "           END) AS nps_group,\n",
    "          location_id,\n",
    "          age_gr_id,\n",
    "          tr_gr_id,\n",
    "          lt_gr_id\n",
    "   FROM USER),\n",
    "     l AS\n",
    "  (SELECT country,\n",
    "          city,\n",
    "          location_id\n",
    "   FROM LOCATION),\n",
    "     a_s AS\n",
    "  (SELECT title,\n",
    "          age_gr_id\n",
    "   FROM age_segment),\n",
    "     t_s AS\n",
    "  (SELECT title,\n",
    "          tr_gr_id\n",
    "   FROM traffic_segment),\n",
    "     l_s AS\n",
    "  (SELECT title,\n",
    "          lt_gr_id\n",
    "   FROM lifetime_segment)\n",
    "SELECT u.user_id,\n",
    "       u.lt_day,\n",
    "       u.is_new,\n",
    "       u.age,\n",
    "       u.gender_segment,\n",
    "       u.os_name,\n",
    "       u.cpe_type_name,\n",
    "       l.country,\n",
    "       l.city,\n",
    "       substr(a_s.title,4) AS age_segment,\n",
    "       substr(t_s.title, 4) AS traffic_segment,\n",
    "       substr(l_s.title,4) AS lifetime_segment,\n",
    "       u.nps_score,\n",
    "       u.nps_group\n",
    "FROM u\n",
    "JOIN l ON u.location_id=l.location_id\n",
    "JOIN a_s ON u.age_gr_id=a_s.age_gr_id\n",
    "JOIN t_s ON u.tr_gr_id=t_s.tr_gr_id\n",
    "JOIN l_s ON u.lt_gr_id=l_s.lt_gr_id\n",
    "\n",
    "\"\"\""
   ]
  },
  {
   "cell_type": "code",
   "execution_count": 4,
   "id": "c672a0b7",
   "metadata": {
    "scrolled": false
   },
   "outputs": [
    {
     "data": {
      "text/html": [
       "<div>\n",
       "<style scoped>\n",
       "    .dataframe tbody tr th:only-of-type {\n",
       "        vertical-align: middle;\n",
       "    }\n",
       "\n",
       "    .dataframe tbody tr th {\n",
       "        vertical-align: top;\n",
       "    }\n",
       "\n",
       "    .dataframe thead th {\n",
       "        text-align: right;\n",
       "    }\n",
       "</style>\n",
       "<table border=\"1\" class=\"dataframe\">\n",
       "  <thead>\n",
       "    <tr style=\"text-align: right;\">\n",
       "      <th></th>\n",
       "      <th>user_id</th>\n",
       "      <th>lt_day</th>\n",
       "      <th>is_new</th>\n",
       "      <th>age</th>\n",
       "      <th>gender_segment</th>\n",
       "      <th>os_name</th>\n",
       "      <th>cpe_type_name</th>\n",
       "      <th>country</th>\n",
       "      <th>city</th>\n",
       "      <th>age_segment</th>\n",
       "      <th>traffic_segment</th>\n",
       "      <th>lifetime_segment</th>\n",
       "      <th>nps_score</th>\n",
       "      <th>nps_group</th>\n",
       "    </tr>\n",
       "  </thead>\n",
       "  <tbody>\n",
       "    <tr>\n",
       "      <th>482117</th>\n",
       "      <td>YXZGRY</td>\n",
       "      <td>3198</td>\n",
       "      <td>not_new</td>\n",
       "      <td>54.0</td>\n",
       "      <td>male</td>\n",
       "      <td>ANDROID</td>\n",
       "      <td>SMARTPHONE</td>\n",
       "      <td>Россия</td>\n",
       "      <td>СанктПетербург</td>\n",
       "      <td>45-54</td>\n",
       "      <td>10-15</td>\n",
       "      <td>36+</td>\n",
       "      <td>8</td>\n",
       "      <td>passives</td>\n",
       "    </tr>\n",
       "    <tr>\n",
       "      <th>241272</th>\n",
       "      <td>MH66VL</td>\n",
       "      <td>2874</td>\n",
       "      <td>not_new</td>\n",
       "      <td>41.0</td>\n",
       "      <td>female</td>\n",
       "      <td>ANDROID</td>\n",
       "      <td>SMARTPHONE</td>\n",
       "      <td>Россия</td>\n",
       "      <td>Екатеринбург</td>\n",
       "      <td>35-44</td>\n",
       "      <td>5-10</td>\n",
       "      <td>36+</td>\n",
       "      <td>10</td>\n",
       "      <td>promoters</td>\n",
       "    </tr>\n",
       "    <tr>\n",
       "      <th>129892</th>\n",
       "      <td>GP45JW</td>\n",
       "      <td>5179</td>\n",
       "      <td>not_new</td>\n",
       "      <td>54.0</td>\n",
       "      <td>female</td>\n",
       "      <td>ANDROID</td>\n",
       "      <td>SMARTPHONE</td>\n",
       "      <td>Россия</td>\n",
       "      <td>Казань</td>\n",
       "      <td>45-54</td>\n",
       "      <td>1-5</td>\n",
       "      <td>36+</td>\n",
       "      <td>10</td>\n",
       "      <td>promoters</td>\n",
       "    </tr>\n",
       "    <tr>\n",
       "      <th>321390</th>\n",
       "      <td>QMTW2C</td>\n",
       "      <td>4172</td>\n",
       "      <td>not_new</td>\n",
       "      <td>59.0</td>\n",
       "      <td>female</td>\n",
       "      <td>ANDROID</td>\n",
       "      <td>SMARTPHONE</td>\n",
       "      <td>Россия</td>\n",
       "      <td>Казань</td>\n",
       "      <td>55-64</td>\n",
       "      <td>5-10</td>\n",
       "      <td>36+</td>\n",
       "      <td>10</td>\n",
       "      <td>promoters</td>\n",
       "    </tr>\n",
       "    <tr>\n",
       "      <th>463182</th>\n",
       "      <td>XYPOP2</td>\n",
       "      <td>176</td>\n",
       "      <td>new</td>\n",
       "      <td>46.0</td>\n",
       "      <td>female</td>\n",
       "      <td>ANDROID</td>\n",
       "      <td>TABLET</td>\n",
       "      <td>Россия</td>\n",
       "      <td>НижнийНовгород</td>\n",
       "      <td>45-54</td>\n",
       "      <td>1-5</td>\n",
       "      <td>4-6</td>\n",
       "      <td>10</td>\n",
       "      <td>promoters</td>\n",
       "    </tr>\n",
       "    <tr>\n",
       "      <th>9856</th>\n",
       "      <td>AI9A1Z</td>\n",
       "      <td>308</td>\n",
       "      <td>new</td>\n",
       "      <td>51.0</td>\n",
       "      <td>male</td>\n",
       "      <td>ANDROID</td>\n",
       "      <td>SMARTPHONE</td>\n",
       "      <td>Россия</td>\n",
       "      <td>Москва</td>\n",
       "      <td>45-54</td>\n",
       "      <td>10-15</td>\n",
       "      <td>7-12</td>\n",
       "      <td>10</td>\n",
       "      <td>promoters</td>\n",
       "    </tr>\n",
       "    <tr>\n",
       "      <th>67247</th>\n",
       "      <td>DGREVJ</td>\n",
       "      <td>1471</td>\n",
       "      <td>not_new</td>\n",
       "      <td>43.0</td>\n",
       "      <td>male</td>\n",
       "      <td>ANDROID</td>\n",
       "      <td>SMARTPHONE</td>\n",
       "      <td>Россия</td>\n",
       "      <td>Новосибирск</td>\n",
       "      <td>35-44</td>\n",
       "      <td>30-35</td>\n",
       "      <td>36+</td>\n",
       "      <td>10</td>\n",
       "      <td>promoters</td>\n",
       "    </tr>\n",
       "    <tr>\n",
       "      <th>363498</th>\n",
       "      <td>SSVBFU</td>\n",
       "      <td>5501</td>\n",
       "      <td>not_new</td>\n",
       "      <td>41.0</td>\n",
       "      <td>female</td>\n",
       "      <td>ANDROID</td>\n",
       "      <td>SMARTPHONE</td>\n",
       "      <td>Россия</td>\n",
       "      <td>Омск</td>\n",
       "      <td>35-44</td>\n",
       "      <td>5-10</td>\n",
       "      <td>36+</td>\n",
       "      <td>6</td>\n",
       "      <td>detractors</td>\n",
       "    </tr>\n",
       "    <tr>\n",
       "      <th>316918</th>\n",
       "      <td>QEDP8J</td>\n",
       "      <td>540</td>\n",
       "      <td>not_new</td>\n",
       "      <td>28.0</td>\n",
       "      <td>female</td>\n",
       "      <td>ANDROID</td>\n",
       "      <td>SMARTPHONE</td>\n",
       "      <td>Россия</td>\n",
       "      <td>НижнийНовгород</td>\n",
       "      <td>25-34</td>\n",
       "      <td>15-20</td>\n",
       "      <td>13-24</td>\n",
       "      <td>10</td>\n",
       "      <td>promoters</td>\n",
       "    </tr>\n",
       "    <tr>\n",
       "      <th>269608</th>\n",
       "      <td>NY0X8B</td>\n",
       "      <td>48</td>\n",
       "      <td>new</td>\n",
       "      <td>39.0</td>\n",
       "      <td>female</td>\n",
       "      <td>IOS</td>\n",
       "      <td>SMARTPHONE</td>\n",
       "      <td>Россия</td>\n",
       "      <td>Москва</td>\n",
       "      <td>35-44</td>\n",
       "      <td>70-75</td>\n",
       "      <td>2</td>\n",
       "      <td>10</td>\n",
       "      <td>promoters</td>\n",
       "    </tr>\n",
       "  </tbody>\n",
       "</table>\n",
       "</div>"
      ],
      "text/plain": [
       "       user_id  lt_day   is_new   age gender_segment  os_name cpe_type_name  \\\n",
       "482117  YXZGRY    3198  not_new  54.0           male  ANDROID    SMARTPHONE   \n",
       "241272  MH66VL    2874  not_new  41.0         female  ANDROID    SMARTPHONE   \n",
       "129892  GP45JW    5179  not_new  54.0         female  ANDROID    SMARTPHONE   \n",
       "321390  QMTW2C    4172  not_new  59.0         female  ANDROID    SMARTPHONE   \n",
       "463182  XYPOP2     176      new  46.0         female  ANDROID        TABLET   \n",
       "9856    AI9A1Z     308      new  51.0           male  ANDROID    SMARTPHONE   \n",
       "67247   DGREVJ    1471  not_new  43.0           male  ANDROID    SMARTPHONE   \n",
       "363498  SSVBFU    5501  not_new  41.0         female  ANDROID    SMARTPHONE   \n",
       "316918  QEDP8J     540  not_new  28.0         female  ANDROID    SMARTPHONE   \n",
       "269608  NY0X8B      48      new  39.0         female      IOS    SMARTPHONE   \n",
       "\n",
       "       country            city age_segment traffic_segment lifetime_segment  \\\n",
       "482117  Россия  СанктПетербург       45-54           10-15              36+   \n",
       "241272  Россия    Екатеринбург       35-44            5-10              36+   \n",
       "129892  Россия          Казань       45-54             1-5              36+   \n",
       "321390  Россия          Казань       55-64            5-10              36+   \n",
       "463182  Россия  НижнийНовгород       45-54             1-5              4-6   \n",
       "9856    Россия          Москва       45-54           10-15             7-12   \n",
       "67247   Россия     Новосибирск       35-44           30-35              36+   \n",
       "363498  Россия            Омск       35-44            5-10              36+   \n",
       "316918  Россия  НижнийНовгород       25-34           15-20            13-24   \n",
       "269608  Россия          Москва       35-44           70-75                2   \n",
       "\n",
       "        nps_score   nps_group  \n",
       "482117          8    passives  \n",
       "241272         10   promoters  \n",
       "129892         10   promoters  \n",
       "321390         10   promoters  \n",
       "463182         10   promoters  \n",
       "9856           10   promoters  \n",
       "67247          10   promoters  \n",
       "363498          6  detractors  \n",
       "316918         10   promoters  \n",
       "269608         10   promoters  "
      ]
     },
     "execution_count": 4,
     "metadata": {},
     "output_type": "execute_result"
    }
   ],
   "source": [
    "df = pd.read_sql(query, engine)\n",
    "df.sample(10)\n"
   ]
  },
  {
   "cell_type": "markdown",
   "id": "00e002ab",
   "metadata": {},
   "source": [
    "### Исследовать и подготовить данные для создания .csv таблицы"
   ]
  },
  {
   "cell_type": "code",
   "execution_count": 5,
   "id": "ad5e0526",
   "metadata": {},
   "outputs": [],
   "source": [
    "df.to_csv('telecomm_csi_tableau_fix.csv', index=False)"
   ]
  },
  {
   "cell_type": "markdown",
   "id": "bc2290d3",
   "metadata": {},
   "source": [
    "### Ссылка на дашборд на сайте Tableau Public:"
   ]
  },
  {
   "cell_type": "markdown",
   "id": "c8d0f2a3",
   "metadata": {},
   "source": [
    "https://public.tableau.com/app/profile/hookjr/viz/2_16656429995420/Dashboard1?publish=yes\n"
   ]
  },
  {
   "cell_type": "markdown",
   "id": "83a30833",
   "metadata": {},
   "source": [
    "### Ссылка на pdf-файл с презентацией:"
   ]
  },
  {
   "cell_type": "markdown",
   "id": "0289187e",
   "metadata": {},
   "source": [
    "https://disk.yandex.ru/i/lbUbmdIu7Mva5w\n"
   ]
  }
 ],
 "metadata": {
  "ExecuteTimeLog": [
   {
    "duration": 752,
    "start_time": "2021-10-03T17:40:52.731Z"
   },
   {
    "duration": 20,
    "start_time": "2021-10-03T17:40:53.486Z"
   },
   {
    "duration": 4,
    "start_time": "2021-10-03T17:41:04.638Z"
   },
   {
    "duration": 461,
    "start_time": "2021-10-03T17:41:04.912Z"
   },
   {
    "duration": 284,
    "start_time": "2021-10-03T17:41:05.376Z"
   },
   {
    "duration": 574,
    "start_time": "2021-10-06T07:55:05.029Z"
   },
   {
    "duration": 6,
    "start_time": "2021-10-06T07:55:05.605Z"
   },
   {
    "duration": 3,
    "start_time": "2021-10-06T07:55:14.685Z"
   },
   {
    "duration": 406,
    "start_time": "2021-10-06T07:55:15.522Z"
   },
   {
    "duration": 67,
    "start_time": "2021-10-06T07:55:15.929Z"
   },
   {
    "duration": 840,
    "start_time": "2021-10-07T07:54:04.647Z"
   },
   {
    "duration": 10,
    "start_time": "2021-10-07T07:54:05.490Z"
   },
   {
    "duration": 4,
    "start_time": "2021-10-07T07:54:05.544Z"
   },
   {
    "duration": 391,
    "start_time": "2021-10-07T07:54:06.237Z"
   },
   {
    "duration": 293,
    "start_time": "2021-10-07T07:54:06.654Z"
   },
   {
    "duration": 7,
    "start_time": "2022-10-11T04:46:11.113Z"
   },
   {
    "duration": 486,
    "start_time": "2022-10-11T04:46:13.468Z"
   },
   {
    "duration": 22,
    "start_time": "2022-10-11T04:46:16.065Z"
   },
   {
    "duration": 2,
    "start_time": "2022-10-11T04:46:18.202Z"
   },
   {
    "duration": 558,
    "start_time": "2022-10-11T04:46:20.269Z"
   },
   {
    "duration": 509,
    "start_time": "2022-10-11T04:48:01.110Z"
   },
   {
    "duration": 490,
    "start_time": "2022-10-11T04:50:42.392Z"
   },
   {
    "duration": 491,
    "start_time": "2022-10-11T04:50:55.324Z"
   },
   {
    "duration": 505,
    "start_time": "2022-10-11T04:51:04.059Z"
   },
   {
    "duration": 492,
    "start_time": "2022-10-11T04:51:33.558Z"
   },
   {
    "duration": 489,
    "start_time": "2022-10-11T04:51:50.287Z"
   },
   {
    "duration": 561,
    "start_time": "2022-10-11T04:53:07.880Z"
   },
   {
    "duration": 493,
    "start_time": "2022-10-11T04:53:26.449Z"
   },
   {
    "duration": 3,
    "start_time": "2022-10-11T04:54:46.199Z"
   },
   {
    "duration": 497,
    "start_time": "2022-10-11T04:54:48.737Z"
   },
   {
    "duration": 2,
    "start_time": "2022-10-11T04:59:34.172Z"
   },
   {
    "duration": 508,
    "start_time": "2022-10-11T04:59:35.932Z"
   },
   {
    "duration": 2,
    "start_time": "2022-10-11T05:04:01.825Z"
   },
   {
    "duration": 691,
    "start_time": "2022-10-11T05:04:03.867Z"
   },
   {
    "duration": 3,
    "start_time": "2022-10-11T05:04:23.789Z"
   },
   {
    "duration": 2814,
    "start_time": "2022-10-11T05:04:25.473Z"
   },
   {
    "duration": 2,
    "start_time": "2022-10-11T05:09:44.056Z"
   },
   {
    "duration": 1887,
    "start_time": "2022-10-11T05:09:46.117Z"
   },
   {
    "duration": 2,
    "start_time": "2022-10-11T05:13:59.420Z"
   },
   {
    "duration": 570,
    "start_time": "2022-10-11T05:14:01.268Z"
   },
   {
    "duration": 2,
    "start_time": "2022-10-11T05:14:49.458Z"
   },
   {
    "duration": 2063,
    "start_time": "2022-10-11T05:14:51.066Z"
   },
   {
    "duration": 2,
    "start_time": "2022-10-11T05:16:01.820Z"
   },
   {
    "duration": 2428,
    "start_time": "2022-10-11T05:16:03.575Z"
   },
   {
    "duration": 2,
    "start_time": "2022-10-11T05:19:17.214Z"
   },
   {
    "duration": 2417,
    "start_time": "2022-10-11T05:19:18.868Z"
   },
   {
    "duration": 3,
    "start_time": "2022-10-11T05:24:20.437Z"
   },
   {
    "duration": 2935,
    "start_time": "2022-10-11T05:24:22.254Z"
   },
   {
    "duration": 2,
    "start_time": "2022-10-11T05:24:40.352Z"
   },
   {
    "duration": 2832,
    "start_time": "2022-10-11T05:24:42.462Z"
   },
   {
    "duration": 2899,
    "start_time": "2022-10-11T05:25:02.192Z"
   },
   {
    "duration": 3,
    "start_time": "2022-10-11T05:25:48.954Z"
   },
   {
    "duration": 314,
    "start_time": "2022-10-11T05:25:50.676Z"
   },
   {
    "duration": 2,
    "start_time": "2022-10-11T05:26:26.757Z"
   },
   {
    "duration": 331,
    "start_time": "2022-10-11T05:26:28.507Z"
   },
   {
    "duration": 2,
    "start_time": "2022-10-11T05:27:31.351Z"
   },
   {
    "duration": 2959,
    "start_time": "2022-10-11T05:27:33.029Z"
   },
   {
    "duration": 2950,
    "start_time": "2022-10-11T05:27:39.774Z"
   },
   {
    "duration": 3,
    "start_time": "2022-10-11T05:34:59.607Z"
   },
   {
    "duration": 3719,
    "start_time": "2022-10-11T05:35:01.231Z"
   },
   {
    "duration": 3,
    "start_time": "2022-10-11T05:53:03.979Z"
   },
   {
    "duration": 562,
    "start_time": "2022-10-11T05:53:11.980Z"
   },
   {
    "duration": 825,
    "start_time": "2022-10-11T05:55:01.618Z"
   },
   {
    "duration": 3,
    "start_time": "2022-10-11T05:55:30.251Z"
   },
   {
    "duration": 567,
    "start_time": "2022-10-11T05:55:32.628Z"
   },
   {
    "duration": 2,
    "start_time": "2022-10-11T05:57:35.079Z"
   },
   {
    "duration": 599,
    "start_time": "2022-10-11T05:57:37.202Z"
   },
   {
    "duration": 2,
    "start_time": "2022-10-11T05:57:44.875Z"
   },
   {
    "duration": 3262,
    "start_time": "2022-10-11T05:57:46.639Z"
   },
   {
    "duration": 3,
    "start_time": "2022-10-11T06:00:44.836Z"
   },
   {
    "duration": 6032,
    "start_time": "2022-10-11T06:00:47.552Z"
   },
   {
    "duration": 3,
    "start_time": "2022-10-11T06:03:00.629Z"
   },
   {
    "duration": 2262,
    "start_time": "2022-10-11T06:03:02.761Z"
   },
   {
    "duration": 3,
    "start_time": "2022-10-11T06:03:53.368Z"
   },
   {
    "duration": 2535,
    "start_time": "2022-10-11T06:03:55.263Z"
   },
   {
    "duration": 3,
    "start_time": "2022-10-11T06:06:06.657Z"
   },
   {
    "duration": 4309,
    "start_time": "2022-10-11T06:06:08.632Z"
   },
   {
    "duration": 4,
    "start_time": "2022-10-11T06:07:45.593Z"
   },
   {
    "duration": 4561,
    "start_time": "2022-10-11T06:07:47.607Z"
   },
   {
    "duration": 4,
    "start_time": "2022-10-11T06:22:09.132Z"
   },
   {
    "duration": 4564,
    "start_time": "2022-10-11T06:22:11.206Z"
   },
   {
    "duration": 3,
    "start_time": "2022-10-11T06:33:10.844Z"
   },
   {
    "duration": 4612,
    "start_time": "2022-10-11T06:33:14.075Z"
   },
   {
    "duration": 3,
    "start_time": "2022-10-11T06:33:43.942Z"
   },
   {
    "duration": 4678,
    "start_time": "2022-10-11T06:33:46.778Z"
   },
   {
    "duration": 3,
    "start_time": "2022-10-11T06:36:21.652Z"
   },
   {
    "duration": 4608,
    "start_time": "2022-10-11T06:36:23.322Z"
   },
   {
    "duration": 4685,
    "start_time": "2022-10-11T06:36:42.628Z"
   },
   {
    "duration": 4,
    "start_time": "2022-10-11T06:37:37.256Z"
   },
   {
    "duration": 4288,
    "start_time": "2022-10-11T06:37:39.096Z"
   },
   {
    "duration": 3,
    "start_time": "2022-10-11T06:37:58.641Z"
   },
   {
    "duration": 4500,
    "start_time": "2022-10-11T06:38:01.869Z"
   },
   {
    "duration": 4,
    "start_time": "2022-10-11T06:39:21.330Z"
   },
   {
    "duration": 4356,
    "start_time": "2022-10-11T06:39:30.100Z"
   },
   {
    "duration": 3,
    "start_time": "2022-10-11T06:40:24.193Z"
   },
   {
    "duration": 4331,
    "start_time": "2022-10-11T06:40:27.507Z"
   },
   {
    "duration": 443,
    "start_time": "2022-10-11T06:41:49.466Z"
   },
   {
    "duration": 20,
    "start_time": "2022-10-11T06:41:51.748Z"
   },
   {
    "duration": 4,
    "start_time": "2022-10-11T06:41:55.179Z"
   },
   {
    "duration": 4923,
    "start_time": "2022-10-11T06:41:58.012Z"
   },
   {
    "duration": 472,
    "start_time": "2022-10-11T06:43:57.728Z"
   },
   {
    "duration": 84,
    "start_time": "2022-10-11T06:52:04.655Z"
   },
   {
    "duration": 463,
    "start_time": "2022-10-11T07:13:10.080Z"
   },
   {
    "duration": 465,
    "start_time": "2022-10-11T07:13:23.080Z"
   },
   {
    "duration": 457,
    "start_time": "2022-10-11T07:13:30.565Z"
   },
   {
    "duration": 919,
    "start_time": "2022-10-11T07:14:25.292Z"
   },
   {
    "duration": 482,
    "start_time": "2022-10-11T07:14:44.118Z"
   },
   {
    "duration": 4589,
    "start_time": "2022-10-11T07:16:17.595Z"
   },
   {
    "duration": 3,
    "start_time": "2022-10-11T07:20:21.418Z"
   },
   {
    "duration": 4602,
    "start_time": "2022-10-11T07:20:26.195Z"
   },
   {
    "duration": 3,
    "start_time": "2022-10-11T07:21:56.302Z"
   },
   {
    "duration": 4768,
    "start_time": "2022-10-11T07:22:00.307Z"
   },
   {
    "duration": 4709,
    "start_time": "2022-10-11T07:22:11.175Z"
   },
   {
    "duration": 4771,
    "start_time": "2022-10-11T07:22:24.372Z"
   },
   {
    "duration": 4656,
    "start_time": "2022-10-11T07:22:45.446Z"
   },
   {
    "duration": 629,
    "start_time": "2022-10-11T07:23:25.270Z"
   },
   {
    "duration": 3,
    "start_time": "2022-10-11T07:23:46.980Z"
   },
   {
    "duration": 4687,
    "start_time": "2022-10-11T07:23:49.062Z"
   },
   {
    "duration": 636,
    "start_time": "2022-10-11T07:23:58.896Z"
   },
   {
    "duration": 648,
    "start_time": "2022-10-11T07:24:12.956Z"
   },
   {
    "duration": 1434,
    "start_time": "2022-10-11T07:24:24.475Z"
   },
   {
    "duration": 1074,
    "start_time": "2022-10-11T07:26:59.954Z"
   },
   {
    "duration": 86,
    "start_time": "2022-10-11T07:28:01.672Z"
   },
   {
    "duration": 127,
    "start_time": "2022-10-11T07:29:04.648Z"
   },
   {
    "duration": 185,
    "start_time": "2022-10-11T07:30:20.032Z"
   },
   {
    "duration": 119,
    "start_time": "2022-10-11T07:30:29.854Z"
   },
   {
    "duration": 121,
    "start_time": "2022-10-11T07:31:33.621Z"
   },
   {
    "duration": 236,
    "start_time": "2022-10-11T07:31:54.913Z"
   },
   {
    "duration": 234,
    "start_time": "2022-10-11T07:34:38.215Z"
   },
   {
    "duration": 226,
    "start_time": "2022-10-11T07:34:47.973Z"
   },
   {
    "duration": 241,
    "start_time": "2022-10-11T07:35:19.944Z"
   },
   {
    "duration": 348,
    "start_time": "2022-10-11T07:38:32.687Z"
   },
   {
    "duration": 3,
    "start_time": "2022-10-11T07:39:51.738Z"
   },
   {
    "duration": 4520,
    "start_time": "2022-10-11T07:39:53.513Z"
   },
   {
    "duration": 3,
    "start_time": "2022-10-11T07:40:45.730Z"
   },
   {
    "duration": 4668,
    "start_time": "2022-10-11T07:40:48.542Z"
   },
   {
    "duration": 329,
    "start_time": "2022-10-11T07:40:58.249Z"
   },
   {
    "duration": 3,
    "start_time": "2022-10-11T07:41:55.223Z"
   },
   {
    "duration": 4756,
    "start_time": "2022-10-11T07:41:57.548Z"
   },
   {
    "duration": 535,
    "start_time": "2022-10-11T07:42:08.698Z"
   },
   {
    "duration": 4,
    "start_time": "2022-10-11T07:58:43.070Z"
   },
   {
    "duration": 4600,
    "start_time": "2022-10-11T07:58:48.260Z"
   },
   {
    "duration": 4,
    "start_time": "2022-10-11T08:00:14.889Z"
   },
   {
    "duration": 4752,
    "start_time": "2022-10-11T08:00:17.152Z"
   },
   {
    "duration": 569,
    "start_time": "2022-10-11T08:00:34.345Z"
   },
   {
    "duration": 492,
    "start_time": "2022-10-11T08:06:18.971Z"
   },
   {
    "duration": 356,
    "start_time": "2022-10-11T08:08:19.365Z"
   },
   {
    "duration": 483,
    "start_time": "2022-10-11T08:08:42.008Z"
   },
   {
    "duration": 372,
    "start_time": "2022-10-11T08:13:03.339Z"
   },
   {
    "duration": 520,
    "start_time": "2022-10-12T03:02:24.019Z"
   },
   {
    "duration": 9,
    "start_time": "2022-10-12T03:02:40.548Z"
   },
   {
    "duration": 4,
    "start_time": "2022-10-12T03:02:43.302Z"
   },
   {
    "duration": 5485,
    "start_time": "2022-10-12T03:02:45.999Z"
   },
   {
    "duration": 229,
    "start_time": "2022-10-12T03:06:03.371Z"
   },
   {
    "duration": 449,
    "start_time": "2022-10-12T03:12:17.066Z"
   },
   {
    "duration": 227,
    "start_time": "2022-10-12T03:12:23.389Z"
   },
   {
    "duration": 319,
    "start_time": "2022-10-12T03:12:27.162Z"
   },
   {
    "duration": 415,
    "start_time": "2022-10-12T03:18:34.699Z"
   },
   {
    "duration": 827,
    "start_time": "2022-10-12T03:18:47.162Z"
   },
   {
    "duration": 1050,
    "start_time": "2022-10-12T03:19:04.929Z"
   },
   {
    "duration": 749,
    "start_time": "2022-10-12T03:20:18.849Z"
   },
   {
    "duration": 1353,
    "start_time": "2022-10-12T03:20:39.620Z"
   },
   {
    "duration": 1418,
    "start_time": "2022-10-12T03:20:51.020Z"
   },
   {
    "duration": 1396,
    "start_time": "2022-10-12T03:21:08.376Z"
   },
   {
    "duration": 77,
    "start_time": "2022-10-12T03:21:17.772Z"
   },
   {
    "duration": 1343,
    "start_time": "2022-10-12T03:21:21.854Z"
   },
   {
    "duration": 1387,
    "start_time": "2022-10-12T03:21:30.755Z"
   },
   {
    "duration": 1518,
    "start_time": "2022-10-12T03:22:08.225Z"
   },
   {
    "duration": 1541,
    "start_time": "2022-10-12T03:22:21.878Z"
   },
   {
    "duration": 1496,
    "start_time": "2022-10-12T03:23:23.562Z"
   },
   {
    "duration": 578,
    "start_time": "2022-10-12T03:24:31.667Z"
   },
   {
    "duration": 1204,
    "start_time": "2022-10-12T03:25:43.372Z"
   },
   {
    "duration": 569,
    "start_time": "2022-10-12T03:27:02.046Z"
   },
   {
    "duration": 569,
    "start_time": "2022-10-12T03:27:12.545Z"
   },
   {
    "duration": 7,
    "start_time": "2022-10-12T03:29:50.537Z"
   },
   {
    "duration": 6,
    "start_time": "2022-10-12T03:29:54.824Z"
   },
   {
    "duration": 5,
    "start_time": "2022-10-12T03:30:03.194Z"
   },
   {
    "duration": 5,
    "start_time": "2022-10-12T03:30:09.214Z"
   },
   {
    "duration": 616,
    "start_time": "2022-10-12T03:30:48.534Z"
   },
   {
    "duration": 294,
    "start_time": "2022-10-12T03:37:16.095Z"
   },
   {
    "duration": 463,
    "start_time": "2022-10-12T03:37:26.010Z"
   },
   {
    "duration": 761,
    "start_time": "2022-10-12T03:37:45.113Z"
   },
   {
    "duration": 3,
    "start_time": "2022-10-12T03:38:03.057Z"
   },
   {
    "duration": 2,
    "start_time": "2022-10-12T03:40:30.478Z"
   },
   {
    "duration": 3,
    "start_time": "2022-10-12T03:40:32.555Z"
   },
   {
    "duration": 4,
    "start_time": "2022-10-12T03:40:37.627Z"
   },
   {
    "duration": 5364,
    "start_time": "2022-10-12T03:40:42.569Z"
   },
   {
    "duration": 770,
    "start_time": "2022-10-12T03:40:52.000Z"
   },
   {
    "duration": 1010,
    "start_time": "2022-10-12T03:41:00.075Z"
   },
   {
    "duration": 1282,
    "start_time": "2022-10-12T03:41:03.536Z"
   },
   {
    "duration": 1544,
    "start_time": "2022-10-12T03:41:07.891Z"
   },
   {
    "duration": 530,
    "start_time": "2022-10-12T03:41:19.474Z"
   },
   {
    "duration": 465,
    "start_time": "2022-10-12T03:41:27.905Z"
   },
   {
    "duration": 855,
    "start_time": "2022-10-12T03:43:07.217Z"
   },
   {
    "duration": 438,
    "start_time": "2022-10-12T03:45:28.678Z"
   },
   {
    "duration": 489,
    "start_time": "2022-10-12T03:52:23.302Z"
   },
   {
    "duration": 14,
    "start_time": "2022-10-12T03:53:46.425Z"
   },
   {
    "duration": 729,
    "start_time": "2022-10-12T03:54:04.837Z"
   },
   {
    "duration": 77,
    "start_time": "2022-10-12T03:54:24.920Z"
   },
   {
    "duration": 655,
    "start_time": "2022-10-12T03:54:37.584Z"
   },
   {
    "duration": 704,
    "start_time": "2022-10-12T03:54:57.305Z"
   },
   {
    "duration": 552,
    "start_time": "2022-10-12T03:55:18.141Z"
   },
   {
    "duration": 170,
    "start_time": "2022-10-12T03:56:09.869Z"
   },
   {
    "duration": 65,
    "start_time": "2022-10-12T03:57:10.817Z"
   },
   {
    "duration": 154,
    "start_time": "2022-10-12T03:57:26.600Z"
   },
   {
    "duration": 84,
    "start_time": "2022-10-12T03:57:44.865Z"
   },
   {
    "duration": 68,
    "start_time": "2022-10-12T03:58:08.655Z"
   },
   {
    "duration": 83,
    "start_time": "2022-10-12T03:58:20.881Z"
   },
   {
    "duration": 78,
    "start_time": "2022-10-12T03:58:32.505Z"
   },
   {
    "duration": 89,
    "start_time": "2022-10-12T03:59:10.195Z"
   },
   {
    "duration": 286,
    "start_time": "2022-10-12T03:59:37.147Z"
   },
   {
    "duration": 73,
    "start_time": "2022-10-12T03:59:45.508Z"
   },
   {
    "duration": 76,
    "start_time": "2022-10-12T03:59:58.539Z"
   },
   {
    "duration": 69,
    "start_time": "2022-10-12T04:00:09.202Z"
   },
   {
    "duration": 84,
    "start_time": "2022-10-12T04:03:48.442Z"
   },
   {
    "duration": 3,
    "start_time": "2022-10-12T04:05:52.707Z"
   },
   {
    "duration": 3,
    "start_time": "2022-10-12T04:05:54.881Z"
   },
   {
    "duration": 6,
    "start_time": "2022-10-12T04:05:57.489Z"
   },
   {
    "duration": 5807,
    "start_time": "2022-10-12T04:06:00.515Z"
   },
   {
    "duration": 977,
    "start_time": "2022-10-12T04:06:11.580Z"
   },
   {
    "duration": 1054,
    "start_time": "2022-10-12T04:06:19.362Z"
   },
   {
    "duration": 1393,
    "start_time": "2022-10-12T04:06:26.318Z"
   },
   {
    "duration": 1683,
    "start_time": "2022-10-12T04:06:31.165Z"
   },
   {
    "duration": 569,
    "start_time": "2022-10-12T04:06:34.855Z"
   },
   {
    "duration": 461,
    "start_time": "2022-10-12T04:06:40.710Z"
   },
   {
    "duration": 117,
    "start_time": "2022-10-12T04:07:20.994Z"
   },
   {
    "duration": 1530,
    "start_time": "2022-10-12T04:08:30.745Z"
   },
   {
    "duration": 49,
    "start_time": "2022-10-12T04:09:01.022Z"
   },
   {
    "duration": 70,
    "start_time": "2022-10-12T04:11:31.252Z"
   },
   {
    "duration": 1189,
    "start_time": "2022-10-12T04:11:47.786Z"
   },
   {
    "duration": 3,
    "start_time": "2022-10-12T04:12:08.050Z"
   },
   {
    "duration": 5,
    "start_time": "2022-10-12T04:12:09.989Z"
   },
   {
    "duration": 3,
    "start_time": "2022-10-12T04:12:13.548Z"
   },
   {
    "duration": 5850,
    "start_time": "2022-10-12T04:12:19.222Z"
   },
   {
    "duration": 984,
    "start_time": "2022-10-12T04:12:32.622Z"
   },
   {
    "duration": 1171,
    "start_time": "2022-10-12T04:12:36.986Z"
   },
   {
    "duration": 1503,
    "start_time": "2022-10-12T04:12:40.420Z"
   },
   {
    "duration": 1668,
    "start_time": "2022-10-12T04:12:45.735Z"
   },
   {
    "duration": 638,
    "start_time": "2022-10-12T04:12:49.257Z"
   },
   {
    "duration": 517,
    "start_time": "2022-10-12T04:12:52.731Z"
   },
   {
    "duration": 112,
    "start_time": "2022-10-12T04:13:04.736Z"
   },
   {
    "duration": 60,
    "start_time": "2022-10-12T04:13:24.843Z"
   },
   {
    "duration": 40,
    "start_time": "2022-10-12T04:13:41.647Z"
   },
   {
    "duration": 38,
    "start_time": "2022-10-12T04:13:58.481Z"
   },
   {
    "duration": 47,
    "start_time": "2022-10-12T04:14:08.954Z"
   },
   {
    "duration": 106,
    "start_time": "2022-10-12T04:14:17.810Z"
   },
   {
    "duration": 115,
    "start_time": "2022-10-12T04:14:45.727Z"
   },
   {
    "duration": 4,
    "start_time": "2022-10-12T04:14:57.978Z"
   },
   {
    "duration": 601,
    "start_time": "2022-10-12T04:15:19.180Z"
   },
   {
    "duration": 23,
    "start_time": "2022-10-12T04:15:19.784Z"
   },
   {
    "duration": 10,
    "start_time": "2022-10-12T04:15:19.809Z"
   },
   {
    "duration": 5861,
    "start_time": "2022-10-12T04:15:19.821Z"
   },
   {
    "duration": 949,
    "start_time": "2022-10-12T04:15:25.684Z"
   },
   {
    "duration": 1121,
    "start_time": "2022-10-12T04:15:26.635Z"
   },
   {
    "duration": 1467,
    "start_time": "2022-10-12T04:15:27.758Z"
   },
   {
    "duration": 1632,
    "start_time": "2022-10-12T04:15:29.227Z"
   },
   {
    "duration": 620,
    "start_time": "2022-10-12T04:15:30.861Z"
   },
   {
    "duration": 548,
    "start_time": "2022-10-12T04:15:31.483Z"
   },
   {
    "duration": 3,
    "start_time": "2022-10-12T04:15:32.033Z"
   },
   {
    "duration": 4897,
    "start_time": "2022-10-12T04:15:32.038Z"
   },
   {
    "duration": 796,
    "start_time": "2022-10-12T04:17:26.442Z"
   },
   {
    "duration": 1452,
    "start_time": "2022-10-12T04:17:50.123Z"
   },
   {
    "duration": 584,
    "start_time": "2022-10-12T04:18:24.578Z"
   },
   {
    "duration": 10,
    "start_time": "2022-10-12T04:18:25.165Z"
   },
   {
    "duration": 12,
    "start_time": "2022-10-12T04:18:25.177Z"
   },
   {
    "duration": 5812,
    "start_time": "2022-10-12T04:18:25.192Z"
   },
   {
    "duration": 977,
    "start_time": "2022-10-12T04:18:31.006Z"
   },
   {
    "duration": 1141,
    "start_time": "2022-10-12T04:18:31.992Z"
   },
   {
    "duration": 1440,
    "start_time": "2022-10-12T04:18:33.134Z"
   },
   {
    "duration": 1641,
    "start_time": "2022-10-12T04:18:34.575Z"
   },
   {
    "duration": 600,
    "start_time": "2022-10-12T04:18:36.217Z"
   },
   {
    "duration": 508,
    "start_time": "2022-10-12T04:18:36.819Z"
   },
   {
    "duration": 86,
    "start_time": "2022-10-12T04:18:37.328Z"
   },
   {
    "duration": 4625,
    "start_time": "2022-10-12T04:18:37.416Z"
   },
   {
    "duration": 519,
    "start_time": "2022-10-12T04:26:28.127Z"
   },
   {
    "duration": 521,
    "start_time": "2022-10-12T04:27:25.416Z"
   },
   {
    "duration": 683,
    "start_time": "2022-10-12T04:30:11.146Z"
   },
   {
    "duration": 653,
    "start_time": "2022-10-12T04:30:24.902Z"
   },
   {
    "duration": 719,
    "start_time": "2022-10-12T04:31:22.213Z"
   },
   {
    "duration": 4525,
    "start_time": "2022-10-12T04:31:28.301Z"
   },
   {
    "duration": 4740,
    "start_time": "2022-10-12T04:33:20.884Z"
   },
   {
    "duration": 113,
    "start_time": "2022-10-12T04:45:56.424Z"
   },
   {
    "duration": 77,
    "start_time": "2022-10-12T04:48:40.846Z"
   },
   {
    "duration": 98,
    "start_time": "2022-10-12T04:49:01.305Z"
   },
   {
    "duration": 553,
    "start_time": "2022-10-12T04:51:08.898Z"
   },
   {
    "duration": 9,
    "start_time": "2022-10-12T04:51:09.453Z"
   },
   {
    "duration": 3,
    "start_time": "2022-10-12T04:51:09.464Z"
   },
   {
    "duration": 5478,
    "start_time": "2022-10-12T04:51:09.469Z"
   },
   {
    "duration": 906,
    "start_time": "2022-10-12T04:51:14.949Z"
   },
   {
    "duration": 1056,
    "start_time": "2022-10-12T04:51:15.856Z"
   },
   {
    "duration": 1390,
    "start_time": "2022-10-12T04:51:16.914Z"
   },
   {
    "duration": 1563,
    "start_time": "2022-10-12T04:51:18.306Z"
   },
   {
    "duration": 578,
    "start_time": "2022-10-12T04:51:19.871Z"
   },
   {
    "duration": 508,
    "start_time": "2022-10-12T04:51:20.451Z"
   },
   {
    "duration": 725,
    "start_time": "2022-10-12T04:51:20.960Z"
   },
   {
    "duration": 4,
    "start_time": "2022-10-12T04:51:21.686Z"
   },
   {
    "duration": 7,
    "start_time": "2022-10-12T04:51:21.691Z"
   },
   {
    "duration": 702,
    "start_time": "2022-10-12T04:51:39.315Z"
   },
   {
    "duration": 642,
    "start_time": "2022-10-12T04:51:57.343Z"
   },
   {
    "duration": 525,
    "start_time": "2022-10-12T13:37:08.500Z"
   },
   {
    "duration": 11,
    "start_time": "2022-10-12T13:37:09.028Z"
   },
   {
    "duration": 8,
    "start_time": "2022-10-12T13:37:09.040Z"
   },
   {
    "duration": 5324,
    "start_time": "2022-10-12T13:37:09.050Z"
   },
   {
    "duration": 789,
    "start_time": "2022-10-12T13:37:14.375Z"
   },
   {
    "duration": 925,
    "start_time": "2022-10-12T13:37:15.166Z"
   },
   {
    "duration": 1172,
    "start_time": "2022-10-12T13:37:16.093Z"
   },
   {
    "duration": 1286,
    "start_time": "2022-10-12T13:37:17.266Z"
   },
   {
    "duration": 523,
    "start_time": "2022-10-12T13:37:18.554Z"
   },
   {
    "duration": 431,
    "start_time": "2022-10-12T13:37:19.079Z"
   },
   {
    "duration": 584,
    "start_time": "2022-10-12T13:37:19.511Z"
   },
   {
    "duration": 3,
    "start_time": "2022-10-12T13:37:20.096Z"
   },
   {
    "duration": 6,
    "start_time": "2022-10-12T13:37:20.101Z"
   },
   {
    "duration": 2903,
    "start_time": "2022-10-12T13:37:42.306Z"
   },
   {
    "duration": 3154,
    "start_time": "2022-10-12T13:38:14.249Z"
   },
   {
    "duration": 512,
    "start_time": "2022-10-12T13:41:23.539Z"
   },
   {
    "duration": 8,
    "start_time": "2022-10-12T13:41:24.053Z"
   },
   {
    "duration": 4,
    "start_time": "2022-10-12T13:41:24.062Z"
   },
   {
    "duration": 4914,
    "start_time": "2022-10-12T13:41:24.067Z"
   },
   {
    "duration": 834,
    "start_time": "2022-10-12T13:41:28.983Z"
   },
   {
    "duration": 961,
    "start_time": "2022-10-12T13:41:29.822Z"
   },
   {
    "duration": 1190,
    "start_time": "2022-10-12T13:41:30.785Z"
   },
   {
    "duration": 1291,
    "start_time": "2022-10-12T13:41:31.977Z"
   },
   {
    "duration": 511,
    "start_time": "2022-10-12T13:41:33.269Z"
   },
   {
    "duration": 417,
    "start_time": "2022-10-12T13:41:33.782Z"
   },
   {
    "duration": 104,
    "start_time": "2022-10-12T13:41:34.201Z"
   },
   {
    "duration": 107,
    "start_time": "2022-10-12T13:41:34.306Z"
   },
   {
    "duration": 8,
    "start_time": "2022-10-12T13:41:34.414Z"
   },
   {
    "duration": 880,
    "start_time": "2022-10-12T13:43:09.745Z"
   },
   {
    "duration": 558,
    "start_time": "2022-10-13T04:53:47.646Z"
   },
   {
    "duration": 17,
    "start_time": "2022-10-13T04:53:48.206Z"
   },
   {
    "duration": 4,
    "start_time": "2022-10-13T04:53:48.224Z"
   },
   {
    "duration": 5965,
    "start_time": "2022-10-13T04:53:48.232Z"
   },
   {
    "duration": 1088,
    "start_time": "2022-10-13T04:53:54.200Z"
   },
   {
    "duration": 1296,
    "start_time": "2022-10-13T04:53:55.290Z"
   },
   {
    "duration": 1746,
    "start_time": "2022-10-13T04:53:56.587Z"
   },
   {
    "duration": 1931,
    "start_time": "2022-10-13T04:53:58.334Z"
   },
   {
    "duration": 744,
    "start_time": "2022-10-13T04:54:00.268Z"
   },
   {
    "duration": 701,
    "start_time": "2022-10-13T04:54:01.015Z"
   },
   {
    "duration": 147,
    "start_time": "2022-10-13T04:54:01.718Z"
   },
   {
    "duration": 1373,
    "start_time": "2022-10-13T04:54:01.867Z"
   },
   {
    "duration": 4722,
    "start_time": "2022-10-13T04:54:03.242Z"
   },
   {
    "duration": 625,
    "start_time": "2022-10-13T05:34:53.673Z"
   },
   {
    "duration": 14,
    "start_time": "2022-10-13T05:34:54.300Z"
   },
   {
    "duration": 10,
    "start_time": "2022-10-13T05:34:54.316Z"
   },
   {
    "duration": 6316,
    "start_time": "2022-10-13T05:34:54.329Z"
   },
   {
    "duration": 1147,
    "start_time": "2022-10-13T05:35:00.648Z"
   },
   {
    "duration": 1346,
    "start_time": "2022-10-13T05:35:01.797Z"
   },
   {
    "duration": 1808,
    "start_time": "2022-10-13T05:35:03.145Z"
   },
   {
    "duration": 1964,
    "start_time": "2022-10-13T05:35:04.955Z"
   },
   {
    "duration": 698,
    "start_time": "2022-10-13T05:35:06.922Z"
   },
   {
    "duration": 667,
    "start_time": "2022-10-13T05:35:07.623Z"
   },
   {
    "duration": 152,
    "start_time": "2022-10-13T05:35:08.292Z"
   },
   {
    "duration": 1304,
    "start_time": "2022-10-13T05:35:08.455Z"
   },
   {
    "duration": 4594,
    "start_time": "2022-10-13T05:35:09.760Z"
   },
   {
    "duration": 569,
    "start_time": "2022-10-13T05:43:27.121Z"
   },
   {
    "duration": 10,
    "start_time": "2022-10-13T05:43:27.693Z"
   },
   {
    "duration": 4,
    "start_time": "2022-10-13T05:43:27.704Z"
   },
   {
    "duration": 6283,
    "start_time": "2022-10-13T05:43:27.710Z"
   },
   {
    "duration": 1145,
    "start_time": "2022-10-13T05:43:33.994Z"
   },
   {
    "duration": 1336,
    "start_time": "2022-10-13T05:43:35.141Z"
   },
   {
    "duration": 1741,
    "start_time": "2022-10-13T05:43:36.479Z"
   },
   {
    "duration": 1902,
    "start_time": "2022-10-13T05:43:38.222Z"
   },
   {
    "duration": 693,
    "start_time": "2022-10-13T05:43:40.126Z"
   },
   {
    "duration": 646,
    "start_time": "2022-10-13T05:43:40.821Z"
   },
   {
    "duration": 154,
    "start_time": "2022-10-13T05:43:41.469Z"
   },
   {
    "duration": 1331,
    "start_time": "2022-10-13T05:43:41.626Z"
   },
   {
    "duration": 4320,
    "start_time": "2022-10-13T05:43:42.959Z"
   },
   {
    "duration": 518,
    "start_time": "2022-10-19T14:30:50.791Z"
   },
   {
    "duration": 10,
    "start_time": "2022-10-19T14:30:51.311Z"
   },
   {
    "duration": 5,
    "start_time": "2022-10-19T14:30:51.323Z"
   },
   {
    "duration": 5517,
    "start_time": "2022-10-19T14:30:51.329Z"
   },
   {
    "duration": 833,
    "start_time": "2022-10-19T14:30:56.848Z"
   },
   {
    "duration": 963,
    "start_time": "2022-10-19T14:30:57.683Z"
   },
   {
    "duration": 1229,
    "start_time": "2022-10-19T14:30:58.647Z"
   },
   {
    "duration": 1447,
    "start_time": "2022-10-19T14:30:59.877Z"
   },
   {
    "duration": 539,
    "start_time": "2022-10-19T14:31:01.326Z"
   },
   {
    "duration": 421,
    "start_time": "2022-10-19T14:31:01.866Z"
   },
   {
    "duration": 868,
    "start_time": "2022-10-19T14:31:02.289Z"
   },
   {
    "duration": 4105,
    "start_time": "2022-10-19T14:31:03.158Z"
   },
   {
    "duration": 486,
    "start_time": "2022-10-20T04:04:02.814Z"
   },
   {
    "duration": 8,
    "start_time": "2022-10-20T04:04:03.302Z"
   },
   {
    "duration": 4,
    "start_time": "2022-10-20T04:04:03.311Z"
   },
   {
    "duration": 4789,
    "start_time": "2022-10-20T04:04:03.316Z"
   },
   {
    "duration": 3476,
    "start_time": "2022-10-20T04:04:08.107Z"
   }
  ],
  "kernelspec": {
   "display_name": "Python 3 (ipykernel)",
   "language": "python",
   "name": "python3"
  },
  "language_info": {
   "codemirror_mode": {
    "name": "ipython",
    "version": 3
   },
   "file_extension": ".py",
   "mimetype": "text/x-python",
   "name": "python",
   "nbconvert_exporter": "python",
   "pygments_lexer": "ipython3",
   "version": "3.9.12"
  },
  "toc": {
   "base_numbering": 1,
   "nav_menu": {
    "height": "317px",
    "width": "460px"
   },
   "number_sections": true,
   "sideBar": true,
   "skip_h1_title": true,
   "title_cell": "План исследования.",
   "title_sidebar": "Contents",
   "toc_cell": true,
   "toc_position": {},
   "toc_section_display": true,
   "toc_window_display": false
  }
 },
 "nbformat": 4,
 "nbformat_minor": 5
}
