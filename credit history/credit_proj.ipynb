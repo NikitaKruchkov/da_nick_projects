{
 "cells": [
  {
   "cell_type": "markdown",
   "id": "c81daeeb",
   "metadata": {
    "deletable": false,
    "id": "c81daeeb"
   },
   "source": [
    "# Исследование надежности заемщиков\n"
   ]
  },
  {
   "cell_type": "markdown",
   "id": "744d7639",
   "metadata": {
    "deletable": false,
    "id": "744d7639"
   },
   "source": [
    "## Открыть таблицу и изучить общую информацию о данных"
   ]
  },
  {
   "cell_type": "markdown",
   "id": "e7a14c31",
   "metadata": {
    "deletable": false,
    "id": "e7a14c31"
   },
   "source": [
    "### Задание 1. Импортировать библиотеку pandas. Считать данные из csv-файла в датафрейм и сохранить в переменную. "
   ]
  },
  {
   "cell_type": "code",
   "execution_count": 1,
   "id": "7bcf75c9",
   "metadata": {
    "deletable": false,
    "id": "7bcf75c9"
   },
   "outputs": [],
   "source": [
    "import pandas as pd\n",
    "import seaborn\n",
    "\n",
    "try:\n",
    "    data = pd.read_csv('/datasets/data.csv')\n",
    "except:\n",
    "    data = pd.read_csv('https://code.s3.yandex.net/datasets/data.csv')"
   ]
  },
  {
   "cell_type": "markdown",
   "id": "b8038fe3",
   "metadata": {
    "deletable": false,
    "id": "b8038fe3"
   },
   "source": [
    "### Задание 2. Вывести первые 20 строчек датафрейма `data` на экран."
   ]
  },
  {
   "cell_type": "code",
   "execution_count": 2,
   "id": "2a7cab99",
   "metadata": {
    "deletable": false,
    "id": "2a7cab99",
    "outputId": "1a8f3ef2-d323-4ec2-ddf7-89670b5944c4"
   },
   "outputs": [
    {
     "data": {
      "text/html": [
       "<div>\n",
       "<style scoped>\n",
       "    .dataframe tbody tr th:only-of-type {\n",
       "        vertical-align: middle;\n",
       "    }\n",
       "\n",
       "    .dataframe tbody tr th {\n",
       "        vertical-align: top;\n",
       "    }\n",
       "\n",
       "    .dataframe thead th {\n",
       "        text-align: right;\n",
       "    }\n",
       "</style>\n",
       "<table border=\"1\" class=\"dataframe\">\n",
       "  <thead>\n",
       "    <tr style=\"text-align: right;\">\n",
       "      <th></th>\n",
       "      <th>children</th>\n",
       "      <th>days_employed</th>\n",
       "      <th>dob_years</th>\n",
       "      <th>education</th>\n",
       "      <th>education_id</th>\n",
       "      <th>family_status</th>\n",
       "      <th>family_status_id</th>\n",
       "      <th>gender</th>\n",
       "      <th>income_type</th>\n",
       "      <th>debt</th>\n",
       "      <th>total_income</th>\n",
       "      <th>purpose</th>\n",
       "    </tr>\n",
       "  </thead>\n",
       "  <tbody>\n",
       "    <tr>\n",
       "      <th>0</th>\n",
       "      <td>1</td>\n",
       "      <td>-8437.673028</td>\n",
       "      <td>42</td>\n",
       "      <td>высшее</td>\n",
       "      <td>0</td>\n",
       "      <td>женат / замужем</td>\n",
       "      <td>0</td>\n",
       "      <td>F</td>\n",
       "      <td>сотрудник</td>\n",
       "      <td>0</td>\n",
       "      <td>253875.639453</td>\n",
       "      <td>покупка жилья</td>\n",
       "    </tr>\n",
       "    <tr>\n",
       "      <th>1</th>\n",
       "      <td>1</td>\n",
       "      <td>-4024.803754</td>\n",
       "      <td>36</td>\n",
       "      <td>среднее</td>\n",
       "      <td>1</td>\n",
       "      <td>женат / замужем</td>\n",
       "      <td>0</td>\n",
       "      <td>F</td>\n",
       "      <td>сотрудник</td>\n",
       "      <td>0</td>\n",
       "      <td>112080.014102</td>\n",
       "      <td>приобретение автомобиля</td>\n",
       "    </tr>\n",
       "    <tr>\n",
       "      <th>2</th>\n",
       "      <td>0</td>\n",
       "      <td>-5623.422610</td>\n",
       "      <td>33</td>\n",
       "      <td>Среднее</td>\n",
       "      <td>1</td>\n",
       "      <td>женат / замужем</td>\n",
       "      <td>0</td>\n",
       "      <td>M</td>\n",
       "      <td>сотрудник</td>\n",
       "      <td>0</td>\n",
       "      <td>145885.952297</td>\n",
       "      <td>покупка жилья</td>\n",
       "    </tr>\n",
       "    <tr>\n",
       "      <th>3</th>\n",
       "      <td>3</td>\n",
       "      <td>-4124.747207</td>\n",
       "      <td>32</td>\n",
       "      <td>среднее</td>\n",
       "      <td>1</td>\n",
       "      <td>женат / замужем</td>\n",
       "      <td>0</td>\n",
       "      <td>M</td>\n",
       "      <td>сотрудник</td>\n",
       "      <td>0</td>\n",
       "      <td>267628.550329</td>\n",
       "      <td>дополнительное образование</td>\n",
       "    </tr>\n",
       "    <tr>\n",
       "      <th>4</th>\n",
       "      <td>0</td>\n",
       "      <td>340266.072047</td>\n",
       "      <td>53</td>\n",
       "      <td>среднее</td>\n",
       "      <td>1</td>\n",
       "      <td>гражданский брак</td>\n",
       "      <td>1</td>\n",
       "      <td>F</td>\n",
       "      <td>пенсионер</td>\n",
       "      <td>0</td>\n",
       "      <td>158616.077870</td>\n",
       "      <td>сыграть свадьбу</td>\n",
       "    </tr>\n",
       "    <tr>\n",
       "      <th>5</th>\n",
       "      <td>0</td>\n",
       "      <td>-926.185831</td>\n",
       "      <td>27</td>\n",
       "      <td>высшее</td>\n",
       "      <td>0</td>\n",
       "      <td>гражданский брак</td>\n",
       "      <td>1</td>\n",
       "      <td>M</td>\n",
       "      <td>компаньон</td>\n",
       "      <td>0</td>\n",
       "      <td>255763.565419</td>\n",
       "      <td>покупка жилья</td>\n",
       "    </tr>\n",
       "    <tr>\n",
       "      <th>6</th>\n",
       "      <td>0</td>\n",
       "      <td>-2879.202052</td>\n",
       "      <td>43</td>\n",
       "      <td>высшее</td>\n",
       "      <td>0</td>\n",
       "      <td>женат / замужем</td>\n",
       "      <td>0</td>\n",
       "      <td>F</td>\n",
       "      <td>компаньон</td>\n",
       "      <td>0</td>\n",
       "      <td>240525.971920</td>\n",
       "      <td>операции с жильем</td>\n",
       "    </tr>\n",
       "    <tr>\n",
       "      <th>7</th>\n",
       "      <td>0</td>\n",
       "      <td>-152.779569</td>\n",
       "      <td>50</td>\n",
       "      <td>СРЕДНЕЕ</td>\n",
       "      <td>1</td>\n",
       "      <td>женат / замужем</td>\n",
       "      <td>0</td>\n",
       "      <td>M</td>\n",
       "      <td>сотрудник</td>\n",
       "      <td>0</td>\n",
       "      <td>135823.934197</td>\n",
       "      <td>образование</td>\n",
       "    </tr>\n",
       "    <tr>\n",
       "      <th>8</th>\n",
       "      <td>2</td>\n",
       "      <td>-6929.865299</td>\n",
       "      <td>35</td>\n",
       "      <td>ВЫСШЕЕ</td>\n",
       "      <td>0</td>\n",
       "      <td>гражданский брак</td>\n",
       "      <td>1</td>\n",
       "      <td>F</td>\n",
       "      <td>сотрудник</td>\n",
       "      <td>0</td>\n",
       "      <td>95856.832424</td>\n",
       "      <td>на проведение свадьбы</td>\n",
       "    </tr>\n",
       "    <tr>\n",
       "      <th>9</th>\n",
       "      <td>0</td>\n",
       "      <td>-2188.756445</td>\n",
       "      <td>41</td>\n",
       "      <td>среднее</td>\n",
       "      <td>1</td>\n",
       "      <td>женат / замужем</td>\n",
       "      <td>0</td>\n",
       "      <td>M</td>\n",
       "      <td>сотрудник</td>\n",
       "      <td>0</td>\n",
       "      <td>144425.938277</td>\n",
       "      <td>покупка жилья для семьи</td>\n",
       "    </tr>\n",
       "    <tr>\n",
       "      <th>10</th>\n",
       "      <td>2</td>\n",
       "      <td>-4171.483647</td>\n",
       "      <td>36</td>\n",
       "      <td>высшее</td>\n",
       "      <td>0</td>\n",
       "      <td>женат / замужем</td>\n",
       "      <td>0</td>\n",
       "      <td>M</td>\n",
       "      <td>компаньон</td>\n",
       "      <td>0</td>\n",
       "      <td>113943.491460</td>\n",
       "      <td>покупка недвижимости</td>\n",
       "    </tr>\n",
       "    <tr>\n",
       "      <th>11</th>\n",
       "      <td>0</td>\n",
       "      <td>-792.701887</td>\n",
       "      <td>40</td>\n",
       "      <td>среднее</td>\n",
       "      <td>1</td>\n",
       "      <td>женат / замужем</td>\n",
       "      <td>0</td>\n",
       "      <td>F</td>\n",
       "      <td>сотрудник</td>\n",
       "      <td>0</td>\n",
       "      <td>77069.234271</td>\n",
       "      <td>покупка коммерческой недвижимости</td>\n",
       "    </tr>\n",
       "    <tr>\n",
       "      <th>12</th>\n",
       "      <td>0</td>\n",
       "      <td>NaN</td>\n",
       "      <td>65</td>\n",
       "      <td>среднее</td>\n",
       "      <td>1</td>\n",
       "      <td>гражданский брак</td>\n",
       "      <td>1</td>\n",
       "      <td>M</td>\n",
       "      <td>пенсионер</td>\n",
       "      <td>0</td>\n",
       "      <td>NaN</td>\n",
       "      <td>сыграть свадьбу</td>\n",
       "    </tr>\n",
       "    <tr>\n",
       "      <th>13</th>\n",
       "      <td>0</td>\n",
       "      <td>-1846.641941</td>\n",
       "      <td>54</td>\n",
       "      <td>неоконченное высшее</td>\n",
       "      <td>2</td>\n",
       "      <td>женат / замужем</td>\n",
       "      <td>0</td>\n",
       "      <td>F</td>\n",
       "      <td>сотрудник</td>\n",
       "      <td>0</td>\n",
       "      <td>130458.228857</td>\n",
       "      <td>приобретение автомобиля</td>\n",
       "    </tr>\n",
       "    <tr>\n",
       "      <th>14</th>\n",
       "      <td>0</td>\n",
       "      <td>-1844.956182</td>\n",
       "      <td>56</td>\n",
       "      <td>высшее</td>\n",
       "      <td>0</td>\n",
       "      <td>гражданский брак</td>\n",
       "      <td>1</td>\n",
       "      <td>F</td>\n",
       "      <td>компаньон</td>\n",
       "      <td>1</td>\n",
       "      <td>165127.911772</td>\n",
       "      <td>покупка жилой недвижимости</td>\n",
       "    </tr>\n",
       "    <tr>\n",
       "      <th>15</th>\n",
       "      <td>1</td>\n",
       "      <td>-972.364419</td>\n",
       "      <td>26</td>\n",
       "      <td>среднее</td>\n",
       "      <td>1</td>\n",
       "      <td>женат / замужем</td>\n",
       "      <td>0</td>\n",
       "      <td>F</td>\n",
       "      <td>сотрудник</td>\n",
       "      <td>0</td>\n",
       "      <td>116820.904450</td>\n",
       "      <td>строительство собственной недвижимости</td>\n",
       "    </tr>\n",
       "    <tr>\n",
       "      <th>16</th>\n",
       "      <td>0</td>\n",
       "      <td>-1719.934226</td>\n",
       "      <td>35</td>\n",
       "      <td>среднее</td>\n",
       "      <td>1</td>\n",
       "      <td>женат / замужем</td>\n",
       "      <td>0</td>\n",
       "      <td>F</td>\n",
       "      <td>сотрудник</td>\n",
       "      <td>0</td>\n",
       "      <td>289202.704229</td>\n",
       "      <td>недвижимость</td>\n",
       "    </tr>\n",
       "    <tr>\n",
       "      <th>17</th>\n",
       "      <td>0</td>\n",
       "      <td>-2369.999720</td>\n",
       "      <td>33</td>\n",
       "      <td>высшее</td>\n",
       "      <td>0</td>\n",
       "      <td>гражданский брак</td>\n",
       "      <td>1</td>\n",
       "      <td>M</td>\n",
       "      <td>сотрудник</td>\n",
       "      <td>0</td>\n",
       "      <td>90410.586745</td>\n",
       "      <td>строительство недвижимости</td>\n",
       "    </tr>\n",
       "    <tr>\n",
       "      <th>18</th>\n",
       "      <td>0</td>\n",
       "      <td>400281.136913</td>\n",
       "      <td>53</td>\n",
       "      <td>среднее</td>\n",
       "      <td>1</td>\n",
       "      <td>вдовец / вдова</td>\n",
       "      <td>2</td>\n",
       "      <td>F</td>\n",
       "      <td>пенсионер</td>\n",
       "      <td>0</td>\n",
       "      <td>56823.777243</td>\n",
       "      <td>на покупку подержанного автомобиля</td>\n",
       "    </tr>\n",
       "    <tr>\n",
       "      <th>19</th>\n",
       "      <td>0</td>\n",
       "      <td>-10038.818549</td>\n",
       "      <td>48</td>\n",
       "      <td>СРЕДНЕЕ</td>\n",
       "      <td>1</td>\n",
       "      <td>в разводе</td>\n",
       "      <td>3</td>\n",
       "      <td>F</td>\n",
       "      <td>сотрудник</td>\n",
       "      <td>0</td>\n",
       "      <td>242831.107982</td>\n",
       "      <td>на покупку своего автомобиля</td>\n",
       "    </tr>\n",
       "  </tbody>\n",
       "</table>\n",
       "</div>"
      ],
      "text/plain": [
       "    children  days_employed  dob_years            education  education_id  \\\n",
       "0          1   -8437.673028         42               высшее             0   \n",
       "1          1   -4024.803754         36              среднее             1   \n",
       "2          0   -5623.422610         33              Среднее             1   \n",
       "3          3   -4124.747207         32              среднее             1   \n",
       "4          0  340266.072047         53              среднее             1   \n",
       "5          0    -926.185831         27               высшее             0   \n",
       "6          0   -2879.202052         43               высшее             0   \n",
       "7          0    -152.779569         50              СРЕДНЕЕ             1   \n",
       "8          2   -6929.865299         35               ВЫСШЕЕ             0   \n",
       "9          0   -2188.756445         41              среднее             1   \n",
       "10         2   -4171.483647         36               высшее             0   \n",
       "11         0    -792.701887         40              среднее             1   \n",
       "12         0            NaN         65              среднее             1   \n",
       "13         0   -1846.641941         54  неоконченное высшее             2   \n",
       "14         0   -1844.956182         56               высшее             0   \n",
       "15         1    -972.364419         26              среднее             1   \n",
       "16         0   -1719.934226         35              среднее             1   \n",
       "17         0   -2369.999720         33               высшее             0   \n",
       "18         0  400281.136913         53              среднее             1   \n",
       "19         0  -10038.818549         48              СРЕДНЕЕ             1   \n",
       "\n",
       "       family_status  family_status_id gender income_type  debt  \\\n",
       "0    женат / замужем                 0      F   сотрудник     0   \n",
       "1    женат / замужем                 0      F   сотрудник     0   \n",
       "2    женат / замужем                 0      M   сотрудник     0   \n",
       "3    женат / замужем                 0      M   сотрудник     0   \n",
       "4   гражданский брак                 1      F   пенсионер     0   \n",
       "5   гражданский брак                 1      M   компаньон     0   \n",
       "6    женат / замужем                 0      F   компаньон     0   \n",
       "7    женат / замужем                 0      M   сотрудник     0   \n",
       "8   гражданский брак                 1      F   сотрудник     0   \n",
       "9    женат / замужем                 0      M   сотрудник     0   \n",
       "10   женат / замужем                 0      M   компаньон     0   \n",
       "11   женат / замужем                 0      F   сотрудник     0   \n",
       "12  гражданский брак                 1      M   пенсионер     0   \n",
       "13   женат / замужем                 0      F   сотрудник     0   \n",
       "14  гражданский брак                 1      F   компаньон     1   \n",
       "15   женат / замужем                 0      F   сотрудник     0   \n",
       "16   женат / замужем                 0      F   сотрудник     0   \n",
       "17  гражданский брак                 1      M   сотрудник     0   \n",
       "18    вдовец / вдова                 2      F   пенсионер     0   \n",
       "19         в разводе                 3      F   сотрудник     0   \n",
       "\n",
       "     total_income                                 purpose  \n",
       "0   253875.639453                           покупка жилья  \n",
       "1   112080.014102                 приобретение автомобиля  \n",
       "2   145885.952297                           покупка жилья  \n",
       "3   267628.550329              дополнительное образование  \n",
       "4   158616.077870                         сыграть свадьбу  \n",
       "5   255763.565419                           покупка жилья  \n",
       "6   240525.971920                       операции с жильем  \n",
       "7   135823.934197                             образование  \n",
       "8    95856.832424                   на проведение свадьбы  \n",
       "9   144425.938277                 покупка жилья для семьи  \n",
       "10  113943.491460                    покупка недвижимости  \n",
       "11   77069.234271       покупка коммерческой недвижимости  \n",
       "12            NaN                         сыграть свадьбу  \n",
       "13  130458.228857                 приобретение автомобиля  \n",
       "14  165127.911772              покупка жилой недвижимости  \n",
       "15  116820.904450  строительство собственной недвижимости  \n",
       "16  289202.704229                            недвижимость  \n",
       "17   90410.586745              строительство недвижимости  \n",
       "18   56823.777243      на покупку подержанного автомобиля  \n",
       "19  242831.107982            на покупку своего автомобиля  "
      ]
     },
     "execution_count": 2,
     "metadata": {},
     "output_type": "execute_result"
    }
   ],
   "source": [
    "data.head(20)"
   ]
  },
  {
   "cell_type": "markdown",
   "id": "1c12e233",
   "metadata": {
    "deletable": false,
    "id": "1c12e233"
   },
   "source": [
    "### Задание 3. Вывести основную информацию о датафрейме."
   ]
  },
  {
   "cell_type": "code",
   "execution_count": 3,
   "id": "2b757bca",
   "metadata": {
    "deletable": false,
    "id": "2b757bca",
    "outputId": "15376089-8dad-46c9-b520-c05248d43158"
   },
   "outputs": [
    {
     "name": "stdout",
     "output_type": "stream",
     "text": [
      "<class 'pandas.core.frame.DataFrame'>\n",
      "RangeIndex: 21525 entries, 0 to 21524\n",
      "Data columns (total 12 columns):\n",
      " #   Column            Non-Null Count  Dtype  \n",
      "---  ------            --------------  -----  \n",
      " 0   children          21525 non-null  int64  \n",
      " 1   days_employed     19351 non-null  float64\n",
      " 2   dob_years         21525 non-null  int64  \n",
      " 3   education         21525 non-null  object \n",
      " 4   education_id      21525 non-null  int64  \n",
      " 5   family_status     21525 non-null  object \n",
      " 6   family_status_id  21525 non-null  int64  \n",
      " 7   gender            21525 non-null  object \n",
      " 8   income_type       21525 non-null  object \n",
      " 9   debt              21525 non-null  int64  \n",
      " 10  total_income      19351 non-null  float64\n",
      " 11  purpose           21525 non-null  object \n",
      "dtypes: float64(2), int64(5), object(5)\n",
      "memory usage: 2.0+ MB\n"
     ]
    }
   ],
   "source": [
    "data.info()"
   ]
  },
  {
   "cell_type": "markdown",
   "id": "333ec665",
   "metadata": {
    "deletable": false,
    "id": "333ec665"
   },
   "source": [
    "## Предобработка данных"
   ]
  },
  {
   "cell_type": "markdown",
   "id": "02d92d53",
   "metadata": {
    "deletable": false,
    "id": "02d92d53"
   },
   "source": [
    "## Удаление пропусков"
   ]
  },
  {
   "cell_type": "markdown",
   "id": "cd84967c",
   "metadata": {
    "deletable": false,
    "id": "cd84967c"
   },
   "source": [
    "### Задание 4. Вывести количество пропущенных значений для каждого столбца."
   ]
  },
  {
   "cell_type": "code",
   "execution_count": 4,
   "id": "7f9b2309",
   "metadata": {
    "deletable": false,
    "id": "7f9b2309",
    "outputId": "81f4d817-781c-465c-ed15-91ce4446810d"
   },
   "outputs": [
    {
     "name": "stdout",
     "output_type": "stream",
     "text": [
      "children               0\n",
      "days_employed       2174\n",
      "dob_years              0\n",
      "education              0\n",
      "education_id           0\n",
      "family_status          0\n",
      "family_status_id       0\n",
      "gender                 0\n",
      "income_type            0\n",
      "debt                   0\n",
      "total_income        2174\n",
      "purpose                0\n",
      "dtype: int64\n"
     ]
    },
    {
     "data": {
      "text/plain": [
       "children            0.000000\n",
       "days_employed       0.100999\n",
       "dob_years           0.000000\n",
       "education           0.000000\n",
       "education_id        0.000000\n",
       "family_status       0.000000\n",
       "family_status_id    0.000000\n",
       "gender              0.000000\n",
       "income_type         0.000000\n",
       "debt                0.000000\n",
       "total_income        0.100999\n",
       "purpose             0.000000\n",
       "dtype: float64"
      ]
     },
     "execution_count": 4,
     "metadata": {},
     "output_type": "execute_result"
    }
   ],
   "source": [
    "losts=data.isna().sum()\n",
    "print(losts)\n",
    "data.isna().mean()"
   ]
  },
  {
   "cell_type": "markdown",
   "id": "db86e27b",
   "metadata": {
    "deletable": false,
    "id": "db86e27b"
   },
   "source": [
    "### Задание 5. В двух столбцах есть пропущенные значения. На сумму дохода сильнее всего влияет тип занятости, поэтому заполнить пропуски в этом столбце нужно медианным значением по каждому типу из столбца `income_type`. Например, у человека с типом занятости `сотрудник` пропуск в столбце `total_income` должен быть заполнен медианным доходом среди всех записей с тем же типом."
   ]
  },
  {
   "cell_type": "code",
   "execution_count": 5,
   "id": "42006a93",
   "metadata": {
    "deletable": false,
    "id": "42006a93"
   },
   "outputs": [],
   "source": [
    "for t in data['income_type'].unique():\n",
    "    data.loc[(data['income_type'] == t) & (data['total_income'].isna()), 'total_income'] = \\\n",
    "    data.loc[(data['income_type'] == t), 'total_income'].median()"
   ]
  },
  {
   "cell_type": "markdown",
   "id": "89da5ece",
   "metadata": {
    "deletable": false,
    "id": "89da5ece"
   },
   "source": [
    "### Обработка аномальных значений"
   ]
  },
  {
   "cell_type": "markdown",
   "id": "57964554",
   "metadata": {
    "deletable": false,
    "id": "57964554"
   },
   "source": [
    "### Задание 6. Обработать аномалии в столбце 'days_employed'."
   ]
  },
  {
   "cell_type": "code",
   "execution_count": 6,
   "id": "f6f055bf",
   "metadata": {
    "deletable": false,
    "id": "f6f055bf"
   },
   "outputs": [],
   "source": [
    "data['days_employed'] = data['days_employed'].abs()"
   ]
  },
  {
   "cell_type": "markdown",
   "id": "6107dd2f",
   "metadata": {
    "deletable": false,
    "id": "6107dd2f"
   },
   "source": [
    "### Задание 7. Для каждого типа занятости вывести медианное значение трудового стажа `days_employed` в днях."
   ]
  },
  {
   "cell_type": "code",
   "execution_count": 7,
   "id": "85a5faf6",
   "metadata": {
    "deletable": false,
    "id": "85a5faf6",
    "outputId": "801ef80e-522b-4668-f34e-565af7432bcf"
   },
   "outputs": [
    {
     "data": {
      "text/plain": [
       "income_type\n",
       "безработный        366413.652744\n",
       "в декрете            3296.759962\n",
       "госслужащий          2689.368353\n",
       "компаньон            1547.382223\n",
       "пенсионер          365213.306266\n",
       "предприниматель       520.848083\n",
       "сотрудник            1574.202821\n",
       "студент               578.751554\n",
       "Name: days_employed, dtype: float64"
      ]
     },
     "execution_count": 7,
     "metadata": {},
     "output_type": "execute_result"
    }
   ],
   "source": [
    "data.groupby('income_type')['days_employed'].agg('median')"
   ]
  },
  {
   "cell_type": "markdown",
   "id": "38d1a030",
   "metadata": {
    "deletable": false,
    "id": "38d1a030"
   },
   "source": [
    "У двух типов (безработные и пенсионеры) получаются аномально большие значения. Оставлю их как есть. Тем более этот столбец не понадобится вам для исследования."
   ]
  },
  {
   "cell_type": "markdown",
   "id": "d8a9f147",
   "metadata": {
    "deletable": false,
    "id": "d8a9f147"
   },
   "source": [
    "### Задание 8. Вывести перечень уникальных значений столбца `children`."
   ]
  },
  {
   "cell_type": "code",
   "execution_count": 8,
   "id": "ef5056eb",
   "metadata": {
    "deletable": false,
    "id": "ef5056eb",
    "outputId": "6975b15c-7f95-4697-d16d-a0c79b657b03"
   },
   "outputs": [
    {
     "data": {
      "text/plain": [
       "array([ 1,  0,  3,  2, -1,  4, 20,  5])"
      ]
     },
     "execution_count": 8,
     "metadata": {},
     "output_type": "execute_result"
    }
   ],
   "source": [
    "data['children'].unique()"
   ]
  },
  {
   "cell_type": "markdown",
   "id": "40b9ebf2",
   "metadata": {
    "deletable": false,
    "id": "40b9ebf2"
   },
   "source": [
    "### Задание 9. В столбце `children` есть два аномальных значения. Удалю строки, в которых встречаются такие аномальные значения из датафрейма `data`."
   ]
  },
  {
   "cell_type": "code",
   "execution_count": 9,
   "id": "3ff9801d",
   "metadata": {
    "deletable": false,
    "id": "3ff9801d"
   },
   "outputs": [
    {
     "name": "stdout",
     "output_type": "stream",
     "text": [
      " доля аномалий 0.2183507549361208% и 0.3530778164924506%\n"
     ]
    }
   ],
   "source": [
    "anomal_share=len(data[data['children']==-1])/data.shape[0]*100\n",
    "anomal_share_1=len(data[data['children']==20])/data.shape[0]*100\n",
    "print(f' доля аномалий {anomal_share}% и {anomal_share_1}%')\n",
    "\n",
    "data = data[(data['children'] != -1) & (data['children'] != 20)]\n",
    "\n",
    "          "
   ]
  },
  {
   "cell_type": "markdown",
   "id": "bbc4d0ce",
   "metadata": {
    "deletable": false,
    "id": "bbc4d0ce"
   },
   "source": [
    "### Задание 10. Убедиться, что артефакты удалены."
   ]
  },
  {
   "cell_type": "code",
   "execution_count": 10,
   "id": "ad4fa8b7",
   "metadata": {
    "deletable": false,
    "id": "ad4fa8b7",
    "outputId": "b2097101-d49d-44d9-901b-32a65c9463d1"
   },
   "outputs": [
    {
     "data": {
      "text/plain": [
       "array([1, 0, 3, 2, 4, 5])"
      ]
     },
     "execution_count": 10,
     "metadata": {},
     "output_type": "execute_result"
    }
   ],
   "source": [
    "\n",
    "data['gender'].unique()\n",
    "len(data[data['gender']== 'XNA'])\n",
    "data['children'].unique()"
   ]
  },
  {
   "cell_type": "markdown",
   "id": "75440b63",
   "metadata": {
    "deletable": false,
    "id": "75440b63"
   },
   "source": [
    "."
   ]
  },
  {
   "cell_type": "markdown",
   "id": "f4ea573f",
   "metadata": {
    "deletable": false,
    "id": "f4ea573f"
   },
   "source": [
    "### Задание 11. Заполните пропуски в столбце `days_employed` медианными значениями по каждого типа занятости `income_type`."
   ]
  },
  {
   "cell_type": "code",
   "execution_count": 11,
   "id": "af6b1a7e",
   "metadata": {
    "deletable": false,
    "id": "af6b1a7e"
   },
   "outputs": [],
   "source": [
    "for t in data['income_type'].unique():\n",
    "    data.loc[(data['income_type'] == t) & (data['days_employed'].isna()), 'days_employed'] = \\\n",
    "    data.loc[(data['income_type'] == t), 'days_employed'].median()"
   ]
  },
  {
   "cell_type": "markdown",
   "id": "2753f40d",
   "metadata": {
    "deletable": false,
    "id": "2753f40d"
   },
   "source": [
    "### Задание 12. Убедиться, что все пропуски заполнены. "
   ]
  },
  {
   "cell_type": "code",
   "execution_count": 12,
   "id": "55f78bc2",
   "metadata": {
    "deletable": false,
    "id": "55f78bc2",
    "outputId": "8da1e4e1-358e-4e87-98c9-f261bce0a7b2"
   },
   "outputs": [
    {
     "data": {
      "text/plain": [
       "children            0\n",
       "days_employed       0\n",
       "dob_years           0\n",
       "education           0\n",
       "education_id        0\n",
       "family_status       0\n",
       "family_status_id    0\n",
       "gender              0\n",
       "income_type         0\n",
       "debt                0\n",
       "total_income        0\n",
       "purpose             0\n",
       "dtype: int64"
      ]
     },
     "execution_count": 12,
     "metadata": {},
     "output_type": "execute_result"
    }
   ],
   "source": [
    "data.isna().sum()"
   ]
  },
  {
   "cell_type": "markdown",
   "id": "ddc81e43",
   "metadata": {
    "deletable": false,
    "id": "ddc81e43"
   },
   "source": [
    "### Изменение типов данных"
   ]
  },
  {
   "cell_type": "markdown",
   "id": "42d19d24",
   "metadata": {
    "deletable": false,
    "id": "42d19d24"
   },
   "source": [
    "### Задание 13. Заменитm вещественный тип данных в столбце `total_income` на целочисленный."
   ]
  },
  {
   "cell_type": "code",
   "execution_count": 13,
   "id": "920b65ad",
   "metadata": {
    "deletable": false,
    "id": "920b65ad"
   },
   "outputs": [
    {
     "name": "stdout",
     "output_type": "stream",
     "text": [
      "<class 'pandas.core.frame.DataFrame'>\n",
      "Int64Index: 21402 entries, 0 to 21524\n",
      "Data columns (total 12 columns):\n",
      " #   Column            Non-Null Count  Dtype  \n",
      "---  ------            --------------  -----  \n",
      " 0   children          21402 non-null  int32  \n",
      " 1   days_employed     21402 non-null  float32\n",
      " 2   dob_years         21402 non-null  int32  \n",
      " 3   education         21402 non-null  object \n",
      " 4   education_id      21402 non-null  int32  \n",
      " 5   family_status     21402 non-null  object \n",
      " 6   family_status_id  21402 non-null  int32  \n",
      " 7   gender            21402 non-null  object \n",
      " 8   income_type       21402 non-null  object \n",
      " 9   debt              21402 non-null  int32  \n",
      " 10  total_income      21402 non-null  int32  \n",
      " 11  purpose           21402 non-null  object \n",
      "dtypes: float32(1), int32(6), object(5)\n",
      "memory usage: 1.6+ MB\n"
     ]
    }
   ],
   "source": [
    "int64=['children', 'dob_years', 'education_id', 'family_status_id', 'debt', 'total_income']\n",
    "for i in int64:\n",
    "    data[i]=data[i].astype('int32')\n",
    "data['days_employed'] = data['days_employed'].astype('float32')\n",
    "data.info()\n"
   ]
  },
  {
   "cell_type": "markdown",
   "id": "80c420ba",
   "metadata": {
    "deletable": false,
    "id": "80c420ba"
   },
   "source": [
    "### Обработка дубликатов"
   ]
  },
  {
   "cell_type": "markdown",
   "id": "dc587695",
   "metadata": {
    "deletable": false,
    "id": "dc587695"
   },
   "source": [
    "### Задание 14. Вывести на экран количество строк-дубликатов в данных. "
   ]
  },
  {
   "cell_type": "code",
   "execution_count": 14,
   "id": "3ee445e4",
   "metadata": {
    "deletable": false,
    "id": "3ee445e4",
    "outputId": "9684deba-1934-42d1-99e1-cda61740f822"
   },
   "outputs": [
    {
     "data": {
      "text/plain": [
       "54"
      ]
     },
     "execution_count": 14,
     "metadata": {},
     "output_type": "execute_result"
    }
   ],
   "source": [
    "data.duplicated().sum()"
   ]
  },
  {
   "cell_type": "code",
   "execution_count": 15,
   "id": "8575fe05",
   "metadata": {
    "deletable": false,
    "id": "8575fe05"
   },
   "outputs": [
    {
     "data": {
      "text/plain": [
       "71"
      ]
     },
     "execution_count": 15,
     "metadata": {},
     "output_type": "execute_result"
    }
   ],
   "source": [
    "data['education'] = data['education'].str.lower()\n",
    "data['family_status'] = data['family_status'].str.lower()\n",
    "data['income_type'] = data['income_type'].str.lower()\n",
    "data['purpose'] = data['purpose'].str.lower()\n",
    "data.duplicated().sum()"
   ]
  },
  {
   "cell_type": "markdown",
   "id": "9771a76c",
   "metadata": {
    "deletable": false,
    "id": "9771a76c"
   },
   "source": [
    "### Задание 15. Обработаnm неявные дубликаты в столбце `education`. "
   ]
  },
  {
   "cell_type": "code",
   "execution_count": 16,
   "id": "a9f8e2bf",
   "metadata": {
    "deletable": false,
    "id": "a9f8e2bf"
   },
   "outputs": [
    {
     "data": {
      "text/plain": [
       "0"
      ]
     },
     "execution_count": 16,
     "metadata": {},
     "output_type": "execute_result"
    }
   ],
   "source": [
    "data = data.drop_duplicates()\n",
    "data.duplicated().sum()"
   ]
  },
  {
   "cell_type": "markdown",
   "id": "9904cf55",
   "metadata": {
    "deletable": false,
    "id": "9904cf55"
   },
   "source": [
    "### Категоризация данных"
   ]
  },
  {
   "cell_type": "markdown",
   "id": "72fcc8a2",
   "metadata": {
    "deletable": false,
    "id": "72fcc8a2"
   },
   "source": [
    "### Задание 16. На основании диапазонов, указанных ниже, создаk в датафрейме `data` столбец `total_income_category` с категориями:\n",
    "\n",
    "- 0–30000 — `'E'`;\n",
    "- 30001–50000 — `'D'`;\n",
    "- 50001–200000 — `'C'`;\n",
    "- 200001–1000000 — `'B'`;\n",
    "- 1000001 и выше — `'A'`.\n",
    "\n",
    "\n"
   ]
  },
  {
   "cell_type": "code",
   "execution_count": 17,
   "id": "e1771346",
   "metadata": {
    "deletable": false,
    "id": "e1771346"
   },
   "outputs": [],
   "source": [
    "def categorize_income(income):\n",
    "    try:\n",
    "        if 0 <= income <= 30000:\n",
    "            return 'E'\n",
    "        elif 30001 <= income <= 50000:\n",
    "            return 'D'\n",
    "        elif 50001 <= income <= 200000:\n",
    "            return 'C'\n",
    "        elif 200001 <= income <= 1000000:\n",
    "            return 'B'\n",
    "        elif income >= 1000001:\n",
    "            return 'A'\n",
    "    except:\n",
    "        pass"
   ]
  },
  {
   "cell_type": "code",
   "execution_count": 18,
   "id": "d5f3586d",
   "metadata": {
    "deletable": false,
    "id": "d5f3586d"
   },
   "outputs": [],
   "source": [
    "data['total_income_category'] = data['total_income'].apply(categorize_income)"
   ]
  },
  {
   "cell_type": "markdown",
   "id": "dde49b5c",
   "metadata": {
    "deletable": false,
    "id": "dde49b5c"
   },
   "source": [
    "### Задание 17. Вывести на экран перечень уникальных целей взятия кредита из столбца `purpose`."
   ]
  },
  {
   "cell_type": "code",
   "execution_count": 19,
   "id": "f67ce9b3",
   "metadata": {
    "deletable": false,
    "id": "f67ce9b3",
    "outputId": "673c12d9-7d7e-4ae0-9812-c622c89dd244"
   },
   "outputs": [
    {
     "data": {
      "text/plain": [
       "array(['покупка жилья', 'приобретение автомобиля',\n",
       "       'дополнительное образование', 'сыграть свадьбу',\n",
       "       'операции с жильем', 'образование', 'на проведение свадьбы',\n",
       "       'покупка жилья для семьи', 'покупка недвижимости',\n",
       "       'покупка коммерческой недвижимости', 'покупка жилой недвижимости',\n",
       "       'строительство собственной недвижимости', 'недвижимость',\n",
       "       'строительство недвижимости', 'на покупку подержанного автомобиля',\n",
       "       'на покупку своего автомобиля',\n",
       "       'операции с коммерческой недвижимостью',\n",
       "       'строительство жилой недвижимости', 'жилье',\n",
       "       'операции со своей недвижимостью', 'автомобили',\n",
       "       'заняться образованием', 'сделка с подержанным автомобилем',\n",
       "       'получение образования', 'автомобиль', 'свадьба',\n",
       "       'получение дополнительного образования', 'покупка своего жилья',\n",
       "       'операции с недвижимостью', 'получение высшего образования',\n",
       "       'свой автомобиль', 'сделка с автомобилем',\n",
       "       'профильное образование', 'высшее образование',\n",
       "       'покупка жилья для сдачи', 'на покупку автомобиля', 'ремонт жилью',\n",
       "       'заняться высшим образованием'], dtype=object)"
      ]
     },
     "execution_count": 19,
     "metadata": {},
     "output_type": "execute_result"
    }
   ],
   "source": [
    "data['purpose'].unique()"
   ]
  },
  {
   "cell_type": "markdown",
   "id": "85d0aef0",
   "metadata": {
    "deletable": false,
    "id": "85d0aef0"
   },
   "source": [
    "### Задание 18. Создам функцию, которая на основании данных из столбца `purpose` сформирует новый столбец `purpose_category`, в который войдут следующие категории:**\n",
    "\n",
    "- `'операции с автомобилем'`,\n",
    "- `'операции с недвижимостью'`,\n",
    "- `'проведение свадьбы'`,\n",
    "- `'получение образования'`.\n"
   ]
  },
  {
   "cell_type": "code",
   "execution_count": 20,
   "id": "e149fab4",
   "metadata": {
    "deletable": false,
    "id": "e149fab4"
   },
   "outputs": [],
   "source": [
    "def categorize_purpose(row):\n",
    "    try:\n",
    "        if 'автом' in row:\n",
    "            return 'операции с автомобилем'\n",
    "        elif 'жил' in row or 'недвиж' in row:\n",
    "            return 'операции с недвижимостью'\n",
    "        elif 'свад' in row:\n",
    "            return 'проведение свадьбы'\n",
    "        elif 'образов' in row:\n",
    "            return 'получение образования'\n",
    "    except:\n",
    "        return 'нет категории'"
   ]
  },
  {
   "cell_type": "code",
   "execution_count": 21,
   "id": "bf36e69b",
   "metadata": {
    "deletable": false,
    "id": "bf36e69b"
   },
   "outputs": [],
   "source": [
    "data['purpose_category'] = data['purpose'].apply(categorize_purpose)"
   ]
  },
  {
   "cell_type": "markdown",
   "id": "09b242bf",
   "metadata": {
    "deletable": false,
    "editable": false,
    "id": "09b242bf"
   },
   "source": [
    "## Исследуйте данные и ответьте на вопросы"
   ]
  },
  {
   "cell_type": "markdown",
   "id": "c5d66278",
   "metadata": {
    "deletable": false,
    "editable": false,
    "id": "c5d66278"
   },
   "source": [
    "**Задание 19. Есть ли зависимость между количеством детей и возвратом кредита в срок?**"
   ]
  },
  {
   "cell_type": "code",
   "execution_count": 22,
   "id": "2cacfc4a",
   "metadata": {
    "id": "2cacfc4a",
    "scrolled": true
   },
   "outputs": [
    {
     "name": "stdout",
     "output_type": "stream",
     "text": [
      "children\n",
      "0    7.54 %\n",
      "1    9.23 %\n",
      "2    9.45 %\n",
      "3    8.18 %\n",
      "4    9.76 %\n",
      "5     0.0 %\n",
      "dtype: object\n"
     ]
    }
   ],
   "source": [
    "child_debt=data.groupby('children').agg({'debt':['count','sum']})\n",
    "child_percent=(child_debt['debt']['sum']/child_debt['debt']['count']).mul(100).round(2).astype(str).add(' %')\n",
    "print(child_percent) \n",
    "# в результатах указан процент не вернувших кредит, в группах по кол-ву детей"
   ]
  },
  {
   "cell_type": "code",
   "execution_count": 23,
   "id": "2be8c773",
   "metadata": {
    "deletable": false,
    "id": "3a6b99ec"
   },
   "outputs": [
    {
     "data": {
      "text/html": [
       "<div>\n",
       "<style scoped>\n",
       "    .dataframe tbody tr th:only-of-type {\n",
       "        vertical-align: middle;\n",
       "    }\n",
       "\n",
       "    .dataframe tbody tr th {\n",
       "        vertical-align: top;\n",
       "    }\n",
       "\n",
       "    .dataframe thead th {\n",
       "        text-align: right;\n",
       "    }\n",
       "</style>\n",
       "<table border=\"1\" class=\"dataframe\">\n",
       "  <thead>\n",
       "    <tr style=\"text-align: right;\">\n",
       "      <th>children</th>\n",
       "      <th>0</th>\n",
       "      <th>1</th>\n",
       "      <th>2</th>\n",
       "      <th>3</th>\n",
       "      <th>4</th>\n",
       "      <th>5</th>\n",
       "    </tr>\n",
       "    <tr>\n",
       "      <th>income_type</th>\n",
       "      <th></th>\n",
       "      <th></th>\n",
       "      <th></th>\n",
       "      <th></th>\n",
       "      <th></th>\n",
       "      <th></th>\n",
       "    </tr>\n",
       "  </thead>\n",
       "  <tbody>\n",
       "    <tr>\n",
       "      <th>безработный</th>\n",
       "      <td>0.0</td>\n",
       "      <td>1.0</td>\n",
       "      <td>NaN</td>\n",
       "      <td>NaN</td>\n",
       "      <td>NaN</td>\n",
       "      <td>NaN</td>\n",
       "    </tr>\n",
       "    <tr>\n",
       "      <th>в декрете</th>\n",
       "      <td>NaN</td>\n",
       "      <td>NaN</td>\n",
       "      <td>1.0</td>\n",
       "      <td>NaN</td>\n",
       "      <td>NaN</td>\n",
       "      <td>NaN</td>\n",
       "    </tr>\n",
       "    <tr>\n",
       "      <th>госслужащий</th>\n",
       "      <td>59.0</td>\n",
       "      <td>19.0</td>\n",
       "      <td>6.0</td>\n",
       "      <td>2.0</td>\n",
       "      <td>0.0</td>\n",
       "      <td>0.0</td>\n",
       "    </tr>\n",
       "    <tr>\n",
       "      <th>компаньон</th>\n",
       "      <td>226.0</td>\n",
       "      <td>106.0</td>\n",
       "      <td>37.0</td>\n",
       "      <td>5.0</td>\n",
       "      <td>0.0</td>\n",
       "      <td>0.0</td>\n",
       "    </tr>\n",
       "    <tr>\n",
       "      <th>пенсионер</th>\n",
       "      <td>198.0</td>\n",
       "      <td>14.0</td>\n",
       "      <td>3.0</td>\n",
       "      <td>1.0</td>\n",
       "      <td>0.0</td>\n",
       "      <td>NaN</td>\n",
       "    </tr>\n",
       "    <tr>\n",
       "      <th>предприниматель</th>\n",
       "      <td>0.0</td>\n",
       "      <td>NaN</td>\n",
       "      <td>NaN</td>\n",
       "      <td>NaN</td>\n",
       "      <td>NaN</td>\n",
       "      <td>NaN</td>\n",
       "    </tr>\n",
       "    <tr>\n",
       "      <th>сотрудник</th>\n",
       "      <td>580.0</td>\n",
       "      <td>304.0</td>\n",
       "      <td>147.0</td>\n",
       "      <td>19.0</td>\n",
       "      <td>4.0</td>\n",
       "      <td>0.0</td>\n",
       "    </tr>\n",
       "    <tr>\n",
       "      <th>студент</th>\n",
       "      <td>0.0</td>\n",
       "      <td>NaN</td>\n",
       "      <td>NaN</td>\n",
       "      <td>NaN</td>\n",
       "      <td>NaN</td>\n",
       "      <td>NaN</td>\n",
       "    </tr>\n",
       "  </tbody>\n",
       "</table>\n",
       "</div>"
      ],
      "text/plain": [
       "children             0      1      2     3    4    5\n",
       "income_type                                         \n",
       "безработный        0.0    1.0    NaN   NaN  NaN  NaN\n",
       "в декрете          NaN    NaN    1.0   NaN  NaN  NaN\n",
       "госслужащий       59.0   19.0    6.0   2.0  0.0  0.0\n",
       "компаньон        226.0  106.0   37.0   5.0  0.0  0.0\n",
       "пенсионер        198.0   14.0    3.0   1.0  0.0  NaN\n",
       "предприниматель    0.0    NaN    NaN   NaN  NaN  NaN\n",
       "сотрудник        580.0  304.0  147.0  19.0  4.0  0.0\n",
       "студент            0.0    NaN    NaN   NaN  NaN  NaN"
      ]
     },
     "metadata": {},
     "output_type": "display_data"
    },
    {
     "data": {
      "text/html": [
       "<div>\n",
       "<style scoped>\n",
       "    .dataframe tbody tr th:only-of-type {\n",
       "        vertical-align: middle;\n",
       "    }\n",
       "\n",
       "    .dataframe tbody tr th {\n",
       "        vertical-align: top;\n",
       "    }\n",
       "\n",
       "    .dataframe thead th {\n",
       "        text-align: right;\n",
       "    }\n",
       "</style>\n",
       "<table border=\"1\" class=\"dataframe\">\n",
       "  <thead>\n",
       "    <tr style=\"text-align: right;\">\n",
       "      <th>children</th>\n",
       "      <th>0</th>\n",
       "      <th>1</th>\n",
       "      <th>2</th>\n",
       "      <th>3</th>\n",
       "      <th>4</th>\n",
       "      <th>5</th>\n",
       "    </tr>\n",
       "    <tr>\n",
       "      <th>income_type</th>\n",
       "      <th></th>\n",
       "      <th></th>\n",
       "      <th></th>\n",
       "      <th></th>\n",
       "      <th></th>\n",
       "      <th></th>\n",
       "    </tr>\n",
       "  </thead>\n",
       "  <tbody>\n",
       "    <tr>\n",
       "      <th>безработный</th>\n",
       "      <td>1.0</td>\n",
       "      <td>1.0</td>\n",
       "      <td>NaN</td>\n",
       "      <td>NaN</td>\n",
       "      <td>NaN</td>\n",
       "      <td>NaN</td>\n",
       "    </tr>\n",
       "    <tr>\n",
       "      <th>в декрете</th>\n",
       "      <td>NaN</td>\n",
       "      <td>NaN</td>\n",
       "      <td>1.0</td>\n",
       "      <td>NaN</td>\n",
       "      <td>NaN</td>\n",
       "      <td>NaN</td>\n",
       "    </tr>\n",
       "    <tr>\n",
       "      <th>госслужащий</th>\n",
       "      <td>866.0</td>\n",
       "      <td>354.0</td>\n",
       "      <td>187.0</td>\n",
       "      <td>36.0</td>\n",
       "      <td>7.0</td>\n",
       "      <td>1.0</td>\n",
       "    </tr>\n",
       "    <tr>\n",
       "      <th>компаньон</th>\n",
       "      <td>3137.0</td>\n",
       "      <td>1298.0</td>\n",
       "      <td>529.0</td>\n",
       "      <td>79.0</td>\n",
       "      <td>2.0</td>\n",
       "      <td>2.0</td>\n",
       "    </tr>\n",
       "    <tr>\n",
       "      <th>пенсионер</th>\n",
       "      <td>3510.0</td>\n",
       "      <td>275.0</td>\n",
       "      <td>20.0</td>\n",
       "      <td>6.0</td>\n",
       "      <td>1.0</td>\n",
       "      <td>NaN</td>\n",
       "    </tr>\n",
       "    <tr>\n",
       "      <th>предприниматель</th>\n",
       "      <td>2.0</td>\n",
       "      <td>NaN</td>\n",
       "      <td>NaN</td>\n",
       "      <td>NaN</td>\n",
       "      <td>NaN</td>\n",
       "      <td>NaN</td>\n",
       "    </tr>\n",
       "    <tr>\n",
       "      <th>сотрудник</th>\n",
       "      <td>6574.0</td>\n",
       "      <td>2880.0</td>\n",
       "      <td>1315.0</td>\n",
       "      <td>209.0</td>\n",
       "      <td>31.0</td>\n",
       "      <td>6.0</td>\n",
       "    </tr>\n",
       "    <tr>\n",
       "      <th>студент</th>\n",
       "      <td>1.0</td>\n",
       "      <td>NaN</td>\n",
       "      <td>NaN</td>\n",
       "      <td>NaN</td>\n",
       "      <td>NaN</td>\n",
       "      <td>NaN</td>\n",
       "    </tr>\n",
       "  </tbody>\n",
       "</table>\n",
       "</div>"
      ],
      "text/plain": [
       "children              0       1       2      3     4    5\n",
       "income_type                                              \n",
       "безработный         1.0     1.0     NaN    NaN   NaN  NaN\n",
       "в декрете           NaN     NaN     1.0    NaN   NaN  NaN\n",
       "госслужащий       866.0   354.0   187.0   36.0   7.0  1.0\n",
       "компаньон        3137.0  1298.0   529.0   79.0   2.0  2.0\n",
       "пенсионер        3510.0   275.0    20.0    6.0   1.0  NaN\n",
       "предприниматель     2.0     NaN     NaN    NaN   NaN  NaN\n",
       "сотрудник        6574.0  2880.0  1315.0  209.0  31.0  6.0\n",
       "студент             1.0     NaN     NaN    NaN   NaN  NaN"
      ]
     },
     "metadata": {},
     "output_type": "display_data"
    },
    {
     "data": {
      "text/html": [
       "<div>\n",
       "<style scoped>\n",
       "    .dataframe tbody tr th:only-of-type {\n",
       "        vertical-align: middle;\n",
       "    }\n",
       "\n",
       "    .dataframe tbody tr th {\n",
       "        vertical-align: top;\n",
       "    }\n",
       "\n",
       "    .dataframe thead th {\n",
       "        text-align: right;\n",
       "    }\n",
       "</style>\n",
       "<table border=\"1\" class=\"dataframe\">\n",
       "  <thead>\n",
       "    <tr style=\"text-align: right;\">\n",
       "      <th>children</th>\n",
       "      <th>0</th>\n",
       "      <th>1</th>\n",
       "      <th>2</th>\n",
       "      <th>3</th>\n",
       "      <th>4</th>\n",
       "      <th>5</th>\n",
       "    </tr>\n",
       "    <tr>\n",
       "      <th>income_type</th>\n",
       "      <th></th>\n",
       "      <th></th>\n",
       "      <th></th>\n",
       "      <th></th>\n",
       "      <th></th>\n",
       "      <th></th>\n",
       "    </tr>\n",
       "  </thead>\n",
       "  <tbody>\n",
       "    <tr>\n",
       "      <th>безработный</th>\n",
       "      <td>0.000000</td>\n",
       "      <td>1.000000</td>\n",
       "      <td>NaN</td>\n",
       "      <td>NaN</td>\n",
       "      <td>NaN</td>\n",
       "      <td>NaN</td>\n",
       "    </tr>\n",
       "    <tr>\n",
       "      <th>в декрете</th>\n",
       "      <td>NaN</td>\n",
       "      <td>NaN</td>\n",
       "      <td>1.000000</td>\n",
       "      <td>NaN</td>\n",
       "      <td>NaN</td>\n",
       "      <td>NaN</td>\n",
       "    </tr>\n",
       "    <tr>\n",
       "      <th>госслужащий</th>\n",
       "      <td>0.068129</td>\n",
       "      <td>0.053672</td>\n",
       "      <td>0.032086</td>\n",
       "      <td>0.055556</td>\n",
       "      <td>0.000000</td>\n",
       "      <td>0.0</td>\n",
       "    </tr>\n",
       "    <tr>\n",
       "      <th>компаньон</th>\n",
       "      <td>0.072043</td>\n",
       "      <td>0.081664</td>\n",
       "      <td>0.069943</td>\n",
       "      <td>0.063291</td>\n",
       "      <td>0.000000</td>\n",
       "      <td>0.0</td>\n",
       "    </tr>\n",
       "    <tr>\n",
       "      <th>пенсионер</th>\n",
       "      <td>0.056410</td>\n",
       "      <td>0.050909</td>\n",
       "      <td>0.150000</td>\n",
       "      <td>0.166667</td>\n",
       "      <td>0.000000</td>\n",
       "      <td>NaN</td>\n",
       "    </tr>\n",
       "    <tr>\n",
       "      <th>предприниматель</th>\n",
       "      <td>0.000000</td>\n",
       "      <td>NaN</td>\n",
       "      <td>NaN</td>\n",
       "      <td>NaN</td>\n",
       "      <td>NaN</td>\n",
       "      <td>NaN</td>\n",
       "    </tr>\n",
       "    <tr>\n",
       "      <th>сотрудник</th>\n",
       "      <td>0.088226</td>\n",
       "      <td>0.105556</td>\n",
       "      <td>0.111787</td>\n",
       "      <td>0.090909</td>\n",
       "      <td>0.129032</td>\n",
       "      <td>0.0</td>\n",
       "    </tr>\n",
       "    <tr>\n",
       "      <th>студент</th>\n",
       "      <td>0.000000</td>\n",
       "      <td>NaN</td>\n",
       "      <td>NaN</td>\n",
       "      <td>NaN</td>\n",
       "      <td>NaN</td>\n",
       "      <td>NaN</td>\n",
       "    </tr>\n",
       "  </tbody>\n",
       "</table>\n",
       "</div>"
      ],
      "text/plain": [
       "children                0         1         2         3         4    5\n",
       "income_type                                                           \n",
       "безработный      0.000000  1.000000       NaN       NaN       NaN  NaN\n",
       "в декрете             NaN       NaN  1.000000       NaN       NaN  NaN\n",
       "госслужащий      0.068129  0.053672  0.032086  0.055556  0.000000  0.0\n",
       "компаньон        0.072043  0.081664  0.069943  0.063291  0.000000  0.0\n",
       "пенсионер        0.056410  0.050909  0.150000  0.166667  0.000000  NaN\n",
       "предприниматель  0.000000       NaN       NaN       NaN       NaN  NaN\n",
       "сотрудник        0.088226  0.105556  0.111787  0.090909  0.129032  0.0\n",
       "студент          0.000000       NaN       NaN       NaN       NaN  NaN"
      ]
     },
     "metadata": {},
     "output_type": "display_data"
    }
   ],
   "source": [
    "data_pivot_children_sum=data.pivot_table(index=['income_type'],columns='children',values='debt',aggfunc='sum')\n",
    "data_pivot_children_count=data.pivot_table(index=['income_type'],columns='children',values='debt',aggfunc='count')\n",
    "data_pivot_children_mean=data.pivot_table(index=['income_type'],columns='children',values='debt',aggfunc='mean')\n",
    "display(data_pivot_children_sum,data_pivot_children_count, data_pivot_children_mean)\n",
    "# Сделал три сводных таблицы, чтоб легче читались, внутри одной таблицы отображается нечитабельно.\n",
    "# сводная таблица показывает количество людей какого типа занятости и с каким кол-ом детей не отдают кредит."
   ]
  },
  {
   "cell_type": "markdown",
   "id": "b21eb5aa",
   "metadata": {},
   "source": [
    "Вывод: как видно из данных, количество детей влияет на способность отдать кредит. Группа людей не имеющих детей отдаёт кредиты в среднем на 2% лучше, но стоит отметить что основными неплательщиками в этой группе являются сотрудники и компаньоны. Группа людей с 3мя детьми так же имеет низкий процент невозврата, возможная причина-повышенная ответственность из-за кол-ва детей и забота об их будущем. Группы с одним, двумя и четырьмя детьми показывают схожие результаты, опять же основными неплательщиками являются сотрудники. Группа с пятью детьми не имеет просрочек, но по количеству опрошенных является самой маленькой и я сомневаюсь что такого объёма данных хватит для корректных выводов, но если выборка репрезентативна, то можно сделать вывод, что заёмщики с 5ю детьми самые надёжные и ответственные."
   ]
  },
  {
   "cell_type": "code",
   "execution_count": 24,
   "id": "b50bc508",
   "metadata": {},
   "outputs": [
    {
     "data": {
      "text/plain": [
       "<AxesSubplot:xlabel='children', ylabel='debt'>"
      ]
     },
     "execution_count": 24,
     "metadata": {},
     "output_type": "execute_result"
    },
    {
     "data": {
      "image/png": "[encoded data removed]",
      "text/plain": [
       "<Figure size 432x288 with 1 Axes>"
      ]
     },
     "metadata": {
      "needs_background": "light"
     },
     "output_type": "display_data"
    }
   ],
   "source": [
    "seaborn.barplot(y='debt', x='children', data=data, ci=None) \n",
    "# столбчатая гистограмма, отражающая распределение неплательшиков по группам с кол-ом детей."
   ]
  },
  {
   "cell_type": "markdown",
   "id": "97be82ca",
   "metadata": {
    "deletable": false,
    "editable": false,
    "id": "97be82ca"
   },
   "source": [
    "**Задание 20. Есть ли зависимость между семейным положением и возвратом кредита в срок?**"
   ]
  },
  {
   "cell_type": "code",
   "execution_count": 25,
   "id": "dc3f7ee8",
   "metadata": {
    "id": "dc3f7ee8"
   },
   "outputs": [
    {
     "name": "stdout",
     "output_type": "stream",
     "text": [
      "family_status\n",
      "в разводе                7.06 %\n",
      "вдовец / вдова           6.62 %\n",
      "гражданский брак         9.31 %\n",
      "женат / замужем          7.56 %\n",
      "не женат / не замужем    9.76 %\n",
      "dtype: object\n"
     ]
    },
    {
     "data": {
      "text/plain": [
       "<AxesSubplot:xlabel='debt', ylabel='family_status'>"
      ]
     },
     "execution_count": 25,
     "metadata": {},
     "output_type": "execute_result"
    },
    {
     "data": {
      "image/png": "[encoded data removed]",
      "text/plain": [
       "<Figure size 432x288 with 1 Axes>"
      ]
     },
     "metadata": {
      "needs_background": "light"
     },
     "output_type": "display_data"
    }
   ],
   "source": [
    "family_debt=data.groupby('family_status').agg({'debt':['count','sum']}) \n",
    "family_percent=(family_debt['debt']['sum']/family_debt['debt']['count']).mul(100).round(2).astype(str).add(' %')\n",
    "print(family_percent) # в результатах указан процент не вернувших кредит, в группах по семейному статусу\n",
    "seaborn.barplot(x='debt', y='family_status', data=data, ci=None)\n",
    "# столбчатая гистограмма, отражающая распределение неплательшиков, сгрупированных по семейному положению."
   ]
  },
  {
   "cell_type": "markdown",
   "id": "1cef7837",
   "metadata": {
    "deletable": false,
    "id": "1cef7837"
   },
   "source": [
    "**Вывод:** Из результатов видно, что самой ненадёжной категорией являются неженатые/незамужние люди, практически такой же процент невозврата кредита в группе гражданский брак. Могу объяснить данное явление, как следствие образа жизни не отягощенного опытом, обязательствами и ответственностью, присущих семейным людям.\n",
    "Интересен, тот факт что группы \"в разводе\", \"вдовец / вдова\", хоть по сути и являются не замужними/женатыми людьми, но процент невозврата показали ниже. Смею предположить, что семейная жизнь наложила отпечаток на таких людей и ответственность им присуща в больщей степени, чем тем кто никогда не состоял в браке.\n",
    "Чуть выше процент невозврата у женатых/замужних. Разницу с группами в которых люди потеряли партнера, могу обьяснить текущими сложностями семейной жизни, повышенными расходами на быт и содержание детей."
   ]
  },
  {
   "cell_type": "markdown",
   "id": "1e8b2fca",
   "metadata": {
    "deletable": false,
    "editable": false,
    "id": "1e8b2fca"
   },
   "source": [
    "**Задание 21. Есть ли зависимость между уровнем дохода и возвратом кредита в срок?**"
   ]
  },
  {
   "cell_type": "code",
   "execution_count": 26,
   "id": "cd7e3720",
   "metadata": {
    "id": "cd7e3720",
    "scrolled": true
   },
   "outputs": [
    {
     "name": "stdout",
     "output_type": "stream",
     "text": [
      "total_income_category\n",
      "A     8.0 %\n",
      "B    7.06 %\n",
      "C     8.5 %\n",
      "D    6.02 %\n",
      "E    9.09 %\n",
      "dtype: object\n",
      "total_income_category    A      B      C     D    E\n",
      "income_type                                        \n",
      "безработный            NaN    0.0    1.0   NaN  NaN\n",
      "в декрете              NaN    NaN    1.0   NaN  NaN\n",
      "госслужащий            NaN   18.0   67.0   1.0  0.0\n",
      "компаньон              2.0  109.0  262.0   1.0  0.0\n",
      "пенсионер              NaN   31.0  176.0   7.0  2.0\n",
      "предприниматель        NaN    0.0    NaN   NaN  NaN\n",
      "сотрудник              0.0  196.0  846.0  12.0  0.0\n",
      "студент                NaN    NaN    0.0   NaN  NaN\n"
     ]
    },
    {
     "data": {
      "text/plain": [
       "<AxesSubplot:xlabel='debt', ylabel='total_income_category'>"
      ]
     },
     "execution_count": 26,
     "metadata": {},
     "output_type": "execute_result"
    },
    {
     "data": {
      "image/png": "[encoded data removed]",
      "text/plain": [
       "<Figure size 432x288 with 1 Axes>"
      ]
     },
     "metadata": {
      "needs_background": "light"
     },
     "output_type": "display_data"
    }
   ],
   "source": [
    "income_cat_debt=data.groupby('total_income_category').agg({'debt':['count','sum']})\n",
    "income_cat_percent=(income_cat_debt['debt']['sum']/income_cat_debt['debt']['count']).mul(100).round(2).astype(str).add(' %')\n",
    "print(income_cat_percent)\n",
    "# проценты невозврата кредита по группам дохода\n",
    "\n",
    "#Меня заинтересовало кто именно в группах дохода портит статистику и не отдаёт кредиты.\n",
    "#Я полагаю, что зная тип занятости неплательщика, можно предположить причины невозврата.\n",
    "#data_pivot сводная таблица с данными о кол-ве и типе занятости неплетельщиков в каждой группе по доходу.\n",
    "data_pivot_debt=data.pivot_table(index=['income_type'],columns='total_income_category',values='debt',aggfunc='sum')\n",
    "print(data_pivot_debt)\n",
    "seaborn.barplot(x='debt', y='total_income_category', data=data, ci=None)\n",
    "# столбчатая гистограмма, отражающая распределение неплательшиков по группам дохода.\n",
    "\n",
    "\n"
   ]
  },
  {
   "cell_type": "markdown",
   "id": "e8593def",
   "metadata": {
    "deletable": false,
    "id": "e8593def"
   },
   "source": [
    "**Вывод:**  Как видно из данных исследования самый большой процент невозврата кредита в группе Е с доходом до 30000. В данной группе кредиты не вернули пенсионеры. Одной из причин такого поведения могла стать финансовая неграмотность и непонимание условий кредитования, либо смерть заёмщика.\n",
    "\n",
    "Следующая по убыванию процента не возврата группа С. В ней неплательщиками в основном стали сотрудники, подозреваю что в доле сотрудников, содержится много неженатых/незамужних людей, которые хуже отдают кредиты, требуется дополнительное исследование для этой гипотезы. Так же в этой группе неплательщиками стали компаньоны- возможно из-за бизнесс рисков, а так же пенсионеры причинами невозврата снова предположу смертность и финансовую неграмотность.\n",
    "\n",
    "В группе В наблюдается схожая тенденция, но интересен момент, что предприниматели отдают кредит вовремя, предположу, что для этой группы лиц с такими доходами для ведения бизнесса критически важна кредитная история и возможность брать кредит при изменениях коньюктуры рынка.\n",
    "\n",
    "В группе C самым высоким доходом неплательщиками стали компаньоны-бизнес риски.\n",
    "\n",
    "Группа с самым низким процентом невозврата D. Люди с заработком от 30000-50000. Могу предположить что к данной группе относятся люди с размеренным бытом и регулярным заработком, отсутствием высоких рисков, присущих компаньонам и предпринимателям, даёт возможность планировать свой бюджет и планово закрывать кредиты.   \n",
    "\n"
   ]
  },
  {
   "cell_type": "markdown",
   "id": "99ecbd1f",
   "metadata": {
    "deletable": false,
    "editable": false,
    "id": "99ecbd1f"
   },
   "source": [
    "**Задание 22. Как разные цели кредита влияют на его возврат в срок?**"
   ]
  },
  {
   "cell_type": "code",
   "execution_count": 27,
   "id": "2b687290",
   "metadata": {
    "id": "2b687290",
    "scrolled": true
   },
   "outputs": [
    {
     "name": "stdout",
     "output_type": "stream",
     "text": [
      "purpose_category\n",
      "операции с автомобилем      9.35 %\n",
      "операции с недвижимостью    7.26 %\n",
      "получение образования       9.25 %\n",
      "проведение свадьбы          7.91 %\n",
      "dtype: object\n"
     ]
    },
    {
     "data": {
      "text/plain": [
       "<AxesSubplot:xlabel='debt', ylabel='purpose_category'>"
      ]
     },
     "execution_count": 27,
     "metadata": {},
     "output_type": "execute_result"
    },
    {
     "data": {
      "image/png": "[encoded data removed]",
      "text/plain": [
       "<Figure size 432x288 with 1 Axes>"
      ]
     },
     "metadata": {
      "needs_background": "light"
     },
     "output_type": "display_data"
    }
   ],
   "source": [
    "import seaborn\n",
    "purpose_cat_debt=data.groupby('purpose_category').agg({'debt':['count','sum']})\n",
    "purpose_cat_percent=(purpose_cat_debt['debt']['sum']/purpose_cat_debt['debt']['count']).mul(100).round(2).astype(str).add(' %')\n",
    "print(purpose_cat_percent) # проценты невозврата кредита по группам цели кредитования.\n",
    "seaborn.barplot(x='debt', y='purpose_category', data=data, ci=None)\n",
    "# столбчатая гистограмма, отражающая распределение неплательшиков по цели кредитования.\n"
   ]
  },
  {
   "cell_type": "markdown",
   "id": "b4bb2ce6",
   "metadata": {
    "deletable": false,
    "id": "b4bb2ce6"
   },
   "source": [
    "**Вывод:** Из результатов исследования можно заключить, что кредиты с целью покупки автомобиля и получения образования имеют повышенный риск невозврата заёмщиками. Предполагаю, что в случае с автокредитованием к такой ситуации приводит массированная реклама \"доступного\" автокредита, в сумме с низкой кредитной грамотностью населения и нестабильной экономичекой обстановкой в стране.\n",
    "Подобные результы невозврата кредитов на образование могу объяснить предположением, что такой тип кредита популярен у людей желающих сменить профессию, либо у молодых людей не попавших на бюджетные места в ВУЗы, совместить работу и учёбу получается не у всех, отсюда фин проблемы и как следствие невозврат средств в банки.\n",
    "Самым низким уровнем невозврата обладают кредиты на операции с недвижимостью, предполагаю, что этому способствует довольно лояльная ипотечная политика государства, возможность реструктуризации кредитных обязательств, наличие возможности оплатить часть кредита материнским капиталом, а так же длительный срок погашения кредита."
   ]
  },
  {
   "cell_type": "markdown",
   "id": "09c3ac4c",
   "metadata": {
    "deletable": false,
    "editable": false,
    "id": "09c3ac4c"
   },
   "source": [
    "**Задание 23. Приведите возможные причины появления пропусков в исходных данных.**"
   ]
  },
  {
   "cell_type": "markdown",
   "id": "1d279b8d",
   "metadata": {
    "deletable": false,
    "id": "9da2ceda"
   },
   "source": [
    "*Ответ:* Я заметил тот факт, что количество пропусков в двух стобцах days_employed и total_income равно. Сперва была гипотеза, что это человеческий фактор и люди не помнят свой рабочий стаж, без запроса в отдел кадров, следовательно те же люди не должны были помнить и свой доход, что весьма сомнительно, либо скрыть эту информацию, что тоже подозрительно для банковских данных. Я предполагаю, что есть факт утери данных из-за технических причин."
   ]
  },
  {
   "cell_type": "markdown",
   "id": "7b0487d6",
   "metadata": {
    "deletable": false,
    "editable": false,
    "id": "7b0487d6"
   },
   "source": [
    "**Задание 24. Объясните, почему заполнить пропуски медианным значением — лучшее решение для количественных переменных.**"
   ]
  },
  {
   "cell_type": "markdown",
   "id": "7ecf2b8e",
   "metadata": {
    "deletable": false,
    "id": "7ecf2b8e"
   },
   "source": [
    "*Ответ:* Медиана лучше подходит для выборок значений с выбросами, в нашем случае в столбце total_income минимальное и максимальное значение отличается в 107 раз, это указывает на ненормальное распределение значений. Проверить эту гипотезу можно тестом Колмогорова-Смирнова(к сожалению не хватило опыта написать код). Но самое интересное, что даже в случае если распределние значений было бы нормальным, значения медианы и среднего арифмитического были бы равны, что говорит в пользу использования медианы. Медианное значение 142594, средне арифметическое 165318."
   ]
  },
  {
   "cell_type": "markdown",
   "id": "6db5255a",
   "metadata": {
    "deletable": false,
    "editable": false,
    "id": "6db5255a"
   },
   "source": [
    "## Общий вывод."
   ]
  },
  {
   "cell_type": "markdown",
   "id": "bad65432",
   "metadata": {
    "id": "bad65432"
   },
   "source": [
    "При исследовании датафрейма(источник:'https://code.s3.yandex.net/datasets/data.csv') были выявлены следующие факты:\n",
    "1) В столбце 'days_employed': значения указаны со знаком минус. Так же в этом столбце есть некорректные данные, а именно указан трудовой стаж более 1000лет. Так как данный столбец не является критически важным для исследования, работа с аномалиями не проводилась. \n",
    "\n",
    "2) Найдено одинаковое количество пропусков в столбцах 'days_employed' и 'total_income', что говорит о технических причинах появления данных пропусков. Пропуски в 'total_income' заменены медианным значением заработка по виду занятости заёмщиков.\n",
    "\n",
    "3) В столбцt 'children' найдены аномальные значения -1;20. Доля аномальных значений 0,2% и 0,4% соответственно. Строки с артефактами удалены.\n",
    "\n",
    "4) В стобце 'gender' найдено аномальное значение 'XNA' в единственном экземпляре, строку с этим значением оставил в датасете, так как нет никакого влияния на исследование.\n",
    "\n",
    "Мои рекомендации по скоррингу заёмщиков.\n",
    "\n",
    "Более высокую оценку(чем выше оценка, тем больше вероятность одобрения кредита) при ранжировании заёмщиков стоит присваивать бездетным людям, но при этом имевшим в прошлом и в настоящем опыт брачных отношений, уровень дохода которых выше 30000, берущих кредиты на свадьбы и манипуляции с недвижимостью. Среднюю оценку ставить людям имеющим 1до3 детей, состоящим в  гражданском браке или в официальных отношениях, уровень дохода которых от 50000, берущих кредиты на любые цели. И низкую оценку для людей с большим кол-ом детей более 3, заработком менее 30000р, а так же для неженатых/незамужних людей, берущих автокредиты и кредиты на образование.\n",
    "Считаю, что особого внимания заслуживают такие категории граждан как пенсионеры, женщины в декрете, сотрудники предприятий и компаньоны в бизнесс проектах так как у граждан с таким типом занятости больше всего фактов неоплаты кредита.\n"
   ]
  }
 ],
 "metadata": {
  "ExecuteTimeLog": [
   {
    "duration": 656,
    "start_time": "2022-06-16T08:57:07.040Z"
   },
   {
    "duration": 31,
    "start_time": "2022-06-16T08:57:07.699Z"
   },
   {
    "duration": 17,
    "start_time": "2022-06-16T08:57:07.732Z"
   },
   {
    "duration": 12,
    "start_time": "2022-06-16T08:57:07.751Z"
   },
   {
    "duration": 66,
    "start_time": "2022-06-16T08:57:07.765Z"
   },
   {
    "duration": 5,
    "start_time": "2022-06-16T08:57:07.833Z"
   },
   {
    "duration": 24,
    "start_time": "2022-06-16T08:57:07.840Z"
   },
   {
    "duration": 5,
    "start_time": "2022-06-16T08:57:07.866Z"
   },
   {
    "duration": 21,
    "start_time": "2022-06-16T08:57:07.873Z"
   },
   {
    "duration": 5,
    "start_time": "2022-06-16T08:57:07.897Z"
   },
   {
    "duration": 40,
    "start_time": "2022-06-16T08:57:07.903Z"
   },
   {
    "duration": 12,
    "start_time": "2022-06-16T08:57:07.945Z"
   },
   {
    "duration": 8,
    "start_time": "2022-06-16T08:57:07.959Z"
   },
   {
    "duration": 49,
    "start_time": "2022-06-16T08:57:07.969Z"
   },
   {
    "duration": 19,
    "start_time": "2022-06-16T08:57:08.020Z"
   },
   {
    "duration": 16,
    "start_time": "2022-06-16T08:57:08.042Z"
   },
   {
    "duration": 4,
    "start_time": "2022-06-16T08:57:08.060Z"
   },
   {
    "duration": 29,
    "start_time": "2022-06-16T08:57:08.066Z"
   },
   {
    "duration": 13,
    "start_time": "2022-06-16T08:57:08.096Z"
   },
   {
    "duration": 5,
    "start_time": "2022-06-16T08:57:08.111Z"
   },
   {
    "duration": 13,
    "start_time": "2022-06-16T08:57:08.119Z"
   },
   {
    "duration": 3,
    "start_time": "2022-06-16T08:57:08.133Z"
   },
   {
    "duration": 5,
    "start_time": "2022-06-16T08:57:08.138Z"
   },
   {
    "duration": 8,
    "start_time": "2022-06-16T08:57:08.145Z"
   },
   {
    "duration": 13,
    "start_time": "2022-06-16T08:57:08.155Z"
   },
   {
    "duration": 65,
    "start_time": "2022-06-16T09:06:01.009Z"
   },
   {
    "duration": 7,
    "start_time": "2022-06-16T09:06:06.314Z"
   },
   {
    "duration": 41,
    "start_time": "2022-06-16T09:06:31.134Z"
   },
   {
    "duration": 12,
    "start_time": "2022-06-16T09:10:03.626Z"
   },
   {
    "duration": 7,
    "start_time": "2022-06-16T09:14:13.044Z"
   },
   {
    "duration": 6,
    "start_time": "2022-06-16T09:14:18.345Z"
   },
   {
    "duration": 15,
    "start_time": "2022-06-16T09:15:16.444Z"
   },
   {
    "duration": 9,
    "start_time": "2022-06-16T09:22:09.093Z"
   },
   {
    "duration": 14,
    "start_time": "2022-06-16T09:22:19.071Z"
   },
   {
    "duration": 13,
    "start_time": "2022-06-16T09:22:34.208Z"
   },
   {
    "duration": 16,
    "start_time": "2022-06-16T09:22:52.083Z"
   },
   {
    "duration": 9,
    "start_time": "2022-06-16T09:24:01.021Z"
   },
   {
    "duration": 53,
    "start_time": "2022-06-16T09:25:45.008Z"
   },
   {
    "duration": 25,
    "start_time": "2022-06-16T09:27:15.246Z"
   },
   {
    "duration": 11,
    "start_time": "2022-06-16T09:27:22.824Z"
   },
   {
    "duration": 23,
    "start_time": "2022-06-16T09:31:51.189Z"
   },
   {
    "duration": 8,
    "start_time": "2022-06-16T09:32:32.049Z"
   },
   {
    "duration": 6,
    "start_time": "2022-06-16T09:32:34.710Z"
   },
   {
    "duration": 8,
    "start_time": "2022-06-16T09:32:45.259Z"
   },
   {
    "duration": 9,
    "start_time": "2022-06-16T09:42:05.517Z"
   },
   {
    "duration": 8,
    "start_time": "2022-06-16T09:46:20.496Z"
   },
   {
    "duration": 9,
    "start_time": "2022-06-16T09:53:30.896Z"
   },
   {
    "duration": 11,
    "start_time": "2022-06-16T09:55:33.040Z"
   },
   {
    "duration": 8,
    "start_time": "2022-06-16T10:11:37.586Z"
   },
   {
    "duration": 7,
    "start_time": "2022-06-16T10:11:42.222Z"
   },
   {
    "duration": 12,
    "start_time": "2022-06-16T10:31:29.368Z"
   },
   {
    "duration": 9,
    "start_time": "2022-06-16T10:32:04.690Z"
   },
   {
    "duration": 13,
    "start_time": "2022-06-16T10:32:28.271Z"
   },
   {
    "duration": 12,
    "start_time": "2022-06-16T10:32:38.770Z"
   },
   {
    "duration": 15,
    "start_time": "2022-06-16T10:33:11.990Z"
   },
   {
    "duration": 20,
    "start_time": "2022-06-16T10:33:27.168Z"
   },
   {
    "duration": 14,
    "start_time": "2022-06-16T10:33:35.662Z"
   },
   {
    "duration": 10,
    "start_time": "2022-06-16T10:33:48.811Z"
   },
   {
    "duration": 11,
    "start_time": "2022-06-16T10:33:56.312Z"
   },
   {
    "duration": 13,
    "start_time": "2022-06-16T10:34:01.052Z"
   },
   {
    "duration": 14,
    "start_time": "2022-06-16T10:34:08.992Z"
   },
   {
    "duration": 7,
    "start_time": "2022-06-16T10:36:15.510Z"
   },
   {
    "duration": 6,
    "start_time": "2022-06-16T10:37:07.117Z"
   },
   {
    "duration": 9,
    "start_time": "2022-06-16T10:37:47.307Z"
   },
   {
    "duration": 11,
    "start_time": "2022-06-16T10:56:47.747Z"
   },
   {
    "duration": 31,
    "start_time": "2022-06-16T10:59:39.058Z"
   },
   {
    "duration": 9,
    "start_time": "2022-06-16T11:02:30.030Z"
   },
   {
    "duration": 10,
    "start_time": "2022-06-16T11:03:51.624Z"
   },
   {
    "duration": 7,
    "start_time": "2022-06-16T11:05:33.955Z"
   },
   {
    "duration": 15,
    "start_time": "2022-06-16T11:20:16.485Z"
   },
   {
    "duration": 7,
    "start_time": "2022-06-16T11:20:23.394Z"
   },
   {
    "duration": 5,
    "start_time": "2022-06-16T11:21:37.407Z"
   },
   {
    "duration": 5,
    "start_time": "2022-06-16T11:23:59.735Z"
   },
   {
    "duration": 3,
    "start_time": "2022-06-16T11:24:19.526Z"
   },
   {
    "duration": 22,
    "start_time": "2022-06-16T11:24:32.167Z"
   },
   {
    "duration": 35,
    "start_time": "2022-06-16T11:26:27.083Z"
   },
   {
    "duration": 41,
    "start_time": "2022-06-16T11:26:31.592Z"
   },
   {
    "duration": 5,
    "start_time": "2022-06-16T11:26:35.312Z"
   },
   {
    "duration": 6,
    "start_time": "2022-06-16T11:26:52.594Z"
   },
   {
    "duration": 8,
    "start_time": "2022-06-16T11:27:28.217Z"
   },
   {
    "duration": 31,
    "start_time": "2022-06-16T11:27:31.915Z"
   },
   {
    "duration": 6,
    "start_time": "2022-06-16T11:27:51.508Z"
   },
   {
    "duration": 21,
    "start_time": "2022-06-16T11:32:39.717Z"
   },
   {
    "duration": 23,
    "start_time": "2022-06-16T11:34:40.573Z"
   },
   {
    "duration": 4,
    "start_time": "2022-06-16T11:34:52.020Z"
   },
   {
    "duration": 23,
    "start_time": "2022-06-16T11:34:59.711Z"
   },
   {
    "duration": 30,
    "start_time": "2022-06-16T11:35:44.551Z"
   },
   {
    "duration": 35,
    "start_time": "2022-06-16T11:36:50.686Z"
   },
   {
    "duration": 372,
    "start_time": "2022-06-16T11:37:11.260Z"
   },
   {
    "duration": 16,
    "start_time": "2022-06-16T11:37:26.315Z"
   },
   {
    "duration": 13,
    "start_time": "2022-06-16T11:37:38.155Z"
   },
   {
    "duration": 23,
    "start_time": "2022-06-16T11:40:36.592Z"
   },
   {
    "duration": 74,
    "start_time": "2022-06-16T11:41:08.371Z"
   },
   {
    "duration": 13,
    "start_time": "2022-06-16T11:49:45.961Z"
   },
   {
    "duration": 27,
    "start_time": "2022-06-16T11:50:16.951Z"
   },
   {
    "duration": 25,
    "start_time": "2022-06-16T11:50:48.414Z"
   },
   {
    "duration": 30,
    "start_time": "2022-06-16T11:51:28.018Z"
   },
   {
    "duration": 15,
    "start_time": "2022-06-16T11:52:06.654Z"
   },
   {
    "duration": 36,
    "start_time": "2022-06-16T11:52:58.697Z"
   },
   {
    "duration": 18,
    "start_time": "2022-06-16T11:55:16.673Z"
   },
   {
    "duration": 30,
    "start_time": "2022-06-16T11:58:36.812Z"
   },
   {
    "duration": 27,
    "start_time": "2022-06-16T11:59:12.265Z"
   },
   {
    "duration": 28,
    "start_time": "2022-06-16T11:59:28.569Z"
   },
   {
    "duration": 18,
    "start_time": "2022-06-16T12:00:26.632Z"
   },
   {
    "duration": 11,
    "start_time": "2022-06-16T12:01:07.267Z"
   },
   {
    "duration": 7,
    "start_time": "2022-06-16T12:01:37.665Z"
   },
   {
    "duration": 10,
    "start_time": "2022-06-16T12:01:52.176Z"
   },
   {
    "duration": 8,
    "start_time": "2022-06-16T12:02:46.551Z"
   },
   {
    "duration": 17,
    "start_time": "2022-06-16T12:05:17.811Z"
   },
   {
    "duration": 12,
    "start_time": "2022-06-16T12:08:03.581Z"
   },
   {
    "duration": 327,
    "start_time": "2022-06-16T12:09:35.259Z"
   },
   {
    "duration": 24,
    "start_time": "2022-06-16T12:09:48.737Z"
   },
   {
    "duration": 12,
    "start_time": "2022-06-16T12:10:02.028Z"
   },
   {
    "duration": 33,
    "start_time": "2022-06-16T12:10:18.977Z"
   },
   {
    "duration": 15,
    "start_time": "2022-06-16T12:10:46.825Z"
   },
   {
    "duration": 20,
    "start_time": "2022-06-16T12:10:54.721Z"
   },
   {
    "duration": 8,
    "start_time": "2022-06-16T12:13:13.985Z"
   },
   {
    "duration": 12,
    "start_time": "2022-06-16T12:13:24.346Z"
   },
   {
    "duration": 9,
    "start_time": "2022-06-16T12:13:27.031Z"
   },
   {
    "duration": 8,
    "start_time": "2022-06-16T12:13:52.884Z"
   },
   {
    "duration": 15,
    "start_time": "2022-06-16T12:14:12.391Z"
   },
   {
    "duration": 13,
    "start_time": "2022-06-16T12:14:37.742Z"
   },
   {
    "duration": 13,
    "start_time": "2022-06-16T12:14:50.011Z"
   },
   {
    "duration": 49,
    "start_time": "2022-06-16T12:15:50.088Z"
   },
   {
    "duration": 10,
    "start_time": "2022-06-16T12:16:09.754Z"
   },
   {
    "duration": 37,
    "start_time": "2022-06-16T12:16:14.526Z"
   },
   {
    "duration": 385,
    "start_time": "2022-06-16T12:16:56.484Z"
   },
   {
    "duration": 31,
    "start_time": "2022-06-16T12:17:36.965Z"
   },
   {
    "duration": 40,
    "start_time": "2022-06-16T12:18:37.412Z"
   },
   {
    "duration": 12,
    "start_time": "2022-06-16T12:18:54.882Z"
   },
   {
    "duration": 38,
    "start_time": "2022-06-16T12:19:20.782Z"
   },
   {
    "duration": 14,
    "start_time": "2022-06-16T12:19:35.523Z"
   },
   {
    "duration": 26,
    "start_time": "2022-06-16T12:19:52.746Z"
   },
   {
    "duration": 16,
    "start_time": "2022-06-16T12:20:05.913Z"
   },
   {
    "duration": 10,
    "start_time": "2022-06-16T12:21:19.817Z"
   },
   {
    "duration": 13,
    "start_time": "2022-06-16T12:22:00.503Z"
   },
   {
    "duration": 14,
    "start_time": "2022-06-16T12:22:14.520Z"
   },
   {
    "duration": 13,
    "start_time": "2022-06-16T12:22:50.045Z"
   },
   {
    "duration": 14,
    "start_time": "2022-06-16T12:22:55.941Z"
   },
   {
    "duration": 12,
    "start_time": "2022-06-16T12:23:10.719Z"
   },
   {
    "duration": 15,
    "start_time": "2022-06-16T12:23:43.008Z"
   },
   {
    "duration": 39,
    "start_time": "2022-06-16T12:24:08.102Z"
   },
   {
    "duration": 8,
    "start_time": "2022-06-16T12:24:48.745Z"
   },
   {
    "duration": 13,
    "start_time": "2022-06-16T12:25:04.609Z"
   },
   {
    "duration": 24,
    "start_time": "2022-06-16T12:25:10.549Z"
   },
   {
    "duration": 28,
    "start_time": "2022-06-16T12:25:55.916Z"
   },
   {
    "duration": 16,
    "start_time": "2022-06-16T12:26:12.709Z"
   },
   {
    "duration": 11,
    "start_time": "2022-06-16T12:26:23.408Z"
   },
   {
    "duration": 11,
    "start_time": "2022-06-16T12:26:32.137Z"
   },
   {
    "duration": 15,
    "start_time": "2022-06-16T12:26:39.507Z"
   },
   {
    "duration": 11,
    "start_time": "2022-06-16T12:26:45.012Z"
   },
   {
    "duration": 12,
    "start_time": "2022-06-16T12:27:26.673Z"
   },
   {
    "duration": 23,
    "start_time": "2022-06-16T12:29:15.081Z"
   },
   {
    "duration": 11,
    "start_time": "2022-06-16T12:33:01.292Z"
   },
   {
    "duration": 14,
    "start_time": "2022-06-16T12:34:18.427Z"
   },
   {
    "duration": 10,
    "start_time": "2022-06-16T12:35:20.630Z"
   },
   {
    "duration": 9,
    "start_time": "2022-06-16T12:35:32.469Z"
   },
   {
    "duration": 7,
    "start_time": "2022-06-16T12:35:54.656Z"
   },
   {
    "duration": 10,
    "start_time": "2022-06-16T12:36:20.309Z"
   },
   {
    "duration": 12,
    "start_time": "2022-06-16T12:36:25.155Z"
   },
   {
    "duration": 9,
    "start_time": "2022-06-16T12:36:34.320Z"
   },
   {
    "duration": 11,
    "start_time": "2022-06-16T12:36:42.468Z"
   },
   {
    "duration": 13,
    "start_time": "2022-06-16T12:38:24.921Z"
   },
   {
    "duration": 18,
    "start_time": "2022-06-16T12:40:25.817Z"
   },
   {
    "duration": 15,
    "start_time": "2022-06-16T12:40:35.274Z"
   },
   {
    "duration": 15,
    "start_time": "2022-06-16T12:41:24.909Z"
   },
   {
    "duration": 9,
    "start_time": "2022-06-16T12:42:06.159Z"
   },
   {
    "duration": 14,
    "start_time": "2022-06-16T12:50:50.295Z"
   },
   {
    "duration": 14,
    "start_time": "2022-06-16T12:51:35.213Z"
   },
   {
    "duration": 12,
    "start_time": "2022-06-16T12:52:11.053Z"
   },
   {
    "duration": 4,
    "start_time": "2022-06-16T12:53:51.192Z"
   },
   {
    "duration": 3,
    "start_time": "2022-06-16T12:56:58.862Z"
   },
   {
    "duration": 16,
    "start_time": "2022-06-16T12:59:10.039Z"
   },
   {
    "duration": 26,
    "start_time": "2022-06-16T12:59:40.688Z"
   },
   {
    "duration": 18,
    "start_time": "2022-06-16T12:59:51.736Z"
   },
   {
    "duration": 26,
    "start_time": "2022-06-16T13:00:07.292Z"
   },
   {
    "duration": 15,
    "start_time": "2022-06-16T13:00:15.258Z"
   },
   {
    "duration": 15,
    "start_time": "2022-06-16T13:01:54.436Z"
   },
   {
    "duration": 21,
    "start_time": "2022-06-16T13:02:13.216Z"
   },
   {
    "duration": 14,
    "start_time": "2022-06-16T13:05:49.305Z"
   },
   {
    "duration": 15,
    "start_time": "2022-06-16T13:17:17.006Z"
   },
   {
    "duration": 16,
    "start_time": "2022-06-16T13:18:29.696Z"
   },
   {
    "duration": 27,
    "start_time": "2022-06-16T13:18:36.139Z"
   },
   {
    "duration": 17,
    "start_time": "2022-06-16T13:19:18.398Z"
   },
   {
    "duration": 10,
    "start_time": "2022-06-16T13:20:38.796Z"
   },
   {
    "duration": 10,
    "start_time": "2022-06-16T13:20:56.439Z"
   },
   {
    "duration": 23,
    "start_time": "2022-06-16T13:21:21.758Z"
   },
   {
    "duration": 18,
    "start_time": "2022-06-16T13:22:38.648Z"
   },
   {
    "duration": 14,
    "start_time": "2022-06-16T13:36:51.119Z"
   },
   {
    "duration": 18,
    "start_time": "2022-06-16T13:39:16.622Z"
   },
   {
    "duration": 20,
    "start_time": "2022-06-16T13:39:35.789Z"
   },
   {
    "duration": 715,
    "start_time": "2022-06-17T07:31:27.164Z"
   },
   {
    "duration": 22,
    "start_time": "2022-06-17T07:31:27.881Z"
   },
   {
    "duration": 19,
    "start_time": "2022-06-17T07:31:27.904Z"
   },
   {
    "duration": 9,
    "start_time": "2022-06-17T07:31:27.925Z"
   },
   {
    "duration": 34,
    "start_time": "2022-06-17T07:31:27.936Z"
   },
   {
    "duration": 4,
    "start_time": "2022-06-17T07:31:27.972Z"
   },
   {
    "duration": 7,
    "start_time": "2022-06-17T07:31:27.994Z"
   },
   {
    "duration": 4,
    "start_time": "2022-06-17T07:31:28.003Z"
   },
   {
    "duration": 9,
    "start_time": "2022-06-17T07:31:28.009Z"
   },
   {
    "duration": 8,
    "start_time": "2022-06-17T07:31:28.019Z"
   },
   {
    "duration": 40,
    "start_time": "2022-06-17T07:31:28.029Z"
   },
   {
    "duration": 12,
    "start_time": "2022-06-17T07:31:28.093Z"
   },
   {
    "duration": 5,
    "start_time": "2022-06-17T07:31:28.106Z"
   },
   {
    "duration": 20,
    "start_time": "2022-06-17T07:31:28.113Z"
   },
   {
    "duration": 16,
    "start_time": "2022-06-17T07:31:28.134Z"
   },
   {
    "duration": 11,
    "start_time": "2022-06-17T07:31:28.153Z"
   },
   {
    "duration": 33,
    "start_time": "2022-06-17T07:31:28.166Z"
   },
   {
    "duration": 12,
    "start_time": "2022-06-17T07:31:28.201Z"
   },
   {
    "duration": 7,
    "start_time": "2022-06-17T07:31:28.215Z"
   },
   {
    "duration": 5,
    "start_time": "2022-06-17T07:31:28.223Z"
   },
   {
    "duration": 38,
    "start_time": "2022-06-17T07:31:28.229Z"
   },
   {
    "duration": 21,
    "start_time": "2022-06-17T07:31:28.269Z"
   },
   {
    "duration": 8,
    "start_time": "2022-06-17T07:31:28.292Z"
   },
   {
    "duration": 17,
    "start_time": "2022-06-17T07:31:28.303Z"
   },
   {
    "duration": 94,
    "start_time": "2022-06-17T07:31:28.322Z"
   },
   {
    "duration": 0,
    "start_time": "2022-06-17T07:31:28.417Z"
   },
   {
    "duration": 22,
    "start_time": "2022-06-17T07:32:00.996Z"
   },
   {
    "duration": 28,
    "start_time": "2022-06-17T07:46:31.812Z"
   },
   {
    "duration": 26,
    "start_time": "2022-06-17T07:46:55.748Z"
   },
   {
    "duration": 30,
    "start_time": "2022-06-17T07:47:02.569Z"
   },
   {
    "duration": 24,
    "start_time": "2022-06-17T07:47:42.999Z"
   },
   {
    "duration": 24,
    "start_time": "2022-06-17T07:48:18.089Z"
   },
   {
    "duration": 24,
    "start_time": "2022-06-17T07:49:12.812Z"
   },
   {
    "duration": 14,
    "start_time": "2022-06-17T07:49:28.189Z"
   },
   {
    "duration": 21,
    "start_time": "2022-06-17T07:50:06.156Z"
   },
   {
    "duration": 35,
    "start_time": "2022-06-17T07:52:10.061Z"
   },
   {
    "duration": 34,
    "start_time": "2022-06-17T07:55:02.470Z"
   },
   {
    "duration": 22,
    "start_time": "2022-06-17T07:57:26.752Z"
   },
   {
    "duration": 25,
    "start_time": "2022-06-17T07:59:39.487Z"
   },
   {
    "duration": 25,
    "start_time": "2022-06-17T08:00:01.648Z"
   },
   {
    "duration": 28,
    "start_time": "2022-06-17T08:00:34.817Z"
   },
   {
    "duration": 23,
    "start_time": "2022-06-17T08:00:40.328Z"
   },
   {
    "duration": 24,
    "start_time": "2022-06-17T08:01:12.487Z"
   },
   {
    "duration": 39,
    "start_time": "2022-06-17T08:02:49.288Z"
   },
   {
    "duration": 28,
    "start_time": "2022-06-17T08:03:39.335Z"
   },
   {
    "duration": 22,
    "start_time": "2022-06-17T08:05:34.925Z"
   },
   {
    "duration": 35,
    "start_time": "2022-06-17T08:42:29.547Z"
   },
   {
    "duration": 36,
    "start_time": "2022-06-17T08:42:49.687Z"
   },
   {
    "duration": 32,
    "start_time": "2022-06-17T08:43:19.229Z"
   },
   {
    "duration": 12,
    "start_time": "2022-06-17T08:49:28.237Z"
   },
   {
    "duration": 23,
    "start_time": "2022-06-17T08:49:37.988Z"
   },
   {
    "duration": 14,
    "start_time": "2022-06-17T08:51:44.445Z"
   },
   {
    "duration": 20,
    "start_time": "2022-06-17T08:55:30.351Z"
   },
   {
    "duration": 13,
    "start_time": "2022-06-17T08:56:24.369Z"
   },
   {
    "duration": 36,
    "start_time": "2022-06-17T08:57:00.299Z"
   },
   {
    "duration": 35,
    "start_time": "2022-06-17T08:57:35.718Z"
   },
   {
    "duration": 14,
    "start_time": "2022-06-17T08:58:01.722Z"
   },
   {
    "duration": 13,
    "start_time": "2022-06-17T08:58:07.736Z"
   },
   {
    "duration": 12,
    "start_time": "2022-06-17T08:58:35.609Z"
   },
   {
    "duration": 24,
    "start_time": "2022-06-17T08:58:48.183Z"
   },
   {
    "duration": 14,
    "start_time": "2022-06-17T08:59:09.374Z"
   },
   {
    "duration": 32,
    "start_time": "2022-06-17T08:59:21.948Z"
   },
   {
    "duration": 12,
    "start_time": "2022-06-17T09:00:52.899Z"
   },
   {
    "duration": 13,
    "start_time": "2022-06-17T09:01:22.357Z"
   },
   {
    "duration": 12,
    "start_time": "2022-06-17T09:33:25.021Z"
   },
   {
    "duration": 11,
    "start_time": "2022-06-17T09:33:39.836Z"
   },
   {
    "duration": 32,
    "start_time": "2022-06-17T09:34:00.670Z"
   },
   {
    "duration": 31,
    "start_time": "2022-06-17T09:34:22.246Z"
   },
   {
    "duration": 12,
    "start_time": "2022-06-17T09:34:45.008Z"
   },
   {
    "duration": 10,
    "start_time": "2022-06-17T09:34:59.721Z"
   },
   {
    "duration": 13,
    "start_time": "2022-06-17T09:35:48.106Z"
   },
   {
    "duration": 35,
    "start_time": "2022-06-17T09:45:27.706Z"
   },
   {
    "duration": 1048,
    "start_time": "2022-06-17T09:45:34.943Z"
   },
   {
    "duration": 26,
    "start_time": "2022-06-17T09:46:10.479Z"
   },
   {
    "duration": 13,
    "start_time": "2022-06-17T10:00:10.864Z"
   },
   {
    "duration": 737,
    "start_time": "2022-06-20T03:34:32.618Z"
   },
   {
    "duration": 24,
    "start_time": "2022-06-20T03:34:33.357Z"
   },
   {
    "duration": 16,
    "start_time": "2022-06-20T03:34:33.383Z"
   },
   {
    "duration": 25,
    "start_time": "2022-06-20T03:34:33.402Z"
   },
   {
    "duration": 35,
    "start_time": "2022-06-20T03:34:33.429Z"
   },
   {
    "duration": 4,
    "start_time": "2022-06-20T03:34:33.466Z"
   },
   {
    "duration": 14,
    "start_time": "2022-06-20T03:34:33.471Z"
   },
   {
    "duration": 5,
    "start_time": "2022-06-20T03:34:33.487Z"
   },
   {
    "duration": 9,
    "start_time": "2022-06-20T03:34:33.527Z"
   },
   {
    "duration": 6,
    "start_time": "2022-06-20T03:34:33.540Z"
   },
   {
    "duration": 58,
    "start_time": "2022-06-20T03:34:33.547Z"
   },
   {
    "duration": 36,
    "start_time": "2022-06-20T03:34:33.607Z"
   },
   {
    "duration": 30,
    "start_time": "2022-06-20T03:34:33.645Z"
   },
   {
    "duration": 47,
    "start_time": "2022-06-20T03:34:33.677Z"
   },
   {
    "duration": 24,
    "start_time": "2022-06-20T03:34:33.726Z"
   },
   {
    "duration": 12,
    "start_time": "2022-06-20T03:34:33.752Z"
   },
   {
    "duration": 7,
    "start_time": "2022-06-20T03:34:33.766Z"
   },
   {
    "duration": 15,
    "start_time": "2022-06-20T03:34:33.775Z"
   },
   {
    "duration": 13,
    "start_time": "2022-06-20T03:34:33.793Z"
   },
   {
    "duration": 5,
    "start_time": "2022-06-20T03:34:33.825Z"
   },
   {
    "duration": 13,
    "start_time": "2022-06-20T03:34:33.833Z"
   },
   {
    "duration": 14,
    "start_time": "2022-06-20T03:34:33.848Z"
   },
   {
    "duration": 27,
    "start_time": "2022-06-20T03:34:33.865Z"
   },
   {
    "duration": 39,
    "start_time": "2022-06-20T03:34:33.893Z"
   },
   {
    "duration": 35,
    "start_time": "2022-06-20T03:34:33.934Z"
   },
   {
    "duration": 1134,
    "start_time": "2022-06-20T03:34:33.971Z"
   },
   {
    "duration": 115,
    "start_time": "2022-06-20T03:34:57.075Z"
   },
   {
    "duration": 13,
    "start_time": "2022-06-20T03:35:15.009Z"
   },
   {
    "duration": 46,
    "start_time": "2022-06-20T03:38:48.194Z"
   },
   {
    "duration": 54,
    "start_time": "2022-06-20T03:39:08.970Z"
   },
   {
    "duration": 13,
    "start_time": "2022-06-20T03:45:48.167Z"
   },
   {
    "duration": 762,
    "start_time": "2022-06-20T03:46:03.468Z"
   },
   {
    "duration": 11,
    "start_time": "2022-06-20T03:46:21.681Z"
   },
   {
    "duration": 26,
    "start_time": "2022-06-20T03:46:48.900Z"
   },
   {
    "duration": 35,
    "start_time": "2022-06-20T03:47:22.418Z"
   },
   {
    "duration": 21,
    "start_time": "2022-06-20T03:47:44.405Z"
   },
   {
    "duration": 16,
    "start_time": "2022-06-20T03:48:06.309Z"
   },
   {
    "duration": 18,
    "start_time": "2022-06-20T03:48:17.073Z"
   },
   {
    "duration": 12,
    "start_time": "2022-06-20T03:48:27.134Z"
   },
   {
    "duration": 13,
    "start_time": "2022-06-20T03:48:37.908Z"
   },
   {
    "duration": 26,
    "start_time": "2022-06-20T03:49:07.265Z"
   },
   {
    "duration": 363,
    "start_time": "2022-06-20T03:52:37.960Z"
   },
   {
    "duration": 352,
    "start_time": "2022-06-20T03:53:14.099Z"
   },
   {
    "duration": 323,
    "start_time": "2022-06-20T03:58:08.352Z"
   },
   {
    "duration": 330,
    "start_time": "2022-06-20T03:58:13.891Z"
   },
   {
    "duration": 136,
    "start_time": "2022-06-20T03:58:43.888Z"
   },
   {
    "duration": 204,
    "start_time": "2022-06-20T04:00:37.843Z"
   },
   {
    "duration": 141,
    "start_time": "2022-06-20T04:00:47.520Z"
   },
   {
    "duration": 41,
    "start_time": "2022-06-20T04:01:04.557Z"
   },
   {
    "duration": 42,
    "start_time": "2022-06-20T04:01:10.611Z"
   },
   {
    "duration": 31,
    "start_time": "2022-06-20T04:02:57.794Z"
   },
   {
    "duration": 39,
    "start_time": "2022-06-20T04:03:07.024Z"
   },
   {
    "duration": 225,
    "start_time": "2022-06-20T04:03:30.617Z"
   },
   {
    "duration": 30,
    "start_time": "2022-06-20T04:03:51.912Z"
   },
   {
    "duration": 12,
    "start_time": "2022-06-20T04:04:12.012Z"
   },
   {
    "duration": 33,
    "start_time": "2022-06-20T04:06:14.484Z"
   },
   {
    "duration": 928,
    "start_time": "2022-06-20T04:06:29.947Z"
   },
   {
    "duration": 904,
    "start_time": "2022-06-20T04:07:30.366Z"
   },
   {
    "duration": 34,
    "start_time": "2022-06-20T04:08:07.767Z"
   },
   {
    "duration": 287,
    "start_time": "2022-06-20T04:08:41.626Z"
   },
   {
    "duration": 384,
    "start_time": "2022-06-20T04:09:00.513Z"
   },
   {
    "duration": 131,
    "start_time": "2022-06-20T04:09:32.344Z"
   },
   {
    "duration": 29,
    "start_time": "2022-06-20T04:12:52.926Z"
   },
   {
    "duration": 117,
    "start_time": "2022-06-20T04:13:10.149Z"
   },
   {
    "duration": 141,
    "start_time": "2022-06-20T04:14:11.761Z"
   },
   {
    "duration": 147,
    "start_time": "2022-06-20T04:14:28.821Z"
   },
   {
    "duration": 164,
    "start_time": "2022-06-20T04:15:15.850Z"
   },
   {
    "duration": 166,
    "start_time": "2022-06-20T04:15:37.774Z"
   },
   {
    "duration": 230,
    "start_time": "2022-06-20T04:16:23.859Z"
   },
   {
    "duration": 128,
    "start_time": "2022-06-20T04:16:32.343Z"
   },
   {
    "duration": 145,
    "start_time": "2022-06-20T04:16:57.915Z"
   },
   {
    "duration": 52,
    "start_time": "2022-06-20T04:17:44.582Z"
   },
   {
    "duration": 308,
    "start_time": "2022-06-20T04:17:51.873Z"
   },
   {
    "duration": 141,
    "start_time": "2022-06-20T04:18:10.612Z"
   },
   {
    "duration": 142,
    "start_time": "2022-06-20T04:18:25.174Z"
   },
   {
    "duration": 32,
    "start_time": "2022-06-20T04:19:06.958Z"
   },
   {
    "duration": 135,
    "start_time": "2022-06-20T04:24:18.682Z"
   },
   {
    "duration": 29,
    "start_time": "2022-06-20T04:25:00.089Z"
   },
   {
    "duration": 141,
    "start_time": "2022-06-20T04:25:03.666Z"
   },
   {
    "duration": 7,
    "start_time": "2022-06-20T05:15:45.089Z"
   },
   {
    "duration": 5,
    "start_time": "2022-06-20T05:16:00.355Z"
   },
   {
    "duration": 5,
    "start_time": "2022-06-20T05:16:03.942Z"
   },
   {
    "duration": 7,
    "start_time": "2022-06-20T05:16:55.910Z"
   },
   {
    "duration": 6,
    "start_time": "2022-06-20T05:17:19.390Z"
   },
   {
    "duration": 13,
    "start_time": "2022-06-20T05:17:37.847Z"
   },
   {
    "duration": 8,
    "start_time": "2022-06-20T05:17:53.298Z"
   },
   {
    "duration": 6,
    "start_time": "2022-06-20T05:18:12.113Z"
   },
   {
    "duration": 6,
    "start_time": "2022-06-20T05:18:55.282Z"
   },
   {
    "duration": 5,
    "start_time": "2022-06-20T05:19:19.950Z"
   },
   {
    "duration": 7,
    "start_time": "2022-06-20T05:20:34.044Z"
   },
   {
    "duration": 7,
    "start_time": "2022-06-20T05:20:59.952Z"
   },
   {
    "duration": 7,
    "start_time": "2022-06-20T05:40:12.451Z"
   },
   {
    "duration": 45,
    "start_time": "2022-06-20T06:11:53.362Z"
   },
   {
    "duration": 98,
    "start_time": "2022-06-20T06:56:25.198Z"
   },
   {
    "duration": 48,
    "start_time": "2022-06-21T03:59:25.548Z"
   },
   {
    "duration": 680,
    "start_time": "2022-06-21T03:59:34.843Z"
   },
   {
    "duration": 21,
    "start_time": "2022-06-21T03:59:35.525Z"
   },
   {
    "duration": 15,
    "start_time": "2022-06-21T03:59:35.548Z"
   },
   {
    "duration": 12,
    "start_time": "2022-06-21T03:59:35.565Z"
   },
   {
    "duration": 58,
    "start_time": "2022-06-21T03:59:35.579Z"
   },
   {
    "duration": 4,
    "start_time": "2022-06-21T03:59:35.639Z"
   },
   {
    "duration": 17,
    "start_time": "2022-06-21T03:59:35.645Z"
   },
   {
    "duration": 9,
    "start_time": "2022-06-21T03:59:35.664Z"
   },
   {
    "duration": 11,
    "start_time": "2022-06-21T03:59:35.675Z"
   },
   {
    "duration": 12,
    "start_time": "2022-06-21T03:59:35.688Z"
   },
   {
    "duration": 52,
    "start_time": "2022-06-21T03:59:35.702Z"
   },
   {
    "duration": 14,
    "start_time": "2022-06-21T03:59:35.756Z"
   },
   {
    "duration": 5,
    "start_time": "2022-06-21T03:59:35.772Z"
   },
   {
    "duration": 30,
    "start_time": "2022-06-21T03:59:35.779Z"
   },
   {
    "duration": 39,
    "start_time": "2022-06-21T03:59:35.811Z"
   },
   {
    "duration": 11,
    "start_time": "2022-06-21T03:59:35.852Z"
   },
   {
    "duration": 9,
    "start_time": "2022-06-21T03:59:35.864Z"
   },
   {
    "duration": 12,
    "start_time": "2022-06-21T03:59:35.875Z"
   },
   {
    "duration": 5,
    "start_time": "2022-06-21T03:59:35.888Z"
   },
   {
    "duration": 7,
    "start_time": "2022-06-21T03:59:35.895Z"
   },
   {
    "duration": 28,
    "start_time": "2022-06-21T03:59:35.904Z"
   },
   {
    "duration": 10,
    "start_time": "2022-06-21T03:59:35.933Z"
   },
   {
    "duration": 55,
    "start_time": "2022-06-21T03:59:35.944Z"
   },
   {
    "duration": 81,
    "start_time": "2022-06-21T03:59:36.001Z"
   },
   {
    "duration": 0,
    "start_time": "2022-06-21T03:59:36.084Z"
   },
   {
    "duration": 0,
    "start_time": "2022-06-21T03:59:36.086Z"
   },
   {
    "duration": 0,
    "start_time": "2022-06-21T03:59:36.087Z"
   },
   {
    "duration": 1367,
    "start_time": "2022-06-21T04:01:31.901Z"
   },
   {
    "duration": 20,
    "start_time": "2022-06-21T04:01:33.270Z"
   },
   {
    "duration": 16,
    "start_time": "2022-06-21T04:01:33.291Z"
   },
   {
    "duration": 11,
    "start_time": "2022-06-21T04:01:33.326Z"
   },
   {
    "duration": 34,
    "start_time": "2022-06-21T04:01:33.339Z"
   },
   {
    "duration": 3,
    "start_time": "2022-06-21T04:01:33.375Z"
   },
   {
    "duration": 18,
    "start_time": "2022-06-21T04:01:33.380Z"
   },
   {
    "duration": 17,
    "start_time": "2022-06-21T04:01:33.399Z"
   },
   {
    "duration": 9,
    "start_time": "2022-06-21T04:01:33.427Z"
   },
   {
    "duration": 6,
    "start_time": "2022-06-21T04:01:33.439Z"
   },
   {
    "duration": 37,
    "start_time": "2022-06-21T04:01:33.447Z"
   },
   {
    "duration": 9,
    "start_time": "2022-06-21T04:01:33.486Z"
   },
   {
    "duration": 30,
    "start_time": "2022-06-21T04:01:33.497Z"
   },
   {
    "duration": 22,
    "start_time": "2022-06-21T04:01:33.528Z"
   },
   {
    "duration": 16,
    "start_time": "2022-06-21T04:01:33.552Z"
   },
   {
    "duration": 11,
    "start_time": "2022-06-21T04:01:33.570Z"
   },
   {
    "duration": 7,
    "start_time": "2022-06-21T04:01:33.582Z"
   },
   {
    "duration": 17,
    "start_time": "2022-06-21T04:01:33.591Z"
   },
   {
    "duration": 20,
    "start_time": "2022-06-21T04:01:33.609Z"
   },
   {
    "duration": 3,
    "start_time": "2022-06-21T04:01:33.630Z"
   },
   {
    "duration": 17,
    "start_time": "2022-06-21T04:01:33.635Z"
   },
   {
    "duration": 12,
    "start_time": "2022-06-21T04:01:33.653Z"
   },
   {
    "duration": 79,
    "start_time": "2022-06-21T04:01:33.666Z"
   },
   {
    "duration": 138,
    "start_time": "2022-06-21T04:01:33.746Z"
   },
   {
    "duration": 156,
    "start_time": "2022-06-21T04:01:33.886Z"
   },
   {
    "duration": 160,
    "start_time": "2022-06-21T04:01:34.044Z"
   },
   {
    "duration": 139,
    "start_time": "2022-06-21T04:01:34.205Z"
   },
   {
    "duration": 11,
    "start_time": "2022-06-21T04:12:03.051Z"
   },
   {
    "duration": 12,
    "start_time": "2022-06-21T04:12:18.669Z"
   },
   {
    "duration": 12,
    "start_time": "2022-06-21T04:12:23.145Z"
   },
   {
    "duration": 73,
    "start_time": "2022-06-21T04:12:34.880Z"
   },
   {
    "duration": 17,
    "start_time": "2022-06-21T04:12:37.333Z"
   },
   {
    "duration": 18,
    "start_time": "2022-06-21T04:12:41.554Z"
   },
   {
    "duration": 10,
    "start_time": "2022-06-21T04:12:48.367Z"
   },
   {
    "duration": 10,
    "start_time": "2022-06-21T04:12:57.579Z"
   },
   {
    "duration": 10,
    "start_time": "2022-06-21T04:13:13.145Z"
   },
   {
    "duration": 9,
    "start_time": "2022-06-21T04:13:17.066Z"
   },
   {
    "duration": 10,
    "start_time": "2022-06-21T04:13:32.611Z"
   },
   {
    "duration": 11,
    "start_time": "2022-06-21T04:13:50.545Z"
   },
   {
    "duration": 11,
    "start_time": "2022-06-21T04:14:16.168Z"
   },
   {
    "duration": 15,
    "start_time": "2022-06-21T04:15:14.076Z"
   },
   {
    "duration": 120,
    "start_time": "2022-06-21T04:15:25.939Z"
   },
   {
    "duration": 16,
    "start_time": "2022-06-21T04:15:32.156Z"
   },
   {
    "duration": 16,
    "start_time": "2022-06-21T04:15:49.105Z"
   },
   {
    "duration": 14,
    "start_time": "2022-06-21T04:16:09.185Z"
   },
   {
    "duration": 16,
    "start_time": "2022-06-21T04:16:16.589Z"
   },
   {
    "duration": 16,
    "start_time": "2022-06-21T04:16:31.072Z"
   },
   {
    "duration": 32,
    "start_time": "2022-06-21T04:17:53.889Z"
   },
   {
    "duration": 4,
    "start_time": "2022-06-21T04:17:56.395Z"
   },
   {
    "duration": 8,
    "start_time": "2022-06-21T04:17:59.245Z"
   },
   {
    "duration": 4,
    "start_time": "2022-06-21T04:18:06.222Z"
   },
   {
    "duration": 6,
    "start_time": "2022-06-21T04:18:09.397Z"
   },
   {
    "duration": 5,
    "start_time": "2022-06-21T04:18:11.930Z"
   },
   {
    "duration": 4,
    "start_time": "2022-06-21T04:18:55.253Z"
   },
   {
    "duration": 12,
    "start_time": "2022-06-21T04:19:28.440Z"
   },
   {
    "duration": 8,
    "start_time": "2022-06-21T04:19:38.854Z"
   },
   {
    "duration": 5,
    "start_time": "2022-06-21T04:20:13.078Z"
   },
   {
    "duration": 7,
    "start_time": "2022-06-21T04:20:38.212Z"
   },
   {
    "duration": 11,
    "start_time": "2022-06-21T04:21:08.260Z"
   },
   {
    "duration": 69,
    "start_time": "2022-06-21T04:21:33.449Z"
   },
   {
    "duration": 6,
    "start_time": "2022-06-21T04:25:31.861Z"
   },
   {
    "duration": 10,
    "start_time": "2022-06-21T04:25:39.526Z"
   },
   {
    "duration": 6,
    "start_time": "2022-06-21T04:25:46.701Z"
   },
   {
    "duration": 8,
    "start_time": "2022-06-21T04:26:00.712Z"
   },
   {
    "duration": 67,
    "start_time": "2022-06-21T04:26:25.929Z"
   },
   {
    "duration": 13,
    "start_time": "2022-06-21T04:26:28.254Z"
   },
   {
    "duration": 14,
    "start_time": "2022-06-21T04:26:31.092Z"
   },
   {
    "duration": 14,
    "start_time": "2022-06-21T04:26:33.884Z"
   },
   {
    "duration": 32,
    "start_time": "2022-06-21T04:26:38.341Z"
   },
   {
    "duration": 4,
    "start_time": "2022-06-21T04:26:41.237Z"
   },
   {
    "duration": 8,
    "start_time": "2022-06-21T04:26:42.923Z"
   },
   {
    "duration": 4,
    "start_time": "2022-06-21T04:26:46.267Z"
   },
   {
    "duration": 6,
    "start_time": "2022-06-21T04:26:48.755Z"
   },
   {
    "duration": 22,
    "start_time": "2022-06-21T04:28:23.888Z"
   },
   {
    "duration": 30,
    "start_time": "2022-06-21T04:28:59.223Z"
   },
   {
    "duration": 8,
    "start_time": "2022-06-21T04:29:37.869Z"
   },
   {
    "duration": 5,
    "start_time": "2022-06-21T04:29:58.149Z"
   },
   {
    "duration": 5,
    "start_time": "2022-06-21T04:30:31.270Z"
   },
   {
    "duration": 5,
    "start_time": "2022-06-21T04:30:37.220Z"
   },
   {
    "duration": 6,
    "start_time": "2022-06-21T04:30:46.467Z"
   },
   {
    "duration": 5,
    "start_time": "2022-06-21T04:32:09.476Z"
   },
   {
    "duration": 5,
    "start_time": "2022-06-21T04:34:22.630Z"
   },
   {
    "duration": 9,
    "start_time": "2022-06-21T04:34:35.307Z"
   },
   {
    "duration": 4,
    "start_time": "2022-06-21T04:35:03.372Z"
   },
   {
    "duration": 6,
    "start_time": "2022-06-21T04:36:43.489Z"
   },
   {
    "duration": 8,
    "start_time": "2022-06-21T04:36:59.042Z"
   },
   {
    "duration": 5,
    "start_time": "2022-06-21T04:37:03.633Z"
   },
   {
    "duration": 6,
    "start_time": "2022-06-21T04:37:41.519Z"
   },
   {
    "duration": 7,
    "start_time": "2022-06-21T04:38:22.818Z"
   },
   {
    "duration": 7,
    "start_time": "2022-06-21T04:38:47.250Z"
   },
   {
    "duration": 1193,
    "start_time": "2022-06-21T04:40:11.815Z"
   },
   {
    "duration": 19,
    "start_time": "2022-06-21T04:40:13.010Z"
   },
   {
    "duration": 17,
    "start_time": "2022-06-21T04:40:13.030Z"
   },
   {
    "duration": 15,
    "start_time": "2022-06-21T04:40:13.049Z"
   },
   {
    "duration": 32,
    "start_time": "2022-06-21T04:40:13.066Z"
   },
   {
    "duration": 4,
    "start_time": "2022-06-21T04:40:13.099Z"
   },
   {
    "duration": 27,
    "start_time": "2022-06-21T04:40:13.104Z"
   },
   {
    "duration": 4,
    "start_time": "2022-06-21T04:40:13.132Z"
   },
   {
    "duration": 11,
    "start_time": "2022-06-21T04:40:13.138Z"
   },
   {
    "duration": 6,
    "start_time": "2022-06-21T04:40:13.151Z"
   },
   {
    "duration": 34,
    "start_time": "2022-06-21T04:40:13.158Z"
   },
   {
    "duration": 33,
    "start_time": "2022-06-21T04:40:13.194Z"
   },
   {
    "duration": 4,
    "start_time": "2022-06-21T04:40:13.229Z"
   },
   {
    "duration": 21,
    "start_time": "2022-06-21T04:40:13.234Z"
   },
   {
    "duration": 18,
    "start_time": "2022-06-21T04:40:13.256Z"
   },
   {
    "duration": 11,
    "start_time": "2022-06-21T04:40:13.275Z"
   },
   {
    "duration": 4,
    "start_time": "2022-06-21T04:40:13.288Z"
   },
   {
    "duration": 35,
    "start_time": "2022-06-21T04:40:13.294Z"
   },
   {
    "duration": 5,
    "start_time": "2022-06-21T04:40:13.330Z"
   },
   {
    "duration": 4,
    "start_time": "2022-06-21T04:40:13.337Z"
   },
   {
    "duration": 10,
    "start_time": "2022-06-21T04:40:13.342Z"
   },
   {
    "duration": 9,
    "start_time": "2022-06-21T04:40:13.354Z"
   },
   {
    "duration": 96,
    "start_time": "2022-06-21T04:40:13.364Z"
   },
   {
    "duration": 132,
    "start_time": "2022-06-21T04:40:13.462Z"
   },
   {
    "duration": 147,
    "start_time": "2022-06-21T04:40:13.595Z"
   },
   {
    "duration": 151,
    "start_time": "2022-06-21T04:40:13.744Z"
   },
   {
    "duration": 151,
    "start_time": "2022-06-21T04:40:13.897Z"
   },
   {
    "duration": 23,
    "start_time": "2022-06-21T04:41:07.670Z"
   },
   {
    "duration": 21,
    "start_time": "2022-06-21T04:41:45.882Z"
   },
   {
    "duration": 30,
    "start_time": "2022-06-21T04:41:52.386Z"
   },
   {
    "duration": 48,
    "start_time": "2022-06-21T04:42:59.609Z"
   },
   {
    "duration": 120,
    "start_time": "2022-06-21T04:43:10.866Z"
   },
   {
    "duration": 56,
    "start_time": "2022-06-21T04:43:15.987Z"
   },
   {
    "duration": 1153,
    "start_time": "2022-06-21T04:46:01.673Z"
   },
   {
    "duration": 20,
    "start_time": "2022-06-21T04:46:02.828Z"
   },
   {
    "duration": 25,
    "start_time": "2022-06-21T04:46:02.850Z"
   },
   {
    "duration": 17,
    "start_time": "2022-06-21T04:46:02.876Z"
   },
   {
    "duration": 49,
    "start_time": "2022-06-21T04:46:02.895Z"
   },
   {
    "duration": 4,
    "start_time": "2022-06-21T04:46:02.945Z"
   },
   {
    "duration": 17,
    "start_time": "2022-06-21T04:46:02.950Z"
   },
   {
    "duration": 23,
    "start_time": "2022-06-21T04:46:02.968Z"
   },
   {
    "duration": 11,
    "start_time": "2022-06-21T04:46:02.993Z"
   },
   {
    "duration": 7,
    "start_time": "2022-06-21T04:46:03.006Z"
   },
   {
    "duration": 38,
    "start_time": "2022-06-21T04:46:03.014Z"
   },
   {
    "duration": 9,
    "start_time": "2022-06-21T04:46:03.053Z"
   },
   {
    "duration": 3,
    "start_time": "2022-06-21T04:46:03.064Z"
   },
   {
    "duration": 18,
    "start_time": "2022-06-21T04:46:03.070Z"
   },
   {
    "duration": 36,
    "start_time": "2022-06-21T04:46:03.090Z"
   },
   {
    "duration": 10,
    "start_time": "2022-06-21T04:46:03.128Z"
   },
   {
    "duration": 9,
    "start_time": "2022-06-21T04:46:03.140Z"
   },
   {
    "duration": 17,
    "start_time": "2022-06-21T04:46:03.150Z"
   },
   {
    "duration": 6,
    "start_time": "2022-06-21T04:46:03.168Z"
   },
   {
    "duration": 6,
    "start_time": "2022-06-21T04:46:03.175Z"
   },
   {
    "duration": 15,
    "start_time": "2022-06-21T04:46:03.182Z"
   },
   {
    "duration": 17,
    "start_time": "2022-06-21T04:46:03.198Z"
   },
   {
    "duration": 62,
    "start_time": "2022-06-21T04:46:03.217Z"
   },
   {
    "duration": 158,
    "start_time": "2022-06-21T04:46:03.281Z"
   },
   {
    "duration": 207,
    "start_time": "2022-06-21T04:46:03.441Z"
   },
   {
    "duration": 139,
    "start_time": "2022-06-21T04:46:03.649Z"
   },
   {
    "duration": 139,
    "start_time": "2022-06-21T04:46:03.789Z"
   },
   {
    "duration": 89,
    "start_time": "2022-06-21T04:48:46.876Z"
   },
   {
    "duration": 4,
    "start_time": "2022-06-21T05:14:37.147Z"
   },
   {
    "duration": 1205,
    "start_time": "2022-06-21T05:26:43.602Z"
   },
   {
    "duration": 20,
    "start_time": "2022-06-21T05:26:44.809Z"
   },
   {
    "duration": 16,
    "start_time": "2022-06-21T05:26:44.830Z"
   },
   {
    "duration": 17,
    "start_time": "2022-06-21T05:26:44.848Z"
   },
   {
    "duration": 33,
    "start_time": "2022-06-21T05:26:44.867Z"
   },
   {
    "duration": 26,
    "start_time": "2022-06-21T05:26:44.902Z"
   },
   {
    "duration": 10,
    "start_time": "2022-06-21T05:26:44.930Z"
   },
   {
    "duration": 5,
    "start_time": "2022-06-21T05:26:44.942Z"
   },
   {
    "duration": 9,
    "start_time": "2022-06-21T05:26:44.949Z"
   },
   {
    "duration": 15,
    "start_time": "2022-06-21T05:26:44.959Z"
   },
   {
    "duration": 53,
    "start_time": "2022-06-21T05:26:44.975Z"
   },
   {
    "duration": 10,
    "start_time": "2022-06-21T05:26:45.030Z"
   },
   {
    "duration": 11,
    "start_time": "2022-06-21T05:26:45.042Z"
   },
   {
    "duration": 22,
    "start_time": "2022-06-21T05:26:45.057Z"
   },
   {
    "duration": 16,
    "start_time": "2022-06-21T05:26:45.081Z"
   },
   {
    "duration": 11,
    "start_time": "2022-06-21T05:26:45.099Z"
   },
   {
    "duration": 4,
    "start_time": "2022-06-21T05:26:45.127Z"
   },
   {
    "duration": 15,
    "start_time": "2022-06-21T05:26:45.132Z"
   },
   {
    "duration": 5,
    "start_time": "2022-06-21T05:26:45.149Z"
   },
   {
    "duration": 3,
    "start_time": "2022-06-21T05:26:45.156Z"
   },
   {
    "duration": 12,
    "start_time": "2022-06-21T05:26:45.161Z"
   },
   {
    "duration": 12,
    "start_time": "2022-06-21T05:26:45.175Z"
   },
   {
    "duration": 90,
    "start_time": "2022-06-21T05:26:45.189Z"
   },
   {
    "duration": 127,
    "start_time": "2022-06-21T05:26:45.281Z"
   },
   {
    "duration": 147,
    "start_time": "2022-06-21T05:26:45.409Z"
   },
   {
    "duration": 153,
    "start_time": "2022-06-21T05:26:45.558Z"
   },
   {
    "duration": 154,
    "start_time": "2022-06-21T05:26:45.713Z"
   },
   {
    "duration": 1894,
    "start_time": "2022-06-22T05:25:14.384Z"
   },
   {
    "duration": 30,
    "start_time": "2022-06-22T05:25:16.281Z"
   },
   {
    "duration": 22,
    "start_time": "2022-06-22T05:25:16.314Z"
   },
   {
    "duration": 60,
    "start_time": "2022-06-22T05:25:16.339Z"
   },
   {
    "duration": 42,
    "start_time": "2022-06-22T05:25:16.401Z"
   },
   {
    "duration": 4,
    "start_time": "2022-06-22T05:25:16.445Z"
   },
   {
    "duration": 20,
    "start_time": "2022-06-22T05:25:16.451Z"
   },
   {
    "duration": 7,
    "start_time": "2022-06-22T05:25:16.473Z"
   },
   {
    "duration": 18,
    "start_time": "2022-06-22T05:25:16.482Z"
   },
   {
    "duration": 12,
    "start_time": "2022-06-22T05:25:16.504Z"
   },
   {
    "duration": 51,
    "start_time": "2022-06-22T05:25:16.518Z"
   },
   {
    "duration": 10,
    "start_time": "2022-06-22T05:25:16.571Z"
   },
   {
    "duration": 9,
    "start_time": "2022-06-22T05:25:16.582Z"
   },
   {
    "duration": 22,
    "start_time": "2022-06-22T05:25:16.593Z"
   },
   {
    "duration": 11,
    "start_time": "2022-06-22T05:25:16.626Z"
   },
   {
    "duration": 23,
    "start_time": "2022-06-22T05:25:16.638Z"
   },
   {
    "duration": 4,
    "start_time": "2022-06-22T05:25:16.662Z"
   },
   {
    "duration": 22,
    "start_time": "2022-06-22T05:25:16.668Z"
   },
   {
    "duration": 8,
    "start_time": "2022-06-22T05:25:16.692Z"
   },
   {
    "duration": 25,
    "start_time": "2022-06-22T05:25:16.702Z"
   },
   {
    "duration": 11,
    "start_time": "2022-06-22T05:25:16.729Z"
   },
   {
    "duration": 17,
    "start_time": "2022-06-22T05:25:16.742Z"
   },
   {
    "duration": 85,
    "start_time": "2022-06-22T05:25:16.761Z"
   },
   {
    "duration": 140,
    "start_time": "2022-06-22T05:25:16.848Z"
   },
   {
    "duration": 151,
    "start_time": "2022-06-22T05:25:16.990Z"
   },
   {
    "duration": 156,
    "start_time": "2022-06-22T05:25:17.143Z"
   },
   {
    "duration": 157,
    "start_time": "2022-06-22T05:25:17.301Z"
   },
   {
    "duration": 31,
    "start_time": "2022-06-22T05:26:13.433Z"
   },
   {
    "duration": 21,
    "start_time": "2022-06-22T05:26:27.607Z"
   },
   {
    "duration": 72,
    "start_time": "2022-06-22T05:26:37.812Z"
   },
   {
    "duration": 15,
    "start_time": "2022-06-22T05:26:40.909Z"
   },
   {
    "duration": 15,
    "start_time": "2022-06-22T05:26:44.314Z"
   },
   {
    "duration": 15,
    "start_time": "2022-06-22T05:26:47.588Z"
   },
   {
    "duration": 36,
    "start_time": "2022-06-22T05:26:53.683Z"
   },
   {
    "duration": 5,
    "start_time": "2022-06-22T05:26:57.145Z"
   },
   {
    "duration": 7,
    "start_time": "2022-06-22T05:26:58.900Z"
   },
   {
    "duration": 4,
    "start_time": "2022-06-22T05:27:01.910Z"
   },
   {
    "duration": 8,
    "start_time": "2022-06-22T05:27:04.271Z"
   },
   {
    "duration": 7,
    "start_time": "2022-06-22T05:27:08.898Z"
   },
   {
    "duration": 35,
    "start_time": "2022-06-22T05:27:17.657Z"
   },
   {
    "duration": 11,
    "start_time": "2022-06-22T05:27:20.110Z"
   },
   {
    "duration": 4,
    "start_time": "2022-06-22T05:27:26.776Z"
   },
   {
    "duration": 19,
    "start_time": "2022-06-22T05:27:30.919Z"
   },
   {
    "duration": 37,
    "start_time": "2022-06-22T05:27:33.277Z"
   },
   {
    "duration": 31,
    "start_time": "2022-06-22T05:28:35.316Z"
   },
   {
    "duration": 75,
    "start_time": "2022-06-22T05:32:03.690Z"
   },
   {
    "duration": 75,
    "start_time": "2022-06-22T05:32:14.717Z"
   },
   {
    "duration": 17,
    "start_time": "2022-06-22T05:32:17.588Z"
   },
   {
    "duration": 15,
    "start_time": "2022-06-22T05:32:20.584Z"
   },
   {
    "duration": 23,
    "start_time": "2022-06-22T05:32:23.438Z"
   },
   {
    "duration": 37,
    "start_time": "2022-06-22T05:32:27.467Z"
   },
   {
    "duration": 4,
    "start_time": "2022-06-22T05:32:32.049Z"
   },
   {
    "duration": 10,
    "start_time": "2022-06-22T05:32:34.334Z"
   },
   {
    "duration": 4,
    "start_time": "2022-06-22T05:32:38.620Z"
   },
   {
    "duration": 9,
    "start_time": "2022-06-22T05:32:41.120Z"
   },
   {
    "duration": 8,
    "start_time": "2022-06-22T05:32:44.138Z"
   },
   {
    "duration": 33,
    "start_time": "2022-06-22T05:32:47.050Z"
   },
   {
    "duration": 10,
    "start_time": "2022-06-22T05:32:49.483Z"
   },
   {
    "duration": 4,
    "start_time": "2022-06-22T05:32:52.256Z"
   },
   {
    "duration": 19,
    "start_time": "2022-06-22T05:32:56.496Z"
   },
   {
    "duration": 69,
    "start_time": "2022-06-22T05:32:59.689Z"
   },
   {
    "duration": 49,
    "start_time": "2022-06-22T05:33:03.080Z"
   },
   {
    "duration": 71,
    "start_time": "2022-06-22T05:40:29.134Z"
   },
   {
    "duration": 15,
    "start_time": "2022-06-22T05:40:31.793Z"
   },
   {
    "duration": 15,
    "start_time": "2022-06-22T05:40:35.512Z"
   },
   {
    "duration": 17,
    "start_time": "2022-06-22T05:40:41.997Z"
   },
   {
    "duration": 35,
    "start_time": "2022-06-22T05:40:45.568Z"
   },
   {
    "duration": 4,
    "start_time": "2022-06-22T05:40:48.335Z"
   },
   {
    "duration": 8,
    "start_time": "2022-06-22T05:40:49.543Z"
   },
   {
    "duration": 5,
    "start_time": "2022-06-22T05:40:51.809Z"
   },
   {
    "duration": 8,
    "start_time": "2022-06-22T05:40:53.451Z"
   },
   {
    "duration": 8,
    "start_time": "2022-06-22T05:40:55.506Z"
   },
   {
    "duration": 33,
    "start_time": "2022-06-22T05:40:57.634Z"
   },
   {
    "duration": 11,
    "start_time": "2022-06-22T05:40:59.582Z"
   },
   {
    "duration": 92,
    "start_time": "2022-06-22T05:41:02.836Z"
   },
   {
    "duration": 8,
    "start_time": "2022-06-22T05:41:13.350Z"
   },
   {
    "duration": 20,
    "start_time": "2022-06-22T05:41:18.170Z"
   },
   {
    "duration": 18,
    "start_time": "2022-06-22T05:42:28.050Z"
   },
   {
    "duration": 18,
    "start_time": "2022-06-22T05:43:00.324Z"
   },
   {
    "duration": 69,
    "start_time": "2022-06-22T05:43:11.786Z"
   },
   {
    "duration": 16,
    "start_time": "2022-06-22T05:43:14.914Z"
   },
   {
    "duration": 15,
    "start_time": "2022-06-22T05:43:18.088Z"
   },
   {
    "duration": 17,
    "start_time": "2022-06-22T05:43:20.321Z"
   },
   {
    "duration": 47,
    "start_time": "2022-06-22T05:43:23.537Z"
   },
   {
    "duration": 5,
    "start_time": "2022-06-22T05:43:25.154Z"
   },
   {
    "duration": 11,
    "start_time": "2022-06-22T05:43:26.240Z"
   },
   {
    "duration": 4,
    "start_time": "2022-06-22T05:43:29.141Z"
   },
   {
    "duration": 9,
    "start_time": "2022-06-22T05:43:30.766Z"
   },
   {
    "duration": 8,
    "start_time": "2022-06-22T05:43:33.829Z"
   },
   {
    "duration": 54,
    "start_time": "2022-06-22T05:43:36.191Z"
   },
   {
    "duration": 9,
    "start_time": "2022-06-22T05:43:38.018Z"
   },
   {
    "duration": 22,
    "start_time": "2022-06-22T05:43:40.560Z"
   },
   {
    "duration": 17,
    "start_time": "2022-06-22T05:43:53.030Z"
   },
   {
    "duration": 29,
    "start_time": "2022-06-22T05:44:19.280Z"
   },
   {
    "duration": 11,
    "start_time": "2022-06-22T05:45:14.179Z"
   },
   {
    "duration": 19,
    "start_time": "2022-06-22T05:45:17.438Z"
   },
   {
    "duration": 26,
    "start_time": "2022-06-22T05:45:22.973Z"
   },
   {
    "duration": 92,
    "start_time": "2022-06-22T05:45:33.853Z"
   },
   {
    "duration": 22,
    "start_time": "2022-06-22T05:45:36.647Z"
   },
   {
    "duration": 18,
    "start_time": "2022-06-22T05:45:40.176Z"
   },
   {
    "duration": 28,
    "start_time": "2022-06-22T05:45:45.224Z"
   },
   {
    "duration": 37,
    "start_time": "2022-06-22T05:46:04.096Z"
   },
   {
    "duration": 23,
    "start_time": "2022-06-22T05:46:16.751Z"
   },
   {
    "duration": 5,
    "start_time": "2022-06-22T05:50:05.059Z"
   },
   {
    "duration": 27,
    "start_time": "2022-06-22T05:50:16.103Z"
   },
   {
    "duration": 10,
    "start_time": "2022-06-22T05:50:25.136Z"
   },
   {
    "duration": 1187,
    "start_time": "2022-06-22T05:50:34.241Z"
   },
   {
    "duration": 19,
    "start_time": "2022-06-22T05:50:35.430Z"
   },
   {
    "duration": 15,
    "start_time": "2022-06-22T05:50:35.451Z"
   },
   {
    "duration": 16,
    "start_time": "2022-06-22T05:50:35.468Z"
   },
   {
    "duration": 64,
    "start_time": "2022-06-22T05:50:35.487Z"
   },
   {
    "duration": 3,
    "start_time": "2022-06-22T05:50:35.553Z"
   },
   {
    "duration": 12,
    "start_time": "2022-06-22T05:50:35.558Z"
   },
   {
    "duration": 5,
    "start_time": "2022-06-22T05:50:35.571Z"
   },
   {
    "duration": 13,
    "start_time": "2022-06-22T05:50:35.578Z"
   },
   {
    "duration": 35,
    "start_time": "2022-06-22T05:50:35.593Z"
   },
   {
    "duration": 32,
    "start_time": "2022-06-22T05:50:35.630Z"
   },
   {
    "duration": 10,
    "start_time": "2022-06-22T05:50:35.664Z"
   },
   {
    "duration": 22,
    "start_time": "2022-06-22T05:50:35.675Z"
   },
   {
    "duration": 34,
    "start_time": "2022-06-22T05:50:35.700Z"
   },
   {
    "duration": 61,
    "start_time": "2022-06-22T05:50:35.736Z"
   },
   {
    "duration": 52,
    "start_time": "2022-06-22T05:50:35.799Z"
   },
   {
    "duration": 3,
    "start_time": "2022-06-22T05:50:35.853Z"
   },
   {
    "duration": 13,
    "start_time": "2022-06-22T05:50:35.858Z"
   },
   {
    "duration": 14,
    "start_time": "2022-06-22T05:50:35.873Z"
   },
   {
    "duration": 3,
    "start_time": "2022-06-22T05:50:35.889Z"
   },
   {
    "duration": 38,
    "start_time": "2022-06-22T05:50:35.894Z"
   },
   {
    "duration": 12,
    "start_time": "2022-06-22T05:50:35.934Z"
   },
   {
    "duration": 84,
    "start_time": "2022-06-22T05:50:35.947Z"
   },
   {
    "duration": 132,
    "start_time": "2022-06-22T05:50:36.033Z"
   },
   {
    "duration": 189,
    "start_time": "2022-06-22T05:50:36.167Z"
   },
   {
    "duration": 207,
    "start_time": "2022-06-22T05:50:36.358Z"
   },
   {
    "duration": 150,
    "start_time": "2022-06-22T05:50:36.567Z"
   }
  ],
  "colab": {
   "name": "dpp_template_part2.ipynb",
   "provenance": []
  },
  "kernelspec": {
   "display_name": "Python 3 (ipykernel)",
   "language": "python",
   "name": "python3"
  },
  "language_info": {
   "codemirror_mode": {
    "name": "ipython",
    "version": 3
   },
   "file_extension": ".py",
   "mimetype": "text/x-python",
   "name": "python",
   "nbconvert_exporter": "python",
   "pygments_lexer": "ipython3",
   "version": "3.9.12"
  },
  "toc": {
   "base_numbering": 1,
   "nav_menu": {},
   "number_sections": true,
   "sideBar": true,
   "skip_h1_title": true,
   "title_cell": "Table of Contents",
   "title_sidebar": "Contents",
   "toc_cell": false,
   "toc_position": {},
   "toc_section_display": true,
   "toc_window_display": false
  }
 },
 "nbformat": 4,
 "nbformat_minor": 5
}
