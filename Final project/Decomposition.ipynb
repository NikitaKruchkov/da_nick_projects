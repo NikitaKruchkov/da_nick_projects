{
 "cells": [
  {
   "cell_type": "markdown",
   "metadata": {},
   "source": [
    "# Формирование модели монетизации для игры \"Космичесике Братья\"."
   ]
  },
  {
   "cell_type": "markdown",
   "metadata": {},
   "source": [
    "Создатели игры планируют показывать рекламу на каждом экране выбора здания для постройки. Их заботит два момента:\n",
    "- как не перегрузить пользователя рекламой и не допустить его оттока по этой причине\n",
    "- узнать какой фин результат даёт данная стратегия, в какую сторону отклонится значение от точки безубыточности. Недопустимо уйти в минус."
   ]
  },
  {
   "cell_type": "markdown",
   "metadata": {},
   "source": [
    "# Цель исследования."
   ]
  },
  {
   "cell_type": "markdown",
   "metadata": {},
   "source": [
    "Сформировать модель монетизации, при которой общая прибыль от показа рекламы пользователям будет больше (или равна по нижней границе), чем общие затраты на привлечение этих пользователей."
   ]
  },
  {
   "cell_type": "markdown",
   "metadata": {},
   "source": [
    "## Декомпозиция задачи."
   ]
  },
  {
   "cell_type": "markdown",
   "metadata": {},
   "source": [
    "### Введение с названием проекта и кратким описанием кейса."
   ]
  },
  {
   "cell_type": "markdown",
   "metadata": {},
   "source": [
    "### Постановка цели исследования."
   ]
  },
  {
   "cell_type": "markdown",
   "metadata": {},
   "source": [
    "### Поочередная выгрузка и предобработка данных:\n",
    "- выгрузка датасета\n",
    "- проверка типов данных\n",
    "- изменение типа данных\n",
    "- проверка на аномалии\n",
    "- устранение аномалий\n",
    "- проверка на пропуски(установление причины появления Na)\n",
    "- удаление/замена Na\n",
    "- Поиск дубликатов\n",
    "- Удаление дубликатов\n",
    "- Определение временного диапазона данных"
   ]
  },
  {
   "cell_type": "markdown",
   "metadata": {},
   "source": [
    "### расчет общих затрат на рекламу."
   ]
  },
  {
   "cell_type": "markdown",
   "metadata": {},
   "source": [
    "В данном пункте расчитаю общее кол-во средств потраченных на привлечение пользователей по каждому каналу и итого. Плюс график с динамикой по датам"
   ]
  },
  {
   "cell_type": "markdown",
   "metadata": {},
   "source": [
    " - расчет затрат на рекламу на одного пользователя, в среднем и по каждому каналу."
   ]
  },
  {
   "cell_type": "markdown",
   "metadata": {},
   "source": [
    "- Зная кол-во пользователей привлеченных из каждого канала узнаю, во сколько обошлось привлечение одного пользователя. Плюс график."
   ]
  },
  {
   "cell_type": "markdown",
   "metadata": {},
   "source": [
    "### расчет общей прибыли от показа рекламы."
   ]
  },
  {
   "cell_type": "markdown",
   "metadata": {},
   "source": [
    "Посичтаю сколько событий building содержит таблица game_actions- это будет кол-во показов рекламы- и умножу это число на 0,07 у.е сравнив этот показатель с показателем 1.1 можно сделать вывод об общей успешности рекламной кампании. Плюс визуализация."
   ]
  },
  {
   "cell_type": "markdown",
   "metadata": {},
   "source": [
    "- расчет   прибыли от показа рекламы по каждому каналу. Так же с визуализацией"
   ]
  },
  {
   "cell_type": "markdown",
   "metadata": {},
   "source": [
    "- Взяв эти данные и данные из пункта 1.1.1 можно на графике наглядно отобразить в каких долях в каждом канале распределились расходы и доходы."
   ]
  },
  {
   "cell_type": "markdown",
   "metadata": {},
   "source": [
    "### Поиск максимального, минимального и среднего(медиа-го?) кол-ва показов рекламы до наступления целевого события."
   ]
  },
  {
   "cell_type": "markdown",
   "metadata": {},
   "source": [
    "### расчет минимального среднего кол-ва показов рекламы на одного пользователя."
   ]
  },
  {
   "cell_type": "markdown",
   "metadata": {},
   "source": [
    "Планирую посчитать сколько в среднем каждому пользователю надо показать рекламу, чтоб \"отбить\" затраты на рекламу. Сравню это число с числом из п 1.3"
   ]
  },
  {
   "cell_type": "markdown",
   "metadata": {},
   "source": [
    "### Расчитаю доли закончивших и не закончивших уровень игроков. Круговая диаграма."
   ]
  },
  {
   "cell_type": "markdown",
   "metadata": {},
   "source": [
    "Подробно исследую долю незакончивших уровень пользователей:\n",
    "- исследую аномальных пользователей(есть предположение, что пользователи с аномально большим кол-ом зданий не закончили уровень перегруз рекламой)\n",
    "- изучу вопрос пользователи какого из двух сценариев чаще не доходят до целевого события."
   ]
  },
  {
   "cell_type": "markdown",
   "metadata": {},
   "source": [
    "### расчитаю доли сценариев для закончивших уровень(победа над врагом,проект) Круговая диаграма."
   ]
  },
  {
   "cell_type": "markdown",
   "metadata": {},
   "source": [
    "для каждого сценария посчитаю:\n",
    "- среднее кол-во дней требуемое для прохождения уровня\n",
    "- среднее кол-во зданий\n",
    "- исследую аномальных пользователей по кол-ву зданий и времени прохождения в поисках инсайтов."
   ]
  },
  {
   "cell_type": "markdown",
   "metadata": {},
   "source": [
    "### Так же есть идея исследовать распределение типов зданий и ставить рекламу при выборе определнного. В изучение этого вопроса будет входить и то, какие здания в зависимости от сценария строят чаще/реже, дабы при решении освободить постройку опр. типа от рекламы и  критически  не снизить доход."
   ]
  },
  {
   "cell_type": "markdown",
   "metadata": {},
   "source": [
    "### Проверю  гипотезы:\n",
    "1) об отсутствии разницы в продолжительности прохождения первого уровня для сценариев победы над врагом и проектом.\n",
    "\n",
    "2) о равенстве среднего кол-ва события типа `building` для сценариев победы над врагом и проектом.\n",
    "\n"
   ]
  },
  {
   "cell_type": "markdown",
   "metadata": {},
   "source": [
    "###  Сделаю промежуточный вывод по существующей модели монетизации.\n",
    "В котором покажу как соотносятся показы(постройки) в разных сценариях, какой из типов построек наиболее загружен рекламой, какое распределение показов по сценариям. Сколько мы имели показов в данной модели и сколько нам нужно для достижения нижней границы(точка безубыточности). Дам оценку существующей модели. "
   ]
  },
  {
   "cell_type": "markdown",
   "metadata": {},
   "source": [
    "### Предложу новую модель монетизации.\n",
    "- Покажу, что использование данной модели ведет к показам достаточного кол-ва рекламы, прибыль от которых способна покрыть расходы на рекламу в соц сетях для привлечения пользователей.\n",
    "- Сравню её с данной в условии моделью моентизации.\n",
    "- Опишу какие приемущества имеет новая модель монетизации (например укажу среднее снижение кол-ва показов рекламы на пользователя)"
   ]
  },
  {
   "cell_type": "markdown",
   "metadata": {},
   "source": [
    "### Общий вывод по исследованию."
   ]
  }
 ],
 "metadata": {
  "ExecuteTimeLog": [
   {
    "duration": 452,
    "start_time": "2023-05-12T12:11:58.309Z"
   },
   {
    "duration": 80,
    "start_time": "2023-05-12T12:13:44.469Z"
   },
   {
    "duration": 18,
    "start_time": "2023-05-12T12:13:50.818Z"
   },
   {
    "duration": 544,
    "start_time": "2023-05-12T12:15:41.813Z"
   },
   {
    "duration": 33,
    "start_time": "2023-05-12T12:15:45.318Z"
   },
   {
    "duration": 110,
    "start_time": "2023-05-12T12:16:23.053Z"
   },
   {
    "duration": 32,
    "start_time": "2023-05-12T12:16:25.937Z"
   },
   {
    "duration": 273,
    "start_time": "2023-05-12T12:17:27.792Z"
   },
   {
    "duration": 11,
    "start_time": "2023-05-12T12:17:51.195Z"
   },
   {
    "duration": 39,
    "start_time": "2023-05-12T12:18:13.943Z"
   },
   {
    "duration": 39,
    "start_time": "2023-05-12T12:18:44.145Z"
   },
   {
    "duration": 6,
    "start_time": "2023-05-12T12:19:52.622Z"
   },
   {
    "duration": 11,
    "start_time": "2023-05-12T12:19:59.843Z"
   },
   {
    "duration": 4,
    "start_time": "2023-05-12T12:27:20.700Z"
   },
   {
    "duration": 4,
    "start_time": "2023-05-12T12:32:36.142Z"
   },
   {
    "duration": 10,
    "start_time": "2023-05-12T12:32:49.527Z"
   },
   {
    "duration": 12,
    "start_time": "2023-05-12T12:32:57.917Z"
   },
   {
    "duration": 4,
    "start_time": "2023-05-12T12:35:21.063Z"
   },
   {
    "duration": 40,
    "start_time": "2023-05-12T12:35:24.639Z"
   },
   {
    "duration": 10,
    "start_time": "2023-05-12T12:36:01.565Z"
   },
   {
    "duration": 4,
    "start_time": "2023-05-12T12:37:43.704Z"
   },
   {
    "duration": 5,
    "start_time": "2023-05-12T12:38:00.665Z"
   },
   {
    "duration": 133,
    "start_time": "2023-05-12T12:39:04.655Z"
   },
   {
    "duration": 58,
    "start_time": "2023-05-12T12:39:37.028Z"
   },
   {
    "duration": 262,
    "start_time": "2023-05-12T12:39:49.413Z"
   },
   {
    "duration": 4,
    "start_time": "2023-05-12T12:39:56.717Z"
   },
   {
    "duration": 3,
    "start_time": "2023-05-12T12:40:03.855Z"
   },
   {
    "duration": 4,
    "start_time": "2023-05-12T12:40:24.105Z"
   },
   {
    "duration": 4,
    "start_time": "2023-05-12T12:40:29.016Z"
   },
   {
    "duration": 55,
    "start_time": "2023-05-12T12:40:32.797Z"
   },
   {
    "duration": 5,
    "start_time": "2023-05-12T12:41:14.060Z"
   },
   {
    "duration": 731,
    "start_time": "2023-05-12T12:41:29.356Z"
   },
   {
    "duration": 3,
    "start_time": "2023-05-12T12:41:39.662Z"
   },
   {
    "duration": 4,
    "start_time": "2023-05-12T12:41:48.438Z"
   },
   {
    "duration": 4,
    "start_time": "2023-05-12T12:41:57.836Z"
   },
   {
    "duration": 5,
    "start_time": "2023-05-12T12:42:38.515Z"
   },
   {
    "duration": 76,
    "start_time": "2023-05-12T12:43:31.124Z"
   },
   {
    "duration": 13,
    "start_time": "2023-05-12T12:43:45.097Z"
   },
   {
    "duration": 675,
    "start_time": "2023-05-12T12:45:01.797Z"
   },
   {
    "duration": 16,
    "start_time": "2023-05-12T12:49:49.347Z"
   },
   {
    "duration": 16,
    "start_time": "2023-05-12T12:50:22.043Z"
   },
   {
    "duration": 26,
    "start_time": "2023-05-12T12:53:24.751Z"
   },
   {
    "duration": 37,
    "start_time": "2023-05-12T12:56:58.966Z"
   },
   {
    "duration": 36,
    "start_time": "2023-05-12T12:57:31.860Z"
   },
   {
    "duration": 44,
    "start_time": "2023-05-12T12:57:38.880Z"
   },
   {
    "duration": 18,
    "start_time": "2023-05-12T12:57:47.291Z"
   },
   {
    "duration": 70,
    "start_time": "2023-05-12T12:57:53.210Z"
   },
   {
    "duration": 174,
    "start_time": "2023-05-12T13:04:57.222Z"
   },
   {
    "duration": 13,
    "start_time": "2023-05-12T13:13:11.905Z"
   },
   {
    "duration": 10,
    "start_time": "2023-05-12T13:16:09.762Z"
   },
   {
    "duration": 10,
    "start_time": "2023-05-12T13:19:14.741Z"
   },
   {
    "duration": 18,
    "start_time": "2023-05-12T13:20:34.309Z"
   },
   {
    "duration": 18,
    "start_time": "2023-05-12T13:20:57.403Z"
   },
   {
    "duration": 16,
    "start_time": "2023-05-12T13:22:45.457Z"
   },
   {
    "duration": 23,
    "start_time": "2023-05-12T13:24:59.477Z"
   },
   {
    "duration": 37,
    "start_time": "2023-05-12T13:25:38.023Z"
   },
   {
    "duration": 24,
    "start_time": "2023-05-12T13:25:58.742Z"
   },
   {
    "duration": 30,
    "start_time": "2023-05-12T13:26:19.403Z"
   },
   {
    "duration": 25,
    "start_time": "2023-05-12T13:26:30.631Z"
   },
   {
    "duration": 24,
    "start_time": "2023-05-12T13:26:52.818Z"
   },
   {
    "duration": 11,
    "start_time": "2023-05-12T13:28:16.008Z"
   },
   {
    "duration": 14,
    "start_time": "2023-05-12T13:32:46.405Z"
   },
   {
    "duration": 14,
    "start_time": "2023-05-12T13:32:57.995Z"
   },
   {
    "duration": 17,
    "start_time": "2023-05-12T13:40:39.175Z"
   },
   {
    "duration": 14,
    "start_time": "2023-05-12T13:40:46.839Z"
   },
   {
    "duration": 35,
    "start_time": "2023-05-12T13:41:04.994Z"
   },
   {
    "duration": 17,
    "start_time": "2023-05-12T13:41:18.786Z"
   },
   {
    "duration": 16,
    "start_time": "2023-05-12T13:41:33.250Z"
   },
   {
    "duration": 17,
    "start_time": "2023-05-12T13:41:46.294Z"
   },
   {
    "duration": 15,
    "start_time": "2023-05-12T13:42:27.043Z"
   },
   {
    "duration": 44,
    "start_time": "2023-05-12T13:42:39.138Z"
   },
   {
    "duration": 46,
    "start_time": "2023-05-12T13:42:55.064Z"
   },
   {
    "duration": 62,
    "start_time": "2023-05-12T13:43:11.130Z"
   },
   {
    "duration": 53,
    "start_time": "2023-05-12T13:43:27.091Z"
   },
   {
    "duration": 63,
    "start_time": "2023-05-12T13:43:42.688Z"
   },
   {
    "duration": 83,
    "start_time": "2023-05-12T13:44:03.020Z"
   },
   {
    "duration": 380,
    "start_time": "2023-05-12T13:44:09.849Z"
   },
   {
    "duration": 64,
    "start_time": "2023-05-12T13:44:18.060Z"
   },
   {
    "duration": 63,
    "start_time": "2023-05-12T13:44:38.675Z"
   },
   {
    "duration": 19,
    "start_time": "2023-05-12T13:45:15.514Z"
   },
   {
    "duration": 33,
    "start_time": "2023-05-12T13:45:46.011Z"
   },
   {
    "duration": 30,
    "start_time": "2023-05-12T13:46:01.821Z"
   },
   {
    "duration": 30,
    "start_time": "2023-05-12T13:46:09.454Z"
   },
   {
    "duration": 28,
    "start_time": "2023-05-12T13:47:01.995Z"
   },
   {
    "duration": 19,
    "start_time": "2023-05-12T13:47:36.758Z"
   },
   {
    "duration": 66,
    "start_time": "2023-05-12T13:51:16.206Z"
   },
   {
    "duration": 69,
    "start_time": "2023-05-12T13:51:25.456Z"
   },
   {
    "duration": 55,
    "start_time": "2023-05-12T13:51:38.147Z"
   },
   {
    "duration": 70,
    "start_time": "2023-05-12T13:51:45.379Z"
   },
   {
    "duration": 74,
    "start_time": "2023-05-12T13:52:05.458Z"
   },
   {
    "duration": 57,
    "start_time": "2023-05-12T13:52:33.967Z"
   },
   {
    "duration": 61,
    "start_time": "2023-05-12T13:53:05.224Z"
   },
   {
    "duration": 72,
    "start_time": "2023-05-12T13:53:11.311Z"
   },
   {
    "duration": 16883,
    "start_time": "2023-05-12T13:53:15.920Z"
   },
   {
    "duration": 58,
    "start_time": "2023-05-12T13:55:05.773Z"
   },
   {
    "duration": 9,
    "start_time": "2023-05-12T14:04:53.928Z"
   },
   {
    "duration": 8,
    "start_time": "2023-05-12T14:05:02.322Z"
   },
   {
    "duration": 62,
    "start_time": "2023-05-12T14:05:07.832Z"
   },
   {
    "duration": 88,
    "start_time": "2023-05-12T14:05:17.085Z"
   },
   {
    "duration": 133,
    "start_time": "2023-05-12T14:06:02.930Z"
   },
   {
    "duration": 60,
    "start_time": "2023-05-12T14:06:22.624Z"
   },
   {
    "duration": 112,
    "start_time": "2023-05-12T14:07:04.227Z"
   },
   {
    "duration": 137,
    "start_time": "2023-05-12T14:07:15.356Z"
   },
   {
    "duration": 121,
    "start_time": "2023-05-12T14:07:41.898Z"
   },
   {
    "duration": 99,
    "start_time": "2023-05-12T14:07:57.970Z"
   },
   {
    "duration": 115,
    "start_time": "2023-05-12T14:08:39.346Z"
   },
   {
    "duration": 114,
    "start_time": "2023-05-12T14:09:06.952Z"
   },
   {
    "duration": 111,
    "start_time": "2023-05-12T14:09:36.286Z"
   },
   {
    "duration": 5,
    "start_time": "2023-05-12T14:12:46.192Z"
   },
   {
    "duration": 11,
    "start_time": "2023-05-12T14:13:17.112Z"
   },
   {
    "duration": 435,
    "start_time": "2023-05-12T14:14:30.478Z"
   },
   {
    "duration": 38,
    "start_time": "2023-05-12T14:14:30.915Z"
   },
   {
    "duration": 11,
    "start_time": "2023-05-12T14:14:30.955Z"
   },
   {
    "duration": 42,
    "start_time": "2023-05-12T14:14:30.967Z"
   },
   {
    "duration": 25,
    "start_time": "2023-05-12T14:14:31.012Z"
   },
   {
    "duration": 41,
    "start_time": "2023-05-12T14:14:31.039Z"
   },
   {
    "duration": 35,
    "start_time": "2023-05-12T14:14:31.081Z"
   },
   {
    "duration": 253,
    "start_time": "2023-05-12T14:14:31.117Z"
   },
   {
    "duration": 38,
    "start_time": "2023-05-12T14:14:31.372Z"
   },
   {
    "duration": 50,
    "start_time": "2023-05-12T14:14:31.412Z"
   },
   {
    "duration": 34,
    "start_time": "2023-05-12T14:14:31.464Z"
   },
   {
    "duration": 36,
    "start_time": "2023-05-12T14:14:31.499Z"
   },
   {
    "duration": 57,
    "start_time": "2023-05-12T14:14:31.536Z"
   },
   {
    "duration": 64,
    "start_time": "2023-05-12T14:14:31.597Z"
   },
   {
    "duration": 10,
    "start_time": "2023-05-12T14:14:31.663Z"
   },
   {
    "duration": 65,
    "start_time": "2023-05-12T14:14:31.674Z"
   },
   {
    "duration": 11,
    "start_time": "2023-05-12T14:14:31.741Z"
   },
   {
    "duration": 1511,
    "start_time": "2023-05-12T14:14:31.753Z"
   },
   {
    "duration": 0,
    "start_time": "2023-05-12T14:14:33.266Z"
   },
   {
    "duration": 423,
    "start_time": "2023-05-12T14:15:56.320Z"
   },
   {
    "duration": 45,
    "start_time": "2023-05-12T14:15:56.746Z"
   },
   {
    "duration": 14,
    "start_time": "2023-05-12T14:15:56.796Z"
   },
   {
    "duration": 18,
    "start_time": "2023-05-12T14:15:56.813Z"
   },
   {
    "duration": 24,
    "start_time": "2023-05-12T14:15:56.833Z"
   },
   {
    "duration": 25,
    "start_time": "2023-05-12T14:15:56.860Z"
   },
   {
    "duration": 25,
    "start_time": "2023-05-12T14:15:56.888Z"
   },
   {
    "duration": 242,
    "start_time": "2023-05-12T14:15:56.915Z"
   },
   {
    "duration": 39,
    "start_time": "2023-05-12T14:15:57.159Z"
   },
   {
    "duration": 39,
    "start_time": "2023-05-12T14:15:57.201Z"
   },
   {
    "duration": 24,
    "start_time": "2023-05-12T14:15:57.241Z"
   },
   {
    "duration": 44,
    "start_time": "2023-05-12T14:15:57.266Z"
   },
   {
    "duration": 62,
    "start_time": "2023-05-12T14:15:57.315Z"
   },
   {
    "duration": 87,
    "start_time": "2023-05-12T14:15:57.379Z"
   },
   {
    "duration": 145,
    "start_time": "2023-05-12T14:15:57.468Z"
   },
   {
    "duration": 34,
    "start_time": "2023-05-12T14:15:57.615Z"
   },
   {
    "duration": 10,
    "start_time": "2023-05-12T14:15:57.652Z"
   },
   {
    "duration": 1497,
    "start_time": "2023-05-12T14:15:57.664Z"
   },
   {
    "duration": 0,
    "start_time": "2023-05-12T14:15:59.163Z"
   },
   {
    "duration": 11,
    "start_time": "2023-05-12T14:16:23.520Z"
   },
   {
    "duration": 128,
    "start_time": "2023-05-12T14:20:21.791Z"
   },
   {
    "duration": 145,
    "start_time": "2023-05-12T14:21:03.087Z"
   },
   {
    "duration": 131,
    "start_time": "2023-05-12T14:21:10.307Z"
   },
   {
    "duration": 48,
    "start_time": "2023-05-13T01:29:41.538Z"
   },
   {
    "duration": 6,
    "start_time": "2023-05-13T01:29:47.260Z"
   },
   {
    "duration": 422,
    "start_time": "2023-05-13T01:29:55.490Z"
   },
   {
    "duration": 101,
    "start_time": "2023-05-13T01:29:55.914Z"
   },
   {
    "duration": 11,
    "start_time": "2023-05-13T01:29:56.017Z"
   },
   {
    "duration": 32,
    "start_time": "2023-05-13T01:29:56.030Z"
   },
   {
    "duration": 32,
    "start_time": "2023-05-13T01:29:56.064Z"
   },
   {
    "duration": 21,
    "start_time": "2023-05-13T01:29:56.099Z"
   },
   {
    "duration": 9,
    "start_time": "2023-05-13T01:29:56.122Z"
   },
   {
    "duration": 615,
    "start_time": "2023-05-13T01:29:56.133Z"
   },
   {
    "duration": 32,
    "start_time": "2023-05-13T01:29:56.750Z"
   },
   {
    "duration": 53,
    "start_time": "2023-05-13T01:29:56.785Z"
   },
   {
    "duration": 23,
    "start_time": "2023-05-13T01:29:56.840Z"
   },
   {
    "duration": 49,
    "start_time": "2023-05-13T01:29:56.865Z"
   },
   {
    "duration": 58,
    "start_time": "2023-05-13T01:29:56.915Z"
   },
   {
    "duration": 87,
    "start_time": "2023-05-13T01:29:56.974Z"
   },
   {
    "duration": 146,
    "start_time": "2023-05-13T01:29:57.063Z"
   },
   {
    "duration": 165,
    "start_time": "2023-05-13T01:29:57.216Z"
   },
   {
    "duration": 10,
    "start_time": "2023-05-13T01:29:57.383Z"
   },
   {
    "duration": 26,
    "start_time": "2023-05-13T01:29:57.398Z"
   },
   {
    "duration": 60,
    "start_time": "2023-05-13T01:29:57.426Z"
   },
   {
    "duration": 10,
    "start_time": "2023-05-13T01:30:04.994Z"
   },
   {
    "duration": 6,
    "start_time": "2023-05-13T01:30:09.074Z"
   },
   {
    "duration": 7,
    "start_time": "2023-05-13T01:30:31.415Z"
   },
   {
    "duration": 4,
    "start_time": "2023-05-13T01:38:23.614Z"
   },
   {
    "duration": 9,
    "start_time": "2023-05-13T01:39:01.552Z"
   },
   {
    "duration": 8,
    "start_time": "2023-05-13T01:39:41.376Z"
   },
   {
    "duration": 9,
    "start_time": "2023-05-13T01:39:45.404Z"
   },
   {
    "duration": 57,
    "start_time": "2023-05-13T01:40:47.552Z"
   },
   {
    "duration": 22,
    "start_time": "2023-05-13T01:40:51.192Z"
   },
   {
    "duration": 16,
    "start_time": "2023-05-13T01:40:58.419Z"
   },
   {
    "duration": 31,
    "start_time": "2023-05-13T01:41:33.773Z"
   },
   {
    "duration": 28,
    "start_time": "2023-05-13T01:41:40.277Z"
   },
   {
    "duration": 25,
    "start_time": "2023-05-13T01:41:47.811Z"
   },
   {
    "duration": 12,
    "start_time": "2023-05-13T01:44:09.409Z"
   },
   {
    "duration": 6,
    "start_time": "2023-05-13T01:44:44.888Z"
   },
   {
    "duration": 987,
    "start_time": "2023-05-13T01:45:21.660Z"
   },
   {
    "duration": 5,
    "start_time": "2023-05-13T01:45:34.237Z"
   },
   {
    "duration": 8,
    "start_time": "2023-05-13T01:46:02.800Z"
   },
   {
    "duration": 8,
    "start_time": "2023-05-13T01:46:06.792Z"
   },
   {
    "duration": 30,
    "start_time": "2023-05-13T01:55:10.211Z"
   },
   {
    "duration": 244,
    "start_time": "2023-05-13T01:55:55.924Z"
   },
   {
    "duration": 7,
    "start_time": "2023-05-13T02:24:15.039Z"
   },
   {
    "duration": 7,
    "start_time": "2023-05-13T02:24:27.731Z"
   },
   {
    "duration": 10,
    "start_time": "2023-05-13T02:24:32.108Z"
   },
   {
    "duration": 9,
    "start_time": "2023-05-13T02:24:45.860Z"
   },
   {
    "duration": 10,
    "start_time": "2023-05-13T03:25:49.156Z"
   },
   {
    "duration": 39,
    "start_time": "2023-05-13T03:25:55.157Z"
   },
   {
    "duration": 23,
    "start_time": "2023-05-13T03:26:19.959Z"
   },
   {
    "duration": 20,
    "start_time": "2023-05-13T03:26:24.728Z"
   },
   {
    "duration": 15,
    "start_time": "2023-05-13T03:27:16.434Z"
   },
   {
    "duration": 14,
    "start_time": "2023-05-13T03:28:43.692Z"
   },
   {
    "duration": 19,
    "start_time": "2023-05-13T03:28:47.094Z"
   },
   {
    "duration": 14,
    "start_time": "2023-05-13T03:28:51.711Z"
   },
   {
    "duration": 6,
    "start_time": "2023-05-13T03:28:53.912Z"
   },
   {
    "duration": 5,
    "start_time": "2023-05-13T03:28:59.460Z"
   },
   {
    "duration": 997,
    "start_time": "2023-05-13T03:29:05.360Z"
   },
   {
    "duration": 6,
    "start_time": "2023-05-13T03:29:16.171Z"
   },
   {
    "duration": 9,
    "start_time": "2023-05-13T03:29:30.482Z"
   },
   {
    "duration": 4,
    "start_time": "2023-05-13T03:30:08.143Z"
   },
   {
    "duration": 63,
    "start_time": "2023-05-13T03:30:15.552Z"
   },
   {
    "duration": 479,
    "start_time": "2023-05-13T03:30:34.313Z"
   },
   {
    "duration": 65,
    "start_time": "2023-05-13T03:30:34.796Z"
   },
   {
    "duration": 21,
    "start_time": "2023-05-13T03:30:34.864Z"
   },
   {
    "duration": 57,
    "start_time": "2023-05-13T03:30:34.888Z"
   },
   {
    "duration": 27,
    "start_time": "2023-05-13T03:30:34.947Z"
   },
   {
    "duration": 51,
    "start_time": "2023-05-13T03:30:34.977Z"
   },
   {
    "duration": 19,
    "start_time": "2023-05-13T03:30:35.030Z"
   },
   {
    "duration": 285,
    "start_time": "2023-05-13T03:30:35.051Z"
   },
   {
    "duration": 34,
    "start_time": "2023-05-13T03:30:35.338Z"
   },
   {
    "duration": 70,
    "start_time": "2023-05-13T03:30:35.376Z"
   },
   {
    "duration": 28,
    "start_time": "2023-05-13T03:30:35.448Z"
   },
   {
    "duration": 38,
    "start_time": "2023-05-13T03:30:35.478Z"
   },
   {
    "duration": 68,
    "start_time": "2023-05-13T03:30:35.520Z"
   },
   {
    "duration": 94,
    "start_time": "2023-05-13T03:30:35.590Z"
   },
   {
    "duration": 201,
    "start_time": "2023-05-13T03:30:35.686Z"
   },
   {
    "duration": 18,
    "start_time": "2023-05-13T03:30:35.889Z"
   },
   {
    "duration": 85,
    "start_time": "2023-05-13T03:30:35.914Z"
   },
   {
    "duration": 17,
    "start_time": "2023-05-13T03:30:36.002Z"
   },
   {
    "duration": 35,
    "start_time": "2023-05-13T03:30:36.021Z"
   },
   {
    "duration": 6,
    "start_time": "2023-05-13T03:30:36.058Z"
   },
   {
    "duration": 21,
    "start_time": "2023-05-13T03:30:36.066Z"
   },
   {
    "duration": 44,
    "start_time": "2023-05-13T03:30:36.089Z"
   },
   {
    "duration": 15,
    "start_time": "2023-05-13T03:30:36.135Z"
   },
   {
    "duration": 40,
    "start_time": "2023-05-13T03:30:36.152Z"
   },
   {
    "duration": 90,
    "start_time": "2023-05-13T03:30:36.194Z"
   },
   {
    "duration": 20,
    "start_time": "2023-05-13T03:30:36.286Z"
   },
   {
    "duration": 1223,
    "start_time": "2023-05-13T03:30:46.568Z"
   },
   {
    "duration": 6,
    "start_time": "2023-05-13T03:31:01.839Z"
   },
   {
    "duration": 15,
    "start_time": "2023-05-13T03:32:23.090Z"
   },
   {
    "duration": 18,
    "start_time": "2023-05-13T03:32:26.564Z"
   },
   {
    "duration": 20,
    "start_time": "2023-05-13T03:34:20.556Z"
   },
   {
    "duration": 18,
    "start_time": "2023-05-13T03:45:22.176Z"
   },
   {
    "duration": 19,
    "start_time": "2023-05-13T03:47:55.727Z"
   },
   {
    "duration": 164,
    "start_time": "2023-05-13T03:48:44.255Z"
   },
   {
    "duration": 21,
    "start_time": "2023-05-13T03:53:38.314Z"
   },
   {
    "duration": 30,
    "start_time": "2023-05-13T03:53:42.496Z"
   },
   {
    "duration": 392,
    "start_time": "2023-05-14T08:27:39.943Z"
   },
   {
    "duration": 93,
    "start_time": "2023-05-14T08:27:40.337Z"
   },
   {
    "duration": 9,
    "start_time": "2023-05-14T08:27:40.433Z"
   },
   {
    "duration": 5,
    "start_time": "2023-05-14T08:27:40.444Z"
   },
   {
    "duration": 15,
    "start_time": "2023-05-14T08:27:40.451Z"
   },
   {
    "duration": 7,
    "start_time": "2023-05-14T08:27:40.468Z"
   },
   {
    "duration": 12,
    "start_time": "2023-05-14T08:27:40.476Z"
   },
   {
    "duration": 530,
    "start_time": "2023-05-14T08:27:40.489Z"
   },
   {
    "duration": 35,
    "start_time": "2023-05-14T08:27:41.020Z"
   },
   {
    "duration": 41,
    "start_time": "2023-05-14T08:27:41.057Z"
   },
   {
    "duration": 36,
    "start_time": "2023-05-14T08:27:41.100Z"
   },
   {
    "duration": 20,
    "start_time": "2023-05-14T08:27:41.138Z"
   },
   {
    "duration": 74,
    "start_time": "2023-05-14T08:27:41.160Z"
   },
   {
    "duration": 58,
    "start_time": "2023-05-14T08:27:41.237Z"
   },
   {
    "duration": 160,
    "start_time": "2023-05-14T08:27:41.297Z"
   },
   {
    "duration": 4,
    "start_time": "2023-05-14T08:27:41.458Z"
   },
   {
    "duration": 190,
    "start_time": "2023-05-14T08:27:41.464Z"
   },
   {
    "duration": 10,
    "start_time": "2023-05-14T08:27:41.656Z"
   },
   {
    "duration": 26,
    "start_time": "2023-05-14T08:27:41.667Z"
   },
   {
    "duration": 10,
    "start_time": "2023-05-14T08:27:41.694Z"
   },
   {
    "duration": 18,
    "start_time": "2023-05-14T08:27:41.705Z"
   },
   {
    "duration": 27,
    "start_time": "2023-05-14T08:27:41.728Z"
   },
   {
    "duration": 14,
    "start_time": "2023-05-14T08:27:41.756Z"
   },
   {
    "duration": 21,
    "start_time": "2023-05-14T08:27:41.772Z"
   },
   {
    "duration": 4,
    "start_time": "2023-05-14T08:27:41.795Z"
   },
   {
    "duration": 150,
    "start_time": "2023-05-14T08:27:41.800Z"
   },
   {
    "duration": 17,
    "start_time": "2023-05-14T08:29:50.316Z"
   },
   {
    "duration": 15,
    "start_time": "2023-05-14T08:30:26.879Z"
   },
   {
    "duration": 81,
    "start_time": "2023-05-14T08:31:16.630Z"
   },
   {
    "duration": 11,
    "start_time": "2023-05-14T08:31:54.193Z"
   },
   {
    "duration": 16,
    "start_time": "2023-05-14T08:32:10.124Z"
   },
   {
    "duration": 34,
    "start_time": "2023-05-14T08:32:21.609Z"
   },
   {
    "duration": 20,
    "start_time": "2023-05-14T08:32:42.119Z"
   },
   {
    "duration": 25,
    "start_time": "2023-05-14T08:32:45.888Z"
   },
   {
    "duration": 16,
    "start_time": "2023-05-14T08:33:20.981Z"
   },
   {
    "duration": 10,
    "start_time": "2023-05-14T08:35:09.137Z"
   },
   {
    "duration": 26,
    "start_time": "2023-05-14T08:35:21.628Z"
   },
   {
    "duration": 16,
    "start_time": "2023-05-14T08:35:39.631Z"
   },
   {
    "duration": 16,
    "start_time": "2023-05-14T08:36:12.617Z"
   },
   {
    "duration": 30,
    "start_time": "2023-05-14T08:37:01.314Z"
   },
   {
    "duration": 15,
    "start_time": "2023-05-14T08:37:05.732Z"
   },
   {
    "duration": 18,
    "start_time": "2023-05-14T08:37:09.850Z"
   },
   {
    "duration": 22,
    "start_time": "2023-05-14T08:37:16.887Z"
   },
   {
    "duration": 17,
    "start_time": "2023-05-14T08:37:47.490Z"
   },
   {
    "duration": 54,
    "start_time": "2023-05-14T08:37:58.116Z"
   },
   {
    "duration": 38,
    "start_time": "2023-05-14T08:38:42.012Z"
   },
   {
    "duration": 35,
    "start_time": "2023-05-14T08:38:53.017Z"
   },
   {
    "duration": 15,
    "start_time": "2023-05-14T08:39:13.015Z"
   },
   {
    "duration": 8,
    "start_time": "2023-05-14T08:40:04.858Z"
   },
   {
    "duration": 511,
    "start_time": "2023-05-15T04:31:20.805Z"
   },
   {
    "duration": 127,
    "start_time": "2023-05-15T04:31:21.319Z"
   },
   {
    "duration": 15,
    "start_time": "2023-05-15T04:31:21.449Z"
   },
   {
    "duration": 44,
    "start_time": "2023-05-15T04:31:21.467Z"
   },
   {
    "duration": 31,
    "start_time": "2023-05-15T04:31:21.514Z"
   },
   {
    "duration": 14,
    "start_time": "2023-05-15T04:31:21.547Z"
   },
   {
    "duration": 6,
    "start_time": "2023-05-15T04:31:21.564Z"
   },
   {
    "duration": 850,
    "start_time": "2023-05-15T04:31:21.572Z"
   },
   {
    "duration": 72,
    "start_time": "2023-05-15T04:31:22.425Z"
   },
   {
    "duration": 82,
    "start_time": "2023-05-15T04:31:22.506Z"
   },
   {
    "duration": 55,
    "start_time": "2023-05-15T04:31:22.590Z"
   },
   {
    "duration": 37,
    "start_time": "2023-05-15T04:31:22.647Z"
   },
   {
    "duration": 92,
    "start_time": "2023-05-15T04:31:22.687Z"
   },
   {
    "duration": 84,
    "start_time": "2023-05-15T04:31:22.780Z"
   },
   {
    "duration": 242,
    "start_time": "2023-05-15T04:31:22.867Z"
   },
   {
    "duration": 6,
    "start_time": "2023-05-15T04:31:23.118Z"
   },
   {
    "duration": 238,
    "start_time": "2023-05-15T04:31:23.126Z"
   },
   {
    "duration": 21,
    "start_time": "2023-05-15T04:31:23.367Z"
   },
   {
    "duration": 51,
    "start_time": "2023-05-15T04:31:23.389Z"
   },
   {
    "duration": 8,
    "start_time": "2023-05-15T04:31:23.442Z"
   },
   {
    "duration": 11,
    "start_time": "2023-05-15T04:31:23.452Z"
   },
   {
    "duration": 19,
    "start_time": "2023-05-15T04:31:23.465Z"
   },
   {
    "duration": 52,
    "start_time": "2023-05-15T04:31:23.486Z"
   },
   {
    "duration": 24,
    "start_time": "2023-05-15T04:31:23.540Z"
   },
   {
    "duration": 11,
    "start_time": "2023-05-15T04:31:23.566Z"
   },
   {
    "duration": 214,
    "start_time": "2023-05-15T04:31:23.584Z"
   },
   {
    "duration": 151,
    "start_time": "2023-05-15T04:44:36.608Z"
   },
   {
    "duration": 81,
    "start_time": "2023-05-15T04:54:29.159Z"
   },
   {
    "duration": 19,
    "start_time": "2023-05-15T04:55:01.190Z"
   },
   {
    "duration": 111,
    "start_time": "2023-05-15T04:55:32.096Z"
   },
   {
    "duration": 19,
    "start_time": "2023-05-15T04:55:37.195Z"
   },
   {
    "duration": 14,
    "start_time": "2023-05-15T04:55:53.143Z"
   },
   {
    "duration": 10,
    "start_time": "2023-05-15T04:57:01.832Z"
   },
   {
    "duration": 12,
    "start_time": "2023-05-15T04:57:05.502Z"
   },
   {
    "duration": 7,
    "start_time": "2023-05-15T04:57:52.046Z"
   },
   {
    "duration": 6,
    "start_time": "2023-05-15T04:57:56.254Z"
   },
   {
    "duration": 8,
    "start_time": "2023-05-15T05:00:26.357Z"
   },
   {
    "duration": 13,
    "start_time": "2023-05-15T05:01:24.127Z"
   },
   {
    "duration": 1100,
    "start_time": "2023-05-15T07:05:09.254Z"
   },
   {
    "duration": 94,
    "start_time": "2023-05-15T07:05:12.124Z"
   },
   {
    "duration": 38,
    "start_time": "2023-05-15T07:07:19.987Z"
   },
   {
    "duration": 4,
    "start_time": "2023-05-16T05:45:58.383Z"
   },
   {
    "duration": 4,
    "start_time": "2023-05-16T06:39:21.488Z"
   },
   {
    "duration": 399,
    "start_time": "2023-05-16T06:39:21.494Z"
   },
   {
    "duration": 87,
    "start_time": "2023-05-16T06:39:21.895Z"
   },
   {
    "duration": 10,
    "start_time": "2023-05-16T06:39:21.984Z"
   },
   {
    "duration": 4,
    "start_time": "2023-05-16T06:39:21.996Z"
   },
   {
    "duration": 11,
    "start_time": "2023-05-16T06:39:22.001Z"
   },
   {
    "duration": 7,
    "start_time": "2023-05-16T06:39:22.013Z"
   },
   {
    "duration": 7,
    "start_time": "2023-05-16T06:39:22.022Z"
   },
   {
    "duration": 719,
    "start_time": "2023-05-16T06:39:22.031Z"
   },
   {
    "duration": 35,
    "start_time": "2023-05-16T06:39:22.752Z"
   },
   {
    "duration": 38,
    "start_time": "2023-05-16T06:39:22.788Z"
   },
   {
    "duration": 22,
    "start_time": "2023-05-16T06:39:22.827Z"
   },
   {
    "duration": 46,
    "start_time": "2023-05-16T06:39:22.850Z"
   },
   {
    "duration": 58,
    "start_time": "2023-05-16T06:39:22.898Z"
   },
   {
    "duration": 81,
    "start_time": "2023-05-16T06:39:22.958Z"
   },
   {
    "duration": 154,
    "start_time": "2023-05-16T06:39:23.041Z"
   },
   {
    "duration": 6,
    "start_time": "2023-05-16T06:39:23.197Z"
   },
   {
    "duration": 373,
    "start_time": "2023-05-16T06:39:23.205Z"
   },
   {
    "duration": 14,
    "start_time": "2023-05-16T06:39:23.583Z"
   },
   {
    "duration": 10,
    "start_time": "2023-05-16T06:39:23.599Z"
   },
   {
    "duration": 4,
    "start_time": "2023-05-16T06:39:23.611Z"
   },
   {
    "duration": 9,
    "start_time": "2023-05-16T06:39:23.616Z"
   },
   {
    "duration": 9,
    "start_time": "2023-05-16T06:39:23.626Z"
   },
   {
    "duration": 44,
    "start_time": "2023-05-16T06:39:23.637Z"
   },
   {
    "duration": 8,
    "start_time": "2023-05-16T06:39:23.683Z"
   },
   {
    "duration": 9,
    "start_time": "2023-05-16T06:39:23.693Z"
   },
   {
    "duration": 6,
    "start_time": "2023-05-16T06:39:23.704Z"
   },
   {
    "duration": 4,
    "start_time": "2023-05-16T06:47:26.859Z"
   },
   {
    "duration": 439,
    "start_time": "2023-05-16T06:47:26.865Z"
   },
   {
    "duration": 38,
    "start_time": "2023-05-16T06:47:27.305Z"
   },
   {
    "duration": 10,
    "start_time": "2023-05-16T06:47:27.345Z"
   },
   {
    "duration": 6,
    "start_time": "2023-05-16T06:47:27.358Z"
   },
   {
    "duration": 19,
    "start_time": "2023-05-16T06:47:27.366Z"
   },
   {
    "duration": 21,
    "start_time": "2023-05-16T06:47:27.392Z"
   },
   {
    "duration": 12,
    "start_time": "2023-05-16T06:47:27.415Z"
   },
   {
    "duration": 268,
    "start_time": "2023-05-16T06:47:27.429Z"
   },
   {
    "duration": 38,
    "start_time": "2023-05-16T06:47:27.707Z"
   },
   {
    "duration": 53,
    "start_time": "2023-05-16T06:47:27.747Z"
   },
   {
    "duration": 27,
    "start_time": "2023-05-16T06:47:27.810Z"
   },
   {
    "duration": 25,
    "start_time": "2023-05-16T06:47:27.839Z"
   },
   {
    "duration": 80,
    "start_time": "2023-05-16T06:47:27.876Z"
   },
   {
    "duration": 85,
    "start_time": "2023-05-16T06:47:27.957Z"
   },
   {
    "duration": 180,
    "start_time": "2023-05-16T06:47:28.044Z"
   },
   {
    "duration": 5,
    "start_time": "2023-05-16T06:47:28.225Z"
   },
   {
    "duration": 34,
    "start_time": "2023-05-16T06:47:28.232Z"
   },
   {
    "duration": 21,
    "start_time": "2023-05-16T06:47:28.267Z"
   },
   {
    "duration": 17,
    "start_time": "2023-05-16T06:47:28.290Z"
   },
   {
    "duration": 5,
    "start_time": "2023-05-16T06:47:28.308Z"
   },
   {
    "duration": 8,
    "start_time": "2023-05-16T06:47:28.314Z"
   },
   {
    "duration": 10,
    "start_time": "2023-05-16T06:47:28.323Z"
   },
   {
    "duration": 12,
    "start_time": "2023-05-16T06:47:28.334Z"
   },
   {
    "duration": 39,
    "start_time": "2023-05-16T06:47:28.348Z"
   },
   {
    "duration": 13,
    "start_time": "2023-05-16T06:47:28.391Z"
   },
   {
    "duration": 8,
    "start_time": "2023-05-16T06:47:28.406Z"
   },
   {
    "duration": 10,
    "start_time": "2023-05-16T06:52:34.070Z"
   },
   {
    "duration": 427,
    "start_time": "2023-05-16T06:52:34.083Z"
   },
   {
    "duration": 37,
    "start_time": "2023-05-16T06:52:34.513Z"
   },
   {
    "duration": 10,
    "start_time": "2023-05-16T06:52:34.552Z"
   },
   {
    "duration": 6,
    "start_time": "2023-05-16T06:52:34.565Z"
   },
   {
    "duration": 28,
    "start_time": "2023-05-16T06:52:34.573Z"
   },
   {
    "duration": 8,
    "start_time": "2023-05-16T06:52:34.605Z"
   },
   {
    "duration": 5,
    "start_time": "2023-05-16T06:52:34.614Z"
   },
   {
    "duration": 234,
    "start_time": "2023-05-16T06:52:34.621Z"
   },
   {
    "duration": 47,
    "start_time": "2023-05-16T06:52:34.857Z"
   },
   {
    "duration": 36,
    "start_time": "2023-05-16T06:52:34.905Z"
   },
   {
    "duration": 47,
    "start_time": "2023-05-16T06:52:34.942Z"
   },
   {
    "duration": 26,
    "start_time": "2023-05-16T06:52:34.990Z"
   },
   {
    "duration": 98,
    "start_time": "2023-05-16T06:52:35.018Z"
   },
   {
    "duration": 105,
    "start_time": "2023-05-16T06:52:35.118Z"
   },
   {
    "duration": 173,
    "start_time": "2023-05-16T06:52:35.225Z"
   },
   {
    "duration": 11,
    "start_time": "2023-05-16T06:52:35.400Z"
   },
   {
    "duration": 30,
    "start_time": "2023-05-16T06:52:35.414Z"
   },
   {
    "duration": 11,
    "start_time": "2023-05-16T06:52:35.446Z"
   },
   {
    "duration": 25,
    "start_time": "2023-05-16T06:52:35.458Z"
   },
   {
    "duration": 12,
    "start_time": "2023-05-16T06:52:35.491Z"
   },
   {
    "duration": 9,
    "start_time": "2023-05-16T06:52:35.504Z"
   },
   {
    "duration": 16,
    "start_time": "2023-05-16T06:52:35.515Z"
   },
   {
    "duration": 36,
    "start_time": "2023-05-16T06:52:35.533Z"
   },
   {
    "duration": 26,
    "start_time": "2023-05-16T06:52:35.570Z"
   },
   {
    "duration": 12,
    "start_time": "2023-05-16T06:52:35.598Z"
   },
   {
    "duration": 11,
    "start_time": "2023-05-16T06:52:35.612Z"
   }
  ],
  "kernelspec": {
   "display_name": "Python 3 (ipykernel)",
   "language": "python",
   "name": "python3"
  },
  "language_info": {
   "codemirror_mode": {
    "name": "ipython",
    "version": 3
   },
   "file_extension": ".py",
   "mimetype": "text/x-python",
   "name": "python",
   "nbconvert_exporter": "python",
   "pygments_lexer": "ipython3",
   "version": "3.9.5"
  },
  "toc": {
   "base_numbering": 1,
   "nav_menu": {},
   "number_sections": true,
   "sideBar": true,
   "skip_h1_title": true,
   "title_cell": "Table of Contents",
   "title_sidebar": "Contents",
   "toc_cell": false,
   "toc_position": {
    "height": "calc(100% - 180px)",
    "left": "10px",
    "top": "150px",
    "width": "243.042px"
   },
   "toc_section_display": true,
   "toc_window_display": true
  }
 },
 "nbformat": 4,
 "nbformat_minor": 2
}
