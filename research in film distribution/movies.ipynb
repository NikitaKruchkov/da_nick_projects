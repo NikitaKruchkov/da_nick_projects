{
 "cells": [
  {
   "cell_type": "markdown",
   "metadata": {
    "id": "sIfNaMOxgFyK"
   },
   "source": [
    "## Исследование данных о российском кинопрокате\n",
    "\n"
   ]
  },
  {
   "cell_type": "markdown",
   "metadata": {},
   "source": [
    "Заказчик этого исследования — Министерство культуры Российской Федерации.\n",
    "Нужно изучить рынок российского кинопроката и выявить текущие тренды. Уделить внимание фильмам, которые получили государственную поддержку. Попробую ответить на вопрос, насколько такие фильмы интересны зрителю, а так же провести самостоятельное исследование и найти любопытные закономерности в данных.\n",
    "Шаги исследования:\n",
    "1. Открыть файлы и объединить их  в один датасет.\n",
    "2. Произвести предобработку данных\n",
    "- заменить/удалить пропуски\n",
    "- проработать явные и неявные дубликаты\n",
    "- изучить столбцы с категориальными значениями, исправить возможные ошибки\n",
    "- изучить столбцы с числовыми значениями\n",
    "3. Изменить типы данных в столбцах, по необходимости\n",
    "4. Создать столбцы с годом проката, с основными жанрами, с основными режиссерами, с суммой/долей гос поддержки, с прибылью проката.\n",
    "5. Провести исследовательский анализ данных ответив на вопросы:\n",
    "-  сколько фильмов выходило в прокат каждый год.\n",
    "- Изучить, как менялась динамика проката по годам.\n",
    "- посчитать среднюю и медианную сумму сборов для каждого года\n",
    "- Определить, влияет ли возрастное ограничение аудитории («6+», «12+», «16+», «18+» и т. д.) на сборы фильма\n",
    "6. Найти любопытные закономерности в данных."
   ]
  },
  {
   "cell_type": "markdown",
   "metadata": {
    "id": "3bSlkCsbgFyL"
   },
   "source": [
    "### Шаг 1. Откройте файлы с данными и объедините их в один датафрейм. \n",
    "\n",
    "Объединяю данные таким образом, чтобы все объекты из датасета `mkrf_movies` обязательно вошли в получившийся датафрейм. \n",
    "\n"
   ]
  },
  {
   "cell_type": "code",
   "execution_count": 1,
   "metadata": {
    "id": "dw87FlzMgFyM",
    "scrolled": true
   },
   "outputs": [],
   "source": [
    "import pandas as pd\n",
    "import seaborn as sns\n",
    "import matplotlib.pyplot as plt\n",
    "import numpy as np\n",
    "pd.options.display.float_format = '{:,.2f}'.format\n",
    "\n",
    "movies = pd.read_csv('/datasets/mkrf_movies.csv')\n",
    "shows = pd.read_csv('/datasets/mkrf_shows.csv')\n",
    "movies[movies['puNumber']=='нет'] \n",
    "movies.loc[1797,'puNumber']=0\n",
    "movies['puNumber'] = movies['puNumber'].astype('int64')\n",
    "#заменил на ноль значение \"нет\", мешающее изменить тип данных для слияния\n",
    "#Меняю тип данных общего столбца для слияния двух таблиц\n",
    "df = pd.merge(movies,shows, on='puNumber', how=\"left\")\n",
    "#Объединяю две таблицы \n",
    "\n"
   ]
  },
  {
   "cell_type": "code",
   "execution_count": 2,
   "metadata": {},
   "outputs": [
    {
     "data": {
      "text/html": [
       "<div>\n",
       "<style scoped>\n",
       "    .dataframe tbody tr th:only-of-type {\n",
       "        vertical-align: middle;\n",
       "    }\n",
       "\n",
       "    .dataframe tbody tr th {\n",
       "        vertical-align: top;\n",
       "    }\n",
       "\n",
       "    .dataframe thead th {\n",
       "        text-align: right;\n",
       "    }\n",
       "</style>\n",
       "<table border=\"1\" class=\"dataframe\">\n",
       "  <thead>\n",
       "    <tr style=\"text-align: right;\">\n",
       "      <th></th>\n",
       "      <th>title</th>\n",
       "      <th>puNumber</th>\n",
       "      <th>show_start_date</th>\n",
       "      <th>type</th>\n",
       "      <th>film_studio</th>\n",
       "      <th>production_country</th>\n",
       "      <th>director</th>\n",
       "      <th>producer</th>\n",
       "      <th>age_restriction</th>\n",
       "      <th>refundable_support</th>\n",
       "      <th>nonrefundable_support</th>\n",
       "      <th>budget</th>\n",
       "      <th>financing_source</th>\n",
       "      <th>ratings</th>\n",
       "      <th>genres</th>\n",
       "      <th>box_office</th>\n",
       "    </tr>\n",
       "  </thead>\n",
       "  <tbody>\n",
       "    <tr>\n",
       "      <th>0</th>\n",
       "      <td>Открытый простор</td>\n",
       "      <td>221048915</td>\n",
       "      <td>2015-11-27T12:00:00.000Z</td>\n",
       "      <td>Художественный</td>\n",
       "      <td>Тачстоун Пикчерз, Кобальт Пикчерз, Бикон Пикче...</td>\n",
       "      <td>США</td>\n",
       "      <td>Кевин Костнер</td>\n",
       "      <td>Дэвид Валдес, Кевин Костнер, Джейк Эбертс</td>\n",
       "      <td>«18+» - запрещено для детей</td>\n",
       "      <td>NaN</td>\n",
       "      <td>NaN</td>\n",
       "      <td>NaN</td>\n",
       "      <td>NaN</td>\n",
       "      <td>7.2</td>\n",
       "      <td>боевик,драма,мелодрама</td>\n",
       "      <td>NaN</td>\n",
       "    </tr>\n",
       "  </tbody>\n",
       "</table>\n",
       "</div>"
      ],
      "text/plain": [
       "              title   puNumber           show_start_date            type  \\\n",
       "0  Открытый простор  221048915  2015-11-27T12:00:00.000Z  Художественный   \n",
       "\n",
       "                                         film_studio production_country  \\\n",
       "0  Тачстоун Пикчерз, Кобальт Пикчерз, Бикон Пикче...                США   \n",
       "\n",
       "        director                                   producer  \\\n",
       "0  Кевин Костнер  Дэвид Валдес, Кевин Костнер, Джейк Эбертс   \n",
       "\n",
       "               age_restriction  refundable_support  nonrefundable_support  \\\n",
       "0  «18+» - запрещено для детей                 NaN                    NaN   \n",
       "\n",
       "   budget financing_source ratings                  genres  box_office  \n",
       "0     NaN              NaN     7.2  боевик,драма,мелодрама         NaN  "
      ]
     },
     "execution_count": 2,
     "metadata": {},
     "output_type": "execute_result"
    }
   ],
   "source": [
    "df.head(1)"
   ]
  },
  {
   "cell_type": "code",
   "execution_count": 3,
   "metadata": {},
   "outputs": [
    {
     "name": "stdout",
     "output_type": "stream",
     "text": [
      "<class 'pandas.core.frame.DataFrame'>\n",
      "Int64Index: 7486 entries, 0 to 7485\n",
      "Data columns (total 16 columns):\n",
      " #   Column                 Non-Null Count  Dtype  \n",
      "---  ------                 --------------  -----  \n",
      " 0   title                  7486 non-null   object \n",
      " 1   puNumber               7486 non-null   int64  \n",
      " 2   show_start_date        7486 non-null   object \n",
      " 3   type                   7486 non-null   object \n",
      " 4   film_studio            7468 non-null   object \n",
      " 5   production_country     7484 non-null   object \n",
      " 6   director               7477 non-null   object \n",
      " 7   producer               6918 non-null   object \n",
      " 8   age_restriction        7486 non-null   object \n",
      " 9   refundable_support     332 non-null    float64\n",
      " 10  nonrefundable_support  332 non-null    float64\n",
      " 11  budget                 332 non-null    float64\n",
      " 12  financing_source       332 non-null    object \n",
      " 13  ratings                6519 non-null   object \n",
      " 14  genres                 6510 non-null   object \n",
      " 15  box_office             3158 non-null   float64\n",
      "dtypes: float64(4), int64(1), object(11)\n",
      "memory usage: 994.2+ KB\n"
     ]
    }
   ],
   "source": [
    "df.info()"
   ]
  },
  {
   "cell_type": "markdown",
   "metadata": {
    "id": "KLDGpPG0gFyM"
   },
   "source": [
    "### Шаг 2. Предобработка данных"
   ]
  },
  {
   "cell_type": "markdown",
   "metadata": {
    "id": "ssWwKXsxgFyO"
   },
   "source": [
    "#### Шаг 2.1. Проверяю типы данных\n",
    "\n",
    "- Проверить типы данных в датафрейме и преобразовать их там, где это необходимо."
   ]
  },
  {
   "cell_type": "code",
   "execution_count": 4,
   "metadata": {
    "scrolled": false
   },
   "outputs": [
    {
     "data": {
      "text/html": [
       "<div>\n",
       "<style scoped>\n",
       "    .dataframe tbody tr th:only-of-type {\n",
       "        vertical-align: middle;\n",
       "    }\n",
       "\n",
       "    .dataframe tbody tr th {\n",
       "        vertical-align: top;\n",
       "    }\n",
       "\n",
       "    .dataframe thead th {\n",
       "        text-align: right;\n",
       "    }\n",
       "</style>\n",
       "<table border=\"1\" class=\"dataframe\">\n",
       "  <thead>\n",
       "    <tr style=\"text-align: right;\">\n",
       "      <th></th>\n",
       "      <th>title</th>\n",
       "      <th>pu_number</th>\n",
       "      <th>show_start_date</th>\n",
       "      <th>type</th>\n",
       "      <th>film_studio</th>\n",
       "      <th>production_country</th>\n",
       "      <th>director</th>\n",
       "      <th>producer</th>\n",
       "      <th>age_restriction</th>\n",
       "      <th>refundable_support</th>\n",
       "      <th>nonrefundable_support</th>\n",
       "      <th>budget</th>\n",
       "      <th>financing_source</th>\n",
       "      <th>ratings</th>\n",
       "      <th>genres</th>\n",
       "      <th>box_office</th>\n",
       "    </tr>\n",
       "  </thead>\n",
       "  <tbody>\n",
       "    <tr>\n",
       "      <th>0</th>\n",
       "      <td>Открытый простор</td>\n",
       "      <td>221048915</td>\n",
       "      <td>2015-11-27</td>\n",
       "      <td>Художественный</td>\n",
       "      <td>Тачстоун Пикчерз, Кобальт Пикчерз, Бикон Пикче...</td>\n",
       "      <td>США</td>\n",
       "      <td>Кевин Костнер</td>\n",
       "      <td>Дэвид Валдес, Кевин Костнер, Джейк Эбертс</td>\n",
       "      <td>«18+» - запрещено для детей</td>\n",
       "      <td>NaN</td>\n",
       "      <td>NaN</td>\n",
       "      <td>NaN</td>\n",
       "      <td>NaN</td>\n",
       "      <td>7.2</td>\n",
       "      <td>боевик,драма,мелодрама</td>\n",
       "      <td>NaN</td>\n",
       "    </tr>\n",
       "    <tr>\n",
       "      <th>1</th>\n",
       "      <td>Особо важное задание</td>\n",
       "      <td>111013716</td>\n",
       "      <td>2016-09-13</td>\n",
       "      <td>Художественный</td>\n",
       "      <td>Киностудия \"Мосфильм\"</td>\n",
       "      <td>СССР</td>\n",
       "      <td>Е.Матвеев</td>\n",
       "      <td>NaN</td>\n",
       "      <td>«6+» - для детей старше 6 лет</td>\n",
       "      <td>NaN</td>\n",
       "      <td>NaN</td>\n",
       "      <td>NaN</td>\n",
       "      <td>NaN</td>\n",
       "      <td>6.6</td>\n",
       "      <td>драма,военный</td>\n",
       "      <td>NaN</td>\n",
       "    </tr>\n",
       "    <tr>\n",
       "      <th>2</th>\n",
       "      <td>Особо опасен</td>\n",
       "      <td>221038416</td>\n",
       "      <td>2016-10-10</td>\n",
       "      <td>Художественный</td>\n",
       "      <td>Юниверсал Пикчерз, Кикстарт Продакшнз, Марк Пл...</td>\n",
       "      <td>США</td>\n",
       "      <td>Тимур Бекмамбетов</td>\n",
       "      <td>Джим Лемли, Джейсон Нетер, Марк Е.Платт, Яйн Смит</td>\n",
       "      <td>«18+» - запрещено для детей</td>\n",
       "      <td>NaN</td>\n",
       "      <td>NaN</td>\n",
       "      <td>NaN</td>\n",
       "      <td>NaN</td>\n",
       "      <td>6.8</td>\n",
       "      <td>фантастика,боевик,триллер</td>\n",
       "      <td>NaN</td>\n",
       "    </tr>\n",
       "    <tr>\n",
       "      <th>3</th>\n",
       "      <td>Особо опасен</td>\n",
       "      <td>221026916</td>\n",
       "      <td>2016-06-10</td>\n",
       "      <td>Художественный</td>\n",
       "      <td>Юниверсал Пикчерз, Кикстарт Продакшнз, Марк Пл...</td>\n",
       "      <td>США</td>\n",
       "      <td>Тимур Бекмамбетов</td>\n",
       "      <td>Джим Лемли, Джейсон Нетер, Марк Е.Платт, Яйн Смит</td>\n",
       "      <td>«18+» - запрещено для детей</td>\n",
       "      <td>NaN</td>\n",
       "      <td>NaN</td>\n",
       "      <td>NaN</td>\n",
       "      <td>NaN</td>\n",
       "      <td>6.8</td>\n",
       "      <td>фантастика,боевик,триллер</td>\n",
       "      <td>NaN</td>\n",
       "    </tr>\n",
       "    <tr>\n",
       "      <th>4</th>\n",
       "      <td>Особо опасен</td>\n",
       "      <td>221030815</td>\n",
       "      <td>2015-07-29</td>\n",
       "      <td>Художественный</td>\n",
       "      <td>Юниверсал Пикчерз, Кикстарт Продакшнз, Марк Пл...</td>\n",
       "      <td>США</td>\n",
       "      <td>Тимур Бекмамбетов</td>\n",
       "      <td>Джим Лемли, Джейсон Нетер, Марк Е.Платт, Яйн Смит</td>\n",
       "      <td>«18+» - запрещено для детей</td>\n",
       "      <td>NaN</td>\n",
       "      <td>NaN</td>\n",
       "      <td>NaN</td>\n",
       "      <td>NaN</td>\n",
       "      <td>6.8</td>\n",
       "      <td>фантастика,боевик,триллер</td>\n",
       "      <td>NaN</td>\n",
       "    </tr>\n",
       "  </tbody>\n",
       "</table>\n",
       "</div>"
      ],
      "text/plain": [
       "                  title  pu_number show_start_date            type  \\\n",
       "0      Открытый простор  221048915      2015-11-27  Художественный   \n",
       "1  Особо важное задание  111013716      2016-09-13  Художественный   \n",
       "2          Особо опасен  221038416      2016-10-10  Художественный   \n",
       "3          Особо опасен  221026916      2016-06-10  Художественный   \n",
       "4          Особо опасен  221030815      2015-07-29  Художественный   \n",
       "\n",
       "                                         film_studio production_country  \\\n",
       "0  Тачстоун Пикчерз, Кобальт Пикчерз, Бикон Пикче...                США   \n",
       "1                              Киностудия \"Мосфильм\"               СССР   \n",
       "2  Юниверсал Пикчерз, Кикстарт Продакшнз, Марк Пл...                США   \n",
       "3  Юниверсал Пикчерз, Кикстарт Продакшнз, Марк Пл...                США   \n",
       "4  Юниверсал Пикчерз, Кикстарт Продакшнз, Марк Пл...                США   \n",
       "\n",
       "            director                                           producer  \\\n",
       "0      Кевин Костнер          Дэвид Валдес, Кевин Костнер, Джейк Эбертс   \n",
       "1          Е.Матвеев                                                NaN   \n",
       "2  Тимур Бекмамбетов  Джим Лемли, Джейсон Нетер, Марк Е.Платт, Яйн Смит   \n",
       "3  Тимур Бекмамбетов  Джим Лемли, Джейсон Нетер, Марк Е.Платт, Яйн Смит   \n",
       "4  Тимур Бекмамбетов  Джим Лемли, Джейсон Нетер, Марк Е.Платт, Яйн Смит   \n",
       "\n",
       "                 age_restriction  refundable_support  nonrefundable_support  \\\n",
       "0    «18+» - запрещено для детей                 NaN                    NaN   \n",
       "1  «6+» - для детей старше 6 лет                 NaN                    NaN   \n",
       "2    «18+» - запрещено для детей                 NaN                    NaN   \n",
       "3    «18+» - запрещено для детей                 NaN                    NaN   \n",
       "4    «18+» - запрещено для детей                 NaN                    NaN   \n",
       "\n",
       "   budget financing_source ratings                     genres  box_office  \n",
       "0     NaN              NaN     7.2     боевик,драма,мелодрама         NaN  \n",
       "1     NaN              NaN     6.6              драма,военный         NaN  \n",
       "2     NaN              NaN     6.8  фантастика,боевик,триллер         NaN  \n",
       "3     NaN              NaN     6.8  фантастика,боевик,триллер         NaN  \n",
       "4     NaN              NaN     6.8  фантастика,боевик,триллер         NaN  "
      ]
     },
     "execution_count": 4,
     "metadata": {},
     "output_type": "execute_result"
    }
   ],
   "source": [
    "df.rename(columns={'puNumber':'pu_number'}, inplace=True)\n",
    "#привёл к змеиному регистру\n",
    "\n",
    "df['show_start_date']=pd.to_datetime(df['show_start_date']).dt.date\n",
    "#убрал время из даты, не несло нагрузки, мешало.\n",
    "df['show_start_date'] = pd.to_datetime(df['show_start_date'], format=\"%Y-%m-%d\")\n",
    "#тип datetime64 для столбца show_start_date\n",
    "\n",
    "pd.options.display.float_format = '{:,}'.format\n",
    "#для отображения суммы сборов в удобном формате\n",
    "df.style.format({'refundable_support': '{:.2f}'})\n",
    "#для убоюбного отображения возвратных средств гос.\n",
    "df.style.format({'nonrefundable_support': '{:.2f}'})\n",
    "#для убоюбного отображения невозвратных средств гос.\n",
    "df.style.format({'budget': '{:.2f}'})\n",
    "\n",
    "df.head(5)"
   ]
  },
  {
   "cell_type": "markdown",
   "metadata": {
    "id": "i0MOLbF-gFyP"
   },
   "source": [
    "#### Шаг 2.2. Изучаю пропуски в датафрейме\n",
    "\n",
    "- Объяснение, почему заполнил пропуски определённым образом или почему не стал этого делать."
   ]
  },
  {
   "cell_type": "code",
   "execution_count": 5,
   "metadata": {
    "id": "8MJD_lkngFyP",
    "scrolled": true
   },
   "outputs": [
    {
     "name": "stdout",
     "output_type": "stream",
     "text": [
      "title                       0\n",
      "pu_number                   0\n",
      "show_start_date             0\n",
      "type                        0\n",
      "film_studio                18\n",
      "production_country          2\n",
      "director                    9\n",
      "producer                  568\n",
      "age_restriction             0\n",
      "refundable_support       7154\n",
      "nonrefundable_support    7154\n",
      "budget                   7154\n",
      "financing_source         7154\n",
      "ratings                   967\n",
      "genres                    976\n",
      "box_office               4328\n",
      "dtype: int64\n"
     ]
    },
    {
     "data": {
      "text/plain": [
       "title                                   0.0\n",
       "pu_number                               0.0\n",
       "show_start_date                         0.0\n",
       "type                                    0.0\n",
       "film_studio             0.24044883783061713\n",
       "production_country      0.02671653753673524\n",
       "director                0.12022441891530856\n",
       "producer                  7.587496660432808\n",
       "age_restriction                         0.0\n",
       "refundable_support        95.56505476890194\n",
       "nonrefundable_support     95.56505476890194\n",
       "budget                    95.56505476890194\n",
       "financing_source          95.56505476890194\n",
       "ratings                  12.917445899011486\n",
       "genres                   13.037670317926796\n",
       "box_office                57.81458722949506\n",
       "dtype: float64"
      ]
     },
     "execution_count": 5,
     "metadata": {},
     "output_type": "execute_result"
    }
   ],
   "source": [
    "print(df.isna().sum())\n",
    "#кол-во пропусков в каждом столбце\n",
    "\n",
    "df.isna().mean()*100\n",
    "#доля пропусков в каждом столбце"
   ]
  },
  {
   "cell_type": "markdown",
   "metadata": {},
   "source": [
    "1. В столбце   film_studio, director, producer, genres, production_country, financing_source заменю пропуски на \"unknown\". Так как природа возникновения этих пропусков представляется мне в следствии тех причин. Такая информация есть у каждого фильма без исключения и её отсутствие говорит о потери информации.\n",
    "2. В стобцах относящихся к гос финансированию 'refundable_support', 'nonrefundable_support', 'budget' заменяю на ноль так как эти столбцы содержат информацию только для фильмов, которые получили гос поддержку, следовательно остальные фильмы её не получали и это корректно заменить на ноль.\n",
    "3. Пропуски в кассовых оставляю. \n",
    "4. Избавившись от NaN меняю типы данных в столбцах\n",
    "5. Значения столбца ratings освобождаю от строчных значений и меняю тип данных."
   ]
  },
  {
   "cell_type": "code",
   "execution_count": 6,
   "metadata": {
    "scrolled": true
   },
   "outputs": [],
   "source": [
    "col_name=[ 'film_studio', 'director', 'producer', 'genres',  'production_country', 'financing_source']\n",
    "for val in col_name:\n",
    "    df[val].fillna('unknown', inplace=True)\n",
    "df.isna().sum() \n",
    "col_name_zer=['refundable_support', 'nonrefundable_support', 'budget']\n",
    "for val in col_name_zer:\n",
    "    df[val].fillna(0, inplace=True)\n",
    "    df[val]=df[val].astype('int32')\n",
    "\n",
    "df['ratings']=df['ratings'].str.replace('%', '')\n",
    "df['ratings']=df['ratings'].str.strip()\n",
    "df['ratings']=df['ratings'].astype('float32')\n",
    "\n",
    "for idx, val in df['ratings'].items():\n",
    "    if val>10:\n",
    "        df.loc[idx,'ratings']=val/10\n",
    "# избавился от строчных значений рейтингов в процентах%"
   ]
  },
  {
   "cell_type": "markdown",
   "metadata": {
    "id": "4c6k1t9ygFyQ"
   },
   "source": [
    "#### Шаг 2.3. Изучитить дубликаты в датафрейме\n",
    "- Проверить, есть ли в данных дубликаты. Причины, которые могли повлиять на появление дублей."
   ]
  },
  {
   "cell_type": "code",
   "execution_count": 7,
   "metadata": {
    "id": "aKck8RIdgFyQ"
   },
   "outputs": [],
   "source": [
    "df.type.value_counts()\n",
    "#в колонке type заметил неявные дубликаты \"художественный\" и \" художественный\"\n",
    "df['type']=df['type'].str.strip()\n",
    "#пробел удалён методом strip\n",
    "delit=['ООО ','\"','Р А И', 'Эр А И', 'АНО', 'АО', 'Анимейшн', 'Дистрибьюшн', 'Пикчерз', 'Продакшнз', 'Продакшнс', 'Продакшн', 'мувиз', 'Студиос',\n",
    "      'Филмз', 'Лтд', 'Медиа', 'Пикчерс', 'Продакшнс', 'студиос', 'продакшн', 'Киностудия', 'Ассоциация']\n",
    "for val in delit:\n",
    "    df['film_studio']=df['film_studio'].str.replace(val, '') \n",
    "    df['film_studio']=df['film_studio'].str.strip()\n",
    "df['film_studio'].value_counts().head(50)\n",
    "df.loc[df['film_studio']=='100 Барес','film_studio']='100 Барс'\n",
    "df.loc[df['film_studio']=='Опус Арте','film_studio']='Опус Арт'\n",
    "df.loc[df['film_studio']=='Уолт Дисней  , Уолт Дисней','film_studio']='Уолт Дисней'\n",
    "#Почитстил неявные дубликаты в film_studio\n",
    "\n",
    "def country_name(name):\n",
    "    name=str(name)\n",
    "    name.strip()\n",
    "    if 'unknown' in name:\n",
    "        return 'unknown'\n",
    "    elif name.isupper():\n",
    "        if '-' in name:\n",
    "            temp= name.split('-')\n",
    "            new_name= ','.join([ele for ele in temp])\n",
    "            return new_name\n",
    "        else:\n",
    "            return name\n",
    "    elif '-' in name:\n",
    "        temp= name.split('-')\n",
    "        new_name= ','.join([ele for ele in temp])\n",
    "        return new_name\n",
    "    elif ',' in name:\n",
    "        if '.'in name:\n",
    "            temp=name.split('.')\n",
    "            temp=name.split(',')\n",
    "            new_name=','.join([ele for ele in temp])\n",
    "            return new_name\n",
    "        else:\n",
    "            return name\n",
    "    \n",
    "df['production_country']=df['production_country'].apply(country_name)  \n",
    "#Функция приводящая названия стран к более общему виду\n",
    "\n",
    "df['production_country']=df['production_country'].str.replace(' , ', ', ')\n",
    "df['production_country']=df['production_country'].str.replace(', ', ',')                  \n",
    "df['production_country']=df['production_country'].str.replace('США,Великобритания', 'Великобритания,США')\n",
    "df['production_country']=df['production_country'].str.replace('США,Канада', 'Канада,США')\n",
    "df['production_country']=df['production_country'].str.replace('США,Франция', 'Франция,США')\n",
    "df['production_country']=df['production_country'].str.replace('Франция,Великобритания', 'Великобритания,Франция')        \n",
    "df.loc[df['production_country']=='СССР ','production_country']='СССР'\n",
    "#Почитстил неявные дубликаты в production_country\n",
    "\n",
    "df['director']=df['director'].str.strip()\n",
    "#Почитстил неявные дубликаты в director\n",
    "\n",
    "df['producer']=df['producer'].str.strip()\n",
    "df.loc[df['producer']=='П.П.Смирнов','producer']='П.Смирнов'\n",
    "#Почитстил неявные дубликаты в producer\n",
    "df['title']=df['title'].str.strip()\n",
    "#в title решил не обрабатывать значения так как "
   ]
  },
  {
   "cell_type": "markdown",
   "metadata": {},
   "source": [
    "Проверил колонки на наличие дублей. Основными причинами появления дублей стали:\n",
    "1. Наличие/отсутствие доп слов (студия, киностудия, ассоциация)  \n",
    "2. Наличие сокращений и абревиатур (ООО ,ОАО, АО, АНО)\n",
    "3. Заимствованные слова в разной транслитерации (студиос-студиоз, продакшн-продакшен и тд)\n",
    "4. Нестандартизированное написание стран производителей через дефис, через запятую, через пробел.\n",
    "5. Не следование алфавитному порядку (США,Великобритания-Великобритания,США)\n",
    "6. Наличие пробелов перед и после.\n",
    "7. Нестандартизированное написание инициалов(П.П.Смирнов-П.Смирнов)"
   ]
  },
  {
   "cell_type": "markdown",
   "metadata": {
    "id": "52fOPrEBgFyQ"
   },
   "source": [
    "#### Шаг 2.4. Изучаю категориальные значения\n",
    "\n",
    "- Какая общая проблема встречается почти во всех категориальных столбцах;\n",
    "- Исправляю проблемные значения в поле `type`.\n",
    "\n"
   ]
  },
  {
   "cell_type": "markdown",
   "metadata": {
    "id": "PnXKIVdFgFyR"
   },
   "source": [
    "Вовремя работы с дублями, сразу разобрался с пробелами используя str.strip() см.Шаг 2.3"
   ]
  },
  {
   "cell_type": "markdown",
   "metadata": {
    "id": "XFSN5lrEgFyR"
   },
   "source": [
    "#### Шаг 2.5. Проверить количественные значения\n",
    "\n",
    "- Проверяю, данные на противоричивость.\n"
   ]
  },
  {
   "cell_type": "code",
   "execution_count": 8,
   "metadata": {
    "id": "YbzClBxagFyS",
    "scrolled": true
   },
   "outputs": [
    {
     "data": {
      "image/png": "[encoded data removed]",
      "text/plain": [
       "<Figure size 504x360 with 1 Axes>"
      ]
     },
     "metadata": {
      "needs_background": "light"
     },
     "output_type": "display_data"
    },
    {
     "data": {
      "image/png": "[encoded data removed]",
      "text/plain": [
       "<Figure size 504x360 with 1 Axes>"
      ]
     },
     "metadata": {
      "needs_background": "light"
     },
     "output_type": "display_data"
    },
    {
     "data": {
      "text/plain": [
       "Text(0, 0.5, 'Количество значений')"
      ]
     },
     "execution_count": 8,
     "metadata": {},
     "output_type": "execute_result"
    },
    {
     "data": {
      "image/png": "[encoded data removed]",
      "text/plain": [
       "<Figure size 504x360 with 1 Axes>"
      ]
     },
     "metadata": {
      "needs_background": "light"
     },
     "output_type": "display_data"
    }
   ],
   "source": [
    "df['budget'].plot(kind='hist',figsize=(7,5), grid=True, bins=15) \n",
    "plt.ylim(0,200)\n",
    "plt.xlabel(\"Бюджет фильма\")\n",
    "plt.ylabel(\"Количество значений\")\n",
    "plt.show()\n",
    "df['refundable_support'].plot(kind='hist',figsize=(7,5), grid=True, bins=15)\n",
    "plt.ylim(0,200)\n",
    "plt.xlabel(\"сумма возвратных госсредств\")\n",
    "plt.ylabel(\"Количество значений\")\n",
    "plt.show()\n",
    "df['nonrefundable_support'].plot(kind='hist',figsize=(7,5), grid=True, bins=15)\n",
    "plt.ylim(0,200)\n",
    "plt.xlabel(\"сумма не возвратных госсредств\")\n",
    "plt.ylabel(\"Количество значений\")"
   ]
  },
  {
   "cell_type": "code",
   "execution_count": 9,
   "metadata": {
    "scrolled": true
   },
   "outputs": [
    {
     "data": {
      "text/html": [
       "<div>\n",
       "<style scoped>\n",
       "    .dataframe tbody tr th:only-of-type {\n",
       "        vertical-align: middle;\n",
       "    }\n",
       "\n",
       "    .dataframe tbody tr th {\n",
       "        vertical-align: top;\n",
       "    }\n",
       "\n",
       "    .dataframe thead th {\n",
       "        text-align: right;\n",
       "    }\n",
       "</style>\n",
       "<table border=\"1\" class=\"dataframe\">\n",
       "  <thead>\n",
       "    <tr style=\"text-align: right;\">\n",
       "      <th></th>\n",
       "      <th>title</th>\n",
       "      <th>pu_number</th>\n",
       "      <th>show_start_date</th>\n",
       "      <th>type</th>\n",
       "      <th>film_studio</th>\n",
       "      <th>production_country</th>\n",
       "      <th>director</th>\n",
       "      <th>producer</th>\n",
       "      <th>age_restriction</th>\n",
       "      <th>refundable_support</th>\n",
       "      <th>nonrefundable_support</th>\n",
       "      <th>budget</th>\n",
       "      <th>financing_source</th>\n",
       "      <th>ratings</th>\n",
       "      <th>genres</th>\n",
       "      <th>box_office</th>\n",
       "      <th>total_budget</th>\n",
       "      <th>costs_share</th>\n",
       "    </tr>\n",
       "  </thead>\n",
       "  <tbody>\n",
       "  </tbody>\n",
       "</table>\n",
       "</div>"
      ],
      "text/plain": [
       "Empty DataFrame\n",
       "Columns: [title, pu_number, show_start_date, type, film_studio, production_country, director, producer, age_restriction, refundable_support, nonrefundable_support, budget, financing_source, ratings, genres, box_office, total_budget, costs_share]\n",
       "Index: []"
      ]
     },
     "execution_count": 9,
     "metadata": {},
     "output_type": "execute_result"
    }
   ],
   "source": [
    "df.query('budget!=0')\n",
    "df['total_budget']=df['refundable_support']+df['nonrefundable_support']\n",
    "df.query('budget<total_budget')\n",
    "\n",
    "df['costs_share']=(df['budget']-(df['refundable_support']+df['nonrefundable_support']))/df['budget']+1\n",
    "#создаю новый столбец с долей издержек в бюджете фильма.\n",
    "temp=df.query('budget<total_budget')['budget']\n",
    "#сортирую строки в которых общий бюджет меньше двух гос поддержек\n",
    "for idx, val in temp.items():\n",
    "#Прохожу по индексам отфильтрованного датасета    \n",
    "    df.loc[idx,'budget']=(df.loc[idx,'refundable_support']+df.loc[idx,'nonrefundable_support'])* df['costs_share'].median()\n",
    "#Значения бюджета меняю на сумму двух господдержек умноженную на медианный повышающий коэффицент издержк на фильм\n",
    "df.query('budget<(refundable_support+nonrefundable_support)')\n",
    "df.query('budget<total_budget')\n",
    "# Проверяю остались ли неправильные строки.\n"
   ]
  },
  {
   "cell_type": "code",
   "execution_count": 10,
   "metadata": {},
   "outputs": [
    {
     "data": {
      "text/plain": [
       "Text(0, 0.5, 'Количество значений')"
      ]
     },
     "execution_count": 10,
     "metadata": {},
     "output_type": "execute_result"
    },
    {
     "data": {
      "image/png": "[encoded data removed]",
      "text/plain": [
       "<Figure size 504x360 with 1 Axes>"
      ]
     },
     "metadata": {
      "needs_background": "light"
     },
     "output_type": "display_data"
    }
   ],
   "source": [
    "df['budget'].plot(kind='hist',figsize=(7,5), grid=True, bins=15) \n",
    "plt.ylim(0,200)\n",
    "plt.xlabel(\"Бюджет фильма\")\n",
    "plt.ylabel(\"Количество значений\")"
   ]
  },
  {
   "cell_type": "markdown",
   "metadata": {},
   "source": [
    "Бюджет фильма с гос поддержкой складываается из двух частей(возвратные средства и невозвратные), исходя из этого budget>= 'refundable_support'+'nonrefundable_support' Отфильтровал строки неудовлетворяющие этой логике. Сделал доп столбец 'total_budget' с суммой гос поддержки.\n",
    "Не разобрался как поменять масштаб графика, чтоб рассмотреть не нулевые значения. Но из графиков увидел что есть значения по оси Х в невозвратных и возвратных госсредставах и они по идее должны были отразиться на оси Х у графика с бюджетом фильма но их нет."
   ]
  },
  {
   "cell_type": "markdown",
   "metadata": {
    "id": "Eu6oWp2CgFyS"
   },
   "source": [
    "#### Шаг 2.6. Добавить новые столбцы\n",
    "\n",
    "\n",
    "\n"
   ]
  },
  {
   "cell_type": "markdown",
   "metadata": {
    "id": "7GgW-UpAgFyS"
   },
   "source": [
    "- Создам столбец с информацией о годе проката."
   ]
  },
  {
   "cell_type": "code",
   "execution_count": 11,
   "metadata": {
    "id": "I-yd1DkWgFyT"
   },
   "outputs": [
    {
     "data": {
      "text/html": [
       "<div>\n",
       "<style scoped>\n",
       "    .dataframe tbody tr th:only-of-type {\n",
       "        vertical-align: middle;\n",
       "    }\n",
       "\n",
       "    .dataframe tbody tr th {\n",
       "        vertical-align: top;\n",
       "    }\n",
       "\n",
       "    .dataframe thead th {\n",
       "        text-align: right;\n",
       "    }\n",
       "</style>\n",
       "<table border=\"1\" class=\"dataframe\">\n",
       "  <thead>\n",
       "    <tr style=\"text-align: right;\">\n",
       "      <th></th>\n",
       "      <th>title</th>\n",
       "      <th>pu_number</th>\n",
       "      <th>show_start_date</th>\n",
       "      <th>type</th>\n",
       "      <th>film_studio</th>\n",
       "      <th>production_country</th>\n",
       "      <th>director</th>\n",
       "      <th>producer</th>\n",
       "      <th>age_restriction</th>\n",
       "      <th>refundable_support</th>\n",
       "      <th>nonrefundable_support</th>\n",
       "      <th>budget</th>\n",
       "      <th>financing_source</th>\n",
       "      <th>ratings</th>\n",
       "      <th>genres</th>\n",
       "      <th>box_office</th>\n",
       "      <th>total_budget</th>\n",
       "      <th>costs_share</th>\n",
       "      <th>year</th>\n",
       "    </tr>\n",
       "  </thead>\n",
       "  <tbody>\n",
       "    <tr>\n",
       "      <th>0</th>\n",
       "      <td>Открытый простор</td>\n",
       "      <td>221048915</td>\n",
       "      <td>2015-11-27</td>\n",
       "      <td>Художественный</td>\n",
       "      <td>Тачстоун , Кобальт , Бикон , Тиг</td>\n",
       "      <td>США</td>\n",
       "      <td>Кевин Костнер</td>\n",
       "      <td>Дэвид Валдес, Кевин Костнер, Джейк Эбертс</td>\n",
       "      <td>«18+» - запрещено для детей</td>\n",
       "      <td>0</td>\n",
       "      <td>0</td>\n",
       "      <td>0.0</td>\n",
       "      <td>unknown</td>\n",
       "      <td>7.199999809265137</td>\n",
       "      <td>боевик,драма,мелодрама</td>\n",
       "      <td>NaN</td>\n",
       "      <td>0</td>\n",
       "      <td>NaN</td>\n",
       "      <td>2015</td>\n",
       "    </tr>\n",
       "    <tr>\n",
       "      <th>1</th>\n",
       "      <td>Особо важное задание</td>\n",
       "      <td>111013716</td>\n",
       "      <td>2016-09-13</td>\n",
       "      <td>Художественный</td>\n",
       "      <td>Мосфильм</td>\n",
       "      <td>СССР</td>\n",
       "      <td>Е.Матвеев</td>\n",
       "      <td>unknown</td>\n",
       "      <td>«6+» - для детей старше 6 лет</td>\n",
       "      <td>0</td>\n",
       "      <td>0</td>\n",
       "      <td>0.0</td>\n",
       "      <td>unknown</td>\n",
       "      <td>6.599999904632568</td>\n",
       "      <td>драма,военный</td>\n",
       "      <td>NaN</td>\n",
       "      <td>0</td>\n",
       "      <td>NaN</td>\n",
       "      <td>2016</td>\n",
       "    </tr>\n",
       "    <tr>\n",
       "      <th>2</th>\n",
       "      <td>Особо опасен</td>\n",
       "      <td>221038416</td>\n",
       "      <td>2016-10-10</td>\n",
       "      <td>Художественный</td>\n",
       "      <td>Юниверсал , Кикстарт , Марк Платт , Рилейтивит...</td>\n",
       "      <td>США</td>\n",
       "      <td>Тимур Бекмамбетов</td>\n",
       "      <td>Джим Лемли, Джейсон Нетер, Марк Е.Платт, Яйн Смит</td>\n",
       "      <td>«18+» - запрещено для детей</td>\n",
       "      <td>0</td>\n",
       "      <td>0</td>\n",
       "      <td>0.0</td>\n",
       "      <td>unknown</td>\n",
       "      <td>6.800000190734863</td>\n",
       "      <td>фантастика,боевик,триллер</td>\n",
       "      <td>NaN</td>\n",
       "      <td>0</td>\n",
       "      <td>NaN</td>\n",
       "      <td>2016</td>\n",
       "    </tr>\n",
       "    <tr>\n",
       "      <th>3</th>\n",
       "      <td>Особо опасен</td>\n",
       "      <td>221026916</td>\n",
       "      <td>2016-06-10</td>\n",
       "      <td>Художественный</td>\n",
       "      <td>Юниверсал , Кикстарт , Марк Платт , Рилейтивит...</td>\n",
       "      <td>США</td>\n",
       "      <td>Тимур Бекмамбетов</td>\n",
       "      <td>Джим Лемли, Джейсон Нетер, Марк Е.Платт, Яйн Смит</td>\n",
       "      <td>«18+» - запрещено для детей</td>\n",
       "      <td>0</td>\n",
       "      <td>0</td>\n",
       "      <td>0.0</td>\n",
       "      <td>unknown</td>\n",
       "      <td>6.800000190734863</td>\n",
       "      <td>фантастика,боевик,триллер</td>\n",
       "      <td>NaN</td>\n",
       "      <td>0</td>\n",
       "      <td>NaN</td>\n",
       "      <td>2016</td>\n",
       "    </tr>\n",
       "    <tr>\n",
       "      <th>4</th>\n",
       "      <td>Особо опасен</td>\n",
       "      <td>221030815</td>\n",
       "      <td>2015-07-29</td>\n",
       "      <td>Художественный</td>\n",
       "      <td>Юниверсал , Кикстарт , Марк Платт , Рилейтивит...</td>\n",
       "      <td>США</td>\n",
       "      <td>Тимур Бекмамбетов</td>\n",
       "      <td>Джим Лемли, Джейсон Нетер, Марк Е.Платт, Яйн Смит</td>\n",
       "      <td>«18+» - запрещено для детей</td>\n",
       "      <td>0</td>\n",
       "      <td>0</td>\n",
       "      <td>0.0</td>\n",
       "      <td>unknown</td>\n",
       "      <td>6.800000190734863</td>\n",
       "      <td>фантастика,боевик,триллер</td>\n",
       "      <td>NaN</td>\n",
       "      <td>0</td>\n",
       "      <td>NaN</td>\n",
       "      <td>2015</td>\n",
       "    </tr>\n",
       "    <tr>\n",
       "      <th>...</th>\n",
       "      <td>...</td>\n",
       "      <td>...</td>\n",
       "      <td>...</td>\n",
       "      <td>...</td>\n",
       "      <td>...</td>\n",
       "      <td>...</td>\n",
       "      <td>...</td>\n",
       "      <td>...</td>\n",
       "      <td>...</td>\n",
       "      <td>...</td>\n",
       "      <td>...</td>\n",
       "      <td>...</td>\n",
       "      <td>...</td>\n",
       "      <td>...</td>\n",
       "      <td>...</td>\n",
       "      <td>...</td>\n",
       "      <td>...</td>\n",
       "      <td>...</td>\n",
       "      <td>...</td>\n",
       "    </tr>\n",
       "    <tr>\n",
       "      <th>7481</th>\n",
       "      <td>Сад художника: Американский импрессионизм</td>\n",
       "      <td>126008019</td>\n",
       "      <td>2019-12-23</td>\n",
       "      <td>Прочие</td>\n",
       "      <td>Севен Артс</td>\n",
       "      <td>None</td>\n",
       "      <td>Фил Грабски</td>\n",
       "      <td>Фил Грабски</td>\n",
       "      <td>«12+» - для детей старше 12 лет</td>\n",
       "      <td>0</td>\n",
       "      <td>0</td>\n",
       "      <td>0.0</td>\n",
       "      <td>unknown</td>\n",
       "      <td>NaN</td>\n",
       "      <td>unknown</td>\n",
       "      <td>NaN</td>\n",
       "      <td>0</td>\n",
       "      <td>NaN</td>\n",
       "      <td>2019</td>\n",
       "    </tr>\n",
       "    <tr>\n",
       "      <th>7482</th>\n",
       "      <td>Звериная ярость</td>\n",
       "      <td>121037819</td>\n",
       "      <td>2019-12-24</td>\n",
       "      <td>Художественный</td>\n",
       "      <td>Дэниел Гродник , Вандерфилм  Корпорэйшн, Импри...</td>\n",
       "      <td>США</td>\n",
       "      <td>Ник Пауэлл</td>\n",
       "      <td>Джефф Боулер, Дэниэл Гродник, Луильо Руис, Брэ...</td>\n",
       "      <td>«16+» - для детей старше 16 лет</td>\n",
       "      <td>0</td>\n",
       "      <td>0</td>\n",
       "      <td>0.0</td>\n",
       "      <td>unknown</td>\n",
       "      <td>5.400000095367432</td>\n",
       "      <td>боевик,триллер</td>\n",
       "      <td>NaN</td>\n",
       "      <td>0</td>\n",
       "      <td>NaN</td>\n",
       "      <td>2019</td>\n",
       "    </tr>\n",
       "    <tr>\n",
       "      <th>7483</th>\n",
       "      <td>Щенячий патруль: Скорей спешим на помощь!</td>\n",
       "      <td>124010819</td>\n",
       "      <td>2019-12-28</td>\n",
       "      <td>Художественный</td>\n",
       "      <td>Никелодеон  , Спин Мастер</td>\n",
       "      <td>Канада,США</td>\n",
       "      <td>Чарльз Е.Бастьен</td>\n",
       "      <td>Дженнифер Додж</td>\n",
       "      <td>«0+» - для любой зрительской аудитории</td>\n",
       "      <td>0</td>\n",
       "      <td>0</td>\n",
       "      <td>0.0</td>\n",
       "      <td>unknown</td>\n",
       "      <td>NaN</td>\n",
       "      <td>unknown</td>\n",
       "      <td>NaN</td>\n",
       "      <td>0</td>\n",
       "      <td>NaN</td>\n",
       "      <td>2019</td>\n",
       "    </tr>\n",
       "    <tr>\n",
       "      <th>7484</th>\n",
       "      <td>Машины песенки. Серия \"Испанские мотивы\"</td>\n",
       "      <td>124010619</td>\n",
       "      <td>2019-12-30</td>\n",
       "      <td>Анимационный</td>\n",
       "      <td>Анимаккорд ., Студия АНИМАККОРД</td>\n",
       "      <td>Республика Кипр,Россия</td>\n",
       "      <td>А.Беляев</td>\n",
       "      <td>Д.Ловейко</td>\n",
       "      <td>«0+» - для любой зрительской аудитории</td>\n",
       "      <td>0</td>\n",
       "      <td>0</td>\n",
       "      <td>0.0</td>\n",
       "      <td>unknown</td>\n",
       "      <td>NaN</td>\n",
       "      <td>unknown</td>\n",
       "      <td>NaN</td>\n",
       "      <td>0</td>\n",
       "      <td>NaN</td>\n",
       "      <td>2019</td>\n",
       "    </tr>\n",
       "    <tr>\n",
       "      <th>7485</th>\n",
       "      <td>Машины песенки. Серия \"Когда цветут кактусы\"</td>\n",
       "      <td>124010719</td>\n",
       "      <td>2019-12-30</td>\n",
       "      <td>Анимационный</td>\n",
       "      <td>Анимаккорд ., Студия АНИМАККОРД</td>\n",
       "      <td>Республика Кипр,Россия</td>\n",
       "      <td>И.Трусов</td>\n",
       "      <td>Д.Ловейко</td>\n",
       "      <td>«0+» - для любой зрительской аудитории</td>\n",
       "      <td>0</td>\n",
       "      <td>0</td>\n",
       "      <td>0.0</td>\n",
       "      <td>unknown</td>\n",
       "      <td>6.300000190734863</td>\n",
       "      <td>комедия,вестерн</td>\n",
       "      <td>NaN</td>\n",
       "      <td>0</td>\n",
       "      <td>NaN</td>\n",
       "      <td>2019</td>\n",
       "    </tr>\n",
       "  </tbody>\n",
       "</table>\n",
       "<p>7486 rows × 19 columns</p>\n",
       "</div>"
      ],
      "text/plain": [
       "                                             title  pu_number show_start_date  \\\n",
       "0                                 Открытый простор  221048915      2015-11-27   \n",
       "1                             Особо важное задание  111013716      2016-09-13   \n",
       "2                                     Особо опасен  221038416      2016-10-10   \n",
       "3                                     Особо опасен  221026916      2016-06-10   \n",
       "4                                     Особо опасен  221030815      2015-07-29   \n",
       "...                                            ...        ...             ...   \n",
       "7481     Сад художника: Американский импрессионизм  126008019      2019-12-23   \n",
       "7482                               Звериная ярость  121037819      2019-12-24   \n",
       "7483     Щенячий патруль: Скорей спешим на помощь!  124010819      2019-12-28   \n",
       "7484      Машины песенки. Серия \"Испанские мотивы\"  124010619      2019-12-30   \n",
       "7485  Машины песенки. Серия \"Когда цветут кактусы\"  124010719      2019-12-30   \n",
       "\n",
       "                type                                        film_studio  \\\n",
       "0     Художественный                   Тачстоун , Кобальт , Бикон , Тиг   \n",
       "1     Художественный                                           Мосфильм   \n",
       "2     Художественный  Юниверсал , Кикстарт , Марк Платт , Рилейтивит...   \n",
       "3     Художественный  Юниверсал , Кикстарт , Марк Платт , Рилейтивит...   \n",
       "4     Художественный  Юниверсал , Кикстарт , Марк Платт , Рилейтивит...   \n",
       "...              ...                                                ...   \n",
       "7481          Прочие                                         Севен Артс   \n",
       "7482  Художественный  Дэниел Гродник , Вандерфилм  Корпорэйшн, Импри...   \n",
       "7483  Художественный                          Никелодеон  , Спин Мастер   \n",
       "7484    Анимационный                    Анимаккорд ., Студия АНИМАККОРД   \n",
       "7485    Анимационный                    Анимаккорд ., Студия АНИМАККОРД   \n",
       "\n",
       "          production_country           director  \\\n",
       "0                        США      Кевин Костнер   \n",
       "1                       СССР          Е.Матвеев   \n",
       "2                        США  Тимур Бекмамбетов   \n",
       "3                        США  Тимур Бекмамбетов   \n",
       "4                        США  Тимур Бекмамбетов   \n",
       "...                      ...                ...   \n",
       "7481                    None        Фил Грабски   \n",
       "7482                     США         Ник Пауэлл   \n",
       "7483              Канада,США   Чарльз Е.Бастьен   \n",
       "7484  Республика Кипр,Россия           А.Беляев   \n",
       "7485  Республика Кипр,Россия           И.Трусов   \n",
       "\n",
       "                                               producer  \\\n",
       "0             Дэвид Валдес, Кевин Костнер, Джейк Эбертс   \n",
       "1                                               unknown   \n",
       "2     Джим Лемли, Джейсон Нетер, Марк Е.Платт, Яйн Смит   \n",
       "3     Джим Лемли, Джейсон Нетер, Марк Е.Платт, Яйн Смит   \n",
       "4     Джим Лемли, Джейсон Нетер, Марк Е.Платт, Яйн Смит   \n",
       "...                                                 ...   \n",
       "7481                                        Фил Грабски   \n",
       "7482  Джефф Боулер, Дэниэл Гродник, Луильо Руис, Брэ...   \n",
       "7483                                     Дженнифер Додж   \n",
       "7484                                          Д.Ловейко   \n",
       "7485                                          Д.Ловейко   \n",
       "\n",
       "                             age_restriction  refundable_support  \\\n",
       "0                «18+» - запрещено для детей                   0   \n",
       "1              «6+» - для детей старше 6 лет                   0   \n",
       "2                «18+» - запрещено для детей                   0   \n",
       "3                «18+» - запрещено для детей                   0   \n",
       "4                «18+» - запрещено для детей                   0   \n",
       "...                                      ...                 ...   \n",
       "7481         «12+» - для детей старше 12 лет                   0   \n",
       "7482         «16+» - для детей старше 16 лет                   0   \n",
       "7483  «0+» - для любой зрительской аудитории                   0   \n",
       "7484  «0+» - для любой зрительской аудитории                   0   \n",
       "7485  «0+» - для любой зрительской аудитории                   0   \n",
       "\n",
       "      nonrefundable_support  budget financing_source           ratings  \\\n",
       "0                         0     0.0          unknown 7.199999809265137   \n",
       "1                         0     0.0          unknown 6.599999904632568   \n",
       "2                         0     0.0          unknown 6.800000190734863   \n",
       "3                         0     0.0          unknown 6.800000190734863   \n",
       "4                         0     0.0          unknown 6.800000190734863   \n",
       "...                     ...     ...              ...               ...   \n",
       "7481                      0     0.0          unknown               NaN   \n",
       "7482                      0     0.0          unknown 5.400000095367432   \n",
       "7483                      0     0.0          unknown               NaN   \n",
       "7484                      0     0.0          unknown               NaN   \n",
       "7485                      0     0.0          unknown 6.300000190734863   \n",
       "\n",
       "                         genres  box_office  total_budget  costs_share  year  \n",
       "0        боевик,драма,мелодрама         NaN             0          NaN  2015  \n",
       "1                 драма,военный         NaN             0          NaN  2016  \n",
       "2     фантастика,боевик,триллер         NaN             0          NaN  2016  \n",
       "3     фантастика,боевик,триллер         NaN             0          NaN  2016  \n",
       "4     фантастика,боевик,триллер         NaN             0          NaN  2015  \n",
       "...                         ...         ...           ...          ...   ...  \n",
       "7481                    unknown         NaN             0          NaN  2019  \n",
       "7482             боевик,триллер         NaN             0          NaN  2019  \n",
       "7483                    unknown         NaN             0          NaN  2019  \n",
       "7484                    unknown         NaN             0          NaN  2019  \n",
       "7485            комедия,вестерн         NaN             0          NaN  2019  \n",
       "\n",
       "[7486 rows x 19 columns]"
      ]
     },
     "execution_count": 11,
     "metadata": {},
     "output_type": "execute_result"
    }
   ],
   "source": [
    "df['year']=df['show_start_date'].dt.year\n",
    "df"
   ]
  },
  {
   "cell_type": "markdown",
   "metadata": {
    "id": "nFTDLDYOgFyT"
   },
   "source": [
    "- Создам два столбца: с именем и фамилией главного режиссёра и основным жанром фильма. В столбцы войдут первые значения из списка режиссёров и жанров соответственно.\n"
   ]
  },
  {
   "cell_type": "code",
   "execution_count": 12,
   "metadata": {
    "id": "LSbRZKbMgFyU"
   },
   "outputs": [],
   "source": [
    "def genre_main(genre):\n",
    "    temp=str(genre).split(',')\n",
    "    new_genre=temp[0]\n",
    "    return new_genre\n",
    "df['main_genre']=df['genres'].apply(genre_main)\n",
    "df['main_director']=df['director'].apply(genre_main)\n",
    "# одна функция для двух столбцов"
   ]
  },
  {
   "cell_type": "markdown",
   "metadata": {
    "id": "1FsCXHwdgFyU"
   },
   "source": [
    "- Посчитал, какую долю от общего бюджета фильма составляет государственная поддержка."
   ]
  },
  {
   "cell_type": "code",
   "execution_count": 13,
   "metadata": {
    "id": "LV6qFuZLgFyV"
   },
   "outputs": [
    {
     "data": {
      "text/html": [
       "<div>\n",
       "<style scoped>\n",
       "    .dataframe tbody tr th:only-of-type {\n",
       "        vertical-align: middle;\n",
       "    }\n",
       "\n",
       "    .dataframe tbody tr th {\n",
       "        vertical-align: top;\n",
       "    }\n",
       "\n",
       "    .dataframe thead th {\n",
       "        text-align: right;\n",
       "    }\n",
       "</style>\n",
       "<table border=\"1\" class=\"dataframe\">\n",
       "  <thead>\n",
       "    <tr style=\"text-align: right;\">\n",
       "      <th></th>\n",
       "      <th>title</th>\n",
       "      <th>pu_number</th>\n",
       "      <th>show_start_date</th>\n",
       "      <th>type</th>\n",
       "      <th>film_studio</th>\n",
       "      <th>production_country</th>\n",
       "      <th>director</th>\n",
       "      <th>producer</th>\n",
       "      <th>age_restriction</th>\n",
       "      <th>refundable_support</th>\n",
       "      <th>...</th>\n",
       "      <th>financing_source</th>\n",
       "      <th>ratings</th>\n",
       "      <th>genres</th>\n",
       "      <th>box_office</th>\n",
       "      <th>total_budget</th>\n",
       "      <th>costs_share</th>\n",
       "      <th>year</th>\n",
       "      <th>main_genre</th>\n",
       "      <th>main_director</th>\n",
       "      <th>gov_share</th>\n",
       "    </tr>\n",
       "  </thead>\n",
       "  <tbody>\n",
       "    <tr>\n",
       "      <th>1281</th>\n",
       "      <td>Пока еще жива</td>\n",
       "      <td>111005313</td>\n",
       "      <td>2013-10-11</td>\n",
       "      <td>Художественный</td>\n",
       "      <td>содействия развитию кинематографии Ангел-Фильм...</td>\n",
       "      <td>None</td>\n",
       "      <td>А.Атанесян</td>\n",
       "      <td>А.Атанесян, М.Бабаханов, Р.Бутко</td>\n",
       "      <td>«16+» - для детей старше 16 лет</td>\n",
       "      <td>0</td>\n",
       "      <td>...</td>\n",
       "      <td>Министерство культуры</td>\n",
       "      <td>8.100000381469727</td>\n",
       "      <td>драма,мелодрама</td>\n",
       "      <td>365,353.6</td>\n",
       "      <td>26500000</td>\n",
       "      <td>1.6662968648275638</td>\n",
       "      <td>2013</td>\n",
       "      <td>драма</td>\n",
       "      <td>А.Атанесян</td>\n",
       "      <td>0.33</td>\n",
       "    </tr>\n",
       "    <tr>\n",
       "      <th>1448</th>\n",
       "      <td>Бесславные придурки</td>\n",
       "      <td>111003314</td>\n",
       "      <td>2014-03-28</td>\n",
       "      <td>Художественный</td>\n",
       "      <td>Компания АТК-Студио</td>\n",
       "      <td>None</td>\n",
       "      <td>А.Якимчук</td>\n",
       "      <td>А.Тютрюмов</td>\n",
       "      <td>«12+» - для детей старше 12 лет</td>\n",
       "      <td>0</td>\n",
       "      <td>...</td>\n",
       "      <td>Министерство культуры</td>\n",
       "      <td>NaN</td>\n",
       "      <td>unknown</td>\n",
       "      <td>28,140.0</td>\n",
       "      <td>26000000</td>\n",
       "      <td>1.2999999973076923</td>\n",
       "      <td>2014</td>\n",
       "      <td>unknown</td>\n",
       "      <td>А.Якимчук</td>\n",
       "      <td>0.7</td>\n",
       "    </tr>\n",
       "    <tr>\n",
       "      <th>1498</th>\n",
       "      <td>Невидимки</td>\n",
       "      <td>111004213</td>\n",
       "      <td>2013-09-10</td>\n",
       "      <td>Художественный</td>\n",
       "      <td>Компания РЕАЛ-ДАКОТА</td>\n",
       "      <td>None</td>\n",
       "      <td>Р.Давлетьяров, С.Комаров</td>\n",
       "      <td>Р.Давлетьяров, А.Котелевский, А.Олейников</td>\n",
       "      <td>«12+» - для детей старше 12 лет</td>\n",
       "      <td>0</td>\n",
       "      <td>...</td>\n",
       "      <td>Фонд кино</td>\n",
       "      <td>5.300000190734863</td>\n",
       "      <td>комедия,фантастика</td>\n",
       "      <td>19,957,031.5</td>\n",
       "      <td>107847945</td>\n",
       "      <td>1.3873093585407266</td>\n",
       "      <td>2013</td>\n",
       "      <td>комедия</td>\n",
       "      <td>Р.Давлетьяров</td>\n",
       "      <td>0.61</td>\n",
       "    </tr>\n",
       "    <tr>\n",
       "      <th>1524</th>\n",
       "      <td>БЕРЦЫ</td>\n",
       "      <td>111004314</td>\n",
       "      <td>2014-05-05</td>\n",
       "      <td>Художественный</td>\n",
       "      <td>Студия Пассажир</td>\n",
       "      <td>None</td>\n",
       "      <td>Е.Миндадзе (псевдоним Катя Шагалова)</td>\n",
       "      <td>Л.Антонова</td>\n",
       "      <td>«16+» - для детей старше 16 лет</td>\n",
       "      <td>0</td>\n",
       "      <td>...</td>\n",
       "      <td>Министерство культуры</td>\n",
       "      <td>4.199999809265137</td>\n",
       "      <td>драма</td>\n",
       "      <td>55,917.5</td>\n",
       "      <td>28000000</td>\n",
       "      <td>1.3099052746404483</td>\n",
       "      <td>2014</td>\n",
       "      <td>драма</td>\n",
       "      <td>Е.Миндадзе (псевдоним Катя Шагалова)</td>\n",
       "      <td>0.69</td>\n",
       "    </tr>\n",
       "    <tr>\n",
       "      <th>1792</th>\n",
       "      <td>Братья Ч</td>\n",
       "      <td>111004414</td>\n",
       "      <td>2014-04-23</td>\n",
       "      <td>Художественный</td>\n",
       "      <td>Студия Пассажир</td>\n",
       "      <td>None</td>\n",
       "      <td>М.Угаров</td>\n",
       "      <td>А.Миндадзе, Л.Антонова</td>\n",
       "      <td>«16+» - для детей старше 16 лет</td>\n",
       "      <td>0</td>\n",
       "      <td>...</td>\n",
       "      <td>Министерство культуры</td>\n",
       "      <td>6.400000095367432</td>\n",
       "      <td>драма</td>\n",
       "      <td>232,100.0</td>\n",
       "      <td>25000000</td>\n",
       "      <td>1.3752361919576304</td>\n",
       "      <td>2014</td>\n",
       "      <td>драма</td>\n",
       "      <td>М.Угаров</td>\n",
       "      <td>0.62</td>\n",
       "    </tr>\n",
       "    <tr>\n",
       "      <th>...</th>\n",
       "      <td>...</td>\n",
       "      <td>...</td>\n",
       "      <td>...</td>\n",
       "      <td>...</td>\n",
       "      <td>...</td>\n",
       "      <td>...</td>\n",
       "      <td>...</td>\n",
       "      <td>...</td>\n",
       "      <td>...</td>\n",
       "      <td>...</td>\n",
       "      <td>...</td>\n",
       "      <td>...</td>\n",
       "      <td>...</td>\n",
       "      <td>...</td>\n",
       "      <td>...</td>\n",
       "      <td>...</td>\n",
       "      <td>...</td>\n",
       "      <td>...</td>\n",
       "      <td>...</td>\n",
       "      <td>...</td>\n",
       "      <td>...</td>\n",
       "    </tr>\n",
       "    <tr>\n",
       "      <th>7464</th>\n",
       "      <td>Союз спасения</td>\n",
       "      <td>111022019</td>\n",
       "      <td>2019-12-26</td>\n",
       "      <td>Художественный</td>\n",
       "      <td>З Дирекция кино</td>\n",
       "      <td>None</td>\n",
       "      <td>А.Кравчук</td>\n",
       "      <td>А.Максимов, К.Эрнст</td>\n",
       "      <td>«12+» - для детей старше 12 лет</td>\n",
       "      <td>100000000</td>\n",
       "      <td>...</td>\n",
       "      <td>Фонд кино</td>\n",
       "      <td>6.0</td>\n",
       "      <td>история,биография,драма</td>\n",
       "      <td>717,703,185.53</td>\n",
       "      <td>500000000</td>\n",
       "      <td>1.489795918367347</td>\n",
       "      <td>2019</td>\n",
       "      <td>история</td>\n",
       "      <td>А.Кравчук</td>\n",
       "      <td>0.51</td>\n",
       "    </tr>\n",
       "    <tr>\n",
       "      <th>7466</th>\n",
       "      <td>Иван Царевич и Серый Волк 4</td>\n",
       "      <td>114005019</td>\n",
       "      <td>2019-12-20</td>\n",
       "      <td>Анимационный</td>\n",
       "      <td>Студия анимационного кино Мельница</td>\n",
       "      <td>None</td>\n",
       "      <td>Д.Шмидт, К.Феоктистов</td>\n",
       "      <td>С.Сельянов, А.Боярский</td>\n",
       "      <td>«6+» - для детей старше 6 лет</td>\n",
       "      <td>100000000</td>\n",
       "      <td>...</td>\n",
       "      <td>Фонд кино</td>\n",
       "      <td>6.699999809265137</td>\n",
       "      <td>мультфильм,приключения,семейный</td>\n",
       "      <td>501,069,235.0</td>\n",
       "      <td>100000000</td>\n",
       "      <td>1.4736842105263157</td>\n",
       "      <td>2019</td>\n",
       "      <td>мультфильм</td>\n",
       "      <td>Д.Шмидт</td>\n",
       "      <td>0.53</td>\n",
       "    </tr>\n",
       "    <tr>\n",
       "      <th>7474</th>\n",
       "      <td>Вторжение</td>\n",
       "      <td>111022519</td>\n",
       "      <td>2019-12-23</td>\n",
       "      <td>Художественный</td>\n",
       "      <td>Арт  Студия, Водород 2011</td>\n",
       "      <td>None</td>\n",
       "      <td>Ф.Бондарчук</td>\n",
       "      <td>Ф.Бондарчук, М.Врубель, А.Андрющенко, Д.Рудовский</td>\n",
       "      <td>«12+» - для детей старше 12 лет</td>\n",
       "      <td>100000000</td>\n",
       "      <td>...</td>\n",
       "      <td>Фонд кино</td>\n",
       "      <td>5.699999809265137</td>\n",
       "      <td>фантастика,боевик</td>\n",
       "      <td>NaN</td>\n",
       "      <td>500000000</td>\n",
       "      <td>1.4703389830508475</td>\n",
       "      <td>2019</td>\n",
       "      <td>фантастика</td>\n",
       "      <td>Ф.Бондарчук</td>\n",
       "      <td>0.53</td>\n",
       "    </tr>\n",
       "    <tr>\n",
       "      <th>7476</th>\n",
       "      <td>Я свободен</td>\n",
       "      <td>111023019</td>\n",
       "      <td>2019-12-26</td>\n",
       "      <td>Художественный</td>\n",
       "      <td>ТПО  им. М.Горького</td>\n",
       "      <td>None</td>\n",
       "      <td>И.Северов</td>\n",
       "      <td>С.Зернов</td>\n",
       "      <td>«12+» - для детей старше 12 лет</td>\n",
       "      <td>0</td>\n",
       "      <td>...</td>\n",
       "      <td>Министерство культуры</td>\n",
       "      <td>5.900000095367432</td>\n",
       "      <td>драма</td>\n",
       "      <td>NaN</td>\n",
       "      <td>30000000</td>\n",
       "      <td>1.3500021666594444</td>\n",
       "      <td>2019</td>\n",
       "      <td>драма</td>\n",
       "      <td>И.Северов</td>\n",
       "      <td>0.65</td>\n",
       "    </tr>\n",
       "    <tr>\n",
       "      <th>7478</th>\n",
       "      <td>(Не)идеальный мужчина</td>\n",
       "      <td>111023119</td>\n",
       "      <td>2019-12-24</td>\n",
       "      <td>Художественный</td>\n",
       "      <td>Нон-Стоп</td>\n",
       "      <td>None</td>\n",
       "      <td>М.Бальчюнас (псевдоним М.Вайсберг)</td>\n",
       "      <td>С.Мелькумов, А.Роднянский, М.Вайсберг, Р.Минас...</td>\n",
       "      <td>«12+» - для детей старше 12 лет</td>\n",
       "      <td>40000000</td>\n",
       "      <td>...</td>\n",
       "      <td>Фонд кино</td>\n",
       "      <td>4.5</td>\n",
       "      <td>комедия,фантастика,мелодрама</td>\n",
       "      <td>NaN</td>\n",
       "      <td>100000000</td>\n",
       "      <td>1.3339882537639554</td>\n",
       "      <td>2019</td>\n",
       "      <td>комедия</td>\n",
       "      <td>М.Бальчюнас (псевдоним М.Вайсберг)</td>\n",
       "      <td>0.67</td>\n",
       "    </tr>\n",
       "  </tbody>\n",
       "</table>\n",
       "<p>332 rows × 22 columns</p>\n",
       "</div>"
      ],
      "text/plain": [
       "                            title  pu_number show_start_date            type  \\\n",
       "1281                Пока еще жива  111005313      2013-10-11  Художественный   \n",
       "1448          Бесславные придурки  111003314      2014-03-28  Художественный   \n",
       "1498                    Невидимки  111004213      2013-09-10  Художественный   \n",
       "1524                        БЕРЦЫ  111004314      2014-05-05  Художественный   \n",
       "1792                     Братья Ч  111004414      2014-04-23  Художественный   \n",
       "...                           ...        ...             ...             ...   \n",
       "7464                Союз спасения  111022019      2019-12-26  Художественный   \n",
       "7466  Иван Царевич и Серый Волк 4  114005019      2019-12-20    Анимационный   \n",
       "7474                    Вторжение  111022519      2019-12-23  Художественный   \n",
       "7476                   Я свободен  111023019      2019-12-26  Художественный   \n",
       "7478        (Не)идеальный мужчина  111023119      2019-12-24  Художественный   \n",
       "\n",
       "                                            film_studio production_country  \\\n",
       "1281  содействия развитию кинематографии Ангел-Фильм...               None   \n",
       "1448                                Компания АТК-Студио               None   \n",
       "1498                               Компания РЕАЛ-ДАКОТА               None   \n",
       "1524                                    Студия Пассажир               None   \n",
       "1792                                    Студия Пассажир               None   \n",
       "...                                                 ...                ...   \n",
       "7464                                    З Дирекция кино               None   \n",
       "7466                 Студия анимационного кино Мельница               None   \n",
       "7474                          Арт  Студия, Водород 2011               None   \n",
       "7476                                ТПО  им. М.Горького               None   \n",
       "7478                                           Нон-Стоп               None   \n",
       "\n",
       "                                  director  \\\n",
       "1281                            А.Атанесян   \n",
       "1448                             А.Якимчук   \n",
       "1498              Р.Давлетьяров, С.Комаров   \n",
       "1524  Е.Миндадзе (псевдоним Катя Шагалова)   \n",
       "1792                              М.Угаров   \n",
       "...                                    ...   \n",
       "7464                             А.Кравчук   \n",
       "7466                 Д.Шмидт, К.Феоктистов   \n",
       "7474                           Ф.Бондарчук   \n",
       "7476                             И.Северов   \n",
       "7478    М.Бальчюнас (псевдоним М.Вайсберг)   \n",
       "\n",
       "                                               producer  \\\n",
       "1281                   А.Атанесян, М.Бабаханов, Р.Бутко   \n",
       "1448                                         А.Тютрюмов   \n",
       "1498          Р.Давлетьяров, А.Котелевский, А.Олейников   \n",
       "1524                                         Л.Антонова   \n",
       "1792                             А.Миндадзе, Л.Антонова   \n",
       "...                                                 ...   \n",
       "7464                                А.Максимов, К.Эрнст   \n",
       "7466                             С.Сельянов, А.Боярский   \n",
       "7474  Ф.Бондарчук, М.Врубель, А.Андрющенко, Д.Рудовский   \n",
       "7476                                           С.Зернов   \n",
       "7478  С.Мелькумов, А.Роднянский, М.Вайсберг, Р.Минас...   \n",
       "\n",
       "                      age_restriction  refundable_support  ...  \\\n",
       "1281  «16+» - для детей старше 16 лет                   0  ...   \n",
       "1448  «12+» - для детей старше 12 лет                   0  ...   \n",
       "1498  «12+» - для детей старше 12 лет                   0  ...   \n",
       "1524  «16+» - для детей старше 16 лет                   0  ...   \n",
       "1792  «16+» - для детей старше 16 лет                   0  ...   \n",
       "...                               ...                 ...  ...   \n",
       "7464  «12+» - для детей старше 12 лет           100000000  ...   \n",
       "7466    «6+» - для детей старше 6 лет           100000000  ...   \n",
       "7474  «12+» - для детей старше 12 лет           100000000  ...   \n",
       "7476  «12+» - для детей старше 12 лет                   0  ...   \n",
       "7478  «12+» - для детей старше 12 лет            40000000  ...   \n",
       "\n",
       "           financing_source           ratings  \\\n",
       "1281  Министерство культуры 8.100000381469727   \n",
       "1448  Министерство культуры               NaN   \n",
       "1498              Фонд кино 5.300000190734863   \n",
       "1524  Министерство культуры 4.199999809265137   \n",
       "1792  Министерство культуры 6.400000095367432   \n",
       "...                     ...               ...   \n",
       "7464              Фонд кино               6.0   \n",
       "7466              Фонд кино 6.699999809265137   \n",
       "7474              Фонд кино 5.699999809265137   \n",
       "7476  Министерство культуры 5.900000095367432   \n",
       "7478              Фонд кино               4.5   \n",
       "\n",
       "                               genres     box_office total_budget  \\\n",
       "1281                  драма,мелодрама      365,353.6     26500000   \n",
       "1448                          unknown       28,140.0     26000000   \n",
       "1498               комедия,фантастика   19,957,031.5    107847945   \n",
       "1524                            драма       55,917.5     28000000   \n",
       "1792                            драма      232,100.0     25000000   \n",
       "...                               ...            ...          ...   \n",
       "7464          история,биография,драма 717,703,185.53    500000000   \n",
       "7466  мультфильм,приключения,семейный  501,069,235.0    100000000   \n",
       "7474                фантастика,боевик            NaN    500000000   \n",
       "7476                            драма            NaN     30000000   \n",
       "7478     комедия,фантастика,мелодрама            NaN    100000000   \n",
       "\n",
       "            costs_share  year  main_genre  \\\n",
       "1281 1.6662968648275638  2013       драма   \n",
       "1448 1.2999999973076923  2014     unknown   \n",
       "1498 1.3873093585407266  2013     комедия   \n",
       "1524 1.3099052746404483  2014       драма   \n",
       "1792 1.3752361919576304  2014       драма   \n",
       "...                 ...   ...         ...   \n",
       "7464  1.489795918367347  2019     история   \n",
       "7466 1.4736842105263157  2019  мультфильм   \n",
       "7474 1.4703389830508475  2019  фантастика   \n",
       "7476 1.3500021666594444  2019       драма   \n",
       "7478 1.3339882537639554  2019     комедия   \n",
       "\n",
       "                             main_director gov_share  \n",
       "1281                            А.Атанесян      0.33  \n",
       "1448                             А.Якимчук       0.7  \n",
       "1498                         Р.Давлетьяров      0.61  \n",
       "1524  Е.Миндадзе (псевдоним Катя Шагалова)      0.69  \n",
       "1792                              М.Угаров      0.62  \n",
       "...                                    ...       ...  \n",
       "7464                             А.Кравчук      0.51  \n",
       "7466                               Д.Шмидт      0.53  \n",
       "7474                           Ф.Бондарчук      0.53  \n",
       "7476                             И.Северов      0.65  \n",
       "7478    М.Бальчюнас (псевдоним М.Вайсберг)      0.67  \n",
       "\n",
       "[332 rows x 22 columns]"
      ]
     },
     "execution_count": 13,
     "metadata": {},
     "output_type": "execute_result"
    }
   ],
   "source": [
    "df['gov_share']=(df['refundable_support']+df['nonrefundable_support'])/df['budget']\n",
    "\n",
    "\n",
    "df[~df['gov_share'].isna()]\n",
    "df['gov_share']=df['gov_share'].round(2)\n",
    "df[~df['gov_share'].isna()]"
   ]
  },
  {
   "cell_type": "markdown",
   "metadata": {
    "id": "6t4EukPLgFyV"
   },
   "source": [
    "### Шаг 3. Проведите исследовательский анализ данных\n"
   ]
  },
  {
   "cell_type": "markdown",
   "metadata": {
    "id": "vAH8WCzugFyV"
   },
   "source": [
    "- Смотрю, сколько фильмов выходило в прокат каждый год. Расчитаю, какую долю составляют фильмы с указанной информацией о прокате в кинотеатрах."
   ]
  },
  {
   "cell_type": "markdown",
   "metadata": {},
   "source": [
    "<div class=\"alert alert-info\"> <b></b> Вариант решения №1</div>"
   ]
  },
  {
   "cell_type": "code",
   "execution_count": 14,
   "metadata": {
    "id": "ABeV47y7gFyW",
    "scrolled": true
   },
   "outputs": [
    {
     "data": {
      "image/png": "[encoded data removed]",
      "text/plain": [
       "<Figure size 720x432 with 1 Axes>"
      ]
     },
     "metadata": {
      "needs_background": "light"
     },
     "output_type": "display_data"
    },
    {
     "data": {
      "text/html": [
       "<div>\n",
       "<style scoped>\n",
       "    .dataframe tbody tr th:only-of-type {\n",
       "        vertical-align: middle;\n",
       "    }\n",
       "\n",
       "    .dataframe tbody tr th {\n",
       "        vertical-align: top;\n",
       "    }\n",
       "\n",
       "    .dataframe thead th {\n",
       "        text-align: right;\n",
       "    }\n",
       "</style>\n",
       "<table border=\"1\" class=\"dataframe\">\n",
       "  <thead>\n",
       "    <tr style=\"text-align: right;\">\n",
       "      <th>year</th>\n",
       "      <th>2010</th>\n",
       "      <th>2011</th>\n",
       "      <th>2012</th>\n",
       "      <th>2013</th>\n",
       "      <th>2014</th>\n",
       "      <th>2015</th>\n",
       "      <th>2016</th>\n",
       "      <th>2017</th>\n",
       "      <th>2018</th>\n",
       "      <th>2019</th>\n",
       "    </tr>\n",
       "  </thead>\n",
       "  <tbody>\n",
       "    <tr>\n",
       "      <th>pu_number</th>\n",
       "      <td>985</td>\n",
       "      <td>622</td>\n",
       "      <td>593</td>\n",
       "      <td>630</td>\n",
       "      <td>807</td>\n",
       "      <td>705</td>\n",
       "      <td>818</td>\n",
       "      <td>505</td>\n",
       "      <td>891</td>\n",
       "      <td>930</td>\n",
       "    </tr>\n",
       "  </tbody>\n",
       "</table>\n",
       "</div>"
      ],
      "text/plain": [
       "year       2010  2011  2012  2013  2014  2015  2016  2017  2018  2019\n",
       "pu_number   985   622   593   630   807   705   818   505   891   930"
      ]
     },
     "execution_count": 14,
     "metadata": {},
     "output_type": "execute_result"
    }
   ],
   "source": [
    "df_pu=df.pivot_table(columns='year', values='pu_number', aggfunc='count').plot(kind='bar', figsize=(10,6), grid=True,rot=0)\n",
    "plt.xlabel(\"Год получения ПУ\")\n",
    "plt.ylabel(\"Количество фильмов\")\n",
    "plt.show()\n",
    "df_pu=df.pivot_table(columns='year', values='pu_number', aggfunc='count')\n",
    "#кол-во фильмов которые получили прокатное удостоверение\n",
    "\n",
    "share=len(df[~df['box_office'].isna()])/len(df['pu_number'])\n",
    "#доля филмов в датасете по которым есть информация о прокате (0,42)\n",
    "df_pu"
   ]
  },
  {
   "cell_type": "markdown",
   "metadata": {},
   "source": [
    "Удалось выяснить, что данные о кассовых сборах фильмов составляют всего 42% от данных по прокатным удостоверениям. Считаю что мы не можем корректно выяснить в какой из годов активность в сфере коммерческого кино была максимальной/минимальной, используя данные по кассовым сборам. Предлагаю оценить тренд по кол-ву получаемых прокатных удостоверений. Так в 2010году было максимальное значение-986шт, а в 2017 минимальное-505шт.\n",
    "Так же исследование по кассовым сборам выраженное в денежных единицах, на таком протяженном периоде(10лет) будет не корректным, так как на его результаты будет влиять инфляция и колебание цены билетов. Считаю, что при наличии должного объема данных по кассовым сборам, нужна доп инфа по среднему ценнику билета за каждый год, тогда бы мы расчитали активность в сфере кинотеатров по кол-ву проданных былетов и это было бы точнее, чем по денежной массе."
   ]
  },
  {
   "cell_type": "markdown",
   "metadata": {},
   "source": [
    "<div class=\"alert alert-info\"> <b></b> Вариант решения №2</div>"
   ]
  },
  {
   "cell_type": "markdown",
   "metadata": {},
   "source": [
    "Исследуя данные по кассовым сборам и посчитав строки в столбце box_office по годам, можно сделать вывод, что с 2010 по 2019 годы наблюдается тренд на увелечение фильмов в прокате. С минимальным значением 105 картин в 2010году и 530 картин в 2019. Так же виден спад в 2017 и 2018 годах, отличающийся от общей тенденции роста кол-ва картин в прокате."
   ]
  },
  {
   "cell_type": "code",
   "execution_count": 15,
   "metadata": {},
   "outputs": [
    {
     "data": {
      "text/html": [
       "<div>\n",
       "<style scoped>\n",
       "    .dataframe tbody tr th:only-of-type {\n",
       "        vertical-align: middle;\n",
       "    }\n",
       "\n",
       "    .dataframe tbody tr th {\n",
       "        vertical-align: top;\n",
       "    }\n",
       "\n",
       "    .dataframe thead th {\n",
       "        text-align: right;\n",
       "    }\n",
       "</style>\n",
       "<table border=\"1\" class=\"dataframe\">\n",
       "  <thead>\n",
       "    <tr style=\"text-align: right;\">\n",
       "      <th>year</th>\n",
       "      <th>2010</th>\n",
       "      <th>2011</th>\n",
       "      <th>2012</th>\n",
       "      <th>2013</th>\n",
       "      <th>2014</th>\n",
       "      <th>2015</th>\n",
       "      <th>2016</th>\n",
       "      <th>2017</th>\n",
       "      <th>2018</th>\n",
       "      <th>2019</th>\n",
       "    </tr>\n",
       "  </thead>\n",
       "  <tbody>\n",
       "    <tr>\n",
       "      <th>box_office</th>\n",
       "      <td>105</td>\n",
       "      <td>109</td>\n",
       "      <td>128</td>\n",
       "      <td>184</td>\n",
       "      <td>279</td>\n",
       "      <td>465</td>\n",
       "      <td>526</td>\n",
       "      <td>357</td>\n",
       "      <td>475</td>\n",
       "      <td>530</td>\n",
       "    </tr>\n",
       "  </tbody>\n",
       "</table>\n",
       "</div>"
      ],
      "text/plain": [
       "year        2010  2011  2012  2013  2014  2015  2016  2017  2018  2019\n",
       "box_office   105   109   128   184   279   465   526   357   475   530"
      ]
     },
     "execution_count": 15,
     "metadata": {},
     "output_type": "execute_result"
    },
    {
     "data": {
      "image/png": "[encoded data removed]",
      "text/plain": [
       "<Figure size 720x432 with 1 Axes>"
      ]
     },
     "metadata": {
      "needs_background": "light"
     },
     "output_type": "display_data"
    }
   ],
   "source": [
    "df_box=df.pivot_table(columns='year', values='box_office', aggfunc='count').plot(kind='bar', figsize=(10,6), grid=True, rot=0)\n",
    "plt.xlabel(\"Год получения ПУ\")\n",
    "plt.ylabel(\"Количество фильмов в прокате\")\n",
    "df_box=df.pivot_table(columns='year', values='box_office', aggfunc='count')\n",
    "df_box"
   ]
  },
  {
   "cell_type": "code",
   "execution_count": 16,
   "metadata": {
    "scrolled": true
   },
   "outputs": [
    {
     "data": {
      "text/html": [
       "<div>\n",
       "<style scoped>\n",
       "    .dataframe tbody tr th:only-of-type {\n",
       "        vertical-align: middle;\n",
       "    }\n",
       "\n",
       "    .dataframe tbody tr th {\n",
       "        vertical-align: top;\n",
       "    }\n",
       "\n",
       "    .dataframe thead th {\n",
       "        text-align: right;\n",
       "    }\n",
       "</style>\n",
       "<table border=\"1\" class=\"dataframe\">\n",
       "  <thead>\n",
       "    <tr style=\"text-align: right;\">\n",
       "      <th></th>\n",
       "      <th>box_office</th>\n",
       "    </tr>\n",
       "    <tr>\n",
       "      <th>year</th>\n",
       "      <th></th>\n",
       "    </tr>\n",
       "  </thead>\n",
       "  <tbody>\n",
       "    <tr>\n",
       "      <th>2010</th>\n",
       "      <td>0.013491851456051297</td>\n",
       "    </tr>\n",
       "    <tr>\n",
       "      <th>2011</th>\n",
       "      <td>0.014560512957520704</td>\n",
       "    </tr>\n",
       "    <tr>\n",
       "      <th>2012</th>\n",
       "      <td>0.01643067058509217</td>\n",
       "    </tr>\n",
       "    <tr>\n",
       "      <th>2013</th>\n",
       "      <td>0.023911301095378038</td>\n",
       "    </tr>\n",
       "    <tr>\n",
       "      <th>2014</th>\n",
       "      <td>0.0364680737376436</td>\n",
       "    </tr>\n",
       "    <tr>\n",
       "      <th>2015</th>\n",
       "      <td>0.061715201709858405</td>\n",
       "    </tr>\n",
       "    <tr>\n",
       "      <th>2016</th>\n",
       "      <td>0.07013091103393</td>\n",
       "    </tr>\n",
       "    <tr>\n",
       "      <th>2017</th>\n",
       "      <td>0.0476890195030724</td>\n",
       "    </tr>\n",
       "    <tr>\n",
       "      <th>2018</th>\n",
       "      <td>0.06345177664974619</td>\n",
       "    </tr>\n",
       "    <tr>\n",
       "      <th>2019</th>\n",
       "      <td>0.07079882447234838</td>\n",
       "    </tr>\n",
       "  </tbody>\n",
       "</table>\n",
       "</div>"
      ],
      "text/plain": [
       "               box_office\n",
       "year                     \n",
       "2010 0.013491851456051297\n",
       "2011 0.014560512957520704\n",
       "2012  0.01643067058509217\n",
       "2013 0.023911301095378038\n",
       "2014   0.0364680737376436\n",
       "2015 0.061715201709858405\n",
       "2016     0.07013091103393\n",
       "2017   0.0476890195030724\n",
       "2018  0.06345177664974619\n",
       "2019  0.07079882447234838"
      ]
     },
     "execution_count": 16,
     "metadata": {},
     "output_type": "execute_result"
    }
   ],
   "source": [
    "df_temp=df[~df['box_office'].isna()]\n",
    "df_temp=df_temp[df_temp['box_office']!=0]\n",
    "df_temp.pivot_table(index='year', aggfunc='count', values='box_office')/len(df)"
   ]
  },
  {
   "cell_type": "markdown",
   "metadata": {
    "id": "BEOdcIrIgFyW"
   },
   "source": [
    "- Динамика проката по годам."
   ]
  },
  {
   "cell_type": "code",
   "execution_count": 17,
   "metadata": {
    "id": "tfEhofYvgFyX",
    "scrolled": true
   },
   "outputs": [
    {
     "data": {
      "text/html": [
       "<div>\n",
       "<style scoped>\n",
       "    .dataframe tbody tr th:only-of-type {\n",
       "        vertical-align: middle;\n",
       "    }\n",
       "\n",
       "    .dataframe tbody tr th {\n",
       "        vertical-align: top;\n",
       "    }\n",
       "\n",
       "    .dataframe thead th {\n",
       "        text-align: right;\n",
       "    }\n",
       "</style>\n",
       "<table border=\"1\" class=\"dataframe\">\n",
       "  <thead>\n",
       "    <tr style=\"text-align: right;\">\n",
       "      <th>year</th>\n",
       "      <th>2010</th>\n",
       "      <th>2011</th>\n",
       "      <th>2012</th>\n",
       "      <th>2013</th>\n",
       "      <th>2014</th>\n",
       "      <th>2015</th>\n",
       "      <th>2016</th>\n",
       "      <th>2017</th>\n",
       "      <th>2018</th>\n",
       "      <th>2019</th>\n",
       "    </tr>\n",
       "  </thead>\n",
       "  <tbody>\n",
       "    <tr>\n",
       "      <th>box_office</th>\n",
       "      <td>2,428,654.0</td>\n",
       "      <td>14,102,765.0</td>\n",
       "      <td>6,955,423.0</td>\n",
       "      <td>29,799,706.2</td>\n",
       "      <td>7,444,951,859.200001</td>\n",
       "      <td>39,497,365,196.40001</td>\n",
       "      <td>47,866,299,741.91004</td>\n",
       "      <td>48,563,707,217.51</td>\n",
       "      <td>49,668,403,134.31999</td>\n",
       "      <td>48,425,708,779.59</td>\n",
       "    </tr>\n",
       "  </tbody>\n",
       "</table>\n",
       "</div>"
      ],
      "text/plain": [
       "year              2010         2011        2012         2013  \\\n",
       "box_office 2,428,654.0 14,102,765.0 6,955,423.0 29,799,706.2   \n",
       "\n",
       "year                       2014                 2015                 2016  \\\n",
       "box_office 7,444,951,859.200001 39,497,365,196.40001 47,866,299,741.91004   \n",
       "\n",
       "year                    2017                 2018              2019  \n",
       "box_office 48,563,707,217.51 49,668,403,134.31999 48,425,708,779.59  "
      ]
     },
     "execution_count": 17,
     "metadata": {},
     "output_type": "execute_result"
    },
    {
     "data": {
      "image/png": "[encoded data removed]",
      "text/plain": [
       "<Figure size 720x432 with 1 Axes>"
      ]
     },
     "metadata": {
      "needs_background": "light"
     },
     "output_type": "display_data"
    }
   ],
   "source": [
    "df_box=df.pivot_table(columns='year', values='box_office', aggfunc='sum').plot(kind='bar', figsize=(10,6), grid=True, rot=0)\n",
    "plt.xlabel(\"Год получения ПУ\")\n",
    "plt.ylabel(\"Количество кассовых сборов\")\n",
    "df_box=df.pivot_table(columns='year', values='box_office', aggfunc='sum')\n",
    "df_box"
   ]
  },
  {
   "cell_type": "markdown",
   "metadata": {},
   "source": [
    "Исходя из того, что наполненность данных по кассовым сборам с 2010 по 2014 годы крайне низкая, предлагаю не интерпретировать эти данные как низкие кассовые сборы, предлагаю интерпретировать как отсутствие информации и невозможность сделать выводы по тем годам. С 2014 года по 2019 годы наблюдается рост объема информации, с падением в 2017 году, но не смотря на это можем сделать вывод о росте кассовых сборов сравнивая годы со схожим объемом данных- например 2014(3,7%) и 2017(4,7%) и разницей кассовых сборов более чем в 5 раз в сторону увеличения."
   ]
  },
  {
   "cell_type": "markdown",
   "metadata": {
    "id": "G-7qS-N-gFyY"
   },
   "source": [
    "- Среднюю и медианную сумму сборов для каждого года."
   ]
  },
  {
   "cell_type": "code",
   "execution_count": 18,
   "metadata": {
    "scrolled": true
   },
   "outputs": [
    {
     "data": {
      "text/plain": [
       "Text(0, 0.5, 'Сумма кассовых сборов')"
      ]
     },
     "execution_count": 18,
     "metadata": {},
     "output_type": "execute_result"
    },
    {
     "data": {
      "image/png": "[encoded data removed]",
      "text/plain": [
       "<Figure size 432x288 with 1 Axes>"
      ]
     },
     "metadata": {
      "needs_background": "light"
     },
     "output_type": "display_data"
    }
   ],
   "source": [
    "#расчет средней суммы сборов для каждого года\n",
    "box_mean = df.pivot_table(index='year', values='box_office', aggfunc=['mean','median']).plot(kind='line', grid=True)\n",
    "plt.xlabel(\"Год\")\n",
    "plt.ylabel(\"Сумма кассовых сборов\")\n"
   ]
  },
  {
   "cell_type": "code",
   "execution_count": 19,
   "metadata": {
    "scrolled": true
   },
   "outputs": [
    {
     "data": {
      "text/plain": [
       "count                3,158.0\n",
       "mean     76,478,696.16121913\n",
       "std     240,353,122.82324007\n",
       "min                      0.0\n",
       "25%                 86,239.0\n",
       "50%             2,327,987.55\n",
       "75%           23,979,671.025\n",
       "max         3,073,568,690.79\n",
       "Name: box_office, dtype: float64"
      ]
     },
     "execution_count": 19,
     "metadata": {},
     "output_type": "execute_result"
    }
   ],
   "source": [
    "df['box_office'].describe()"
   ]
  },
  {
   "cell_type": "markdown",
   "metadata": {},
   "source": [
    "Медианная и средняя сумма кассовых сборов по годам очень разнятся. Это же подтверждает и большое стандартное отклонение по столбцу box_office выведенное через .describe(). Этот факт говорит о большом разбросе числовых значений, что означает очень разные суммы сборов для разных фильмов."
   ]
  },
  {
   "cell_type": "markdown",
   "metadata": {
    "id": "Ok89WFwJgFyZ"
   },
   "source": [
    "- Определить, влияет ли возрастное ограничение аудитории («6+», «12+», «16+», «18+» и т. д.) на сборы фильма в прокате в период с 2015 по 2019 год? Фильмы с каким возрастным ограничением собрали больше всего денег в прокате? Меняется ли картина в зависимости от года? С чем это может быть связано?"
   ]
  },
  {
   "cell_type": "code",
   "execution_count": 20,
   "metadata": {
    "id": "jsSbEqfjgFya",
    "scrolled": true
   },
   "outputs": [
    {
     "name": "stdout",
     "output_type": "stream",
     "text": [
      "Суммы сборов в разных возрастных кат-ях по годам\n"
     ]
    },
    {
     "data": {
      "text/html": [
       "<div>\n",
       "<style scoped>\n",
       "    .dataframe tbody tr th:only-of-type {\n",
       "        vertical-align: middle;\n",
       "    }\n",
       "\n",
       "    .dataframe tbody tr th {\n",
       "        vertical-align: top;\n",
       "    }\n",
       "\n",
       "    .dataframe thead th {\n",
       "        text-align: right;\n",
       "    }\n",
       "</style>\n",
       "<table border=\"1\" class=\"dataframe\">\n",
       "  <thead>\n",
       "    <tr style=\"text-align: right;\">\n",
       "      <th>age_restriction</th>\n",
       "      <th>«0+» - для любой зрительской аудитории</th>\n",
       "      <th>«12+» - для детей старше 12 лет</th>\n",
       "      <th>«16+» - для детей старше 16 лет</th>\n",
       "      <th>«18+» - запрещено для детей</th>\n",
       "      <th>«6+» - для детей старше 6 лет</th>\n",
       "    </tr>\n",
       "    <tr>\n",
       "      <th>year</th>\n",
       "      <th></th>\n",
       "      <th></th>\n",
       "      <th></th>\n",
       "      <th></th>\n",
       "      <th></th>\n",
       "    </tr>\n",
       "  </thead>\n",
       "  <tbody>\n",
       "    <tr>\n",
       "      <th>2015</th>\n",
       "      <td>379,054,578.37</td>\n",
       "      <td>13,616,082,008.909998</td>\n",
       "      <td>11,368,120,870.27</td>\n",
       "      <td>5,432,308,367.4400015</td>\n",
       "      <td>8,701,799,371.41</td>\n",
       "    </tr>\n",
       "    <tr>\n",
       "      <th>2016</th>\n",
       "      <td>150,228,848.67</td>\n",
       "      <td>12,204,446,524.389997</td>\n",
       "      <td>16,664,548,541.740004</td>\n",
       "      <td>6,793,929,818.869999</td>\n",
       "      <td>12,053,146,008.240002</td>\n",
       "    </tr>\n",
       "    <tr>\n",
       "      <th>2017</th>\n",
       "      <td>229,598,930.0</td>\n",
       "      <td>7,851,427,660.67</td>\n",
       "      <td>18,745,042,900.06</td>\n",
       "      <td>9,651,495,581.02</td>\n",
       "      <td>12,086,142,145.76</td>\n",
       "    </tr>\n",
       "    <tr>\n",
       "      <th>2018</th>\n",
       "      <td>32,449,002.11</td>\n",
       "      <td>14,267,291,660.69</td>\n",
       "      <td>16,503,602,346.959997</td>\n",
       "      <td>8,760,085,501.15</td>\n",
       "      <td>10,104,974,623.41</td>\n",
       "    </tr>\n",
       "    <tr>\n",
       "      <th>2019</th>\n",
       "      <td>17,746,066.82</td>\n",
       "      <td>12,680,198,773.67</td>\n",
       "      <td>12,753,418,984.600002</td>\n",
       "      <td>10,121,796,303.640003</td>\n",
       "      <td>12,852,548,650.859997</td>\n",
       "    </tr>\n",
       "  </tbody>\n",
       "</table>\n",
       "</div>"
      ],
      "text/plain": [
       "age_restriction  «0+» - для любой зрительской аудитории  \\\n",
       "year                                                      \n",
       "2015                                     379,054,578.37   \n",
       "2016                                     150,228,848.67   \n",
       "2017                                      229,598,930.0   \n",
       "2018                                      32,449,002.11   \n",
       "2019                                      17,746,066.82   \n",
       "\n",
       "age_restriction  «12+» - для детей старше 12 лет  \\\n",
       "year                                               \n",
       "2015                       13,616,082,008.909998   \n",
       "2016                       12,204,446,524.389997   \n",
       "2017                            7,851,427,660.67   \n",
       "2018                           14,267,291,660.69   \n",
       "2019                           12,680,198,773.67   \n",
       "\n",
       "age_restriction  «16+» - для детей старше 16 лет  «18+» - запрещено для детей  \\\n",
       "year                                                                            \n",
       "2015                           11,368,120,870.27        5,432,308,367.4400015   \n",
       "2016                       16,664,548,541.740004         6,793,929,818.869999   \n",
       "2017                           18,745,042,900.06             9,651,495,581.02   \n",
       "2018                       16,503,602,346.959997             8,760,085,501.15   \n",
       "2019                       12,753,418,984.600002        10,121,796,303.640003   \n",
       "\n",
       "age_restriction  «6+» - для детей старше 6 лет  \n",
       "year                                            \n",
       "2015                          8,701,799,371.41  \n",
       "2016                     12,053,146,008.240002  \n",
       "2017                         12,086,142,145.76  \n",
       "2018                         10,104,974,623.41  \n",
       "2019                     12,852,548,650.859997  "
      ]
     },
     "metadata": {},
     "output_type": "display_data"
    },
    {
     "name": "stdout",
     "output_type": "stream",
     "text": [
      "Суммы сборов в разных возрастных кат-ях за период 2015-2019\n"
     ]
    },
    {
     "data": {
      "text/html": [
       "<div>\n",
       "<style scoped>\n",
       "    .dataframe tbody tr th:only-of-type {\n",
       "        vertical-align: middle;\n",
       "    }\n",
       "\n",
       "    .dataframe tbody tr th {\n",
       "        vertical-align: top;\n",
       "    }\n",
       "\n",
       "    .dataframe thead th {\n",
       "        text-align: right;\n",
       "    }\n",
       "</style>\n",
       "<table border=\"1\" class=\"dataframe\">\n",
       "  <thead>\n",
       "    <tr style=\"text-align: right;\">\n",
       "      <th>age_restriction</th>\n",
       "      <th>«0+» - для любой зрительской аудитории</th>\n",
       "      <th>«12+» - для детей старше 12 лет</th>\n",
       "      <th>«16+» - для детей старше 16 лет</th>\n",
       "      <th>«18+» - запрещено для детей</th>\n",
       "      <th>«6+» - для детей старше 6 лет</th>\n",
       "    </tr>\n",
       "  </thead>\n",
       "  <tbody>\n",
       "    <tr>\n",
       "      <th>box_office</th>\n",
       "      <td>809,077,425.9700001</td>\n",
       "      <td>60,619,446,628.329994</td>\n",
       "      <td>76,034,733,643.62994</td>\n",
       "      <td>40,759,615,572.12</td>\n",
       "      <td>55,798,610,799.680016</td>\n",
       "    </tr>\n",
       "  </tbody>\n",
       "</table>\n",
       "</div>"
      ],
      "text/plain": [
       "age_restriction  «0+» - для любой зрительской аудитории  \\\n",
       "box_office                          809,077,425.9700001   \n",
       "\n",
       "age_restriction  «12+» - для детей старше 12 лет  \\\n",
       "box_office                 60,619,446,628.329994   \n",
       "\n",
       "age_restriction  «16+» - для детей старше 16 лет  «18+» - запрещено для детей  \\\n",
       "box_office                  76,034,733,643.62994            40,759,615,572.12   \n",
       "\n",
       "age_restriction  «6+» - для детей старше 6 лет  \n",
       "box_office               55,798,610,799.680016  "
      ]
     },
     "execution_count": 20,
     "metadata": {},
     "output_type": "execute_result"
    },
    {
     "data": {
      "image/png": "[encoded data removed]",
      "text/plain": [
       "<Figure size 1080x720 with 1 Axes>"
      ]
     },
     "metadata": {
      "needs_background": "light"
     },
     "output_type": "display_data"
    },
    {
     "data": {
      "image/png": "[encoded data removed]",
      "text/plain": [
       "<Figure size 1080x720 with 1 Axes>"
      ]
     },
     "metadata": {
      "needs_background": "light"
     },
     "output_type": "display_data"
    }
   ],
   "source": [
    "locs = ['best', 'upper right', 'upper left', 'lower left']\n",
    "\n",
    "df.query('2019>=year>=2015').pivot_table(index='year',columns='age_restriction', values='box_office', aggfunc='sum').plot(kind='bar', figsize=(15,10), grid=True, rot=0)\n",
    "box_every_year=df.query('2019>=year>=2015').pivot_table(index='year',columns='age_restriction', values='box_office', aggfunc='sum')\n",
    "plt.ylabel(\"Сумма сборов\")\n",
    "plt.xlabel(\"Год\")\n",
    "plt.legend(loc=locs[2])\n",
    "plt.title(\"Суммы сборов по разным возрастным категориям\")\n",
    "#здесь код для сводной таблицы по каждому году для каждой возр.группы с суммами сборов.\n",
    "\n",
    "box_sum=df.query('2019>=year>=2015').pivot_table(columns='age_restriction', values='box_office', aggfunc='sum')\n",
    "df.query('2019>=year>=2015').pivot_table(columns='age_restriction', values='box_office', aggfunc='sum').plot(kind='bar', figsize=(15,10), grid=True, rot=0)\n",
    "plt.title(\"Суммы сборов по разным возрастным категориям за 5-ти летний период\")\n",
    "plt.legend(loc=locs[2])\n",
    "plt.ylabel(\"Сумма сборов\")\n",
    "plt.xlabel(\"Год\")\n",
    "#здесь код для сводной таблицы по 5 годам с 2015 по 2019 для каждой возр.группы с суммами сборов.\n",
    "\n",
    "print('Суммы сборов в разных возрастных кат-ях по годам')\n",
    "display(box_every_year)\n",
    "print('Суммы сборов в разных возрастных кат-ях за период 2015-2019')\n",
    "box_sum\n"
   ]
  },
  {
   "cell_type": "markdown",
   "metadata": {},
   "source": [
    "Изучив сводные таблицы и графики, могу сделать вывод, что за период с 2015 по 2019 год самая кассовая группа по возрастному ограничению это- \"16+\" со сборами 76,034,733,644руб. Самый низкий показатель за этот переиод у фильмов с ограничением \"0+\" с 809,077,426руб. Из пяти рассмотренных лет фильмы с рейтингом \"16+\" лишь дважды лишились первенства: в 2015году уступив фильмам \"12+\" и в 2019 уступив фильмам \"6+\". Доминирование группы \"16+\" могу объяснить тем, что самые кассовые блок бастеры и например фильмы из вселенных DC и Marvel выходят в рейтинге \"16+\". Группы \"6+\" и \"12+\" так же имеют высокие сборы, например фильмы Уолта Диснея, Пиксар и т.д. имеют рейтинг \"6+\" и \"12+\" и радуют зрителя блокбастерами с большими кассовыми сборами. \t\n",
    "Почему есть колебания в разных годах между кассовыми сборами- предположу, что на это влияет кол-во блокбастеров выходящих с тем или иным возрастным рейтингом. \n",
    "Из данного исследования можно зключить, что возрастной рейтинг влияет на суммы кассовых сборов не линейно.\n"
   ]
  },
  {
   "cell_type": "markdown",
   "metadata": {
    "id": "l_Kg6Ku4gFya"
   },
   "source": [
    "### Шаг 4. Исследую фильмы, которые получили государственную поддержку\n",
    "\n"
   ]
  },
  {
   "cell_type": "code",
   "execution_count": 21,
   "metadata": {
    "id": "W9QKpjUdgFyb",
    "scrolled": false
   },
   "outputs": [
    {
     "data": {
      "text/html": [
       "<div>\n",
       "<style scoped>\n",
       "    .dataframe tbody tr th:only-of-type {\n",
       "        vertical-align: middle;\n",
       "    }\n",
       "\n",
       "    .dataframe tbody tr th {\n",
       "        vertical-align: top;\n",
       "    }\n",
       "\n",
       "    .dataframe thead th {\n",
       "        text-align: right;\n",
       "    }\n",
       "</style>\n",
       "<table border=\"1\" class=\"dataframe\">\n",
       "  <thead>\n",
       "    <tr style=\"text-align: right;\">\n",
       "      <th></th>\n",
       "      <th>gov_mon</th>\n",
       "    </tr>\n",
       "    <tr>\n",
       "      <th>year</th>\n",
       "      <th></th>\n",
       "    </tr>\n",
       "  </thead>\n",
       "  <tbody>\n",
       "    <tr>\n",
       "      <th>2010</th>\n",
       "      <td>0.0</td>\n",
       "    </tr>\n",
       "    <tr>\n",
       "      <th>2011</th>\n",
       "      <td>0.0</td>\n",
       "    </tr>\n",
       "    <tr>\n",
       "      <th>2012</th>\n",
       "      <td>0.0</td>\n",
       "    </tr>\n",
       "    <tr>\n",
       "      <th>2013</th>\n",
       "      <td>134,347,945.0</td>\n",
       "    </tr>\n",
       "    <tr>\n",
       "      <th>2014</th>\n",
       "      <td>572,002,299.0</td>\n",
       "    </tr>\n",
       "    <tr>\n",
       "      <th>2015</th>\n",
       "      <td>3,656,241,459.0</td>\n",
       "    </tr>\n",
       "    <tr>\n",
       "      <th>2016</th>\n",
       "      <td>4,303,155,482.0</td>\n",
       "    </tr>\n",
       "    <tr>\n",
       "      <th>2017</th>\n",
       "      <td>3,183,971,662.0</td>\n",
       "    </tr>\n",
       "    <tr>\n",
       "      <th>2018</th>\n",
       "      <td>3,446,969,465.0</td>\n",
       "    </tr>\n",
       "    <tr>\n",
       "      <th>2019</th>\n",
       "      <td>4,904,000,000.0</td>\n",
       "    </tr>\n",
       "  </tbody>\n",
       "</table>\n",
       "</div>"
      ],
      "text/plain": [
       "             gov_mon\n",
       "year                \n",
       "2010             0.0\n",
       "2011             0.0\n",
       "2012             0.0\n",
       "2013   134,347,945.0\n",
       "2014   572,002,299.0\n",
       "2015 3,656,241,459.0\n",
       "2016 4,303,155,482.0\n",
       "2017 3,183,971,662.0\n",
       "2018 3,446,969,465.0\n",
       "2019 4,904,000,000.0"
      ]
     },
     "execution_count": 21,
     "metadata": {},
     "output_type": "execute_result"
    },
    {
     "data": {
      "image/png": "[encoded data removed]",
      "text/plain": [
       "<Figure size 1080x504 with 1 Axes>"
      ]
     },
     "metadata": {
      "needs_background": "light"
     },
     "output_type": "display_data"
    }
   ],
   "source": [
    "df['gov_mon']=df['refundable_support']+df['nonrefundable_support']\n",
    "#создал стобец для суммы гос поддержки\n",
    "\n",
    "df['profit']=df['box_office']-df['budget']\n",
    "#стобец для суммы прибыли\n",
    "\n",
    "gov_sup=df.pivot_table(index='year', values='gov_mon', aggfunc='sum')\n",
    "df.pivot_table(columns='year', values='gov_mon', aggfunc='sum').plot(kind='bar', figsize=(15,7), grid=True, rot=0)\n",
    "plt.ylabel(\"Сумма поддержки гос-ва\")\n",
    "plt.xlabel(\"Год\")\n",
    "gov_sup\n",
    "#сводная таблица и график динамики роста гос помощи\n",
    "\n"
   ]
  },
  {
   "cell_type": "markdown",
   "metadata": {},
   "source": [
    "Государство начало поддерживать кинематограф начиная с 2013 года с минимальной суммы в 134,347,945р, нарашивая суммы поддержки до 2016 года, 2017 и 2018 годы выбиваются из тренда роста уступая годам 2016 и 2017, и в 2019 году рекордная сумма гос поддержки в 4,904,000,000 руб."
   ]
  },
  {
   "cell_type": "code",
   "execution_count": 22,
   "metadata": {
    "scrolled": true
   },
   "outputs": [
    {
     "data": {
      "text/html": [
       "<div>\n",
       "<style scoped>\n",
       "    .dataframe tbody tr th:only-of-type {\n",
       "        vertical-align: middle;\n",
       "    }\n",
       "\n",
       "    .dataframe tbody tr th {\n",
       "        vertical-align: top;\n",
       "    }\n",
       "\n",
       "    .dataframe thead th {\n",
       "        text-align: right;\n",
       "    }\n",
       "</style>\n",
       "<table border=\"1\" class=\"dataframe\">\n",
       "  <thead>\n",
       "    <tr style=\"text-align: right;\">\n",
       "      <th>year</th>\n",
       "      <th>2013</th>\n",
       "      <th>2014</th>\n",
       "      <th>2015</th>\n",
       "      <th>2016</th>\n",
       "      <th>2017</th>\n",
       "      <th>2018</th>\n",
       "      <th>2019</th>\n",
       "    </tr>\n",
       "  </thead>\n",
       "  <tbody>\n",
       "    <tr>\n",
       "      <th>profit</th>\n",
       "      <td>-235,113,004.9</td>\n",
       "      <td>-293,904,552.06477654</td>\n",
       "      <td>-2,076,306,126.6073546</td>\n",
       "      <td>-1,579,853,656.1485724</td>\n",
       "      <td>3,880,826,014.1988688</td>\n",
       "      <td>2,799,249,886.967326</td>\n",
       "      <td>-963,366,527.8112819</td>\n",
       "    </tr>\n",
       "  </tbody>\n",
       "</table>\n",
       "</div>"
      ],
      "text/plain": [
       "year             2013                  2014                   2015  \\\n",
       "profit -235,113,004.9 -293,904,552.06477654 -2,076,306,126.6073546   \n",
       "\n",
       "year                     2016                  2017                 2018  \\\n",
       "profit -1,579,853,656.1485724 3,880,826,014.1988688 2,799,249,886.967326   \n",
       "\n",
       "year                   2019  \n",
       "profit -963,366,527.8112819  "
      ]
     },
     "execution_count": 22,
     "metadata": {},
     "output_type": "execute_result"
    },
    {
     "data": {
      "image/png": "[encoded data removed]",
      "text/plain": [
       "<Figure size 1080x720 with 1 Axes>"
      ]
     },
     "metadata": {
      "needs_background": "light"
     },
     "output_type": "display_data"
    }
   ],
   "source": [
    "gov_prof=df.query('gov_mon!=0').pivot_table(columns='year', values='profit', aggfunc='sum')\n",
    "df.query('gov_mon!=0').pivot_table(columns='year', values='profit', aggfunc='sum').plot(kind='bar', figsize=(15,10), grid=True, rot=0)\n",
    "plt.ylabel(\"Прибыль фильмов с гос поддержкой\")\n",
    "plt.xlabel(\"Год\")\n",
    "gov_prof\n",
    "#Сводная таблица динамики прибыльности фильмов с гос поддержкой"
   ]
  },
  {
   "cell_type": "markdown",
   "metadata": {},
   "source": [
    "До 2017 года кино с гос поддержкой было убыточным и не принесло прибыли, самыми убыточними были годы 2015,2016. С 2017 года наблюдается резкий скачок прибыли, но с убывающей тенденцией. Пик в 2017 году и далее по снисходящей."
   ]
  },
  {
   "cell_type": "code",
   "execution_count": 23,
   "metadata": {
    "scrolled": false
   },
   "outputs": [
    {
     "data": {
      "text/html": [
       "<div>\n",
       "<style scoped>\n",
       "    .dataframe tbody tr th:only-of-type {\n",
       "        vertical-align: middle;\n",
       "    }\n",
       "\n",
       "    .dataframe tbody tr th {\n",
       "        vertical-align: top;\n",
       "    }\n",
       "\n",
       "    .dataframe thead th {\n",
       "        text-align: right;\n",
       "    }\n",
       "</style>\n",
       "<table border=\"1\" class=\"dataframe\">\n",
       "  <thead>\n",
       "    <tr style=\"text-align: right;\">\n",
       "      <th>year</th>\n",
       "      <th>2013</th>\n",
       "      <th>2014</th>\n",
       "      <th>2015</th>\n",
       "      <th>2016</th>\n",
       "      <th>2017</th>\n",
       "      <th>2018</th>\n",
       "      <th>2019</th>\n",
       "    </tr>\n",
       "  </thead>\n",
       "  <tbody>\n",
       "    <tr>\n",
       "      <th>ratings</th>\n",
       "      <td>6.700000286102295</td>\n",
       "      <td>6.400000095367432</td>\n",
       "      <td>6.199999809265137</td>\n",
       "      <td>5.800000190734863</td>\n",
       "      <td>6.199999809265137</td>\n",
       "      <td>6.199999809265137</td>\n",
       "      <td>6.199999809265137</td>\n",
       "    </tr>\n",
       "  </tbody>\n",
       "</table>\n",
       "</div>"
      ],
      "text/plain": [
       "year                 2013              2014              2015  \\\n",
       "ratings 6.700000286102295 6.400000095367432 6.199999809265137   \n",
       "\n",
       "year                 2016              2017              2018  \\\n",
       "ratings 5.800000190734863 6.199999809265137 6.199999809265137   \n",
       "\n",
       "year                 2019  \n",
       "ratings 6.199999809265137  "
      ]
     },
     "execution_count": 23,
     "metadata": {},
     "output_type": "execute_result"
    },
    {
     "data": {
      "image/png": "[encoded data removed]",
      "text/plain": [
       "<Figure size 1080x720 with 1 Axes>"
      ]
     },
     "metadata": {
      "needs_background": "light"
     },
     "output_type": "display_data"
    }
   ],
   "source": [
    "gov_rate=df.query('gov_mon!=0').pivot_table(columns='year', values='ratings', aggfunc='median')\n",
    "df.query('gov_mon!=0').pivot_table(columns='year', values='ratings', aggfunc='median').plot(kind='bar', figsize=(15,10), grid=True, rot=0)\n",
    "plt.ylabel(\"Рейтинг\")\n",
    "plt.xlabel(\"Год\")\n",
    "gov_rate\n",
    "#сводная таблица и график рейтингов фильмов с гос поддержкой"
   ]
  },
  {
   "cell_type": "markdown",
   "metadata": {},
   "source": [
    "Рейтинг фильмов с гос поддержкой варьируется по годам. Максимальный средний рейтинг в 2013 году 6.7, минимальный в 2016 со средней оценкой 5.8"
   ]
  },
  {
   "cell_type": "code",
   "execution_count": 24,
   "metadata": {
    "scrolled": false
   },
   "outputs": [
    {
     "data": {
      "text/plain": [
       "Text(0.5, 1.0, 'Рейтинги фильмов с без гос поддержки')"
      ]
     },
     "execution_count": 24,
     "metadata": {},
     "output_type": "execute_result"
    },
    {
     "data": {
      "image/png": "[encoded data removed]",
      "text/plain": [
       "<Figure size 432x288 with 1 Axes>"
      ]
     },
     "metadata": {
      "needs_background": "light"
     },
     "output_type": "display_data"
    },
    {
     "data": {
      "image/png": "[encoded data removed]",
      "text/plain": [
       "<Figure size 432x288 with 1 Axes>"
      ]
     },
     "metadata": {
      "needs_background": "light"
     },
     "output_type": "display_data"
    }
   ],
   "source": [
    "df.query('gov_mon!=0').pivot_table(index='year', values='ratings', aggfunc='median').plot(kind='box', grid=True)\n",
    "plt.title('Рейтинги фильмов с гос поддержкой')\n",
    "df.query('gov_mon==0').pivot_table(index='year', values='ratings', aggfunc='median').plot(kind='box', grid=True)\n",
    "plt.title('Рейтинги фильмов с без гос поддержки')"
   ]
  },
  {
   "cell_type": "markdown",
   "metadata": {},
   "source": [
    "Построив бокс плоты могу прокомментрировать качество получаемых рейтингов. Видно что медианный рейтинг филмов с гос поддержкой 6.2, а филмов без господдержки 6.6 Так же фильмы без господдержки имеют максимум положительного уса на рейтинге 6.9, а с гос поддержкой в 6.4 Эти факты говорят, что обычно фильмы с гос поддержкой менее интересны зрителю, чем фильмы без гос поддержки. Так же настораживает тот факт, что на графике гос фильмов медиана совпадает с первой квартилью, как я это понимаю, обычно(чаще) эти фильмы получают низкие оценки. Судя по усу, оценки обычно не выше 6.4, а оценка 6.7 уже является аномально высокой"
   ]
  },
  {
   "cell_type": "code",
   "execution_count": 25,
   "metadata": {
    "scrolled": true
   },
   "outputs": [
    {
     "data": {
      "text/html": [
       "<div>\n",
       "<style scoped>\n",
       "    .dataframe tbody tr th:only-of-type {\n",
       "        vertical-align: middle;\n",
       "    }\n",
       "\n",
       "    .dataframe tbody tr th {\n",
       "        vertical-align: top;\n",
       "    }\n",
       "\n",
       "    .dataframe thead th {\n",
       "        text-align: right;\n",
       "    }\n",
       "</style>\n",
       "<table border=\"1\" class=\"dataframe\">\n",
       "  <thead>\n",
       "    <tr style=\"text-align: right;\">\n",
       "      <th>year</th>\n",
       "      <th>2013</th>\n",
       "      <th>2014</th>\n",
       "      <th>2015</th>\n",
       "      <th>2016</th>\n",
       "      <th>2017</th>\n",
       "      <th>2018</th>\n",
       "      <th>2019</th>\n",
       "    </tr>\n",
       "  </thead>\n",
       "  <tbody>\n",
       "    <tr>\n",
       "      <th>box_office</th>\n",
       "      <td>20,322,385.1</td>\n",
       "      <td>1,017,422,166.6</td>\n",
       "      <td>5,785,285,418.140002</td>\n",
       "      <td>6,081,707,839.1</td>\n",
       "      <td>10,865,075,300.960001</td>\n",
       "      <td>9,934,069,010.25</td>\n",
       "      <td>8,409,627,454.63</td>\n",
       "    </tr>\n",
       "  </tbody>\n",
       "</table>\n",
       "</div>"
      ],
      "text/plain": [
       "year               2013            2014                 2015            2016  \\\n",
       "box_office 20,322,385.1 1,017,422,166.6 5,785,285,418.140002 6,081,707,839.1   \n",
       "\n",
       "year                        2017             2018             2019  \n",
       "box_office 10,865,075,300.960001 9,934,069,010.25 8,409,627,454.63  "
      ]
     },
     "execution_count": 25,
     "metadata": {},
     "output_type": "execute_result"
    },
    {
     "data": {
      "image/png": "[encoded data removed]",
      "text/plain": [
       "<Figure size 1080x720 with 1 Axes>"
      ]
     },
     "metadata": {
      "needs_background": "light"
     },
     "output_type": "display_data"
    }
   ],
   "source": [
    "df.query('gov_mon!=0').pivot_table(columns='year',values='box_office', aggfunc='sum' ).plot(kind='bar', figsize=(15,10), grid=True, rot=0)\n",
    "gov_cash=df.query('gov_mon!=0').pivot_table(columns='year',values='box_office', aggfunc='sum' )\n",
    "plt.ylabel(\"Кассовые сборы\")\n",
    "plt.xlabel(\"Год\")\n",
    "gov_cash\n",
    "#Динамика кассовых сборов"
   ]
  },
  {
   "cell_type": "markdown",
   "metadata": {},
   "source": [
    "Динамика роста кассовых сборов положительная до 2017года с пиком в 10,865,075,301руб, после 2017 года выручки начинают падать, с шагом примерно 10% в год."
   ]
  },
  {
   "cell_type": "code",
   "execution_count": 26,
   "metadata": {
    "scrolled": true
   },
   "outputs": [
    {
     "data": {
      "text/plain": [
       "<seaborn.axisgrid.PairGrid at 0x7fe50f769f70>"
      ]
     },
     "execution_count": 26,
     "metadata": {},
     "output_type": "execute_result"
    },
    {
     "data": {
      "image/png": "[encoded data removed]",
      "text/plain": [
       "<Figure size 900x900 with 30 Axes>"
      ]
     },
     "metadata": {
      "needs_background": "light"
     },
     "output_type": "display_data"
    }
   ],
   "source": [
    "sns.pairplot(df[['budget', 'profit', 'box_office', 'ratings', 'gov_mon']])\n",
    "#исследовал линейные зависимости числовых величин"
   ]
  },
  {
   "cell_type": "code",
   "execution_count": 27,
   "metadata": {
    "scrolled": false
   },
   "outputs": [
    {
     "data": {
      "text/html": [
       "<div>\n",
       "<style scoped>\n",
       "    .dataframe tbody tr th:only-of-type {\n",
       "        vertical-align: middle;\n",
       "    }\n",
       "\n",
       "    .dataframe tbody tr th {\n",
       "        vertical-align: top;\n",
       "    }\n",
       "\n",
       "    .dataframe thead th {\n",
       "        text-align: right;\n",
       "    }\n",
       "</style>\n",
       "<table border=\"1\" class=\"dataframe\">\n",
       "  <thead>\n",
       "    <tr style=\"text-align: right;\">\n",
       "      <th></th>\n",
       "      <th>budget</th>\n",
       "      <th>profit</th>\n",
       "      <th>box_office</th>\n",
       "      <th>ratings</th>\n",
       "      <th>gov_mon</th>\n",
       "    </tr>\n",
       "  </thead>\n",
       "  <tbody>\n",
       "    <tr>\n",
       "      <th>budget</th>\n",
       "      <td>1.0</td>\n",
       "      <td>-0.03478977947620854</td>\n",
       "      <td>0.20994654212979794</td>\n",
       "      <td>-0.041046390567876165</td>\n",
       "      <td>0.9093363408412827</td>\n",
       "    </tr>\n",
       "    <tr>\n",
       "      <th>profit</th>\n",
       "      <td>-0.03478977947620854</td>\n",
       "      <td>1.0</td>\n",
       "      <td>0.9698170165249126</td>\n",
       "      <td>0.09408079637417008</td>\n",
       "      <td>-0.0034448380872679368</td>\n",
       "    </tr>\n",
       "    <tr>\n",
       "      <th>box_office</th>\n",
       "      <td>0.20994654212979794</td>\n",
       "      <td>0.9698170165249126</td>\n",
       "      <td>1.0</td>\n",
       "      <td>0.0872301799028668</td>\n",
       "      <td>0.21597365558159085</td>\n",
       "    </tr>\n",
       "    <tr>\n",
       "      <th>ratings</th>\n",
       "      <td>-0.041046390567876165</td>\n",
       "      <td>0.09408079637417008</td>\n",
       "      <td>0.0872301799028668</td>\n",
       "      <td>1.0</td>\n",
       "      <td>-0.04173408797600534</td>\n",
       "    </tr>\n",
       "    <tr>\n",
       "      <th>gov_mon</th>\n",
       "      <td>0.9093363408412827</td>\n",
       "      <td>-0.0034448380872679368</td>\n",
       "      <td>0.21597365558159085</td>\n",
       "      <td>-0.04173408797600534</td>\n",
       "      <td>1.0</td>\n",
       "    </tr>\n",
       "  </tbody>\n",
       "</table>\n",
       "</div>"
      ],
      "text/plain": [
       "                          budget                 profit          box_office  \\\n",
       "budget                       1.0   -0.03478977947620854 0.20994654212979794   \n",
       "profit      -0.03478977947620854                    1.0  0.9698170165249126   \n",
       "box_office   0.20994654212979794     0.9698170165249126                 1.0   \n",
       "ratings    -0.041046390567876165    0.09408079637417008  0.0872301799028668   \n",
       "gov_mon       0.9093363408412827 -0.0034448380872679368 0.21597365558159085   \n",
       "\n",
       "                         ratings                gov_mon  \n",
       "budget     -0.041046390567876165     0.9093363408412827  \n",
       "profit       0.09408079637417008 -0.0034448380872679368  \n",
       "box_office    0.0872301799028668    0.21597365558159085  \n",
       "ratings                      1.0   -0.04173408797600534  \n",
       "gov_mon     -0.04173408797600534                    1.0  "
      ]
     },
     "execution_count": 27,
     "metadata": {},
     "output_type": "execute_result"
    }
   ],
   "source": [
    "df[['budget', 'profit', 'box_office', 'ratings', 'gov_mon']].corr()  \n",
    "#Коэффицент Пирсона"
   ]
  },
  {
   "cell_type": "markdown",
   "metadata": {},
   "source": [
    "Из кореляционного исследования видно, что самая крепкая положительная взаимосвязь между кассовыми сборами и прибылью и это логично. Связь между поддержкой гос-ва и суммой бюджета так же положительная и явно прослеживаемая и в этом случае всё очевидно и логично. Есть слабая положительная связь между кассовыми сборами и поддержкой государства, можно сделать вывод, что в ряде случаев увеличение суммы гос поддержки, приведет к повышению кассовых сборов. Есть слабая кореляция положительная между бюджетом и кассовыми сборами, при увеличении бюджета фильма в ряде случаев растет и его кассовый сбор. Не обнаружено взаимосвязи между прибылью и гос поддержкой. Не обнаружено взаимосвязи рейтинга фильма с другими велечинами."
   ]
  },
  {
   "cell_type": "code",
   "execution_count": 28,
   "metadata": {
    "scrolled": true
   },
   "outputs": [
    {
     "data": {
      "text/html": [
       "<div>\n",
       "<style scoped>\n",
       "    .dataframe tbody tr th:only-of-type {\n",
       "        vertical-align: middle;\n",
       "    }\n",
       "\n",
       "    .dataframe tbody tr th {\n",
       "        vertical-align: top;\n",
       "    }\n",
       "\n",
       "    .dataframe thead th {\n",
       "        text-align: right;\n",
       "    }\n",
       "</style>\n",
       "<table border=\"1\" class=\"dataframe\">\n",
       "  <thead>\n",
       "    <tr style=\"text-align: right;\">\n",
       "      <th>type</th>\n",
       "      <th>Анимационный</th>\n",
       "      <th>Документальный</th>\n",
       "      <th>Музыкально-развлекательный</th>\n",
       "      <th>Научно-популярный</th>\n",
       "      <th>Прочие</th>\n",
       "      <th>Художественный</th>\n",
       "    </tr>\n",
       "  </thead>\n",
       "  <tbody>\n",
       "    <tr>\n",
       "      <th>box_office</th>\n",
       "      <td>43,193,935,737.71999</td>\n",
       "      <td>66,266,378.300000004</td>\n",
       "      <td>1,416,635.0</td>\n",
       "      <td>25,657,603.5</td>\n",
       "      <td>303,229,676.45000005</td>\n",
       "      <td>197,929,216,446.15988</td>\n",
       "    </tr>\n",
       "  </tbody>\n",
       "</table>\n",
       "</div>"
      ],
      "text/plain": [
       "type               Анимационный       Документальный  \\\n",
       "box_office 43,193,935,737.71999 66,266,378.300000004   \n",
       "\n",
       "type        Музыкально-развлекательный  Научно-популярный  \\\n",
       "box_office                 1,416,635.0       25,657,603.5   \n",
       "\n",
       "type                     Прочие        Художественный  \n",
       "box_office 303,229,676.45000005 197,929,216,446.15988  "
      ]
     },
     "execution_count": 28,
     "metadata": {},
     "output_type": "execute_result"
    },
    {
     "data": {
      "image/png": "[encoded data removed]",
      "text/plain": [
       "<Figure size 1080x720 with 1 Axes>"
      ]
     },
     "metadata": {
      "needs_background": "light"
     },
     "output_type": "display_data"
    }
   ],
   "source": [
    "df.query('gov_mon!=0').pivot_table(columns='type', values='box_office', aggfunc='sum').plot(kind='bar', figsize=(15,10), grid=True, rot=0)\n",
    "plt.ylabel(\"Сумма сборов\")\n",
    "plt.xlabel(\"Тип фильма\")\n",
    "mov_type=df.pivot_table(columns='type', values='box_office', aggfunc='sum')\n",
    "mov_type"
   ]
  },
  {
   "cell_type": "markdown",
   "metadata": {},
   "source": [
    "Значения этого графика могу интерпритировать как кассовые сборы фильмов более чем в 4 раза больше чем мультфильмов.\n"
   ]
  },
  {
   "cell_type": "code",
   "execution_count": 29,
   "metadata": {
    "scrolled": true
   },
   "outputs": [
    {
     "data": {
      "text/plain": [
       "Text(0.5, 0, 'Жанр')"
      ]
     },
     "execution_count": 29,
     "metadata": {},
     "output_type": "execute_result"
    },
    {
     "data": {
      "image/png": "[encoded data removed]",
      "text/plain": [
       "<Figure size 1080x720 with 1 Axes>"
      ]
     },
     "metadata": {
      "needs_background": "light"
     },
     "output_type": "display_data"
    }
   ],
   "source": [
    "df.query('gov_mon!=0').pivot_table(columns='main_genre', values='box_office', aggfunc='sum').plot(kind='bar', figsize=(15,10), grid=True, rot=0)\n",
    "plt.ylabel(\"Сумма сборов\")\n",
    "plt.xlabel(\"Жанр\")"
   ]
  },
  {
   "cell_type": "markdown",
   "metadata": {},
   "source": [
    "Вывод: Самые кассовые жанры фильмов с гос поддержкой в порядке убывания выглядят так:\n",
    "1. Комедия\n",
    "2. Драма\n",
    "3. Мультфильмы\n",
    "4. Спорт\n",
    "5. Фантастика"
   ]
  },
  {
   "cell_type": "code",
   "execution_count": 30,
   "metadata": {},
   "outputs": [
    {
     "data": {
      "text/html": [
       "<div>\n",
       "<style scoped>\n",
       "    .dataframe tbody tr th:only-of-type {\n",
       "        vertical-align: middle;\n",
       "    }\n",
       "\n",
       "    .dataframe tbody tr th {\n",
       "        vertical-align: top;\n",
       "    }\n",
       "\n",
       "    .dataframe thead th {\n",
       "        text-align: right;\n",
       "    }\n",
       "</style>\n",
       "<table border=\"1\" class=\"dataframe\">\n",
       "  <thead>\n",
       "    <tr style=\"text-align: right;\">\n",
       "      <th></th>\n",
       "      <th>title</th>\n",
       "      <th>pu_number</th>\n",
       "      <th>show_start_date</th>\n",
       "      <th>type</th>\n",
       "      <th>film_studio</th>\n",
       "      <th>production_country</th>\n",
       "      <th>director</th>\n",
       "      <th>producer</th>\n",
       "      <th>age_restriction</th>\n",
       "      <th>refundable_support</th>\n",
       "      <th>...</th>\n",
       "      <th>genres</th>\n",
       "      <th>box_office</th>\n",
       "      <th>total_budget</th>\n",
       "      <th>costs_share</th>\n",
       "      <th>year</th>\n",
       "      <th>main_genre</th>\n",
       "      <th>main_director</th>\n",
       "      <th>gov_share</th>\n",
       "      <th>gov_mon</th>\n",
       "      <th>profit</th>\n",
       "    </tr>\n",
       "  </thead>\n",
       "  <tbody>\n",
       "    <tr>\n",
       "      <th>0</th>\n",
       "      <td>Открытый простор</td>\n",
       "      <td>221048915</td>\n",
       "      <td>2015-11-27</td>\n",
       "      <td>Художественный</td>\n",
       "      <td>Тачстоун , Кобальт , Бикон , Тиг</td>\n",
       "      <td>США</td>\n",
       "      <td>Кевин Костнер</td>\n",
       "      <td>Дэвид Валдес, Кевин Костнер, Джейк Эбертс</td>\n",
       "      <td>«18+» - запрещено для детей</td>\n",
       "      <td>0</td>\n",
       "      <td>...</td>\n",
       "      <td>боевик,драма,мелодрама</td>\n",
       "      <td>NaN</td>\n",
       "      <td>0</td>\n",
       "      <td>NaN</td>\n",
       "      <td>2015</td>\n",
       "      <td>боевик</td>\n",
       "      <td>Кевин Костнер</td>\n",
       "      <td>NaN</td>\n",
       "      <td>0</td>\n",
       "      <td>NaN</td>\n",
       "    </tr>\n",
       "    <tr>\n",
       "      <th>1</th>\n",
       "      <td>Особо важное задание</td>\n",
       "      <td>111013716</td>\n",
       "      <td>2016-09-13</td>\n",
       "      <td>Художественный</td>\n",
       "      <td>Мосфильм</td>\n",
       "      <td>СССР</td>\n",
       "      <td>Е.Матвеев</td>\n",
       "      <td>unknown</td>\n",
       "      <td>«6+» - для детей старше 6 лет</td>\n",
       "      <td>0</td>\n",
       "      <td>...</td>\n",
       "      <td>драма,военный</td>\n",
       "      <td>NaN</td>\n",
       "      <td>0</td>\n",
       "      <td>NaN</td>\n",
       "      <td>2016</td>\n",
       "      <td>драма</td>\n",
       "      <td>Е.Матвеев</td>\n",
       "      <td>NaN</td>\n",
       "      <td>0</td>\n",
       "      <td>NaN</td>\n",
       "    </tr>\n",
       "    <tr>\n",
       "      <th>2</th>\n",
       "      <td>Особо опасен</td>\n",
       "      <td>221038416</td>\n",
       "      <td>2016-10-10</td>\n",
       "      <td>Художественный</td>\n",
       "      <td>Юниверсал , Кикстарт , Марк Платт , Рилейтивит...</td>\n",
       "      <td>США</td>\n",
       "      <td>Тимур Бекмамбетов</td>\n",
       "      <td>Джим Лемли, Джейсон Нетер, Марк Е.Платт, Яйн Смит</td>\n",
       "      <td>«18+» - запрещено для детей</td>\n",
       "      <td>0</td>\n",
       "      <td>...</td>\n",
       "      <td>фантастика,боевик,триллер</td>\n",
       "      <td>NaN</td>\n",
       "      <td>0</td>\n",
       "      <td>NaN</td>\n",
       "      <td>2016</td>\n",
       "      <td>фантастика</td>\n",
       "      <td>Тимур Бекмамбетов</td>\n",
       "      <td>NaN</td>\n",
       "      <td>0</td>\n",
       "      <td>NaN</td>\n",
       "    </tr>\n",
       "    <tr>\n",
       "      <th>3</th>\n",
       "      <td>Особо опасен</td>\n",
       "      <td>221026916</td>\n",
       "      <td>2016-06-10</td>\n",
       "      <td>Художественный</td>\n",
       "      <td>Юниверсал , Кикстарт , Марк Платт , Рилейтивит...</td>\n",
       "      <td>США</td>\n",
       "      <td>Тимур Бекмамбетов</td>\n",
       "      <td>Джим Лемли, Джейсон Нетер, Марк Е.Платт, Яйн Смит</td>\n",
       "      <td>«18+» - запрещено для детей</td>\n",
       "      <td>0</td>\n",
       "      <td>...</td>\n",
       "      <td>фантастика,боевик,триллер</td>\n",
       "      <td>NaN</td>\n",
       "      <td>0</td>\n",
       "      <td>NaN</td>\n",
       "      <td>2016</td>\n",
       "      <td>фантастика</td>\n",
       "      <td>Тимур Бекмамбетов</td>\n",
       "      <td>NaN</td>\n",
       "      <td>0</td>\n",
       "      <td>NaN</td>\n",
       "    </tr>\n",
       "    <tr>\n",
       "      <th>4</th>\n",
       "      <td>Особо опасен</td>\n",
       "      <td>221030815</td>\n",
       "      <td>2015-07-29</td>\n",
       "      <td>Художественный</td>\n",
       "      <td>Юниверсал , Кикстарт , Марк Платт , Рилейтивит...</td>\n",
       "      <td>США</td>\n",
       "      <td>Тимур Бекмамбетов</td>\n",
       "      <td>Джим Лемли, Джейсон Нетер, Марк Е.Платт, Яйн Смит</td>\n",
       "      <td>«18+» - запрещено для детей</td>\n",
       "      <td>0</td>\n",
       "      <td>...</td>\n",
       "      <td>фантастика,боевик,триллер</td>\n",
       "      <td>NaN</td>\n",
       "      <td>0</td>\n",
       "      <td>NaN</td>\n",
       "      <td>2015</td>\n",
       "      <td>фантастика</td>\n",
       "      <td>Тимур Бекмамбетов</td>\n",
       "      <td>NaN</td>\n",
       "      <td>0</td>\n",
       "      <td>NaN</td>\n",
       "    </tr>\n",
       "    <tr>\n",
       "      <th>...</th>\n",
       "      <td>...</td>\n",
       "      <td>...</td>\n",
       "      <td>...</td>\n",
       "      <td>...</td>\n",
       "      <td>...</td>\n",
       "      <td>...</td>\n",
       "      <td>...</td>\n",
       "      <td>...</td>\n",
       "      <td>...</td>\n",
       "      <td>...</td>\n",
       "      <td>...</td>\n",
       "      <td>...</td>\n",
       "      <td>...</td>\n",
       "      <td>...</td>\n",
       "      <td>...</td>\n",
       "      <td>...</td>\n",
       "      <td>...</td>\n",
       "      <td>...</td>\n",
       "      <td>...</td>\n",
       "      <td>...</td>\n",
       "      <td>...</td>\n",
       "    </tr>\n",
       "    <tr>\n",
       "      <th>7481</th>\n",
       "      <td>Сад художника: Американский импрессионизм</td>\n",
       "      <td>126008019</td>\n",
       "      <td>2019-12-23</td>\n",
       "      <td>Прочие</td>\n",
       "      <td>Севен Артс</td>\n",
       "      <td>None</td>\n",
       "      <td>Фил Грабски</td>\n",
       "      <td>Фил Грабски</td>\n",
       "      <td>«12+» - для детей старше 12 лет</td>\n",
       "      <td>0</td>\n",
       "      <td>...</td>\n",
       "      <td>unknown</td>\n",
       "      <td>NaN</td>\n",
       "      <td>0</td>\n",
       "      <td>NaN</td>\n",
       "      <td>2019</td>\n",
       "      <td>unknown</td>\n",
       "      <td>Фил Грабски</td>\n",
       "      <td>NaN</td>\n",
       "      <td>0</td>\n",
       "      <td>NaN</td>\n",
       "    </tr>\n",
       "    <tr>\n",
       "      <th>7482</th>\n",
       "      <td>Звериная ярость</td>\n",
       "      <td>121037819</td>\n",
       "      <td>2019-12-24</td>\n",
       "      <td>Художественный</td>\n",
       "      <td>Дэниел Гродник , Вандерфилм  Корпорэйшн, Импри...</td>\n",
       "      <td>США</td>\n",
       "      <td>Ник Пауэлл</td>\n",
       "      <td>Джефф Боулер, Дэниэл Гродник, Луильо Руис, Брэ...</td>\n",
       "      <td>«16+» - для детей старше 16 лет</td>\n",
       "      <td>0</td>\n",
       "      <td>...</td>\n",
       "      <td>боевик,триллер</td>\n",
       "      <td>NaN</td>\n",
       "      <td>0</td>\n",
       "      <td>NaN</td>\n",
       "      <td>2019</td>\n",
       "      <td>боевик</td>\n",
       "      <td>Ник Пауэлл</td>\n",
       "      <td>NaN</td>\n",
       "      <td>0</td>\n",
       "      <td>NaN</td>\n",
       "    </tr>\n",
       "    <tr>\n",
       "      <th>7483</th>\n",
       "      <td>Щенячий патруль: Скорей спешим на помощь!</td>\n",
       "      <td>124010819</td>\n",
       "      <td>2019-12-28</td>\n",
       "      <td>Художественный</td>\n",
       "      <td>Никелодеон  , Спин Мастер</td>\n",
       "      <td>Канада,США</td>\n",
       "      <td>Чарльз Е.Бастьен</td>\n",
       "      <td>Дженнифер Додж</td>\n",
       "      <td>«0+» - для любой зрительской аудитории</td>\n",
       "      <td>0</td>\n",
       "      <td>...</td>\n",
       "      <td>unknown</td>\n",
       "      <td>NaN</td>\n",
       "      <td>0</td>\n",
       "      <td>NaN</td>\n",
       "      <td>2019</td>\n",
       "      <td>unknown</td>\n",
       "      <td>Чарльз Е.Бастьен</td>\n",
       "      <td>NaN</td>\n",
       "      <td>0</td>\n",
       "      <td>NaN</td>\n",
       "    </tr>\n",
       "    <tr>\n",
       "      <th>7484</th>\n",
       "      <td>Машины песенки. Серия \"Испанские мотивы\"</td>\n",
       "      <td>124010619</td>\n",
       "      <td>2019-12-30</td>\n",
       "      <td>Анимационный</td>\n",
       "      <td>Анимаккорд ., Студия АНИМАККОРД</td>\n",
       "      <td>Республика Кипр,Россия</td>\n",
       "      <td>А.Беляев</td>\n",
       "      <td>Д.Ловейко</td>\n",
       "      <td>«0+» - для любой зрительской аудитории</td>\n",
       "      <td>0</td>\n",
       "      <td>...</td>\n",
       "      <td>unknown</td>\n",
       "      <td>NaN</td>\n",
       "      <td>0</td>\n",
       "      <td>NaN</td>\n",
       "      <td>2019</td>\n",
       "      <td>unknown</td>\n",
       "      <td>А.Беляев</td>\n",
       "      <td>NaN</td>\n",
       "      <td>0</td>\n",
       "      <td>NaN</td>\n",
       "    </tr>\n",
       "    <tr>\n",
       "      <th>7485</th>\n",
       "      <td>Машины песенки. Серия \"Когда цветут кактусы\"</td>\n",
       "      <td>124010719</td>\n",
       "      <td>2019-12-30</td>\n",
       "      <td>Анимационный</td>\n",
       "      <td>Анимаккорд ., Студия АНИМАККОРД</td>\n",
       "      <td>Республика Кипр,Россия</td>\n",
       "      <td>И.Трусов</td>\n",
       "      <td>Д.Ловейко</td>\n",
       "      <td>«0+» - для любой зрительской аудитории</td>\n",
       "      <td>0</td>\n",
       "      <td>...</td>\n",
       "      <td>комедия,вестерн</td>\n",
       "      <td>NaN</td>\n",
       "      <td>0</td>\n",
       "      <td>NaN</td>\n",
       "      <td>2019</td>\n",
       "      <td>комедия</td>\n",
       "      <td>И.Трусов</td>\n",
       "      <td>NaN</td>\n",
       "      <td>0</td>\n",
       "      <td>NaN</td>\n",
       "    </tr>\n",
       "  </tbody>\n",
       "</table>\n",
       "<p>7486 rows × 24 columns</p>\n",
       "</div>"
      ],
      "text/plain": [
       "                                             title  pu_number show_start_date  \\\n",
       "0                                 Открытый простор  221048915      2015-11-27   \n",
       "1                             Особо важное задание  111013716      2016-09-13   \n",
       "2                                     Особо опасен  221038416      2016-10-10   \n",
       "3                                     Особо опасен  221026916      2016-06-10   \n",
       "4                                     Особо опасен  221030815      2015-07-29   \n",
       "...                                            ...        ...             ...   \n",
       "7481     Сад художника: Американский импрессионизм  126008019      2019-12-23   \n",
       "7482                               Звериная ярость  121037819      2019-12-24   \n",
       "7483     Щенячий патруль: Скорей спешим на помощь!  124010819      2019-12-28   \n",
       "7484      Машины песенки. Серия \"Испанские мотивы\"  124010619      2019-12-30   \n",
       "7485  Машины песенки. Серия \"Когда цветут кактусы\"  124010719      2019-12-30   \n",
       "\n",
       "                type                                        film_studio  \\\n",
       "0     Художественный                   Тачстоун , Кобальт , Бикон , Тиг   \n",
       "1     Художественный                                           Мосфильм   \n",
       "2     Художественный  Юниверсал , Кикстарт , Марк Платт , Рилейтивит...   \n",
       "3     Художественный  Юниверсал , Кикстарт , Марк Платт , Рилейтивит...   \n",
       "4     Художественный  Юниверсал , Кикстарт , Марк Платт , Рилейтивит...   \n",
       "...              ...                                                ...   \n",
       "7481          Прочие                                         Севен Артс   \n",
       "7482  Художественный  Дэниел Гродник , Вандерфилм  Корпорэйшн, Импри...   \n",
       "7483  Художественный                          Никелодеон  , Спин Мастер   \n",
       "7484    Анимационный                    Анимаккорд ., Студия АНИМАККОРД   \n",
       "7485    Анимационный                    Анимаккорд ., Студия АНИМАККОРД   \n",
       "\n",
       "          production_country           director  \\\n",
       "0                        США      Кевин Костнер   \n",
       "1                       СССР          Е.Матвеев   \n",
       "2                        США  Тимур Бекмамбетов   \n",
       "3                        США  Тимур Бекмамбетов   \n",
       "4                        США  Тимур Бекмамбетов   \n",
       "...                      ...                ...   \n",
       "7481                    None        Фил Грабски   \n",
       "7482                     США         Ник Пауэлл   \n",
       "7483              Канада,США   Чарльз Е.Бастьен   \n",
       "7484  Республика Кипр,Россия           А.Беляев   \n",
       "7485  Республика Кипр,Россия           И.Трусов   \n",
       "\n",
       "                                               producer  \\\n",
       "0             Дэвид Валдес, Кевин Костнер, Джейк Эбертс   \n",
       "1                                               unknown   \n",
       "2     Джим Лемли, Джейсон Нетер, Марк Е.Платт, Яйн Смит   \n",
       "3     Джим Лемли, Джейсон Нетер, Марк Е.Платт, Яйн Смит   \n",
       "4     Джим Лемли, Джейсон Нетер, Марк Е.Платт, Яйн Смит   \n",
       "...                                                 ...   \n",
       "7481                                        Фил Грабски   \n",
       "7482  Джефф Боулер, Дэниэл Гродник, Луильо Руис, Брэ...   \n",
       "7483                                     Дженнифер Додж   \n",
       "7484                                          Д.Ловейко   \n",
       "7485                                          Д.Ловейко   \n",
       "\n",
       "                             age_restriction  refundable_support  ...  \\\n",
       "0                «18+» - запрещено для детей                   0  ...   \n",
       "1              «6+» - для детей старше 6 лет                   0  ...   \n",
       "2                «18+» - запрещено для детей                   0  ...   \n",
       "3                «18+» - запрещено для детей                   0  ...   \n",
       "4                «18+» - запрещено для детей                   0  ...   \n",
       "...                                      ...                 ...  ...   \n",
       "7481         «12+» - для детей старше 12 лет                   0  ...   \n",
       "7482         «16+» - для детей старше 16 лет                   0  ...   \n",
       "7483  «0+» - для любой зрительской аудитории                   0  ...   \n",
       "7484  «0+» - для любой зрительской аудитории                   0  ...   \n",
       "7485  «0+» - для любой зрительской аудитории                   0  ...   \n",
       "\n",
       "                         genres  box_office total_budget  costs_share  year  \\\n",
       "0        боевик,драма,мелодрама         NaN            0          NaN  2015   \n",
       "1                 драма,военный         NaN            0          NaN  2016   \n",
       "2     фантастика,боевик,триллер         NaN            0          NaN  2016   \n",
       "3     фантастика,боевик,триллер         NaN            0          NaN  2016   \n",
       "4     фантастика,боевик,триллер         NaN            0          NaN  2015   \n",
       "...                         ...         ...          ...          ...   ...   \n",
       "7481                    unknown         NaN            0          NaN  2019   \n",
       "7482             боевик,триллер         NaN            0          NaN  2019   \n",
       "7483                    unknown         NaN            0          NaN  2019   \n",
       "7484                    unknown         NaN            0          NaN  2019   \n",
       "7485            комедия,вестерн         NaN            0          NaN  2019   \n",
       "\n",
       "      main_genre      main_director  gov_share  gov_mon profit  \n",
       "0         боевик      Кевин Костнер        NaN        0    NaN  \n",
       "1          драма          Е.Матвеев        NaN        0    NaN  \n",
       "2     фантастика  Тимур Бекмамбетов        NaN        0    NaN  \n",
       "3     фантастика  Тимур Бекмамбетов        NaN        0    NaN  \n",
       "4     фантастика  Тимур Бекмамбетов        NaN        0    NaN  \n",
       "...          ...                ...        ...      ...    ...  \n",
       "7481     unknown        Фил Грабски        NaN        0    NaN  \n",
       "7482      боевик         Ник Пауэлл        NaN        0    NaN  \n",
       "7483     unknown   Чарльз Е.Бастьен        NaN        0    NaN  \n",
       "7484     unknown           А.Беляев        NaN        0    NaN  \n",
       "7485     комедия           И.Трусов        NaN        0    NaN  \n",
       "\n",
       "[7486 rows x 24 columns]"
      ]
     },
     "execution_count": 30,
     "metadata": {},
     "output_type": "execute_result"
    }
   ],
   "source": [
    "df"
   ]
  },
  {
   "cell_type": "markdown",
   "metadata": {
    "id": "V2gYwMcPgFyd"
   },
   "source": [
    "### Шаг 5. Напишите общий вывод"
   ]
  },
  {
   "cell_type": "markdown",
   "metadata": {
    "id": "AYRg3dzXgFye"
   },
   "source": [
    "При объединении двух датасетов возникло большое кол-во пропусков, так как количество строк датасетов отличалось почти вдвое. Плюс к этому датасет с информацией о господдержке имел множество пропусков, так как 95% фильмов в нём не имели гос поддержки. Провёл работу по устранению пропусков. В столбцах по гос поддержке заменил на ноль, так как фильмы без гос поддержки не получали дотаций. \n",
    "В столбцах с категориальными переменными пропуски значений заменил на тех значение \"unknown\". Отсуствие пропусков позволяет применять большее кол-во методов к данным и менять тип данных при необходимости. Так же в столбцах с категориальными значениями выявил множество неявных дубликатов, обработал их спомощью функций, циклов и методов. Подробнее в шаге 2.3. \n",
    "Убрал из столбцов с численными значения строчные значения, что позволило изменить тип данных(int/float).\n",
    "Изменил формат даты и времени, а так же формат отображения больших чисел в столбцах, для удобства чтения.\n",
    "Создал несколько столбцов для расчетов описательной статистики и более полных выводов, подробнее в теле исследования.\n",
    "\n",
    "Исследуя кинопрокат за период 2010-2019 годы пришел к следующим выводам:\n",
    "1. Количество фильмов за исследуемый период выросло со 105шт(2010г) до 530(2019г). Стоит отметить, доля фильмов в датасете по которым есть информация о кассовых сборах составила 42% от объема датасета. Предположу, что этого объема достаточно для выявления тенденции.\n",
    "2. Подобная тенденция роста наблюдается и в денежном выражении кассовых сборов. минимум в 2010г, максимум в 2017г 49,668,403,134руб\n",
    "3. Выделил самую прибыльную возрастную группу в периоде с 2015 по 2019г. Это \"16+\" со сборами 76,034,733,644руб. Антирекорд поставила группа фильмов с ограничением \"0+\" 809,077,426руб.\n",
    "\n",
    "Что касается фильмов с гос поддержкой. Основным вопросом исследования ставиться задача понять, являются ли такие фильмы привлекательными для зрителя. В процессе поиска ответа на этот вопрос я обнаружил немало заслуживающей внимания информации:\n",
    "\n",
    "1. Размер гос поддержки в сфере кино, за исследуемый период рос от года к года, со спадом в 2017-18г и в 2019 году поставил  рекорд в 4,904,000,000 руб\n",
    "2. Прибыльность фильмов с гос участием в период  с 2013 по 2016г включительно была отрицательной, с 2017года ситуация изменилась, появилась прибыль, причем в 2017г был ее пик с последующим снижением. Тревожный сигнал для отрасли.\n",
    "3. Тип фильма собирающий больше всего касс сборов- художественный фильм, далее мультипликация, остальные типы фильмов несоизмеримо менее кассовые.\n",
    "4.  Самые кассовые жанры фильмов с гос поддержкой в порядке убывания выглядят так:\n",
    "- Комедия\n",
    "- Драма\n",
    "- Мультфильмы\n",
    "- Спорт\n",
    "- Фантастика\n",
    "\n",
    "И теперь перехожу к пунктам, которые позволили мне ответить на вопрос исследования.\n",
    "\n",
    "5. Рейтинг фильмов с гос поддержкой варьируется по годам. Максимальный средний рейтинг в 2013 году 6.7, минимальный в 2016 со средней оценкой 5.8\n",
    "6. Динамика роста кассовых сборов положительная до 2017года с пиком в 10,865,075,301руб, после 2017 года выручки начинают падать, с шагом примерно 10% в год.\n",
    "\n",
    "Проанализировав выше описанные пункты могу прийти к выводу, что кино с гос поддержкой интересно зрителю, но заинтересованность ниже чем в фильмах без господдержки. Рейтинги по годам указывают на то, что более половины опрошеных удовлетворены фильмом, так же наблюдается рост кассовых сборов и окупаемости картин, несколько \"портит\" статистику тот факт что основные коммерческие метрики(сборы и прибыль) начинают снижаться с 2017 года. Считаю, что программа финансирования государством сферы кинемотографа приносит положительный результат и перспективна. \n",
    "\n",
    "Рекомендации:\n",
    "\n",
    "1. Более тщательно изучить потребности рынка и предпочтения аудитории, для максимизации удовлеторенности целевой аудитории и как следствие максимизации прибыли.\n",
    "2. Расширить сегмент рынка, а именно расширить ассоримент снимаемой кинопродукции, как в жанрах, так и в типах фильмов. Такой подход позволит охватить разные сегменты зрителей, которым нравятся разные жанры кино.\n",
    "3. Повышать кол-во гос помощи и повышать эффективность её использования, для создания более качественного продукта и увеличения спроса на этот продукт(фильм) и как следствие повышение оценок рейтингов, кассовых сборов и прибыли. \n",
    "4. Запуск высоко рейтинговых продуктов на стриминговых платформах, съемка сиквелов, приквелов и спиноффов для пользующихся спросом фильмов.\n",
    "5. Более тщательно вести базы данных, избегать утери данных и различных разночтений информации, для более точной и быстрой аналитики и, как следствие, принятие взвешенных обоснованных решений для развития сферы кино с гос поддержкой.\n"
   ]
  },
  {
   "cell_type": "code",
   "execution_count": null,
   "metadata": {},
   "outputs": [],
   "source": []
  }
 ],
 "metadata": {
  "ExecuteTimeLog": [
   {
    "duration": 537,
    "start_time": "2021-07-07T10:12:08.634Z"
   },
   {
    "duration": 206,
    "start_time": "2021-07-07T10:12:30.191Z"
   },
   {
    "duration": 227,
    "start_time": "2021-07-07T10:12:33.078Z"
   },
   {
    "duration": 153,
    "start_time": "2021-07-07T10:13:42.146Z"
   },
   {
    "duration": 233,
    "start_time": "2021-07-07T10:30:09.252Z"
   },
   {
    "duration": 19,
    "start_time": "2021-07-07T10:30:15.577Z"
   },
   {
    "duration": 18,
    "start_time": "2021-07-07T10:30:57.348Z"
   },
   {
    "duration": 19,
    "start_time": "2021-07-07T10:31:17.452Z"
   },
   {
    "duration": 21,
    "start_time": "2021-07-07T10:31:32.227Z"
   },
   {
    "duration": 27,
    "start_time": "2021-07-07T10:32:06.588Z"
   },
   {
    "duration": 23,
    "start_time": "2021-07-07T10:32:43.645Z"
   },
   {
    "duration": 24,
    "start_time": "2021-07-07T10:33:06.948Z"
   },
   {
    "duration": 7,
    "start_time": "2021-07-07T10:33:28.558Z"
   },
   {
    "duration": 23,
    "start_time": "2021-07-07T10:33:43.761Z"
   },
   {
    "duration": 28,
    "start_time": "2021-07-07T10:34:13.466Z"
   },
   {
    "duration": 23,
    "start_time": "2021-07-07T10:35:56.187Z"
   },
   {
    "duration": 6,
    "start_time": "2021-07-07T10:36:48.182Z"
   },
   {
    "duration": 14,
    "start_time": "2021-07-07T10:37:49.641Z"
   },
   {
    "duration": 6,
    "start_time": "2021-07-07T10:38:06.694Z"
   },
   {
    "duration": 6,
    "start_time": "2021-07-07T10:38:13.493Z"
   },
   {
    "duration": 19,
    "start_time": "2021-07-07T10:38:44.056Z"
   },
   {
    "duration": 186,
    "start_time": "2021-07-07T10:48:35.618Z"
   },
   {
    "duration": 24,
    "start_time": "2021-07-07T10:48:51.498Z"
   },
   {
    "duration": 20,
    "start_time": "2021-07-07T10:48:59.415Z"
   },
   {
    "duration": 20,
    "start_time": "2021-07-07T10:53:02.195Z"
   },
   {
    "duration": 188,
    "start_time": "2021-07-07T10:54:40.486Z"
   },
   {
    "duration": 115,
    "start_time": "2021-07-07T10:54:52.552Z"
   },
   {
    "duration": 214,
    "start_time": "2021-07-07T10:54:56.354Z"
   },
   {
    "duration": 47,
    "start_time": "2021-07-07T10:54:58.282Z"
   },
   {
    "duration": 217,
    "start_time": "2021-07-07T10:59:16.075Z"
   },
   {
    "duration": 51,
    "start_time": "2021-07-07T10:59:16.243Z"
   },
   {
    "duration": 578,
    "start_time": "2021-07-07T10:59:18.774Z"
   },
   {
    "duration": 161,
    "start_time": "2021-07-07T10:59:21.238Z"
   },
   {
    "duration": 59,
    "start_time": "2021-07-07T10:59:21.453Z"
   },
   {
    "duration": 3,
    "start_time": "2021-07-07T11:02:10.786Z"
   },
   {
    "duration": 13,
    "start_time": "2021-07-07T11:07:07.722Z"
   },
   {
    "duration": 26,
    "start_time": "2021-07-07T11:07:17.958Z"
   },
   {
    "duration": 22,
    "start_time": "2021-07-07T11:08:17.939Z"
   },
   {
    "duration": 212,
    "start_time": "2021-07-07T11:08:19.665Z"
   },
   {
    "duration": 21,
    "start_time": "2021-07-07T11:08:29.945Z"
   },
   {
    "duration": 31,
    "start_time": "2021-07-07T11:08:38.899Z"
   },
   {
    "duration": 23,
    "start_time": "2021-07-07T11:08:54.527Z"
   },
   {
    "duration": 8,
    "start_time": "2021-07-07T11:18:55.974Z"
   },
   {
    "duration": 7,
    "start_time": "2021-07-07T11:19:03.639Z"
   },
   {
    "duration": 7,
    "start_time": "2021-07-07T11:19:06.444Z"
   },
   {
    "duration": 578,
    "start_time": "2021-07-07T12:09:59.576Z"
   },
   {
    "duration": 195,
    "start_time": "2021-07-07T12:10:00.156Z"
   },
   {
    "duration": 115,
    "start_time": "2021-07-07T12:10:00.353Z"
   },
   {
    "duration": 3,
    "start_time": "2021-07-07T12:10:00.470Z"
   },
   {
    "duration": 32,
    "start_time": "2021-07-07T12:10:00.474Z"
   },
   {
    "duration": 23,
    "start_time": "2021-07-07T12:10:00.508Z"
   },
   {
    "duration": 19,
    "start_time": "2021-07-07T12:10:00.533Z"
   },
   {
    "duration": 44,
    "start_time": "2021-07-07T12:10:00.553Z"
   },
   {
    "duration": 7,
    "start_time": "2021-07-07T12:10:00.600Z"
   },
   {
    "duration": 7,
    "start_time": "2021-07-07T12:19:45.761Z"
   },
   {
    "duration": 21,
    "start_time": "2021-07-07T12:21:35.482Z"
   },
   {
    "duration": 21,
    "start_time": "2021-07-07T12:29:23.569Z"
   },
   {
    "duration": 525,
    "start_time": "2021-07-07T12:29:44.542Z"
   },
   {
    "duration": 214,
    "start_time": "2021-07-07T12:29:45.069Z"
   },
   {
    "duration": 92,
    "start_time": "2021-07-07T12:29:45.285Z"
   },
   {
    "duration": 3,
    "start_time": "2021-07-07T12:29:45.379Z"
   },
   {
    "duration": 28,
    "start_time": "2021-07-07T12:29:45.384Z"
   },
   {
    "duration": 23,
    "start_time": "2021-07-07T12:29:45.413Z"
   },
   {
    "duration": 21,
    "start_time": "2021-07-07T12:29:45.437Z"
   },
   {
    "duration": 41,
    "start_time": "2021-07-07T12:29:45.460Z"
   },
   {
    "duration": 7,
    "start_time": "2021-07-07T12:29:45.502Z"
   },
   {
    "duration": 20,
    "start_time": "2021-07-07T12:29:45.511Z"
   },
   {
    "duration": 12,
    "start_time": "2021-07-07T12:34:02.800Z"
   },
   {
    "duration": 7,
    "start_time": "2021-07-07T12:35:10.479Z"
   },
   {
    "duration": 8,
    "start_time": "2021-07-07T12:35:22.440Z"
   },
   {
    "duration": 6,
    "start_time": "2021-07-07T12:35:35.649Z"
   },
   {
    "duration": 6,
    "start_time": "2021-07-07T12:35:43.107Z"
   },
   {
    "duration": 22,
    "start_time": "2021-07-07T12:38:03.029Z"
   },
   {
    "duration": 10,
    "start_time": "2021-07-07T12:38:06.592Z"
   },
   {
    "duration": 563,
    "start_time": "2021-07-07T12:38:46.493Z"
   },
   {
    "duration": 265,
    "start_time": "2021-07-07T12:38:47.058Z"
   },
   {
    "duration": 94,
    "start_time": "2021-07-07T12:38:47.325Z"
   },
   {
    "duration": 3,
    "start_time": "2021-07-07T12:38:47.422Z"
   },
   {
    "duration": 30,
    "start_time": "2021-07-07T12:38:47.427Z"
   },
   {
    "duration": 16,
    "start_time": "2021-07-07T12:38:53.305Z"
   },
   {
    "duration": 10,
    "start_time": "2021-07-07T12:38:53.499Z"
   },
   {
    "duration": 8,
    "start_time": "2021-07-07T12:39:48.161Z"
   },
   {
    "duration": 27,
    "start_time": "2021-07-07T12:41:17.629Z"
   },
   {
    "duration": 17,
    "start_time": "2021-07-07T12:41:17.867Z"
   },
   {
    "duration": 21,
    "start_time": "2021-07-07T12:41:19.310Z"
   },
   {
    "duration": 7,
    "start_time": "2021-07-07T12:41:19.544Z"
   },
   {
    "duration": 20,
    "start_time": "2021-07-07T12:41:20.504Z"
   },
   {
    "duration": 554,
    "start_time": "2021-07-07T12:56:23.696Z"
   },
   {
    "duration": 200,
    "start_time": "2021-07-07T12:56:25.234Z"
   },
   {
    "duration": 119,
    "start_time": "2021-07-07T12:56:25.480Z"
   },
   {
    "duration": 4,
    "start_time": "2021-07-07T12:56:25.762Z"
   },
   {
    "duration": 26,
    "start_time": "2021-07-07T12:56:27.172Z"
   },
   {
    "duration": 12,
    "start_time": "2021-07-07T12:56:29.051Z"
   },
   {
    "duration": 10,
    "start_time": "2021-07-07T12:56:29.291Z"
   },
   {
    "duration": 8,
    "start_time": "2021-07-07T12:56:29.623Z"
   },
   {
    "duration": 28,
    "start_time": "2021-07-07T12:56:32.137Z"
   },
   {
    "duration": 19,
    "start_time": "2021-07-07T12:56:39.785Z"
   },
   {
    "duration": 20,
    "start_time": "2021-07-07T12:56:44.297Z"
   },
   {
    "duration": 7,
    "start_time": "2021-07-07T12:56:45.392Z"
   },
   {
    "duration": 23,
    "start_time": "2021-07-07T12:56:46.615Z"
   },
   {
    "duration": 4,
    "start_time": "2021-07-07T12:57:06.625Z"
   },
   {
    "duration": 32,
    "start_time": "2021-07-07T12:57:36.690Z"
   },
   {
    "duration": 18,
    "start_time": "2021-07-07T12:58:00.149Z"
   },
   {
    "duration": 15,
    "start_time": "2021-07-07T12:59:16.793Z"
   },
   {
    "duration": 7,
    "start_time": "2021-07-07T13:19:22.624Z"
   },
   {
    "duration": 6,
    "start_time": "2021-07-07T14:17:33.527Z"
   },
   {
    "duration": 9,
    "start_time": "2021-07-07T14:17:48.409Z"
   },
   {
    "duration": 8,
    "start_time": "2021-07-07T14:20:13.060Z"
   },
   {
    "duration": 8,
    "start_time": "2021-07-07T14:20:37.957Z"
   },
   {
    "duration": 8,
    "start_time": "2021-07-07T14:20:47.470Z"
   },
   {
    "duration": 9,
    "start_time": "2021-07-07T14:20:54.503Z"
   },
   {
    "duration": 10,
    "start_time": "2021-07-07T14:28:57.763Z"
   },
   {
    "duration": 3,
    "start_time": "2021-07-07T14:30:23.377Z"
   },
   {
    "duration": 3,
    "start_time": "2021-07-07T14:30:36.489Z"
   },
   {
    "duration": 103,
    "start_time": "2021-07-07T14:30:52.351Z"
   },
   {
    "duration": 8,
    "start_time": "2021-07-07T14:30:54.763Z"
   },
   {
    "duration": 8,
    "start_time": "2021-07-07T14:31:29.301Z"
   },
   {
    "duration": 13,
    "start_time": "2021-07-07T14:31:44.516Z"
   },
   {
    "duration": 7,
    "start_time": "2021-07-07T14:33:10.972Z"
   },
   {
    "duration": 11,
    "start_time": "2021-07-07T14:33:27.780Z"
   },
   {
    "duration": 8,
    "start_time": "2021-07-07T14:34:44.588Z"
   },
   {
    "duration": 57,
    "start_time": "2021-07-07T14:35:59.042Z"
   },
   {
    "duration": 3,
    "start_time": "2021-07-07T14:36:28.168Z"
   },
   {
    "duration": 5,
    "start_time": "2021-07-07T14:36:46.254Z"
   },
   {
    "duration": 4,
    "start_time": "2021-07-07T14:36:52.714Z"
   },
   {
    "duration": 3,
    "start_time": "2021-07-07T14:36:56.612Z"
   },
   {
    "duration": 4,
    "start_time": "2021-07-07T14:36:57.049Z"
   },
   {
    "duration": 3,
    "start_time": "2021-07-07T14:39:21.214Z"
   },
   {
    "duration": 7,
    "start_time": "2021-07-07T14:39:52.406Z"
   },
   {
    "duration": 11,
    "start_time": "2021-07-07T14:39:58.576Z"
   },
   {
    "duration": 9,
    "start_time": "2021-07-07T14:40:26.301Z"
   },
   {
    "duration": 10,
    "start_time": "2021-07-07T14:40:31.704Z"
   },
   {
    "duration": 11,
    "start_time": "2021-07-07T14:40:36.249Z"
   },
   {
    "duration": 10,
    "start_time": "2021-07-07T14:40:39.783Z"
   },
   {
    "duration": 9,
    "start_time": "2021-07-07T14:40:48.558Z"
   },
   {
    "duration": 10,
    "start_time": "2021-07-07T14:40:57.143Z"
   },
   {
    "duration": 9,
    "start_time": "2021-07-07T14:41:06.074Z"
   },
   {
    "duration": 4324,
    "start_time": "2021-07-07T14:41:22.004Z"
   },
   {
    "duration": 11,
    "start_time": "2021-07-07T14:41:33.392Z"
   },
   {
    "duration": 9,
    "start_time": "2021-07-07T14:41:39.288Z"
   },
   {
    "duration": 569,
    "start_time": "2021-07-07T14:42:14.387Z"
   },
   {
    "duration": 197,
    "start_time": "2021-07-07T14:42:14.959Z"
   },
   {
    "duration": 84,
    "start_time": "2021-07-07T14:42:16.052Z"
   },
   {
    "duration": 4,
    "start_time": "2021-07-07T14:42:16.900Z"
   },
   {
    "duration": 27,
    "start_time": "2021-07-07T14:42:19.898Z"
   },
   {
    "duration": 12,
    "start_time": "2021-07-07T14:42:21.577Z"
   },
   {
    "duration": 9,
    "start_time": "2021-07-07T14:42:21.813Z"
   },
   {
    "duration": 9,
    "start_time": "2021-07-07T14:42:22.569Z"
   },
   {
    "duration": 29,
    "start_time": "2021-07-07T14:42:25.837Z"
   },
   {
    "duration": 20,
    "start_time": "2021-07-07T14:42:27.003Z"
   },
   {
    "duration": 21,
    "start_time": "2021-07-07T14:42:28.767Z"
   },
   {
    "duration": 7,
    "start_time": "2021-07-07T14:42:29.838Z"
   },
   {
    "duration": 4,
    "start_time": "2021-07-07T14:43:25.493Z"
   },
   {
    "duration": 7,
    "start_time": "2021-07-07T14:43:26.573Z"
   },
   {
    "duration": 10,
    "start_time": "2021-07-07T14:43:31.639Z"
   },
   {
    "duration": 9,
    "start_time": "2021-07-07T14:43:32.046Z"
   },
   {
    "duration": 10,
    "start_time": "2021-07-07T14:43:33.301Z"
   },
   {
    "duration": 12,
    "start_time": "2021-07-07T14:43:33.658Z"
   },
   {
    "duration": 8,
    "start_time": "2021-07-07T14:43:34.552Z"
   },
   {
    "duration": 9,
    "start_time": "2021-07-07T14:43:35.058Z"
   },
   {
    "duration": 12,
    "start_time": "2021-07-07T14:43:35.914Z"
   },
   {
    "duration": 17,
    "start_time": "2021-07-07T14:45:34.368Z"
   },
   {
    "duration": 512,
    "start_time": "2021-07-07T14:51:58.236Z"
   },
   {
    "duration": 223,
    "start_time": "2021-07-07T14:51:58.750Z"
   },
   {
    "duration": 93,
    "start_time": "2021-07-07T14:51:58.977Z"
   },
   {
    "duration": 4,
    "start_time": "2021-07-07T14:51:59.071Z"
   },
   {
    "duration": 37,
    "start_time": "2021-07-07T14:51:59.077Z"
   },
   {
    "duration": 18,
    "start_time": "2021-07-07T14:51:59.116Z"
   },
   {
    "duration": 10,
    "start_time": "2021-07-07T14:51:59.137Z"
   },
   {
    "duration": 8,
    "start_time": "2021-07-07T14:51:59.149Z"
   },
   {
    "duration": 54,
    "start_time": "2021-07-07T14:51:59.158Z"
   },
   {
    "duration": 18,
    "start_time": "2021-07-07T14:51:59.213Z"
   },
   {
    "duration": 22,
    "start_time": "2021-07-07T14:51:59.232Z"
   },
   {
    "duration": 36,
    "start_time": "2021-07-07T14:51:59.255Z"
   },
   {
    "duration": 7,
    "start_time": "2021-07-07T14:51:59.293Z"
   },
   {
    "duration": 10,
    "start_time": "2021-07-07T14:51:59.302Z"
   },
   {
    "duration": 9,
    "start_time": "2021-07-07T14:51:59.313Z"
   },
   {
    "duration": 11,
    "start_time": "2021-07-07T14:51:59.324Z"
   },
   {
    "duration": 8,
    "start_time": "2021-07-07T14:51:59.337Z"
   },
   {
    "duration": 46,
    "start_time": "2021-07-07T14:51:59.347Z"
   },
   {
    "duration": 22,
    "start_time": "2021-07-07T14:51:59.395Z"
   },
   {
    "duration": 24,
    "start_time": "2021-07-07T14:57:32.911Z"
   },
   {
    "duration": 7,
    "start_time": "2021-07-07T14:58:22.070Z"
   },
   {
    "duration": 4,
    "start_time": "2021-07-07T14:59:11.239Z"
   },
   {
    "duration": 25,
    "start_time": "2021-07-07T15:07:22.208Z"
   },
   {
    "duration": 16,
    "start_time": "2021-07-07T15:08:25.560Z"
   },
   {
    "duration": 15,
    "start_time": "2021-07-07T15:08:40.647Z"
   },
   {
    "duration": 14,
    "start_time": "2021-07-07T15:08:46.669Z"
   },
   {
    "duration": 533,
    "start_time": "2021-07-07T15:18:07.440Z"
   },
   {
    "duration": 173,
    "start_time": "2021-07-07T15:18:07.974Z"
   },
   {
    "duration": 84,
    "start_time": "2021-07-07T15:18:08.149Z"
   },
   {
    "duration": 3,
    "start_time": "2021-07-07T15:18:08.235Z"
   },
   {
    "duration": 30,
    "start_time": "2021-07-07T15:18:08.240Z"
   },
   {
    "duration": 22,
    "start_time": "2021-07-07T15:18:08.272Z"
   },
   {
    "duration": 11,
    "start_time": "2021-07-07T15:18:08.295Z"
   },
   {
    "duration": 11,
    "start_time": "2021-07-07T15:18:08.309Z"
   },
   {
    "duration": 40,
    "start_time": "2021-07-07T15:18:08.322Z"
   },
   {
    "duration": 42,
    "start_time": "2021-07-07T15:18:08.364Z"
   },
   {
    "duration": 22,
    "start_time": "2021-07-07T15:18:08.408Z"
   },
   {
    "duration": 5,
    "start_time": "2021-07-07T15:18:08.432Z"
   },
   {
    "duration": 13,
    "start_time": "2021-07-07T15:18:08.439Z"
   },
   {
    "duration": 9,
    "start_time": "2021-07-07T15:18:08.454Z"
   },
   {
    "duration": 32,
    "start_time": "2021-07-07T15:18:08.465Z"
   },
   {
    "duration": 10,
    "start_time": "2021-07-07T15:18:08.501Z"
   },
   {
    "duration": 7,
    "start_time": "2021-07-07T15:18:08.513Z"
   },
   {
    "duration": 11,
    "start_time": "2021-07-07T15:18:08.521Z"
   },
   {
    "duration": 17,
    "start_time": "2021-07-07T15:18:08.534Z"
   },
   {
    "duration": 44,
    "start_time": "2021-07-07T15:18:08.553Z"
   },
   {
    "duration": 22,
    "start_time": "2021-07-07T15:18:08.599Z"
   },
   {
    "duration": 61,
    "start_time": "2021-07-07T15:18:08.622Z"
   },
   {
    "duration": 7,
    "start_time": "2021-07-07T15:18:39.457Z"
   },
   {
    "duration": 5,
    "start_time": "2021-07-07T16:05:17.020Z"
   },
   {
    "duration": 5,
    "start_time": "2021-07-07T16:51:28.794Z"
   },
   {
    "duration": 546,
    "start_time": "2021-07-07T16:52:26.306Z"
   },
   {
    "duration": 203,
    "start_time": "2021-07-07T16:52:27.523Z"
   },
   {
    "duration": 85,
    "start_time": "2021-07-07T16:52:27.736Z"
   },
   {
    "duration": 4,
    "start_time": "2021-07-07T16:52:27.899Z"
   },
   {
    "duration": 25,
    "start_time": "2021-07-07T16:52:28.674Z"
   },
   {
    "duration": 8,
    "start_time": "2021-07-07T16:52:32.956Z"
   },
   {
    "duration": 18,
    "start_time": "2021-07-07T16:52:35.616Z"
   },
   {
    "duration": 6,
    "start_time": "2021-07-07T16:52:36.913Z"
   },
   {
    "duration": 11,
    "start_time": "2021-07-07T16:52:40.258Z"
   },
   {
    "duration": 10,
    "start_time": "2021-07-07T16:52:46.251Z"
   },
   {
    "duration": 8,
    "start_time": "2021-07-07T16:52:47.182Z"
   },
   {
    "duration": 27,
    "start_time": "2021-07-07T16:53:20.391Z"
   },
   {
    "duration": 20,
    "start_time": "2021-07-07T16:53:22.022Z"
   },
   {
    "duration": 23,
    "start_time": "2021-07-07T16:53:23.690Z"
   },
   {
    "duration": 8,
    "start_time": "2021-07-07T16:53:24.261Z"
   },
   {
    "duration": 4,
    "start_time": "2021-07-07T16:53:38.733Z"
   },
   {
    "duration": 7,
    "start_time": "2021-07-07T16:53:40.445Z"
   },
   {
    "duration": 11,
    "start_time": "2021-07-07T16:53:41.348Z"
   },
   {
    "duration": 13,
    "start_time": "2021-07-07T16:53:45.250Z"
   },
   {
    "duration": 12,
    "start_time": "2021-07-07T16:53:45.467Z"
   },
   {
    "duration": 4,
    "start_time": "2021-07-07T16:55:32.704Z"
   },
   {
    "duration": 12,
    "start_time": "2021-07-07T16:55:49.012Z"
   },
   {
    "duration": 18,
    "start_time": "2021-07-07T16:55:49.547Z"
   },
   {
    "duration": 611,
    "start_time": "2021-07-07T16:58:35.156Z"
   },
   {
    "duration": 200,
    "start_time": "2021-07-07T16:58:35.770Z"
   },
   {
    "duration": 86,
    "start_time": "2021-07-07T16:58:35.972Z"
   },
   {
    "duration": 3,
    "start_time": "2021-07-07T16:58:36.060Z"
   },
   {
    "duration": 27,
    "start_time": "2021-07-07T16:58:36.065Z"
   },
   {
    "duration": 8,
    "start_time": "2021-07-07T16:58:36.094Z"
   },
   {
    "duration": 17,
    "start_time": "2021-07-07T16:58:36.103Z"
   },
   {
    "duration": 5,
    "start_time": "2021-07-07T16:58:36.123Z"
   },
   {
    "duration": 11,
    "start_time": "2021-07-07T16:58:36.130Z"
   },
   {
    "duration": 7,
    "start_time": "2021-07-07T16:58:36.143Z"
   },
   {
    "duration": 37,
    "start_time": "2021-07-07T16:58:36.152Z"
   },
   {
    "duration": 27,
    "start_time": "2021-07-07T16:58:36.191Z"
   },
   {
    "duration": 19,
    "start_time": "2021-07-07T16:58:36.219Z"
   },
   {
    "duration": 49,
    "start_time": "2021-07-07T16:58:36.240Z"
   },
   {
    "duration": 6,
    "start_time": "2021-07-07T16:58:36.291Z"
   },
   {
    "duration": 3,
    "start_time": "2021-07-07T16:58:36.299Z"
   },
   {
    "duration": 13,
    "start_time": "2021-07-07T16:58:36.304Z"
   },
   {
    "duration": 10,
    "start_time": "2021-07-07T16:58:36.319Z"
   },
   {
    "duration": 10,
    "start_time": "2021-07-07T16:58:36.331Z"
   },
   {
    "duration": 44,
    "start_time": "2021-07-07T16:58:36.343Z"
   },
   {
    "duration": 4,
    "start_time": "2021-07-07T16:58:36.388Z"
   },
   {
    "duration": 13,
    "start_time": "2021-07-07T16:58:36.394Z"
   },
   {
    "duration": 16,
    "start_time": "2021-07-07T16:58:36.410Z"
   },
   {
    "duration": 8,
    "start_time": "2021-07-07T17:02:31.629Z"
   },
   {
    "duration": 8,
    "start_time": "2021-07-07T17:02:34.308Z"
   },
   {
    "duration": 6,
    "start_time": "2021-07-07T17:05:13.483Z"
   },
   {
    "duration": 17,
    "start_time": "2021-07-07T17:05:20.606Z"
   },
   {
    "duration": 7,
    "start_time": "2021-07-07T17:05:34.638Z"
   },
   {
    "duration": 3,
    "start_time": "2021-07-07T17:06:31.883Z"
   },
   {
    "duration": 570,
    "start_time": "2021-07-07T17:06:37.165Z"
   },
   {
    "duration": 174,
    "start_time": "2021-07-07T17:06:37.737Z"
   },
   {
    "duration": 47,
    "start_time": "2021-07-07T17:06:37.913Z"
   },
   {
    "duration": 3,
    "start_time": "2021-07-07T17:06:37.962Z"
   },
   {
    "duration": 27,
    "start_time": "2021-07-07T17:06:37.967Z"
   },
   {
    "duration": 7,
    "start_time": "2021-07-07T17:06:37.996Z"
   },
   {
    "duration": 16,
    "start_time": "2021-07-07T17:06:38.005Z"
   },
   {
    "duration": 6,
    "start_time": "2021-07-07T17:06:38.024Z"
   },
   {
    "duration": 12,
    "start_time": "2021-07-07T17:06:38.031Z"
   },
   {
    "duration": 41,
    "start_time": "2021-07-07T17:06:38.045Z"
   },
   {
    "duration": 8,
    "start_time": "2021-07-07T17:06:38.088Z"
   },
   {
    "duration": 26,
    "start_time": "2021-07-07T17:06:38.098Z"
   },
   {
    "duration": 17,
    "start_time": "2021-07-07T17:06:38.126Z"
   },
   {
    "duration": 43,
    "start_time": "2021-07-07T17:06:38.144Z"
   },
   {
    "duration": 6,
    "start_time": "2021-07-07T17:06:38.188Z"
   },
   {
    "duration": 5,
    "start_time": "2021-07-07T17:06:38.195Z"
   },
   {
    "duration": 9,
    "start_time": "2021-07-07T17:06:38.201Z"
   },
   {
    "duration": 12,
    "start_time": "2021-07-07T17:06:38.212Z"
   },
   {
    "duration": 11,
    "start_time": "2021-07-07T17:06:38.226Z"
   },
   {
    "duration": 47,
    "start_time": "2021-07-07T17:06:38.239Z"
   },
   {
    "duration": 4,
    "start_time": "2021-07-07T17:06:38.288Z"
   },
   {
    "duration": 13,
    "start_time": "2021-07-07T17:06:38.293Z"
   },
   {
    "duration": 5,
    "start_time": "2021-07-07T17:06:38.309Z"
   },
   {
    "duration": 18,
    "start_time": "2021-07-07T17:06:38.325Z"
   },
   {
    "duration": 20,
    "start_time": "2021-07-07T17:07:02.805Z"
   },
   {
    "duration": 19,
    "start_time": "2021-07-07T17:07:08.527Z"
   },
   {
    "duration": 19,
    "start_time": "2021-07-07T17:07:12.758Z"
   },
   {
    "duration": 22,
    "start_time": "2021-07-07T17:07:17.497Z"
   },
   {
    "duration": 19,
    "start_time": "2021-07-07T17:07:19.645Z"
   },
   {
    "duration": 10,
    "start_time": "2021-07-07T17:07:34.239Z"
   },
   {
    "duration": 17,
    "start_time": "2021-07-07T17:07:54.144Z"
   },
   {
    "duration": 14,
    "start_time": "2021-07-07T17:08:14.357Z"
   },
   {
    "duration": 616,
    "start_time": "2021-07-07T17:08:45.254Z"
   },
   {
    "duration": 178,
    "start_time": "2021-07-07T17:08:45.872Z"
   },
   {
    "duration": 60,
    "start_time": "2021-07-07T17:08:46.054Z"
   },
   {
    "duration": 3,
    "start_time": "2021-07-07T17:08:46.116Z"
   },
   {
    "duration": 26,
    "start_time": "2021-07-07T17:08:46.121Z"
   },
   {
    "duration": 7,
    "start_time": "2021-07-07T17:08:46.149Z"
   },
   {
    "duration": 17,
    "start_time": "2021-07-07T17:08:46.158Z"
   },
   {
    "duration": 14,
    "start_time": "2021-07-07T17:08:46.176Z"
   },
   {
    "duration": 17,
    "start_time": "2021-07-07T17:08:46.193Z"
   },
   {
    "duration": 9,
    "start_time": "2021-07-07T17:08:46.211Z"
   },
   {
    "duration": 21,
    "start_time": "2021-07-07T17:08:46.221Z"
   },
   {
    "duration": 49,
    "start_time": "2021-07-07T17:08:46.244Z"
   },
   {
    "duration": 24,
    "start_time": "2021-07-07T17:08:46.295Z"
   },
   {
    "duration": 22,
    "start_time": "2021-07-07T17:08:46.321Z"
   },
   {
    "duration": 6,
    "start_time": "2021-07-07T17:08:46.345Z"
   },
   {
    "duration": 5,
    "start_time": "2021-07-07T17:08:46.353Z"
   },
   {
    "duration": 13,
    "start_time": "2021-07-07T17:08:46.386Z"
   },
   {
    "duration": 12,
    "start_time": "2021-07-07T17:08:46.402Z"
   },
   {
    "duration": 10,
    "start_time": "2021-07-07T17:08:46.415Z"
   },
   {
    "duration": 7,
    "start_time": "2021-07-07T17:08:46.427Z"
   },
   {
    "duration": 8,
    "start_time": "2021-07-07T17:08:46.435Z"
   },
   {
    "duration": 68,
    "start_time": "2021-07-07T17:08:46.446Z"
   },
   {
    "duration": 13,
    "start_time": "2021-07-07T17:08:46.516Z"
   },
   {
    "duration": 78,
    "start_time": "2021-07-07T17:08:46.530Z"
   },
   {
    "duration": 40,
    "start_time": "2021-07-07T17:09:08.185Z"
   },
   {
    "duration": 16,
    "start_time": "2021-07-07T17:09:19.324Z"
   },
   {
    "duration": 21,
    "start_time": "2021-07-07T17:09:23.290Z"
   },
   {
    "duration": 13,
    "start_time": "2021-07-07T17:09:54.812Z"
   },
   {
    "duration": 13,
    "start_time": "2021-07-07T17:10:02.039Z"
   },
   {
    "duration": 10,
    "start_time": "2021-07-07T17:10:29.632Z"
   },
   {
    "duration": 13,
    "start_time": "2021-07-07T17:10:52.372Z"
   },
   {
    "duration": 13,
    "start_time": "2021-07-07T17:11:17.270Z"
   },
   {
    "duration": 13,
    "start_time": "2021-07-07T17:14:59.284Z"
   },
   {
    "duration": 547,
    "start_time": "2021-07-07T17:18:52.403Z"
   },
   {
    "duration": 163,
    "start_time": "2021-07-07T17:18:52.952Z"
   },
   {
    "duration": 44,
    "start_time": "2021-07-07T17:18:53.117Z"
   },
   {
    "duration": 3,
    "start_time": "2021-07-07T17:18:53.162Z"
   },
   {
    "duration": 26,
    "start_time": "2021-07-07T17:18:53.167Z"
   },
   {
    "duration": 6,
    "start_time": "2021-07-07T17:18:53.195Z"
   },
   {
    "duration": 15,
    "start_time": "2021-07-07T17:18:53.203Z"
   },
   {
    "duration": 5,
    "start_time": "2021-07-07T17:18:53.220Z"
   },
   {
    "duration": 11,
    "start_time": "2021-07-07T17:18:53.228Z"
   },
   {
    "duration": 9,
    "start_time": "2021-07-07T17:18:53.241Z"
   },
   {
    "duration": 41,
    "start_time": "2021-07-07T17:18:53.252Z"
   },
   {
    "duration": 33,
    "start_time": "2021-07-07T17:18:53.295Z"
   },
   {
    "duration": 19,
    "start_time": "2021-07-07T17:18:53.330Z"
   },
   {
    "duration": 49,
    "start_time": "2021-07-07T17:18:53.350Z"
   },
   {
    "duration": 5,
    "start_time": "2021-07-07T17:18:53.401Z"
   },
   {
    "duration": 5,
    "start_time": "2021-07-07T17:18:53.408Z"
   },
   {
    "duration": 11,
    "start_time": "2021-07-07T17:18:53.414Z"
   },
   {
    "duration": 9,
    "start_time": "2021-07-07T17:18:53.427Z"
   },
   {
    "duration": 10,
    "start_time": "2021-07-07T17:18:53.437Z"
   },
   {
    "duration": 39,
    "start_time": "2021-07-07T17:18:53.448Z"
   },
   {
    "duration": 26,
    "start_time": "2021-07-07T17:18:55.799Z"
   },
   {
    "duration": 598,
    "start_time": "2021-07-07T17:20:17.862Z"
   },
   {
    "duration": 161,
    "start_time": "2021-07-07T17:20:18.462Z"
   },
   {
    "duration": 45,
    "start_time": "2021-07-07T17:20:18.626Z"
   },
   {
    "duration": 4,
    "start_time": "2021-07-07T17:20:18.673Z"
   },
   {
    "duration": 38,
    "start_time": "2021-07-07T17:20:26.877Z"
   },
   {
    "duration": 7,
    "start_time": "2021-07-07T17:20:37.405Z"
   },
   {
    "duration": 19,
    "start_time": "2021-07-07T17:20:51.534Z"
   },
   {
    "duration": 5,
    "start_time": "2021-07-07T17:20:57.228Z"
   },
   {
    "duration": 7,
    "start_time": "2021-07-07T17:21:08.235Z"
   },
   {
    "duration": 19,
    "start_time": "2021-07-07T17:21:42.158Z"
   },
   {
    "duration": 14,
    "start_time": "2021-07-07T17:21:50.225Z"
   },
   {
    "duration": 22,
    "start_time": "2021-07-07T17:22:54.104Z"
   },
   {
    "duration": 5,
    "start_time": "2021-07-07T17:22:56.371Z"
   },
   {
    "duration": 14,
    "start_time": "2021-07-07T17:22:58.316Z"
   },
   {
    "duration": 5,
    "start_time": "2021-07-07T17:22:58.493Z"
   },
   {
    "duration": 35,
    "start_time": "2021-07-07T17:22:59.666Z"
   },
   {
    "duration": 6,
    "start_time": "2021-07-07T17:23:02.410Z"
   },
   {
    "duration": 611,
    "start_time": "2021-07-07T17:24:59.664Z"
   },
   {
    "duration": 178,
    "start_time": "2021-07-07T17:25:01.945Z"
   },
   {
    "duration": 47,
    "start_time": "2021-07-07T17:25:02.125Z"
   },
   {
    "duration": 2,
    "start_time": "2021-07-07T17:25:07.903Z"
   },
   {
    "duration": 254,
    "start_time": "2021-07-07T17:25:08.232Z"
   },
   {
    "duration": 182,
    "start_time": "2021-07-07T17:25:08.671Z"
   },
   {
    "duration": 6,
    "start_time": "2021-07-07T17:25:13.104Z"
   },
   {
    "duration": 36,
    "start_time": "2021-07-07T17:25:13.662Z"
   },
   {
    "duration": 7,
    "start_time": "2021-07-07T17:25:14.528Z"
   },
   {
    "duration": 24,
    "start_time": "2021-07-07T17:25:27.982Z"
   },
   {
    "duration": 3,
    "start_time": "2021-07-07T17:25:48.982Z"
   },
   {
    "duration": 165,
    "start_time": "2021-07-07T17:25:48.987Z"
   },
   {
    "duration": 50,
    "start_time": "2021-07-07T17:25:49.154Z"
   },
   {
    "duration": 4,
    "start_time": "2021-07-07T17:25:49.206Z"
   },
   {
    "duration": 26,
    "start_time": "2021-07-07T17:25:49.212Z"
   },
   {
    "duration": 7,
    "start_time": "2021-07-07T17:25:49.240Z"
   },
   {
    "duration": 16,
    "start_time": "2021-07-07T17:25:49.249Z"
   },
   {
    "duration": 22,
    "start_time": "2021-07-07T17:25:49.266Z"
   },
   {
    "duration": 16,
    "start_time": "2021-07-07T17:25:49.291Z"
   },
   {
    "duration": 9,
    "start_time": "2021-07-07T17:25:49.309Z"
   },
   {
    "duration": 7,
    "start_time": "2021-07-07T17:25:49.319Z"
   },
   {
    "duration": 28,
    "start_time": "2021-07-07T17:25:49.328Z"
   },
   {
    "duration": 44,
    "start_time": "2021-07-07T17:25:49.357Z"
   },
   {
    "duration": 22,
    "start_time": "2021-07-07T17:25:49.403Z"
   },
   {
    "duration": 7,
    "start_time": "2021-07-07T17:25:49.427Z"
   },
   {
    "duration": 3,
    "start_time": "2021-07-07T17:25:49.436Z"
   },
   {
    "duration": 44,
    "start_time": "2021-07-07T17:25:49.441Z"
   },
   {
    "duration": 12,
    "start_time": "2021-07-07T17:25:49.488Z"
   },
   {
    "duration": 13,
    "start_time": "2021-07-07T17:25:49.502Z"
   },
   {
    "duration": 10,
    "start_time": "2021-07-07T17:25:49.516Z"
   },
   {
    "duration": 62,
    "start_time": "2021-07-07T17:25:49.527Z"
   },
   {
    "duration": 26,
    "start_time": "2021-07-07T17:26:51.809Z"
   },
   {
    "duration": 26,
    "start_time": "2021-07-07T17:26:55.759Z"
   },
   {
    "duration": 26,
    "start_time": "2021-07-07T17:27:04.501Z"
   },
   {
    "duration": 25,
    "start_time": "2021-07-07T17:28:24.859Z"
   },
   {
    "duration": 21,
    "start_time": "2021-07-07T17:28:55.250Z"
   },
   {
    "duration": 21,
    "start_time": "2021-07-07T17:28:58.885Z"
   },
   {
    "duration": 7,
    "start_time": "2021-07-07T17:45:40.972Z"
   },
   {
    "duration": 13,
    "start_time": "2021-07-07T17:45:42.529Z"
   },
   {
    "duration": 27,
    "start_time": "2021-07-07T17:45:51.026Z"
   },
   {
    "duration": 518,
    "start_time": "2021-07-07T17:46:15.532Z"
   },
   {
    "duration": 235,
    "start_time": "2021-07-07T17:46:16.053Z"
   },
   {
    "duration": 80,
    "start_time": "2021-07-07T17:46:16.292Z"
   },
   {
    "duration": 5,
    "start_time": "2021-07-07T17:46:16.373Z"
   },
   {
    "duration": 26,
    "start_time": "2021-07-07T17:46:16.380Z"
   },
   {
    "duration": 7,
    "start_time": "2021-07-07T17:46:16.408Z"
   },
   {
    "duration": 16,
    "start_time": "2021-07-07T17:46:16.418Z"
   },
   {
    "duration": 5,
    "start_time": "2021-07-07T17:46:16.436Z"
   },
   {
    "duration": 13,
    "start_time": "2021-07-07T17:46:16.442Z"
   },
   {
    "duration": 35,
    "start_time": "2021-07-07T17:46:16.456Z"
   },
   {
    "duration": 8,
    "start_time": "2021-07-07T17:46:16.493Z"
   },
   {
    "duration": 28,
    "start_time": "2021-07-07T17:46:16.502Z"
   },
   {
    "duration": 17,
    "start_time": "2021-07-07T17:46:16.532Z"
   },
   {
    "duration": 44,
    "start_time": "2021-07-07T17:46:16.551Z"
   },
   {
    "duration": 6,
    "start_time": "2021-07-07T17:46:16.597Z"
   },
   {
    "duration": 4,
    "start_time": "2021-07-07T17:46:16.605Z"
   },
   {
    "duration": 9,
    "start_time": "2021-07-07T17:46:16.610Z"
   },
   {
    "duration": 9,
    "start_time": "2021-07-07T17:46:16.621Z"
   },
   {
    "duration": 10,
    "start_time": "2021-07-07T17:46:16.632Z"
   },
   {
    "duration": 43,
    "start_time": "2021-07-07T17:46:16.644Z"
   },
   {
    "duration": 26,
    "start_time": "2021-07-07T17:46:16.689Z"
   },
   {
    "duration": 19,
    "start_time": "2021-07-07T17:46:16.718Z"
   },
   {
    "duration": 8,
    "start_time": "2021-07-07T17:46:16.738Z"
   },
   {
    "duration": 43,
    "start_time": "2021-07-07T17:46:16.747Z"
   },
   {
    "duration": 19,
    "start_time": "2021-07-07T17:46:16.791Z"
   },
   {
    "duration": 9,
    "start_time": "2021-07-07T17:46:16.812Z"
   },
   {
    "duration": 60,
    "start_time": "2021-07-07T17:46:16.822Z"
   },
   {
    "duration": -8,
    "start_time": "2021-07-07T17:46:16.892Z"
   },
   {
    "duration": 12,
    "start_time": "2021-07-07T17:48:47.707Z"
   },
   {
    "duration": 553,
    "start_time": "2021-07-07T18:10:09.350Z"
   },
   {
    "duration": 230,
    "start_time": "2021-07-07T18:10:09.905Z"
   },
   {
    "duration": 97,
    "start_time": "2021-07-07T18:10:10.137Z"
   },
   {
    "duration": 5,
    "start_time": "2021-07-07T18:10:10.236Z"
   },
   {
    "duration": 29,
    "start_time": "2021-07-07T18:10:10.242Z"
   },
   {
    "duration": 7,
    "start_time": "2021-07-07T18:10:10.272Z"
   },
   {
    "duration": 15,
    "start_time": "2021-07-07T18:10:10.281Z"
   },
   {
    "duration": 4,
    "start_time": "2021-07-07T18:10:10.299Z"
   },
   {
    "duration": 14,
    "start_time": "2021-07-07T18:10:10.305Z"
   },
   {
    "duration": 8,
    "start_time": "2021-07-07T18:10:10.321Z"
   },
   {
    "duration": 8,
    "start_time": "2021-07-07T18:10:10.331Z"
   },
   {
    "duration": 56,
    "start_time": "2021-07-07T18:10:10.341Z"
   },
   {
    "duration": 19,
    "start_time": "2021-07-07T18:10:10.399Z"
   },
   {
    "duration": 23,
    "start_time": "2021-07-07T18:10:10.419Z"
   },
   {
    "duration": 6,
    "start_time": "2021-07-07T18:10:10.444Z"
   },
   {
    "duration": 9,
    "start_time": "2021-07-07T18:10:10.451Z"
   },
   {
    "duration": 30,
    "start_time": "2021-07-07T18:10:10.462Z"
   },
   {
    "duration": 9,
    "start_time": "2021-07-07T18:10:10.494Z"
   },
   {
    "duration": 14,
    "start_time": "2021-07-07T18:10:10.505Z"
   },
   {
    "duration": 7,
    "start_time": "2021-07-07T18:10:10.521Z"
   },
   {
    "duration": 26,
    "start_time": "2021-07-07T18:10:10.530Z"
   },
   {
    "duration": 44,
    "start_time": "2021-07-07T18:10:10.558Z"
   },
   {
    "duration": 7,
    "start_time": "2021-07-07T18:10:10.605Z"
   },
   {
    "duration": 11,
    "start_time": "2021-07-07T18:10:10.614Z"
   },
   {
    "duration": 19,
    "start_time": "2021-07-07T18:10:10.626Z"
   },
   {
    "duration": 44,
    "start_time": "2021-07-07T18:10:10.646Z"
   },
   {
    "duration": 516,
    "start_time": "2021-07-07T18:14:00.826Z"
   },
   {
    "duration": 230,
    "start_time": "2021-07-07T18:14:01.344Z"
   },
   {
    "duration": 105,
    "start_time": "2021-07-07T18:14:01.576Z"
   },
   {
    "duration": 5,
    "start_time": "2021-07-07T18:14:01.683Z"
   },
   {
    "duration": 46,
    "start_time": "2021-07-07T18:14:01.690Z"
   },
   {
    "duration": 7,
    "start_time": "2021-07-07T18:14:01.738Z"
   },
   {
    "duration": 20,
    "start_time": "2021-07-07T18:14:01.747Z"
   },
   {
    "duration": 16,
    "start_time": "2021-07-07T18:14:01.769Z"
   },
   {
    "duration": 14,
    "start_time": "2021-07-07T18:14:01.787Z"
   },
   {
    "duration": 15,
    "start_time": "2021-07-07T18:14:01.803Z"
   },
   {
    "duration": 12,
    "start_time": "2021-07-07T18:14:01.820Z"
   },
   {
    "duration": 35,
    "start_time": "2021-07-07T18:14:01.833Z"
   },
   {
    "duration": 31,
    "start_time": "2021-07-07T18:14:01.869Z"
   },
   {
    "duration": 37,
    "start_time": "2021-07-07T18:14:01.902Z"
   },
   {
    "duration": 8,
    "start_time": "2021-07-07T18:14:01.942Z"
   },
   {
    "duration": 16,
    "start_time": "2021-07-07T18:14:01.952Z"
   },
   {
    "duration": 13,
    "start_time": "2021-07-07T18:14:01.970Z"
   },
   {
    "duration": 32,
    "start_time": "2021-07-07T18:14:01.985Z"
   },
   {
    "duration": 11,
    "start_time": "2021-07-07T18:14:02.019Z"
   },
   {
    "duration": 22,
    "start_time": "2021-07-07T18:14:02.031Z"
   },
   {
    "duration": 27,
    "start_time": "2021-07-07T18:14:02.055Z"
   },
   {
    "duration": 18,
    "start_time": "2021-07-07T18:14:02.084Z"
   },
   {
    "duration": 18,
    "start_time": "2021-07-07T18:14:02.106Z"
   },
   {
    "duration": 11,
    "start_time": "2021-07-07T18:14:02.126Z"
   },
   {
    "duration": 21,
    "start_time": "2021-07-07T18:14:02.138Z"
   },
   {
    "duration": 32,
    "start_time": "2021-07-07T18:14:02.161Z"
   },
   {
    "duration": 28,
    "start_time": "2021-07-07T18:14:44.295Z"
   },
   {
    "duration": 6,
    "start_time": "2021-07-07T18:15:05.834Z"
   },
   {
    "duration": 511,
    "start_time": "2021-07-07T18:15:41.541Z"
   },
   {
    "duration": 183,
    "start_time": "2021-07-07T18:15:42.054Z"
   },
   {
    "duration": 50,
    "start_time": "2021-07-07T18:15:42.239Z"
   },
   {
    "duration": 5,
    "start_time": "2021-07-07T18:15:42.291Z"
   },
   {
    "duration": 48,
    "start_time": "2021-07-07T18:15:42.297Z"
   },
   {
    "duration": 8,
    "start_time": "2021-07-07T18:15:42.346Z"
   },
   {
    "duration": 17,
    "start_time": "2021-07-07T18:15:42.356Z"
   },
   {
    "duration": 15,
    "start_time": "2021-07-07T18:15:42.375Z"
   },
   {
    "duration": 12,
    "start_time": "2021-07-07T18:15:42.392Z"
   },
   {
    "duration": 7,
    "start_time": "2021-07-07T18:15:42.406Z"
   },
   {
    "duration": 7,
    "start_time": "2021-07-07T18:15:42.415Z"
   },
   {
    "duration": 29,
    "start_time": "2021-07-07T18:15:42.423Z"
   },
   {
    "duration": 43,
    "start_time": "2021-07-07T18:15:42.453Z"
   },
   {
    "duration": 18,
    "start_time": "2021-07-07T18:15:42.497Z"
   },
   {
    "duration": 6,
    "start_time": "2021-07-07T18:15:42.516Z"
   },
   {
    "duration": 3,
    "start_time": "2021-07-07T18:15:42.523Z"
   },
   {
    "duration": 18,
    "start_time": "2021-07-07T18:15:42.528Z"
   },
   {
    "duration": 10,
    "start_time": "2021-07-07T18:15:42.547Z"
   },
   {
    "duration": 36,
    "start_time": "2021-07-07T18:15:42.559Z"
   },
   {
    "duration": 8,
    "start_time": "2021-07-07T18:15:42.597Z"
   },
   {
    "duration": 28,
    "start_time": "2021-07-07T18:15:42.606Z"
   },
   {
    "duration": 52,
    "start_time": "2021-07-07T18:15:42.635Z"
   },
   {
    "duration": 7,
    "start_time": "2021-07-07T18:15:42.690Z"
   },
   {
    "duration": 10,
    "start_time": "2021-07-07T18:15:42.699Z"
   },
   {
    "duration": 19,
    "start_time": "2021-07-07T18:15:42.711Z"
   },
   {
    "duration": 9,
    "start_time": "2021-07-07T18:15:42.732Z"
   },
   {
    "duration": 5,
    "start_time": "2021-07-07T18:15:42.743Z"
   },
   {
    "duration": 1450,
    "start_time": "2021-07-07T18:15:51.984Z"
   },
   {
    "duration": 161,
    "start_time": "2021-07-07T18:15:53.435Z"
   },
   {
    "duration": 124,
    "start_time": "2021-07-07T18:15:53.598Z"
   },
   {
    "duration": 5,
    "start_time": "2021-07-07T18:15:53.724Z"
   },
   {
    "duration": 34,
    "start_time": "2021-07-07T18:15:53.730Z"
   },
   {
    "duration": 7,
    "start_time": "2021-07-07T18:15:53.765Z"
   },
   {
    "duration": 15,
    "start_time": "2021-07-07T18:15:53.773Z"
   },
   {
    "duration": 5,
    "start_time": "2021-07-07T18:15:53.791Z"
   },
   {
    "duration": 19,
    "start_time": "2021-07-07T18:15:53.798Z"
   },
   {
    "duration": 9,
    "start_time": "2021-07-07T18:15:53.818Z"
   },
   {
    "duration": 19,
    "start_time": "2021-07-07T18:15:53.828Z"
   },
   {
    "duration": 27,
    "start_time": "2021-07-07T18:15:53.848Z"
   },
   {
    "duration": 16,
    "start_time": "2021-07-07T18:15:53.884Z"
   },
   {
    "duration": 29,
    "start_time": "2021-07-07T18:15:53.901Z"
   },
   {
    "duration": 5,
    "start_time": "2021-07-07T18:15:53.932Z"
   },
   {
    "duration": 15,
    "start_time": "2021-07-07T18:15:53.939Z"
   },
   {
    "duration": 13,
    "start_time": "2021-07-07T18:15:53.956Z"
   },
   {
    "duration": 20,
    "start_time": "2021-07-07T18:15:53.971Z"
   },
   {
    "duration": 14,
    "start_time": "2021-07-07T18:15:53.992Z"
   },
   {
    "duration": 9,
    "start_time": "2021-07-07T18:15:54.009Z"
   },
   {
    "duration": 28,
    "start_time": "2021-07-07T18:15:54.020Z"
   },
   {
    "duration": 50,
    "start_time": "2021-07-07T18:15:54.051Z"
   },
   {
    "duration": 8,
    "start_time": "2021-07-07T18:15:54.105Z"
   },
   {
    "duration": 11,
    "start_time": "2021-07-07T18:15:54.115Z"
   },
   {
    "duration": 20,
    "start_time": "2021-07-07T18:15:54.128Z"
   },
   {
    "duration": 13,
    "start_time": "2021-07-07T18:15:54.184Z"
   },
   {
    "duration": 7,
    "start_time": "2021-07-07T18:15:54.199Z"
   },
   {
    "duration": 7,
    "start_time": "2021-07-07T18:17:08.042Z"
   },
   {
    "duration": 8,
    "start_time": "2021-07-07T18:17:21.008Z"
   },
   {
    "duration": 7,
    "start_time": "2021-07-07T18:17:29.003Z"
   },
   {
    "duration": 8,
    "start_time": "2021-07-07T18:17:32.492Z"
   },
   {
    "duration": 9,
    "start_time": "2021-07-07T18:17:41.758Z"
   },
   {
    "duration": 255,
    "start_time": "2021-07-07T18:20:20.897Z"
   },
   {
    "duration": 173,
    "start_time": "2021-07-07T18:20:26.636Z"
   },
   {
    "duration": 7,
    "start_time": "2021-07-07T18:21:47.164Z"
   },
   {
    "duration": 254,
    "start_time": "2021-07-07T18:23:08.703Z"
   },
   {
    "duration": 21,
    "start_time": "2021-07-07T18:23:22.506Z"
   },
   {
    "duration": 315,
    "start_time": "2021-07-07T18:25:54.801Z"
   },
   {
    "duration": 34,
    "start_time": "2021-07-07T18:26:51.817Z"
   },
   {
    "duration": 327,
    "start_time": "2021-07-07T18:26:56.147Z"
   },
   {
    "duration": 342,
    "start_time": "2021-07-07T18:27:15.887Z"
   },
   {
    "duration": 302,
    "start_time": "2021-07-07T18:28:18.569Z"
   },
   {
    "duration": 226,
    "start_time": "2021-07-07T18:29:20.879Z"
   },
   {
    "duration": 207,
    "start_time": "2021-07-07T18:29:58.114Z"
   },
   {
    "duration": 140,
    "start_time": "2021-07-07T18:32:04.372Z"
   },
   {
    "duration": 158,
    "start_time": "2021-07-07T18:32:32.508Z"
   },
   {
    "duration": 145,
    "start_time": "2021-07-07T18:32:41.365Z"
   },
   {
    "duration": 132,
    "start_time": "2021-07-07T18:32:45.199Z"
   },
   {
    "duration": 11,
    "start_time": "2021-07-07T18:35:24.679Z"
   },
   {
    "duration": 268,
    "start_time": "2021-07-07T18:36:16.145Z"
   },
   {
    "duration": 227,
    "start_time": "2021-07-07T18:37:04.918Z"
   },
   {
    "duration": 3,
    "start_time": "2021-07-07T18:37:33.012Z"
   },
   {
    "duration": 671,
    "start_time": "2021-07-07T18:37:38.295Z"
   },
   {
    "duration": 54,
    "start_time": "2021-07-07T18:37:53.406Z"
   },
   {
    "duration": 631,
    "start_time": "2021-07-07T18:37:56.463Z"
   },
   {
    "duration": 19,
    "start_time": "2021-07-07T18:39:40.535Z"
   },
   {
    "duration": 20,
    "start_time": "2021-07-07T18:40:12.236Z"
   },
   {
    "duration": 633,
    "start_time": "2021-07-07T18:42:00.398Z"
   },
   {
    "duration": 218,
    "start_time": "2021-07-07T18:42:01.033Z"
   },
   {
    "duration": 49,
    "start_time": "2021-07-07T18:42:01.253Z"
   },
   {
    "duration": 5,
    "start_time": "2021-07-07T18:42:01.303Z"
   },
   {
    "duration": 27,
    "start_time": "2021-07-07T18:42:01.310Z"
   },
   {
    "duration": 8,
    "start_time": "2021-07-07T18:42:01.339Z"
   },
   {
    "duration": 20,
    "start_time": "2021-07-07T18:42:01.348Z"
   },
   {
    "duration": 6,
    "start_time": "2021-07-07T18:42:01.386Z"
   },
   {
    "duration": 16,
    "start_time": "2021-07-07T18:42:01.394Z"
   },
   {
    "duration": 9,
    "start_time": "2021-07-07T18:42:01.411Z"
   },
   {
    "duration": 11,
    "start_time": "2021-07-07T18:42:01.421Z"
   },
   {
    "duration": 31,
    "start_time": "2021-07-07T18:42:01.434Z"
   },
   {
    "duration": 18,
    "start_time": "2021-07-07T18:42:01.485Z"
   },
   {
    "duration": 23,
    "start_time": "2021-07-07T18:42:01.505Z"
   },
   {
    "duration": 6,
    "start_time": "2021-07-07T18:42:01.530Z"
   },
   {
    "duration": 10,
    "start_time": "2021-07-07T18:42:01.538Z"
   },
   {
    "duration": 13,
    "start_time": "2021-07-07T18:42:01.550Z"
   },
   {
    "duration": 24,
    "start_time": "2021-07-07T18:42:01.564Z"
   },
   {
    "duration": 20,
    "start_time": "2021-07-07T18:42:01.590Z"
   },
   {
    "duration": 8,
    "start_time": "2021-07-07T18:42:01.611Z"
   },
   {
    "duration": 31,
    "start_time": "2021-07-07T18:42:01.620Z"
   },
   {
    "duration": 39,
    "start_time": "2021-07-07T18:42:01.653Z"
   },
   {
    "duration": 8,
    "start_time": "2021-07-07T18:42:01.696Z"
   },
   {
    "duration": 13,
    "start_time": "2021-07-07T18:42:01.705Z"
   },
   {
    "duration": 20,
    "start_time": "2021-07-07T18:42:01.720Z"
   },
   {
    "duration": 12,
    "start_time": "2021-07-07T18:42:01.741Z"
   },
   {
    "duration": 35,
    "start_time": "2021-07-07T18:42:01.755Z"
   },
   {
    "duration": 14,
    "start_time": "2021-07-07T18:42:01.792Z"
   },
   {
    "duration": 188,
    "start_time": "2021-07-07T18:42:01.808Z"
   },
   {
    "duration": 19,
    "start_time": "2021-07-07T18:42:01.998Z"
   },
   {
    "duration": 175,
    "start_time": "2021-07-07T18:42:02.019Z"
   },
   {
    "duration": 134,
    "start_time": "2021-07-07T18:42:02.196Z"
   },
   {
    "duration": 10,
    "start_time": "2021-07-07T18:42:02.331Z"
   },
   {
    "duration": 19,
    "start_time": "2021-07-07T18:42:02.343Z"
   },
   {
    "duration": 628,
    "start_time": "2021-07-07T18:46:30.701Z"
   },
   {
    "duration": 183,
    "start_time": "2021-07-07T18:46:31.331Z"
   },
   {
    "duration": 48,
    "start_time": "2021-07-07T18:46:31.516Z"
   },
   {
    "duration": 5,
    "start_time": "2021-07-07T18:46:31.566Z"
   },
   {
    "duration": 28,
    "start_time": "2021-07-07T18:46:31.572Z"
   },
   {
    "duration": 8,
    "start_time": "2021-07-07T18:46:31.602Z"
   },
   {
    "duration": 19,
    "start_time": "2021-07-07T18:46:31.611Z"
   },
   {
    "duration": 6,
    "start_time": "2021-07-07T18:46:31.633Z"
   },
   {
    "duration": 17,
    "start_time": "2021-07-07T18:46:31.642Z"
   },
   {
    "duration": 10,
    "start_time": "2021-07-07T18:46:31.684Z"
   },
   {
    "duration": 9,
    "start_time": "2021-07-07T18:46:31.695Z"
   },
   {
    "duration": 28,
    "start_time": "2021-07-07T18:46:31.705Z"
   },
   {
    "duration": 18,
    "start_time": "2021-07-07T18:46:31.735Z"
   },
   {
    "duration": 48,
    "start_time": "2021-07-07T18:46:31.755Z"
   },
   {
    "duration": 6,
    "start_time": "2021-07-07T18:46:31.804Z"
   },
   {
    "duration": 4,
    "start_time": "2021-07-07T18:46:31.812Z"
   },
   {
    "duration": 9,
    "start_time": "2021-07-07T18:46:31.817Z"
   },
   {
    "duration": 10,
    "start_time": "2021-07-07T18:46:31.827Z"
   },
   {
    "duration": 12,
    "start_time": "2021-07-07T18:46:31.838Z"
   },
   {
    "duration": 39,
    "start_time": "2021-07-07T18:46:31.851Z"
   },
   {
    "duration": 24,
    "start_time": "2021-07-07T18:46:31.892Z"
   },
   {
    "duration": 15,
    "start_time": "2021-07-07T18:46:31.918Z"
   },
   {
    "duration": 7,
    "start_time": "2021-07-07T18:46:31.936Z"
   },
   {
    "duration": 8,
    "start_time": "2021-07-07T18:46:31.944Z"
   },
   {
    "duration": 19,
    "start_time": "2021-07-07T18:46:31.984Z"
   },
   {
    "duration": 10,
    "start_time": "2021-07-07T18:46:32.004Z"
   },
   {
    "duration": 5,
    "start_time": "2021-07-07T18:46:32.016Z"
   },
   {
    "duration": 9,
    "start_time": "2021-07-07T18:46:32.023Z"
   },
   {
    "duration": 199,
    "start_time": "2021-07-07T18:46:32.033Z"
   },
   {
    "duration": 19,
    "start_time": "2021-07-07T18:46:32.234Z"
   },
   {
    "duration": 159,
    "start_time": "2021-07-07T18:46:32.255Z"
   },
   {
    "duration": 134,
    "start_time": "2021-07-07T18:46:32.416Z"
   },
   {
    "duration": 10,
    "start_time": "2021-07-07T18:46:32.552Z"
   },
   {
    "duration": 34,
    "start_time": "2021-07-07T18:46:32.563Z"
   },
   {
    "duration": 1039,
    "start_time": "2021-07-08T08:41:09.419Z"
   },
   {
    "duration": 333,
    "start_time": "2021-07-08T08:41:10.459Z"
   },
   {
    "duration": 173,
    "start_time": "2021-07-08T08:41:10.794Z"
   },
   {
    "duration": 5,
    "start_time": "2021-07-08T08:41:10.968Z"
   },
   {
    "duration": 25,
    "start_time": "2021-07-08T08:41:10.975Z"
   },
   {
    "duration": 9,
    "start_time": "2021-07-08T08:41:11.002Z"
   },
   {
    "duration": 18,
    "start_time": "2021-07-08T08:41:11.013Z"
   },
   {
    "duration": 6,
    "start_time": "2021-07-08T08:41:11.033Z"
   },
   {
    "duration": 44,
    "start_time": "2021-07-08T08:41:11.042Z"
   },
   {
    "duration": 10,
    "start_time": "2021-07-08T08:41:11.088Z"
   },
   {
    "duration": 9,
    "start_time": "2021-07-08T08:41:11.100Z"
   },
   {
    "duration": 27,
    "start_time": "2021-07-08T08:41:11.111Z"
   },
   {
    "duration": 46,
    "start_time": "2021-07-08T08:41:11.140Z"
   },
   {
    "duration": 17,
    "start_time": "2021-07-08T08:41:11.187Z"
   },
   {
    "duration": 6,
    "start_time": "2021-07-08T08:41:11.206Z"
   },
   {
    "duration": 5,
    "start_time": "2021-07-08T08:41:11.213Z"
   },
   {
    "duration": 10,
    "start_time": "2021-07-08T08:41:11.219Z"
   },
   {
    "duration": 9,
    "start_time": "2021-07-08T08:41:11.230Z"
   },
   {
    "duration": 45,
    "start_time": "2021-07-08T08:41:11.241Z"
   },
   {
    "duration": 7,
    "start_time": "2021-07-08T08:41:11.287Z"
   },
   {
    "duration": 24,
    "start_time": "2021-07-08T08:41:11.296Z"
   },
   {
    "duration": 16,
    "start_time": "2021-07-08T08:41:11.322Z"
   },
   {
    "duration": 7,
    "start_time": "2021-07-08T08:41:11.341Z"
   },
   {
    "duration": 41,
    "start_time": "2021-07-08T08:41:11.349Z"
   },
   {
    "duration": 17,
    "start_time": "2021-07-08T08:41:11.391Z"
   },
   {
    "duration": 9,
    "start_time": "2021-07-08T08:41:11.410Z"
   },
   {
    "duration": 5,
    "start_time": "2021-07-08T08:41:11.421Z"
   },
   {
    "duration": 6,
    "start_time": "2021-07-08T08:41:11.428Z"
   },
   {
    "duration": 198,
    "start_time": "2021-07-08T08:41:11.435Z"
   },
   {
    "duration": 18,
    "start_time": "2021-07-08T08:41:11.635Z"
   },
   {
    "duration": 155,
    "start_time": "2021-07-08T08:41:11.655Z"
   },
   {
    "duration": 138,
    "start_time": "2021-07-08T08:41:11.811Z"
   },
   {
    "duration": 10,
    "start_time": "2021-07-08T08:41:11.950Z"
   },
   {
    "duration": 29,
    "start_time": "2021-07-08T08:41:11.961Z"
   },
   {
    "duration": 171,
    "start_time": "2021-07-08T08:47:44.522Z"
   },
   {
    "duration": 124,
    "start_time": "2021-07-08T08:47:46.872Z"
   },
   {
    "duration": 191,
    "start_time": "2021-07-08T08:47:58.148Z"
   },
   {
    "duration": 191,
    "start_time": "2021-07-08T08:48:07.412Z"
   },
   {
    "duration": 261,
    "start_time": "2021-07-08T08:48:10.385Z"
   },
   {
    "duration": 255,
    "start_time": "2021-07-08T08:48:14.494Z"
   },
   {
    "duration": 219,
    "start_time": "2021-07-08T08:48:22.752Z"
   },
   {
    "duration": 173,
    "start_time": "2021-07-08T08:49:06.395Z"
   },
   {
    "duration": 180,
    "start_time": "2021-07-08T08:49:21.011Z"
   },
   {
    "duration": 6,
    "start_time": "2021-07-08T08:50:31.697Z"
   },
   {
    "duration": 10,
    "start_time": "2021-07-08T08:50:47.394Z"
   },
   {
    "duration": 11,
    "start_time": "2021-07-08T08:53:49.332Z"
   },
   {
    "duration": 171,
    "start_time": "2021-07-08T08:54:28.408Z"
   },
   {
    "duration": 636,
    "start_time": "2021-07-08T09:02:48.385Z"
   },
   {
    "duration": 227,
    "start_time": "2021-07-08T09:02:49.023Z"
   },
   {
    "duration": 104,
    "start_time": "2021-07-08T09:02:49.252Z"
   },
   {
    "duration": 5,
    "start_time": "2021-07-08T09:02:49.358Z"
   },
   {
    "duration": 27,
    "start_time": "2021-07-08T09:02:49.365Z"
   },
   {
    "duration": 8,
    "start_time": "2021-07-08T09:02:49.394Z"
   },
   {
    "duration": 18,
    "start_time": "2021-07-08T09:02:49.404Z"
   },
   {
    "duration": 6,
    "start_time": "2021-07-08T09:02:49.424Z"
   },
   {
    "duration": 11,
    "start_time": "2021-07-08T09:02:49.433Z"
   },
   {
    "duration": 13,
    "start_time": "2021-07-08T09:02:49.485Z"
   },
   {
    "duration": 9,
    "start_time": "2021-07-08T09:02:49.500Z"
   },
   {
    "duration": 38,
    "start_time": "2021-07-08T09:02:49.511Z"
   },
   {
    "duration": 42,
    "start_time": "2021-07-08T09:02:49.551Z"
   },
   {
    "duration": 21,
    "start_time": "2021-07-08T09:02:49.594Z"
   },
   {
    "duration": 6,
    "start_time": "2021-07-08T09:02:49.616Z"
   },
   {
    "duration": 3,
    "start_time": "2021-07-08T09:02:49.623Z"
   },
   {
    "duration": 9,
    "start_time": "2021-07-08T09:02:49.628Z"
   },
   {
    "duration": 52,
    "start_time": "2021-07-08T09:02:49.638Z"
   },
   {
    "duration": 11,
    "start_time": "2021-07-08T09:02:49.692Z"
   },
   {
    "duration": 8,
    "start_time": "2021-07-08T09:02:49.704Z"
   },
   {
    "duration": 27,
    "start_time": "2021-07-08T09:02:49.713Z"
   },
   {
    "duration": 59,
    "start_time": "2021-07-08T09:02:49.741Z"
   },
   {
    "duration": 8,
    "start_time": "2021-07-08T09:02:49.803Z"
   },
   {
    "duration": 14,
    "start_time": "2021-07-08T09:02:49.813Z"
   },
   {
    "duration": 20,
    "start_time": "2021-07-08T09:02:49.829Z"
   },
   {
    "duration": 44,
    "start_time": "2021-07-08T09:02:49.851Z"
   },
   {
    "duration": 14,
    "start_time": "2021-07-08T09:02:49.896Z"
   },
   {
    "duration": 221,
    "start_time": "2021-07-08T09:02:49.912Z"
   },
   {
    "duration": 6,
    "start_time": "2021-07-08T09:02:50.134Z"
   },
   {
    "duration": 206,
    "start_time": "2021-07-08T09:02:50.142Z"
   },
   {
    "duration": 19,
    "start_time": "2021-07-08T09:02:50.350Z"
   },
   {
    "duration": 21,
    "start_time": "2021-07-08T09:02:50.370Z"
   },
   {
    "duration": 20,
    "start_time": "2021-07-08T09:02:50.393Z"
   },
   {
    "duration": 5,
    "start_time": "2021-07-08T09:02:50.414Z"
   },
   {
    "duration": 5,
    "start_time": "2021-07-08T09:03:34.173Z"
   },
   {
    "duration": 6,
    "start_time": "2021-07-08T09:04:49.062Z"
   },
   {
    "duration": 9,
    "start_time": "2021-07-08T09:04:50.118Z"
   },
   {
    "duration": 14,
    "start_time": "2021-07-08T09:04:58.512Z"
   },
   {
    "duration": 9,
    "start_time": "2021-07-08T09:05:10.988Z"
   },
   {
    "duration": 11,
    "start_time": "2021-07-08T09:05:11.743Z"
   },
   {
    "duration": 7,
    "start_time": "2021-07-08T09:05:25.677Z"
   },
   {
    "duration": 13,
    "start_time": "2021-07-08T09:05:47.189Z"
   },
   {
    "duration": 13,
    "start_time": "2021-07-08T09:05:54.755Z"
   },
   {
    "duration": 4,
    "start_time": "2021-07-08T09:06:29.189Z"
   },
   {
    "duration": 244,
    "start_time": "2021-07-08T09:06:29.195Z"
   },
   {
    "duration": 91,
    "start_time": "2021-07-08T09:06:29.441Z"
   },
   {
    "duration": 4,
    "start_time": "2021-07-08T09:06:29.534Z"
   },
   {
    "duration": 28,
    "start_time": "2021-07-08T09:06:29.540Z"
   },
   {
    "duration": 6,
    "start_time": "2021-07-08T09:06:29.570Z"
   },
   {
    "duration": 18,
    "start_time": "2021-07-08T09:06:29.578Z"
   },
   {
    "duration": 5,
    "start_time": "2021-07-08T09:06:29.597Z"
   },
   {
    "duration": 13,
    "start_time": "2021-07-08T09:06:29.605Z"
   },
   {
    "duration": 8,
    "start_time": "2021-07-08T09:06:29.620Z"
   },
   {
    "duration": 7,
    "start_time": "2021-07-08T09:06:29.630Z"
   },
   {
    "duration": 63,
    "start_time": "2021-07-08T09:06:29.639Z"
   },
   {
    "duration": 17,
    "start_time": "2021-07-08T09:06:29.704Z"
   },
   {
    "duration": 20,
    "start_time": "2021-07-08T09:06:29.723Z"
   },
   {
    "duration": 6,
    "start_time": "2021-07-08T09:06:29.745Z"
   },
   {
    "duration": 3,
    "start_time": "2021-07-08T09:06:29.752Z"
   },
   {
    "duration": 7,
    "start_time": "2021-07-08T09:06:29.785Z"
   },
   {
    "duration": 11,
    "start_time": "2021-07-08T09:06:29.794Z"
   },
   {
    "duration": 15,
    "start_time": "2021-07-08T09:06:29.807Z"
   },
   {
    "duration": 8,
    "start_time": "2021-07-08T09:06:29.823Z"
   },
   {
    "duration": 70,
    "start_time": "2021-07-08T09:06:29.832Z"
   },
   {
    "duration": 17,
    "start_time": "2021-07-08T09:06:29.903Z"
   },
   {
    "duration": 9,
    "start_time": "2021-07-08T09:06:29.921Z"
   },
   {
    "duration": 9,
    "start_time": "2021-07-08T09:06:29.932Z"
   },
   {
    "duration": 57,
    "start_time": "2021-07-08T09:06:29.942Z"
   },
   {
    "duration": 11,
    "start_time": "2021-07-08T09:06:30.001Z"
   },
   {
    "duration": 19,
    "start_time": "2021-07-08T09:06:30.016Z"
   },
   {
    "duration": 217,
    "start_time": "2021-07-08T09:06:30.037Z"
   },
   {
    "duration": 6,
    "start_time": "2021-07-08T09:06:30.255Z"
   },
   {
    "duration": 205,
    "start_time": "2021-07-08T09:06:30.263Z"
   },
   {
    "duration": 27,
    "start_time": "2021-07-08T09:06:30.470Z"
   },
   {
    "duration": 11,
    "start_time": "2021-07-08T09:06:30.500Z"
   },
   {
    "duration": 31,
    "start_time": "2021-07-08T09:06:30.513Z"
   },
   {
    "duration": 18,
    "start_time": "2021-07-08T09:06:30.546Z"
   },
   {
    "duration": 11,
    "start_time": "2021-07-08T09:06:30.566Z"
   },
   {
    "duration": 19,
    "start_time": "2021-07-08T09:06:30.579Z"
   },
   {
    "duration": 20,
    "start_time": "2021-07-08T09:06:49.466Z"
   },
   {
    "duration": 9,
    "start_time": "2021-07-08T09:06:51.994Z"
   },
   {
    "duration": 20,
    "start_time": "2021-07-08T09:06:52.273Z"
   },
   {
    "duration": 246,
    "start_time": "2021-07-08T09:10:21.272Z"
   },
   {
    "duration": 84,
    "start_time": "2021-07-08T09:10:21.436Z"
   },
   {
    "duration": 7,
    "start_time": "2021-07-08T09:10:37.608Z"
   },
   {
    "duration": 189,
    "start_time": "2021-07-08T09:10:38.573Z"
   },
   {
    "duration": 185,
    "start_time": "2021-07-08T09:10:53.181Z"
   },
   {
    "duration": 11,
    "start_time": "2021-07-08T09:10:59.549Z"
   },
   {
    "duration": 42,
    "start_time": "2021-07-08T09:10:59.709Z"
   },
   {
    "duration": 12,
    "start_time": "2021-07-08T09:11:02.857Z"
   },
   {
    "duration": 28,
    "start_time": "2021-07-08T09:11:10.062Z"
   },
   {
    "duration": 249,
    "start_time": "2021-07-08T09:11:37.388Z"
   },
   {
    "duration": 232,
    "start_time": "2021-07-08T09:11:49.485Z"
   },
   {
    "duration": 453,
    "start_time": "2021-07-08T09:12:01.546Z"
   },
   {
    "duration": 440,
    "start_time": "2021-07-08T09:12:12.347Z"
   },
   {
    "duration": 213,
    "start_time": "2021-07-08T09:13:32.196Z"
   },
   {
    "duration": 172,
    "start_time": "2021-07-08T09:14:07.400Z"
   },
   {
    "duration": 185,
    "start_time": "2021-07-08T09:14:14.905Z"
   },
   {
    "duration": 209,
    "start_time": "2021-07-08T09:14:40.109Z"
   },
   {
    "duration": 201,
    "start_time": "2021-07-08T09:14:54.506Z"
   },
   {
    "duration": 622,
    "start_time": "2021-07-08T09:18:14.497Z"
   },
   {
    "duration": 220,
    "start_time": "2021-07-08T09:18:15.121Z"
   },
   {
    "duration": 79,
    "start_time": "2021-07-08T09:18:15.343Z"
   },
   {
    "duration": 4,
    "start_time": "2021-07-08T09:18:15.425Z"
   },
   {
    "duration": 24,
    "start_time": "2021-07-08T09:18:15.431Z"
   },
   {
    "duration": 8,
    "start_time": "2021-07-08T09:18:15.457Z"
   },
   {
    "duration": 16,
    "start_time": "2021-07-08T09:18:15.466Z"
   },
   {
    "duration": 5,
    "start_time": "2021-07-08T09:18:15.484Z"
   },
   {
    "duration": 10,
    "start_time": "2021-07-08T09:18:15.493Z"
   },
   {
    "duration": 8,
    "start_time": "2021-07-08T09:18:15.504Z"
   },
   {
    "duration": 7,
    "start_time": "2021-07-08T09:18:15.513Z"
   },
   {
    "duration": 26,
    "start_time": "2021-07-08T09:18:15.522Z"
   },
   {
    "duration": 49,
    "start_time": "2021-07-08T09:18:15.550Z"
   },
   {
    "duration": 21,
    "start_time": "2021-07-08T09:18:15.601Z"
   },
   {
    "duration": 8,
    "start_time": "2021-07-08T09:18:15.624Z"
   },
   {
    "duration": 3,
    "start_time": "2021-07-08T09:18:15.634Z"
   },
   {
    "duration": 8,
    "start_time": "2021-07-08T09:18:15.639Z"
   },
   {
    "duration": 45,
    "start_time": "2021-07-08T09:18:15.649Z"
   },
   {
    "duration": 13,
    "start_time": "2021-07-08T09:18:15.696Z"
   },
   {
    "duration": 10,
    "start_time": "2021-07-08T09:18:15.711Z"
   },
   {
    "duration": 64,
    "start_time": "2021-07-08T09:18:15.722Z"
   },
   {
    "duration": 19,
    "start_time": "2021-07-08T09:18:15.788Z"
   },
   {
    "duration": 9,
    "start_time": "2021-07-08T09:18:15.809Z"
   },
   {
    "duration": 9,
    "start_time": "2021-07-08T09:18:15.820Z"
   },
   {
    "duration": 18,
    "start_time": "2021-07-08T09:18:15.831Z"
   },
   {
    "duration": 43,
    "start_time": "2021-07-08T09:18:15.851Z"
   },
   {
    "duration": 12,
    "start_time": "2021-07-08T09:18:15.897Z"
   },
   {
    "duration": 219,
    "start_time": "2021-07-08T09:18:15.911Z"
   },
   {
    "duration": 8,
    "start_time": "2021-07-08T09:18:16.132Z"
   },
   {
    "duration": 199,
    "start_time": "2021-07-08T09:18:16.141Z"
   },
   {
    "duration": 18,
    "start_time": "2021-07-08T09:18:16.341Z"
   },
   {
    "duration": 24,
    "start_time": "2021-07-08T09:18:16.361Z"
   },
   {
    "duration": 24,
    "start_time": "2021-07-08T09:18:16.387Z"
   },
   {
    "duration": 211,
    "start_time": "2021-07-08T09:18:16.413Z"
   },
   {
    "duration": 18,
    "start_time": "2021-07-08T09:18:16.626Z"
   },
   {
    "duration": 596,
    "start_time": "2021-07-08T10:06:33.623Z"
   },
   {
    "duration": 181,
    "start_time": "2021-07-08T10:06:34.221Z"
   },
   {
    "duration": 176,
    "start_time": "2021-07-08T10:06:34.635Z"
   },
   {
    "duration": 239,
    "start_time": "2021-07-08T10:06:55.572Z"
   },
   {
    "duration": 6,
    "start_time": "2021-07-08T10:06:57.687Z"
   },
   {
    "duration": 4,
    "start_time": "2021-07-08T10:07:03.956Z"
   },
   {
    "duration": 4,
    "start_time": "2021-07-08T10:07:10.376Z"
   },
   {
    "duration": 4,
    "start_time": "2021-07-08T10:17:19.889Z"
   },
   {
    "duration": 3,
    "start_time": "2021-07-08T10:19:19.407Z"
   },
   {
    "duration": 197,
    "start_time": "2021-07-08T10:19:19.412Z"
   },
   {
    "duration": 127,
    "start_time": "2021-07-08T10:19:19.611Z"
   },
   {
    "duration": 4,
    "start_time": "2021-07-08T10:19:19.740Z"
   },
   {
    "duration": 27,
    "start_time": "2021-07-08T10:19:19.746Z"
   },
   {
    "duration": 7,
    "start_time": "2021-07-08T10:19:19.775Z"
   },
   {
    "duration": 30,
    "start_time": "2021-07-08T10:19:19.784Z"
   },
   {
    "duration": 7,
    "start_time": "2021-07-08T10:19:19.817Z"
   },
   {
    "duration": 26,
    "start_time": "2021-07-08T10:19:19.826Z"
   },
   {
    "duration": 18,
    "start_time": "2021-07-08T10:19:19.854Z"
   },
   {
    "duration": 14,
    "start_time": "2021-07-08T10:19:19.874Z"
   },
   {
    "duration": 48,
    "start_time": "2021-07-08T10:19:19.890Z"
   },
   {
    "duration": 17,
    "start_time": "2021-07-08T10:19:19.940Z"
   },
   {
    "duration": 38,
    "start_time": "2021-07-08T10:19:19.959Z"
   },
   {
    "duration": 8,
    "start_time": "2021-07-08T10:19:19.999Z"
   },
   {
    "duration": 15,
    "start_time": "2021-07-08T10:19:20.009Z"
   },
   {
    "duration": 22,
    "start_time": "2021-07-08T10:19:20.026Z"
   },
   {
    "duration": 10,
    "start_time": "2021-07-08T10:19:20.050Z"
   },
   {
    "duration": 10,
    "start_time": "2021-07-08T10:19:20.062Z"
   },
   {
    "duration": 20,
    "start_time": "2021-07-08T10:19:20.073Z"
   },
   {
    "duration": 29,
    "start_time": "2021-07-08T10:19:20.095Z"
   },
   {
    "duration": 17,
    "start_time": "2021-07-08T10:19:20.126Z"
   },
   {
    "duration": 40,
    "start_time": "2021-07-08T10:19:20.146Z"
   },
   {
    "duration": 15,
    "start_time": "2021-07-08T10:19:20.189Z"
   },
   {
    "duration": 19,
    "start_time": "2021-07-08T10:19:20.206Z"
   },
   {
    "duration": 10,
    "start_time": "2021-07-08T10:19:20.226Z"
   },
   {
    "duration": 11,
    "start_time": "2021-07-08T10:19:20.238Z"
   },
   {
    "duration": 297,
    "start_time": "2021-07-08T10:19:20.250Z"
   },
   {
    "duration": 6,
    "start_time": "2021-07-08T10:19:20.549Z"
   },
   {
    "duration": 191,
    "start_time": "2021-07-08T10:19:20.557Z"
   },
   {
    "duration": 19,
    "start_time": "2021-07-08T10:19:20.750Z"
   },
   {
    "duration": 20,
    "start_time": "2021-07-08T10:19:20.771Z"
   },
   {
    "duration": 15,
    "start_time": "2021-07-08T10:19:20.793Z"
   },
   {
    "duration": 222,
    "start_time": "2021-07-08T10:19:20.809Z"
   },
   {
    "duration": 20,
    "start_time": "2021-07-08T10:19:21.033Z"
   },
   {
    "duration": 27,
    "start_time": "2021-07-08T10:45:04.055Z"
   },
   {
    "duration": 8,
    "start_time": "2021-07-08T10:45:08.478Z"
   },
   {
    "duration": 8,
    "start_time": "2021-07-08T10:45:31.982Z"
   },
   {
    "duration": 10,
    "start_time": "2021-07-08T10:46:01.221Z"
   },
   {
    "duration": 17,
    "start_time": "2021-07-08T10:46:40.011Z"
   },
   {
    "duration": 193,
    "start_time": "2021-07-08T10:48:19.471Z"
   },
   {
    "duration": 225,
    "start_time": "2021-07-08T10:49:26.480Z"
   },
   {
    "duration": 204,
    "start_time": "2021-07-08T10:49:59.992Z"
   },
   {
    "duration": 435,
    "start_time": "2021-07-08T10:50:06.779Z"
   },
   {
    "duration": 199,
    "start_time": "2021-07-08T10:50:14.891Z"
   },
   {
    "duration": 204,
    "start_time": "2021-07-08T10:50:18.501Z"
   },
   {
    "duration": 244,
    "start_time": "2021-07-08T10:50:23.359Z"
   },
   {
    "duration": 192,
    "start_time": "2021-07-08T10:50:29.135Z"
   },
   {
    "duration": 218,
    "start_time": "2021-07-08T10:50:33.092Z"
   },
   {
    "duration": 207,
    "start_time": "2021-07-08T10:52:45.381Z"
   },
   {
    "duration": 5,
    "start_time": "2021-07-08T10:53:34.641Z"
   },
   {
    "duration": 196,
    "start_time": "2021-07-08T10:53:41.478Z"
   },
   {
    "duration": 43,
    "start_time": "2021-07-08T10:53:50.335Z"
   },
   {
    "duration": 32,
    "start_time": "2021-07-08T10:53:55.294Z"
   },
   {
    "duration": 55,
    "start_time": "2021-07-08T10:54:09.675Z"
   },
   {
    "duration": 16,
    "start_time": "2021-07-08T10:54:12.260Z"
   },
   {
    "duration": 15,
    "start_time": "2021-07-08T10:54:49.150Z"
   },
   {
    "duration": 20,
    "start_time": "2021-07-08T10:56:07.596Z"
   },
   {
    "duration": 16,
    "start_time": "2021-07-08T10:58:26.276Z"
   },
   {
    "duration": 22,
    "start_time": "2021-07-08T10:59:00.486Z"
   },
   {
    "duration": 18,
    "start_time": "2021-07-08T11:02:09.653Z"
   },
   {
    "duration": 10,
    "start_time": "2021-07-08T11:03:44.331Z"
   },
   {
    "duration": 10,
    "start_time": "2021-07-08T11:03:54.055Z"
   },
   {
    "duration": 12,
    "start_time": "2021-07-08T11:04:41.967Z"
   },
   {
    "duration": 24,
    "start_time": "2021-07-08T11:07:30.732Z"
   },
   {
    "duration": 6,
    "start_time": "2021-07-08T11:07:37.364Z"
   },
   {
    "duration": 16,
    "start_time": "2021-07-08T11:08:01.819Z"
   },
   {
    "duration": 17,
    "start_time": "2021-07-08T11:09:47.488Z"
   },
   {
    "duration": 246,
    "start_time": "2021-07-08T11:10:00.830Z"
   },
   {
    "duration": 18,
    "start_time": "2021-07-08T11:13:55.195Z"
   },
   {
    "duration": 204,
    "start_time": "2021-07-08T11:14:04.951Z"
   },
   {
    "duration": 19,
    "start_time": "2021-07-08T11:15:10.613Z"
   },
   {
    "duration": 680,
    "start_time": "2021-07-08T11:16:25.793Z"
   },
   {
    "duration": 451,
    "start_time": "2021-07-08T11:16:40.313Z"
   },
   {
    "duration": 469,
    "start_time": "2021-07-08T11:17:21.286Z"
   },
   {
    "duration": 20,
    "start_time": "2021-07-08T11:19:12.554Z"
   },
   {
    "duration": 35,
    "start_time": "2021-07-08T11:20:05.484Z"
   },
   {
    "duration": 53,
    "start_time": "2021-07-08T11:21:40.050Z"
   },
   {
    "duration": 13,
    "start_time": "2021-07-08T11:22:26.059Z"
   },
   {
    "duration": 19,
    "start_time": "2021-07-08T11:22:47.419Z"
   },
   {
    "duration": 25,
    "start_time": "2021-07-08T11:23:19.958Z"
   },
   {
    "duration": 29,
    "start_time": "2021-07-08T11:23:25.415Z"
   },
   {
    "duration": 10,
    "start_time": "2021-07-08T11:24:45.138Z"
   },
   {
    "duration": 19,
    "start_time": "2021-07-08T11:24:54.498Z"
   },
   {
    "duration": 12,
    "start_time": "2021-07-08T11:25:32.225Z"
   },
   {
    "duration": 19,
    "start_time": "2021-07-08T11:25:37.092Z"
   },
   {
    "duration": 17,
    "start_time": "2021-07-08T11:25:58.116Z"
   },
   {
    "duration": 15,
    "start_time": "2021-07-08T11:26:02.258Z"
   },
   {
    "duration": 8,
    "start_time": "2021-07-08T11:26:59.682Z"
   },
   {
    "duration": 184,
    "start_time": "2021-07-08T11:27:21.894Z"
   },
   {
    "duration": 8,
    "start_time": "2021-07-08T11:27:23.824Z"
   },
   {
    "duration": 202,
    "start_time": "2021-07-08T11:27:23.962Z"
   },
   {
    "duration": 360,
    "start_time": "2021-07-08T11:28:33.215Z"
   },
   {
    "duration": 231,
    "start_time": "2021-07-08T11:32:05.542Z"
   },
   {
    "duration": 607,
    "start_time": "2021-07-08T11:36:27.854Z"
   },
   {
    "duration": 241,
    "start_time": "2021-07-08T11:36:28.463Z"
   },
   {
    "duration": 67,
    "start_time": "2021-07-08T11:36:28.709Z"
   },
   {
    "duration": 5,
    "start_time": "2021-07-08T11:36:28.778Z"
   },
   {
    "duration": 32,
    "start_time": "2021-07-08T11:36:28.784Z"
   },
   {
    "duration": 11,
    "start_time": "2021-07-08T11:36:28.819Z"
   },
   {
    "duration": 20,
    "start_time": "2021-07-08T11:36:28.834Z"
   },
   {
    "duration": 36,
    "start_time": "2021-07-08T11:36:28.857Z"
   },
   {
    "duration": 16,
    "start_time": "2021-07-08T11:36:28.895Z"
   },
   {
    "duration": 14,
    "start_time": "2021-07-08T11:36:28.913Z"
   },
   {
    "duration": 9,
    "start_time": "2021-07-08T11:36:28.930Z"
   },
   {
    "duration": 55,
    "start_time": "2021-07-08T11:36:28.941Z"
   },
   {
    "duration": 27,
    "start_time": "2021-07-08T11:36:28.999Z"
   },
   {
    "duration": 30,
    "start_time": "2021-07-08T11:36:29.028Z"
   },
   {
    "duration": 31,
    "start_time": "2021-07-08T11:36:29.060Z"
   },
   {
    "duration": 3,
    "start_time": "2021-07-08T11:36:29.093Z"
   },
   {
    "duration": 12,
    "start_time": "2021-07-08T11:36:29.099Z"
   },
   {
    "duration": 11,
    "start_time": "2021-07-08T11:36:29.112Z"
   },
   {
    "duration": 12,
    "start_time": "2021-07-08T11:36:29.125Z"
   },
   {
    "duration": 9,
    "start_time": "2021-07-08T11:36:29.139Z"
   },
   {
    "duration": 31,
    "start_time": "2021-07-08T11:36:29.191Z"
   },
   {
    "duration": 17,
    "start_time": "2021-07-08T11:36:29.226Z"
   },
   {
    "duration": 7,
    "start_time": "2021-07-08T11:36:29.245Z"
   },
   {
    "duration": 10,
    "start_time": "2021-07-08T11:36:29.254Z"
   },
   {
    "duration": 30,
    "start_time": "2021-07-08T11:36:29.292Z"
   },
   {
    "duration": 11,
    "start_time": "2021-07-08T11:36:29.324Z"
   },
   {
    "duration": 11,
    "start_time": "2021-07-08T11:36:29.337Z"
   },
   {
    "duration": 230,
    "start_time": "2021-07-08T11:36:29.349Z"
   },
   {
    "duration": 13,
    "start_time": "2021-07-08T11:36:29.588Z"
   },
   {
    "duration": 205,
    "start_time": "2021-07-08T11:36:29.603Z"
   },
   {
    "duration": 20,
    "start_time": "2021-07-08T11:36:29.810Z"
   },
   {
    "duration": 9,
    "start_time": "2021-07-08T11:36:29.832Z"
   },
   {
    "duration": 16,
    "start_time": "2021-07-08T11:36:29.843Z"
   },
   {
    "duration": 283,
    "start_time": "2021-07-08T11:36:29.861Z"
   },
   {
    "duration": 50,
    "start_time": "2021-07-08T11:36:30.146Z"
   },
   {
    "duration": 14,
    "start_time": "2021-07-08T11:36:30.198Z"
   },
   {
    "duration": 11,
    "start_time": "2021-07-08T11:36:30.214Z"
   },
   {
    "duration": 245,
    "start_time": "2021-07-08T11:36:30.227Z"
   },
   {
    "duration": 439,
    "start_time": "2021-07-08T11:36:30.474Z"
   },
   {
    "duration": 210,
    "start_time": "2021-07-08T11:36:30.915Z"
   },
   {
    "duration": 15,
    "start_time": "2021-07-08T11:36:31.127Z"
   },
   {
    "duration": 17,
    "start_time": "2021-07-08T11:38:20.451Z"
   },
   {
    "duration": 642,
    "start_time": "2021-07-08T11:46:17.881Z"
   },
   {
    "duration": 210,
    "start_time": "2021-07-08T11:46:18.525Z"
   },
   {
    "duration": 104,
    "start_time": "2021-07-08T11:46:18.741Z"
   },
   {
    "duration": 8,
    "start_time": "2021-07-08T11:46:18.847Z"
   },
   {
    "duration": 25,
    "start_time": "2021-07-08T11:46:18.857Z"
   },
   {
    "duration": 14,
    "start_time": "2021-07-08T11:46:18.884Z"
   },
   {
    "duration": 22,
    "start_time": "2021-07-08T11:46:18.900Z"
   },
   {
    "duration": 5,
    "start_time": "2021-07-08T11:46:18.924Z"
   },
   {
    "duration": 13,
    "start_time": "2021-07-08T11:46:18.931Z"
   },
   {
    "duration": 45,
    "start_time": "2021-07-08T11:46:18.946Z"
   },
   {
    "duration": 12,
    "start_time": "2021-07-08T11:46:18.993Z"
   },
   {
    "duration": 38,
    "start_time": "2021-07-08T11:46:19.006Z"
   },
   {
    "duration": 50,
    "start_time": "2021-07-08T11:46:19.046Z"
   },
   {
    "duration": 29,
    "start_time": "2021-07-08T11:46:19.099Z"
   },
   {
    "duration": 7,
    "start_time": "2021-07-08T11:46:19.130Z"
   },
   {
    "duration": 3,
    "start_time": "2021-07-08T11:46:19.139Z"
   },
   {
    "duration": 11,
    "start_time": "2021-07-08T11:46:19.144Z"
   },
   {
    "duration": 40,
    "start_time": "2021-07-08T11:46:19.157Z"
   },
   {
    "duration": 15,
    "start_time": "2021-07-08T11:46:19.199Z"
   },
   {
    "duration": 10,
    "start_time": "2021-07-08T11:46:19.217Z"
   },
   {
    "duration": 68,
    "start_time": "2021-07-08T11:46:19.230Z"
   },
   {
    "duration": 17,
    "start_time": "2021-07-08T11:46:19.301Z"
   },
   {
    "duration": 7,
    "start_time": "2021-07-08T11:46:19.321Z"
   },
   {
    "duration": 11,
    "start_time": "2021-07-08T11:46:19.330Z"
   },
   {
    "duration": 59,
    "start_time": "2021-07-08T11:46:19.343Z"
   },
   {
    "duration": 17,
    "start_time": "2021-07-08T11:46:19.405Z"
   },
   {
    "duration": 16,
    "start_time": "2021-07-08T11:46:19.424Z"
   },
   {
    "duration": 252,
    "start_time": "2021-07-08T11:46:19.443Z"
   },
   {
    "duration": 9,
    "start_time": "2021-07-08T11:46:19.697Z"
   },
   {
    "duration": 224,
    "start_time": "2021-07-08T11:46:19.708Z"
   },
   {
    "duration": 21,
    "start_time": "2021-07-08T11:46:19.934Z"
   },
   {
    "duration": 9,
    "start_time": "2021-07-08T11:46:19.956Z"
   },
   {
    "duration": 32,
    "start_time": "2021-07-08T11:46:19.967Z"
   },
   {
    "duration": 288,
    "start_time": "2021-07-08T11:46:20.004Z"
   },
   {
    "duration": 23,
    "start_time": "2021-07-08T11:46:20.300Z"
   },
   {
    "duration": 11,
    "start_time": "2021-07-08T11:46:20.325Z"
   },
   {
    "duration": 11,
    "start_time": "2021-07-08T11:46:20.339Z"
   },
   {
    "duration": 259,
    "start_time": "2021-07-08T11:46:20.352Z"
   },
   {
    "duration": 438,
    "start_time": "2021-07-08T11:46:20.613Z"
   },
   {
    "duration": 207,
    "start_time": "2021-07-08T11:46:21.054Z"
   },
   {
    "duration": 27,
    "start_time": "2021-07-08T11:46:21.262Z"
   },
   {
    "duration": 19,
    "start_time": "2021-07-08T11:46:21.291Z"
   },
   {
    "duration": 820,
    "start_time": "2021-07-08T11:49:01.655Z"
   },
   {
    "duration": 372,
    "start_time": "2021-07-08T11:49:02.478Z"
   },
   {
    "duration": 98,
    "start_time": "2021-07-08T11:49:02.853Z"
   },
   {
    "duration": 6,
    "start_time": "2021-07-08T11:49:02.953Z"
   },
   {
    "duration": 39,
    "start_time": "2021-07-08T11:49:02.960Z"
   },
   {
    "duration": 9,
    "start_time": "2021-07-08T11:49:03.003Z"
   },
   {
    "duration": 23,
    "start_time": "2021-07-08T11:49:03.014Z"
   },
   {
    "duration": 6,
    "start_time": "2021-07-08T11:49:03.041Z"
   },
   {
    "duration": 20,
    "start_time": "2021-07-08T11:49:03.049Z"
   },
   {
    "duration": 18,
    "start_time": "2021-07-08T11:49:03.084Z"
   },
   {
    "duration": 14,
    "start_time": "2021-07-08T11:49:03.104Z"
   },
   {
    "duration": 39,
    "start_time": "2021-07-08T11:49:03.119Z"
   },
   {
    "duration": 38,
    "start_time": "2021-07-08T11:49:03.160Z"
   },
   {
    "duration": 26,
    "start_time": "2021-07-08T11:49:03.200Z"
   },
   {
    "duration": 7,
    "start_time": "2021-07-08T11:49:03.227Z"
   },
   {
    "duration": 4,
    "start_time": "2021-07-08T11:49:03.236Z"
   },
   {
    "duration": 15,
    "start_time": "2021-07-08T11:49:03.243Z"
   },
   {
    "duration": 21,
    "start_time": "2021-07-08T11:49:03.285Z"
   },
   {
    "duration": 17,
    "start_time": "2021-07-08T11:49:03.309Z"
   },
   {
    "duration": 10,
    "start_time": "2021-07-08T11:49:03.328Z"
   },
   {
    "duration": 65,
    "start_time": "2021-07-08T11:49:03.340Z"
   },
   {
    "duration": 18,
    "start_time": "2021-07-08T11:49:03.407Z"
   },
   {
    "duration": 8,
    "start_time": "2021-07-08T11:49:03.428Z"
   },
   {
    "duration": 15,
    "start_time": "2021-07-08T11:49:03.438Z"
   },
   {
    "duration": 40,
    "start_time": "2021-07-08T11:49:03.455Z"
   },
   {
    "duration": 12,
    "start_time": "2021-07-08T11:49:03.497Z"
   },
   {
    "duration": 29,
    "start_time": "2021-07-08T11:49:03.511Z"
   },
   {
    "duration": 285,
    "start_time": "2021-07-08T11:49:03.542Z"
   },
   {
    "duration": 8,
    "start_time": "2021-07-08T11:49:03.829Z"
   },
   {
    "duration": 227,
    "start_time": "2021-07-08T11:49:03.838Z"
   },
   {
    "duration": 40,
    "start_time": "2021-07-08T11:49:04.066Z"
   },
   {
    "duration": 10,
    "start_time": "2021-07-08T11:49:04.108Z"
   },
   {
    "duration": 26,
    "start_time": "2021-07-08T11:49:04.121Z"
   },
   {
    "duration": 290,
    "start_time": "2021-07-08T11:49:04.149Z"
   },
   {
    "duration": 26,
    "start_time": "2021-07-08T11:49:04.441Z"
   },
   {
    "duration": 31,
    "start_time": "2021-07-08T11:49:04.470Z"
   },
   {
    "duration": 14,
    "start_time": "2021-07-08T11:49:04.503Z"
   },
   {
    "duration": 259,
    "start_time": "2021-07-08T11:49:04.521Z"
   },
   {
    "duration": 480,
    "start_time": "2021-07-08T11:49:04.782Z"
   },
   {
    "duration": 225,
    "start_time": "2021-07-08T11:49:05.264Z"
   },
   {
    "duration": 22,
    "start_time": "2021-07-08T11:49:05.491Z"
   },
   {
    "duration": 24,
    "start_time": "2021-07-08T11:49:05.515Z"
   },
   {
    "duration": 634,
    "start_time": "2021-07-08T11:52:24.960Z"
   },
   {
    "duration": 199,
    "start_time": "2021-07-08T11:52:25.599Z"
   },
   {
    "duration": 106,
    "start_time": "2021-07-08T11:52:25.803Z"
   },
   {
    "duration": 7,
    "start_time": "2021-07-08T11:52:25.911Z"
   },
   {
    "duration": 29,
    "start_time": "2021-07-08T11:52:25.920Z"
   },
   {
    "duration": 7,
    "start_time": "2021-07-08T11:52:25.951Z"
   },
   {
    "duration": 26,
    "start_time": "2021-07-08T11:52:25.961Z"
   },
   {
    "duration": 11,
    "start_time": "2021-07-08T11:52:25.990Z"
   },
   {
    "duration": 29,
    "start_time": "2021-07-08T11:52:26.005Z"
   },
   {
    "duration": 9,
    "start_time": "2021-07-08T11:52:26.036Z"
   },
   {
    "duration": 8,
    "start_time": "2021-07-08T11:52:26.047Z"
   },
   {
    "duration": 63,
    "start_time": "2021-07-08T11:52:26.057Z"
   },
   {
    "duration": 17,
    "start_time": "2021-07-08T11:52:26.122Z"
   },
   {
    "duration": 43,
    "start_time": "2021-07-08T11:52:26.142Z"
   },
   {
    "duration": 17,
    "start_time": "2021-07-08T11:52:26.187Z"
   },
   {
    "duration": 5,
    "start_time": "2021-07-08T11:52:26.206Z"
   },
   {
    "duration": 12,
    "start_time": "2021-07-08T11:52:26.212Z"
   },
   {
    "duration": 11,
    "start_time": "2021-07-08T11:52:26.226Z"
   },
   {
    "duration": 12,
    "start_time": "2021-07-08T11:52:26.238Z"
   },
   {
    "duration": 38,
    "start_time": "2021-07-08T11:52:26.252Z"
   },
   {
    "duration": 40,
    "start_time": "2021-07-08T11:52:26.292Z"
   },
   {
    "duration": 17,
    "start_time": "2021-07-08T11:52:26.336Z"
   },
   {
    "duration": 39,
    "start_time": "2021-07-08T11:52:26.355Z"
   },
   {
    "duration": 11,
    "start_time": "2021-07-08T11:52:26.395Z"
   },
   {
    "duration": 23,
    "start_time": "2021-07-08T11:52:26.408Z"
   },
   {
    "duration": 12,
    "start_time": "2021-07-08T11:52:26.432Z"
   },
   {
    "duration": 41,
    "start_time": "2021-07-08T11:52:26.446Z"
   },
   {
    "duration": 215,
    "start_time": "2021-07-08T11:52:26.493Z"
   },
   {
    "duration": 8,
    "start_time": "2021-07-08T11:52:26.710Z"
   },
   {
    "duration": 228,
    "start_time": "2021-07-08T11:52:26.720Z"
   },
   {
    "duration": 18,
    "start_time": "2021-07-08T11:52:26.950Z"
   },
   {
    "duration": 35,
    "start_time": "2021-07-08T11:52:26.969Z"
   },
   {
    "duration": 23,
    "start_time": "2021-07-08T11:52:27.006Z"
   },
   {
    "duration": 258,
    "start_time": "2021-07-08T11:52:27.030Z"
   },
   {
    "duration": 24,
    "start_time": "2021-07-08T11:52:27.290Z"
   },
   {
    "duration": 12,
    "start_time": "2021-07-08T11:52:27.316Z"
   },
   {
    "duration": 10,
    "start_time": "2021-07-08T11:52:27.329Z"
   },
   {
    "duration": 298,
    "start_time": "2021-07-08T11:52:27.341Z"
   },
   {
    "duration": 436,
    "start_time": "2021-07-08T11:52:27.641Z"
   },
   {
    "duration": 216,
    "start_time": "2021-07-08T11:52:28.079Z"
   },
   {
    "duration": 20,
    "start_time": "2021-07-08T11:52:28.297Z"
   },
   {
    "duration": 17,
    "start_time": "2021-07-08T11:52:28.319Z"
   },
   {
    "duration": 1279,
    "start_time": "2022-07-24T09:54:41.716Z"
   },
   {
    "duration": 93,
    "start_time": "2022-07-24T09:54:54.001Z"
   },
   {
    "duration": 108,
    "start_time": "2022-07-24T09:59:38.937Z"
   },
   {
    "duration": 197,
    "start_time": "2022-07-24T10:01:20.763Z"
   },
   {
    "duration": 134,
    "start_time": "2022-07-24T10:01:23.937Z"
   },
   {
    "duration": 118,
    "start_time": "2022-07-24T10:01:35.038Z"
   },
   {
    "duration": 124,
    "start_time": "2022-07-24T10:01:46.539Z"
   },
   {
    "duration": 133,
    "start_time": "2022-07-24T10:01:53.881Z"
   },
   {
    "duration": 136,
    "start_time": "2022-07-24T10:02:15.029Z"
   },
   {
    "duration": 212,
    "start_time": "2022-07-24T10:11:09.305Z"
   },
   {
    "duration": 139,
    "start_time": "2022-07-24T10:11:21.058Z"
   },
   {
    "duration": 150,
    "start_time": "2022-07-24T10:11:36.888Z"
   },
   {
    "duration": 131,
    "start_time": "2022-07-24T10:12:25.591Z"
   },
   {
    "duration": 144,
    "start_time": "2022-07-24T10:14:01.654Z"
   },
   {
    "duration": 118,
    "start_time": "2022-07-24T10:16:14.497Z"
   },
   {
    "duration": 124,
    "start_time": "2022-07-24T10:16:24.956Z"
   },
   {
    "duration": 127,
    "start_time": "2022-07-24T10:17:11.643Z"
   },
   {
    "duration": 126,
    "start_time": "2022-07-24T10:17:15.841Z"
   },
   {
    "duration": 122,
    "start_time": "2022-07-24T10:17:25.455Z"
   },
   {
    "duration": 404,
    "start_time": "2022-07-24T10:17:48.741Z"
   },
   {
    "duration": 130,
    "start_time": "2022-07-24T10:18:11.469Z"
   },
   {
    "duration": 123,
    "start_time": "2022-07-24T10:18:20.182Z"
   },
   {
    "duration": 122,
    "start_time": "2022-07-24T10:18:47.264Z"
   },
   {
    "duration": 154,
    "start_time": "2022-07-24T10:19:05.888Z"
   },
   {
    "duration": 145,
    "start_time": "2022-07-24T10:19:21.817Z"
   },
   {
    "duration": 141,
    "start_time": "2022-07-24T10:19:54.124Z"
   },
   {
    "duration": 138,
    "start_time": "2022-07-24T10:20:13.680Z"
   },
   {
    "duration": 135,
    "start_time": "2022-07-24T10:21:39.962Z"
   },
   {
    "duration": 14,
    "start_time": "2022-07-24T10:22:44.688Z"
   },
   {
    "duration": 19,
    "start_time": "2022-07-24T10:23:08.986Z"
   },
   {
    "duration": 16,
    "start_time": "2022-07-24T10:25:45.527Z"
   },
   {
    "duration": 57,
    "start_time": "2022-07-24T10:27:51.947Z"
   },
   {
    "duration": 32,
    "start_time": "2022-07-24T10:27:55.460Z"
   },
   {
    "duration": 30,
    "start_time": "2022-07-24T10:29:08.941Z"
   },
   {
    "duration": 140,
    "start_time": "2022-07-24T10:29:22.971Z"
   },
   {
    "duration": 21,
    "start_time": "2022-07-24T10:31:12.896Z"
   },
   {
    "duration": 20,
    "start_time": "2022-07-24T10:33:59.153Z"
   },
   {
    "duration": 16,
    "start_time": "2022-07-24T10:34:04.844Z"
   },
   {
    "duration": 10,
    "start_time": "2022-07-24T10:34:09.604Z"
   },
   {
    "duration": 20,
    "start_time": "2022-07-24T10:35:00.123Z"
   },
   {
    "duration": 24,
    "start_time": "2022-07-24T10:35:38.745Z"
   },
   {
    "duration": 67,
    "start_time": "2022-07-24T10:35:49.754Z"
   },
   {
    "duration": 31,
    "start_time": "2022-07-24T10:36:16.562Z"
   },
   {
    "duration": 34,
    "start_time": "2022-07-24T10:38:56.642Z"
   },
   {
    "duration": 34,
    "start_time": "2022-07-24T10:39:21.156Z"
   },
   {
    "duration": 47,
    "start_time": "2022-07-24T10:39:45.720Z"
   },
   {
    "duration": 238,
    "start_time": "2022-07-24T10:43:47.323Z"
   },
   {
    "duration": 1110,
    "start_time": "2022-07-24T10:45:16.945Z"
   },
   {
    "duration": 910,
    "start_time": "2022-07-24T10:45:25.302Z"
   },
   {
    "duration": 12,
    "start_time": "2022-07-24T10:45:43.766Z"
   },
   {
    "duration": 8,
    "start_time": "2022-07-24T10:45:55.049Z"
   },
   {
    "duration": 21,
    "start_time": "2022-07-24T10:46:07.666Z"
   },
   {
    "duration": 27,
    "start_time": "2022-07-24T10:46:25.423Z"
   },
   {
    "duration": 13,
    "start_time": "2022-07-24T10:47:48.542Z"
   },
   {
    "duration": 21,
    "start_time": "2022-07-24T10:49:32.161Z"
   },
   {
    "duration": 21,
    "start_time": "2022-07-24T10:49:50.168Z"
   },
   {
    "duration": 220,
    "start_time": "2022-07-24T10:49:57.780Z"
   },
   {
    "duration": 13,
    "start_time": "2022-07-24T10:51:10.641Z"
   },
   {
    "duration": 224,
    "start_time": "2022-07-24T10:51:19.641Z"
   },
   {
    "duration": 11,
    "start_time": "2022-07-24T10:51:39.001Z"
   },
   {
    "duration": 153,
    "start_time": "2022-07-24T10:51:51.994Z"
   },
   {
    "duration": 879,
    "start_time": "2022-07-24T10:51:58.002Z"
   },
   {
    "duration": 23,
    "start_time": "2022-07-24T10:52:03.720Z"
   },
   {
    "duration": 246,
    "start_time": "2022-07-24T10:52:16.107Z"
   },
   {
    "duration": 11,
    "start_time": "2022-07-24T10:53:02.117Z"
   },
   {
    "duration": 889,
    "start_time": "2022-07-24T10:54:24.099Z"
   },
   {
    "duration": 12,
    "start_time": "2022-07-24T10:54:41.176Z"
   },
   {
    "duration": 141,
    "start_time": "2022-07-24T10:54:50.365Z"
   },
   {
    "duration": 36,
    "start_time": "2022-07-24T10:55:01.083Z"
   },
   {
    "duration": 18,
    "start_time": "2022-07-24T10:55:06.949Z"
   },
   {
    "duration": 9,
    "start_time": "2022-07-24T10:55:16.774Z"
   },
   {
    "duration": 12,
    "start_time": "2022-07-24T10:55:26.374Z"
   },
   {
    "duration": 16,
    "start_time": "2022-07-24T10:56:12.293Z"
   },
   {
    "duration": 10,
    "start_time": "2022-07-24T10:56:59.774Z"
   },
   {
    "duration": 6,
    "start_time": "2022-07-24T10:57:05.254Z"
   },
   {
    "duration": 6,
    "start_time": "2022-07-24T10:57:10.861Z"
   },
   {
    "duration": 46,
    "start_time": "2022-07-24T10:57:22.541Z"
   },
   {
    "duration": 7,
    "start_time": "2022-07-24T10:57:27.939Z"
   },
   {
    "duration": 52,
    "start_time": "2022-07-24T10:58:23.446Z"
   },
   {
    "duration": 48,
    "start_time": "2022-07-24T10:58:39.123Z"
   },
   {
    "duration": 13,
    "start_time": "2022-07-24T10:59:06.944Z"
   },
   {
    "duration": 11,
    "start_time": "2022-07-24T10:59:13.543Z"
   },
   {
    "duration": 198,
    "start_time": "2022-07-24T10:59:33.513Z"
   },
   {
    "duration": 52,
    "start_time": "2022-07-24T11:00:07.741Z"
   },
   {
    "duration": 53,
    "start_time": "2022-07-24T11:00:39.874Z"
   },
   {
    "duration": 12,
    "start_time": "2022-07-24T11:02:00.861Z"
   },
   {
    "duration": 46,
    "start_time": "2022-07-24T11:02:32.404Z"
   },
   {
    "duration": 14,
    "start_time": "2022-07-24T11:04:41.490Z"
   },
   {
    "duration": 21,
    "start_time": "2022-07-24T11:06:25.877Z"
   },
   {
    "duration": 710,
    "start_time": "2022-07-24T11:07:11.681Z"
   },
   {
    "duration": 20,
    "start_time": "2022-07-24T11:08:26.818Z"
   },
   {
    "duration": 31,
    "start_time": "2022-07-24T11:08:45.546Z"
   },
   {
    "duration": 23,
    "start_time": "2022-07-24T11:08:52.646Z"
   },
   {
    "duration": 39,
    "start_time": "2022-07-24T11:09:56.307Z"
   },
   {
    "duration": 29,
    "start_time": "2022-07-24T11:13:43.579Z"
   },
   {
    "duration": 21,
    "start_time": "2022-07-24T11:14:48.771Z"
   },
   {
    "duration": 22,
    "start_time": "2022-07-24T11:15:19.074Z"
   },
   {
    "duration": 165,
    "start_time": "2022-07-24T11:24:38.551Z"
   },
   {
    "duration": 167,
    "start_time": "2022-07-24T11:24:55.417Z"
   },
   {
    "duration": 154,
    "start_time": "2022-07-24T11:25:20.456Z"
   },
   {
    "duration": 20,
    "start_time": "2022-07-24T11:26:07.352Z"
   },
   {
    "duration": 1226,
    "start_time": "2022-07-24T11:26:42.551Z"
   },
   {
    "duration": 15,
    "start_time": "2022-07-24T11:26:43.779Z"
   },
   {
    "duration": 73,
    "start_time": "2022-07-24T11:26:43.796Z"
   },
   {
    "duration": 21,
    "start_time": "2022-07-24T11:26:43.872Z"
   },
   {
    "duration": 16,
    "start_time": "2022-07-24T11:28:03.849Z"
   },
   {
    "duration": 16,
    "start_time": "2022-07-24T11:28:14.345Z"
   },
   {
    "duration": 15,
    "start_time": "2022-07-24T11:28:22.682Z"
   },
   {
    "duration": 14,
    "start_time": "2022-07-24T11:28:32.215Z"
   },
   {
    "duration": 8950,
    "start_time": "2022-07-24T11:30:25.734Z"
   },
   {
    "duration": 25,
    "start_time": "2022-07-24T11:30:50.727Z"
   },
   {
    "duration": 27,
    "start_time": "2022-07-24T11:31:42.105Z"
   },
   {
    "duration": 56,
    "start_time": "2022-07-24T11:32:52.444Z"
   },
   {
    "duration": 46,
    "start_time": "2022-07-24T11:33:17.061Z"
   },
   {
    "duration": 194,
    "start_time": "2022-07-24T11:34:03.058Z"
   },
   {
    "duration": 46,
    "start_time": "2022-07-24T11:34:13.071Z"
   },
   {
    "duration": 35,
    "start_time": "2022-07-24T11:39:24.381Z"
   },
   {
    "duration": 1290,
    "start_time": "2022-07-24T11:42:24.014Z"
   },
   {
    "duration": 71,
    "start_time": "2022-07-24T11:42:25.306Z"
   },
   {
    "duration": 44,
    "start_time": "2022-07-24T11:42:25.379Z"
   },
   {
    "duration": 54,
    "start_time": "2022-07-24T11:43:24.464Z"
   },
   {
    "duration": 28,
    "start_time": "2022-07-24T11:43:41.376Z"
   },
   {
    "duration": 28,
    "start_time": "2022-07-24T11:47:09.555Z"
   },
   {
    "duration": 40,
    "start_time": "2022-07-24T11:49:01.113Z"
   },
   {
    "duration": 27,
    "start_time": "2022-07-24T11:52:48.104Z"
   },
   {
    "duration": 26,
    "start_time": "2022-07-24T11:52:55.438Z"
   },
   {
    "duration": 21,
    "start_time": "2022-07-24T11:53:08.669Z"
   },
   {
    "duration": 124,
    "start_time": "2022-07-24T11:56:49.439Z"
   },
   {
    "duration": 106,
    "start_time": "2022-07-24T11:56:54.126Z"
   },
   {
    "duration": 33,
    "start_time": "2022-07-24T11:57:07.521Z"
   },
   {
    "duration": 11,
    "start_time": "2022-07-24T11:58:26.466Z"
   },
   {
    "duration": 31,
    "start_time": "2022-07-24T11:58:35.676Z"
   },
   {
    "duration": 30,
    "start_time": "2022-07-24T12:16:45.440Z"
   },
   {
    "duration": 11,
    "start_time": "2022-07-24T12:16:58.098Z"
   },
   {
    "duration": 131,
    "start_time": "2022-07-24T12:19:09.439Z"
   },
   {
    "duration": 8,
    "start_time": "2022-07-24T12:19:20.342Z"
   },
   {
    "duration": 132,
    "start_time": "2022-07-24T12:19:45.446Z"
   },
   {
    "duration": 160,
    "start_time": "2022-07-24T12:19:54.305Z"
   },
   {
    "duration": 156,
    "start_time": "2022-07-24T12:20:06.088Z"
   },
   {
    "duration": 174,
    "start_time": "2022-07-24T12:20:35.067Z"
   },
   {
    "duration": 141,
    "start_time": "2022-07-24T12:20:41.719Z"
   },
   {
    "duration": 152,
    "start_time": "2022-07-24T12:20:48.422Z"
   },
   {
    "duration": 157,
    "start_time": "2022-07-24T12:22:36.518Z"
   },
   {
    "duration": 154,
    "start_time": "2022-07-24T12:22:45.738Z"
   },
   {
    "duration": 140,
    "start_time": "2022-07-24T12:22:54.556Z"
   },
   {
    "duration": 183,
    "start_time": "2022-07-24T12:23:13.714Z"
   },
   {
    "duration": 141,
    "start_time": "2022-07-24T12:24:17.417Z"
   },
   {
    "duration": 143,
    "start_time": "2022-07-24T12:25:07.088Z"
   },
   {
    "duration": 155,
    "start_time": "2022-07-24T12:31:34.697Z"
   },
   {
    "duration": 131,
    "start_time": "2022-07-24T12:31:43.069Z"
   },
   {
    "duration": 140,
    "start_time": "2022-07-24T12:31:57.910Z"
   },
   {
    "duration": 154,
    "start_time": "2022-07-24T12:32:08.092Z"
   },
   {
    "duration": 153,
    "start_time": "2022-07-24T12:32:20.885Z"
   },
   {
    "duration": 136,
    "start_time": "2022-07-24T12:32:28.690Z"
   },
   {
    "duration": 133,
    "start_time": "2022-07-24T12:33:37.269Z"
   },
   {
    "duration": 152,
    "start_time": "2022-07-24T12:35:04.700Z"
   },
   {
    "duration": 147,
    "start_time": "2022-07-24T12:35:11.742Z"
   },
   {
    "duration": 142,
    "start_time": "2022-07-24T12:35:28.339Z"
   },
   {
    "duration": 140,
    "start_time": "2022-07-24T12:35:40.615Z"
   },
   {
    "duration": 139,
    "start_time": "2022-07-24T12:35:47.737Z"
   },
   {
    "duration": 133,
    "start_time": "2022-07-24T12:35:53.674Z"
   },
   {
    "duration": 129,
    "start_time": "2022-07-24T12:38:55.362Z"
   },
   {
    "duration": 128,
    "start_time": "2022-07-24T12:39:01.647Z"
   },
   {
    "duration": 174,
    "start_time": "2022-07-24T12:41:26.672Z"
   },
   {
    "duration": 148,
    "start_time": "2022-07-24T12:41:32.003Z"
   },
   {
    "duration": 185,
    "start_time": "2022-07-24T12:44:12.316Z"
   },
   {
    "duration": 142,
    "start_time": "2022-07-24T12:46:04.707Z"
   },
   {
    "duration": 169,
    "start_time": "2022-07-24T12:46:10.049Z"
   },
   {
    "duration": 177,
    "start_time": "2022-07-24T12:46:28.864Z"
   },
   {
    "duration": 155,
    "start_time": "2022-07-24T12:46:36.813Z"
   },
   {
    "duration": 11,
    "start_time": "2022-07-24T12:52:08.185Z"
   },
   {
    "duration": 165,
    "start_time": "2022-07-24T12:52:18.311Z"
   },
   {
    "duration": 166,
    "start_time": "2022-07-24T12:52:28.793Z"
   },
   {
    "duration": 10,
    "start_time": "2022-07-24T12:53:34.277Z"
   },
   {
    "duration": 149,
    "start_time": "2022-07-24T12:53:44.555Z"
   },
   {
    "duration": 11,
    "start_time": "2022-07-24T12:53:48.778Z"
   },
   {
    "duration": 65,
    "start_time": "2022-07-24T12:54:00.702Z"
   },
   {
    "duration": 49,
    "start_time": "2022-07-24T12:54:06.223Z"
   },
   {
    "duration": 28,
    "start_time": "2022-07-24T12:54:11.075Z"
   },
   {
    "duration": 29,
    "start_time": "2022-07-24T12:56:30.018Z"
   },
   {
    "duration": 146,
    "start_time": "2022-07-24T13:00:56.757Z"
   },
   {
    "duration": 17,
    "start_time": "2022-07-24T13:00:59.555Z"
   },
   {
    "duration": 38,
    "start_time": "2022-07-24T13:01:04.792Z"
   },
   {
    "duration": 32,
    "start_time": "2022-07-24T13:01:12.757Z"
   },
   {
    "duration": 17,
    "start_time": "2022-07-24T13:01:16.293Z"
   },
   {
    "duration": 1277,
    "start_time": "2022-07-24T13:01:31.910Z"
   },
   {
    "duration": 17,
    "start_time": "2022-07-24T13:01:44.053Z"
   },
   {
    "duration": 19,
    "start_time": "2022-07-24T13:02:36.113Z"
   },
   {
    "duration": 36,
    "start_time": "2022-07-24T13:05:19.009Z"
   },
   {
    "duration": 11,
    "start_time": "2022-07-24T13:05:30.649Z"
   },
   {
    "duration": 14,
    "start_time": "2022-07-24T13:05:49.042Z"
   },
   {
    "duration": 19,
    "start_time": "2022-07-24T13:06:18.790Z"
   },
   {
    "duration": 20,
    "start_time": "2022-07-24T13:06:24.216Z"
   },
   {
    "duration": 148,
    "start_time": "2022-07-24T13:08:35.199Z"
   },
   {
    "duration": 173,
    "start_time": "2022-07-24T13:09:57.900Z"
   },
   {
    "duration": 125,
    "start_time": "2022-07-24T13:10:27.292Z"
   },
   {
    "duration": 157,
    "start_time": "2022-07-24T13:10:40.725Z"
   },
   {
    "duration": 145,
    "start_time": "2022-07-24T13:12:50.689Z"
   },
   {
    "duration": 137,
    "start_time": "2022-07-24T13:13:02.382Z"
   },
   {
    "duration": 134,
    "start_time": "2022-07-24T13:14:04.573Z"
   },
   {
    "duration": 136,
    "start_time": "2022-07-24T13:14:23.146Z"
   },
   {
    "duration": 168,
    "start_time": "2022-07-24T13:15:58.720Z"
   },
   {
    "duration": 137,
    "start_time": "2022-07-24T13:16:05.236Z"
   },
   {
    "duration": 16,
    "start_time": "2022-07-24T13:16:07.637Z"
   },
   {
    "duration": 1629,
    "start_time": "2022-07-25T05:40:58.893Z"
   },
   {
    "duration": 122,
    "start_time": "2022-07-25T05:41:55.090Z"
   },
   {
    "duration": 16,
    "start_time": "2022-07-25T05:41:58.800Z"
   },
   {
    "duration": 14,
    "start_time": "2022-07-25T05:43:50.353Z"
   },
   {
    "duration": 9,
    "start_time": "2022-07-25T05:44:08.837Z"
   },
   {
    "duration": 5,
    "start_time": "2022-07-25T05:44:19.232Z"
   },
   {
    "duration": 14,
    "start_time": "2022-07-25T05:46:56.928Z"
   },
   {
    "duration": 11,
    "start_time": "2022-07-25T05:47:05.126Z"
   },
   {
    "duration": 116,
    "start_time": "2022-07-25T05:47:17.460Z"
   },
   {
    "duration": 10,
    "start_time": "2022-07-25T05:47:20.647Z"
   },
   {
    "duration": 15,
    "start_time": "2022-07-25T05:47:34.592Z"
   },
   {
    "duration": 123,
    "start_time": "2022-07-25T05:47:55.568Z"
   },
   {
    "duration": 116,
    "start_time": "2022-07-25T05:48:09.906Z"
   },
   {
    "duration": 315,
    "start_time": "2022-07-25T05:48:48.541Z"
   },
   {
    "duration": 10,
    "start_time": "2022-07-25T05:49:45.139Z"
   },
   {
    "duration": 1079,
    "start_time": "2022-07-25T05:49:53.282Z"
   },
   {
    "duration": 121,
    "start_time": "2022-07-25T05:50:10.746Z"
   },
   {
    "duration": 14,
    "start_time": "2022-07-25T05:50:19.253Z"
   },
   {
    "duration": 131,
    "start_time": "2022-07-25T05:50:39.224Z"
   },
   {
    "duration": 14,
    "start_time": "2022-07-25T05:50:45.091Z"
   },
   {
    "duration": 11,
    "start_time": "2022-07-25T05:51:16.258Z"
   },
   {
    "duration": 9,
    "start_time": "2022-07-25T05:51:54.746Z"
   },
   {
    "duration": 127,
    "start_time": "2022-07-25T05:52:02.660Z"
   },
   {
    "duration": 68,
    "start_time": "2022-07-25T05:52:10.300Z"
   },
   {
    "duration": 67,
    "start_time": "2022-07-25T05:52:30.205Z"
   },
   {
    "duration": 17,
    "start_time": "2022-07-25T05:52:36.622Z"
   },
   {
    "duration": 26,
    "start_time": "2022-07-25T05:53:17.180Z"
   },
   {
    "duration": 135,
    "start_time": "2022-07-25T05:56:41.623Z"
   },
   {
    "duration": 132,
    "start_time": "2022-07-25T05:57:06.885Z"
   },
   {
    "duration": 205,
    "start_time": "2022-07-25T05:57:16.425Z"
   },
   {
    "duration": 142,
    "start_time": "2022-07-25T05:57:23.757Z"
   },
   {
    "duration": 131,
    "start_time": "2022-07-25T05:57:27.518Z"
   },
   {
    "duration": 133,
    "start_time": "2022-07-25T05:57:43.848Z"
   },
   {
    "duration": 134,
    "start_time": "2022-07-25T06:01:29.875Z"
   },
   {
    "duration": 132,
    "start_time": "2022-07-25T06:01:45.522Z"
   },
   {
    "duration": 128,
    "start_time": "2022-07-25T06:02:08.251Z"
   },
   {
    "duration": 10,
    "start_time": "2022-07-25T06:02:23.198Z"
   },
   {
    "duration": 129,
    "start_time": "2022-07-25T06:02:35.423Z"
   },
   {
    "duration": 129,
    "start_time": "2022-07-25T06:02:57.641Z"
   },
   {
    "duration": 33,
    "start_time": "2022-07-25T06:03:05.799Z"
   },
   {
    "duration": 25,
    "start_time": "2022-07-25T06:03:16.066Z"
   },
   {
    "duration": 19,
    "start_time": "2022-07-25T06:03:35.013Z"
   },
   {
    "duration": 16,
    "start_time": "2022-07-25T06:04:41.937Z"
   },
   {
    "duration": 29,
    "start_time": "2022-07-25T06:05:25.033Z"
   },
   {
    "duration": 4994,
    "start_time": "2022-07-25T06:07:08.954Z"
   },
   {
    "duration": 1224,
    "start_time": "2022-07-25T06:07:25.618Z"
   },
   {
    "duration": 10,
    "start_time": "2022-07-25T06:07:26.844Z"
   },
   {
    "duration": 84,
    "start_time": "2022-07-25T06:07:26.856Z"
   },
   {
    "duration": 5027,
    "start_time": "2022-07-25T06:07:26.942Z"
   },
   {
    "duration": 34,
    "start_time": "2022-07-25T06:07:31.972Z"
   },
   {
    "duration": 62,
    "start_time": "2022-07-25T06:07:32.007Z"
   },
   {
    "duration": 33,
    "start_time": "2022-07-25T06:07:32.071Z"
   },
   {
    "duration": 122,
    "start_time": "2022-07-25T06:14:10.415Z"
   },
   {
    "duration": 33,
    "start_time": "2022-07-25T06:14:17.444Z"
   },
   {
    "duration": 1203,
    "start_time": "2022-07-25T06:15:25.011Z"
   },
   {
    "duration": 17,
    "start_time": "2022-07-25T06:15:26.217Z"
   },
   {
    "duration": 73,
    "start_time": "2022-07-25T06:15:26.235Z"
   },
   {
    "duration": 77,
    "start_time": "2022-07-25T06:15:26.310Z"
   },
   {
    "duration": 37,
    "start_time": "2022-07-25T06:15:26.390Z"
   },
   {
    "duration": 25,
    "start_time": "2022-07-25T06:15:26.430Z"
   },
   {
    "duration": 32,
    "start_time": "2022-07-25T06:15:26.460Z"
   },
   {
    "duration": 20,
    "start_time": "2022-07-25T06:16:59.211Z"
   },
   {
    "duration": 20,
    "start_time": "2022-07-25T06:17:59.091Z"
   },
   {
    "duration": 18,
    "start_time": "2022-07-25T06:18:37.316Z"
   },
   {
    "duration": 20,
    "start_time": "2022-07-25T06:19:00.163Z"
   },
   {
    "duration": 17,
    "start_time": "2022-07-25T06:19:12.592Z"
   },
   {
    "duration": 90,
    "start_time": "2022-07-25T06:19:20.960Z"
   },
   {
    "duration": 129,
    "start_time": "2022-07-25T06:19:33.019Z"
   },
   {
    "duration": 11,
    "start_time": "2022-07-25T06:19:37.504Z"
   },
   {
    "duration": 42,
    "start_time": "2022-07-25T06:19:56.209Z"
   },
   {
    "duration": 42,
    "start_time": "2022-07-25T06:20:41.145Z"
   },
   {
    "duration": 7,
    "start_time": "2022-07-25T06:23:02.057Z"
   },
   {
    "duration": 130,
    "start_time": "2022-07-25T06:23:41.241Z"
   },
   {
    "duration": 18,
    "start_time": "2022-07-25T06:35:12.549Z"
   },
   {
    "duration": 114,
    "start_time": "2022-07-25T06:36:44.048Z"
   },
   {
    "duration": 68,
    "start_time": "2022-07-25T06:41:15.047Z"
   },
   {
    "duration": 41,
    "start_time": "2022-07-25T06:41:23.168Z"
   },
   {
    "duration": 5166,
    "start_time": "2022-07-25T06:45:57.388Z"
   },
   {
    "duration": 21,
    "start_time": "2022-07-25T06:47:50.378Z"
   },
   {
    "duration": 122,
    "start_time": "2022-07-25T06:48:33.862Z"
   },
   {
    "duration": 1260,
    "start_time": "2022-07-25T06:49:03.049Z"
   },
   {
    "duration": 5074,
    "start_time": "2022-07-25T06:49:04.311Z"
   },
   {
    "duration": 204,
    "start_time": "2022-07-25T06:49:09.464Z"
   },
   {
    "duration": 0,
    "start_time": "2022-07-25T06:49:09.670Z"
   },
   {
    "duration": 17,
    "start_time": "2022-07-25T06:49:24.095Z"
   },
   {
    "duration": 5243,
    "start_time": "2022-07-25T06:50:33.642Z"
   },
   {
    "duration": 1264,
    "start_time": "2022-07-25T06:57:30.343Z"
   },
   {
    "duration": 5009,
    "start_time": "2022-07-25T06:57:39.241Z"
   },
   {
    "duration": 39,
    "start_time": "2022-07-25T06:57:53.261Z"
   },
   {
    "duration": 94,
    "start_time": "2022-07-25T06:58:45.049Z"
   },
   {
    "duration": 20,
    "start_time": "2022-07-25T06:58:57.988Z"
   },
   {
    "duration": 33,
    "start_time": "2022-07-25T06:59:22.080Z"
   },
   {
    "duration": 44,
    "start_time": "2022-07-25T06:59:54.918Z"
   },
   {
    "duration": 24,
    "start_time": "2022-07-25T07:00:49.231Z"
   },
   {
    "duration": 5203,
    "start_time": "2022-07-25T07:01:23.128Z"
   },
   {
    "duration": 32,
    "start_time": "2022-07-25T07:02:12.361Z"
   },
   {
    "duration": 965,
    "start_time": "2022-07-25T07:09:27.359Z"
   },
   {
    "duration": 36,
    "start_time": "2022-07-25T07:09:37.666Z"
   },
   {
    "duration": 4,
    "start_time": "2022-07-25T07:17:36.789Z"
   },
   {
    "duration": 20,
    "start_time": "2022-07-25T07:18:35.737Z"
   },
   {
    "duration": 31,
    "start_time": "2022-07-25T07:20:49.380Z"
   },
   {
    "duration": 22,
    "start_time": "2022-07-25T07:21:29.581Z"
   },
   {
    "duration": 38,
    "start_time": "2022-07-25T07:22:21.354Z"
   },
   {
    "duration": 38,
    "start_time": "2022-07-25T07:22:56.895Z"
   },
   {
    "duration": 1178,
    "start_time": "2022-07-25T07:23:13.642Z"
   },
   {
    "duration": 21,
    "start_time": "2022-07-25T07:23:20.069Z"
   },
   {
    "duration": 22,
    "start_time": "2022-07-25T07:23:36.809Z"
   },
   {
    "duration": 23,
    "start_time": "2022-07-25T07:25:00.712Z"
   },
   {
    "duration": 19,
    "start_time": "2022-07-25T07:25:33.057Z"
   },
   {
    "duration": 17,
    "start_time": "2022-07-25T07:28:29.833Z"
   },
   {
    "duration": 21,
    "start_time": "2022-07-25T07:28:58.221Z"
   },
   {
    "duration": 6,
    "start_time": "2022-07-25T07:33:46.779Z"
   },
   {
    "duration": 4,
    "start_time": "2022-07-25T07:33:52.052Z"
   },
   {
    "duration": 8,
    "start_time": "2022-07-25T07:34:32.725Z"
   },
   {
    "duration": 7,
    "start_time": "2022-07-25T07:35:10.490Z"
   },
   {
    "duration": 10,
    "start_time": "2022-07-25T07:39:58.713Z"
   },
   {
    "duration": 14,
    "start_time": "2022-07-25T07:41:02.906Z"
   },
   {
    "duration": 12,
    "start_time": "2022-07-25T07:41:56.043Z"
   },
   {
    "duration": 14,
    "start_time": "2022-07-25T07:42:18.887Z"
   },
   {
    "duration": 11,
    "start_time": "2022-07-25T07:42:38.581Z"
   },
   {
    "duration": 15,
    "start_time": "2022-07-25T07:42:50.695Z"
   },
   {
    "duration": 21,
    "start_time": "2022-07-25T07:42:56.033Z"
   },
   {
    "duration": 13,
    "start_time": "2022-07-25T07:42:59.925Z"
   },
   {
    "duration": 22,
    "start_time": "2022-07-25T07:45:52.217Z"
   },
   {
    "duration": 33,
    "start_time": "2022-07-25T07:47:02.638Z"
   },
   {
    "duration": 36,
    "start_time": "2022-07-25T07:52:25.447Z"
   },
   {
    "duration": 48,
    "start_time": "2022-07-25T07:56:36.267Z"
   },
   {
    "duration": 33,
    "start_time": "2022-07-25T07:56:43.767Z"
   },
   {
    "duration": 56,
    "start_time": "2022-07-25T07:59:47.168Z"
   },
   {
    "duration": 58,
    "start_time": "2022-07-25T08:00:01.118Z"
   },
   {
    "duration": 90,
    "start_time": "2022-07-25T08:00:20.855Z"
   },
   {
    "duration": 86,
    "start_time": "2022-07-25T08:01:14.900Z"
   },
   {
    "duration": 101,
    "start_time": "2022-07-25T08:01:55.177Z"
   },
   {
    "duration": 131,
    "start_time": "2022-07-25T08:03:39.938Z"
   },
   {
    "duration": 118,
    "start_time": "2022-07-25T08:05:21.404Z"
   },
   {
    "duration": 105,
    "start_time": "2022-07-25T08:05:26.832Z"
   },
   {
    "duration": 107,
    "start_time": "2022-07-25T08:06:11.568Z"
   },
   {
    "duration": 109,
    "start_time": "2022-07-25T08:06:58.839Z"
   },
   {
    "duration": 107,
    "start_time": "2022-07-25T08:07:20.927Z"
   },
   {
    "duration": 103,
    "start_time": "2022-07-25T08:07:50.589Z"
   },
   {
    "duration": 124,
    "start_time": "2022-07-25T08:08:04.257Z"
   },
   {
    "duration": 102,
    "start_time": "2022-07-25T08:08:17.200Z"
   },
   {
    "duration": 117,
    "start_time": "2022-07-25T08:08:54.680Z"
   },
   {
    "duration": 111,
    "start_time": "2022-07-25T08:09:22.025Z"
   },
   {
    "duration": 119,
    "start_time": "2022-07-25T08:09:35.379Z"
   },
   {
    "duration": 58,
    "start_time": "2022-07-25T08:10:47.643Z"
   },
   {
    "duration": 131,
    "start_time": "2022-07-25T08:10:53.731Z"
   },
   {
    "duration": 143,
    "start_time": "2022-07-25T08:11:30.236Z"
   },
   {
    "duration": 131,
    "start_time": "2022-07-25T08:12:40.111Z"
   },
   {
    "duration": 165,
    "start_time": "2022-07-25T08:12:44.577Z"
   },
   {
    "duration": 86,
    "start_time": "2022-07-25T08:13:18.056Z"
   },
   {
    "duration": 52,
    "start_time": "2022-07-25T08:13:18.144Z"
   },
   {
    "duration": 16,
    "start_time": "2022-07-25T08:13:18.198Z"
   },
   {
    "duration": 23,
    "start_time": "2022-07-25T08:13:18.215Z"
   },
   {
    "duration": 154,
    "start_time": "2022-07-25T08:13:18.240Z"
   },
   {
    "duration": 133,
    "start_time": "2022-07-25T08:13:33.083Z"
   },
   {
    "duration": 2142,
    "start_time": "2022-07-25T08:15:14.710Z"
   },
   {
    "duration": 149,
    "start_time": "2022-07-25T08:15:36.709Z"
   },
   {
    "duration": 137,
    "start_time": "2022-07-25T08:15:51.085Z"
   },
   {
    "duration": 135,
    "start_time": "2022-07-25T08:16:44.281Z"
   },
   {
    "duration": 149,
    "start_time": "2022-07-25T08:20:06.033Z"
   },
   {
    "duration": 145,
    "start_time": "2022-07-25T08:21:10.797Z"
   },
   {
    "duration": 129,
    "start_time": "2022-07-25T08:21:34.698Z"
   },
   {
    "duration": 133,
    "start_time": "2022-07-25T08:22:11.595Z"
   },
   {
    "duration": 140,
    "start_time": "2022-07-25T08:22:29.878Z"
   },
   {
    "duration": 134,
    "start_time": "2022-07-25T08:22:35.566Z"
   },
   {
    "duration": 133,
    "start_time": "2022-07-25T08:22:39.382Z"
   },
   {
    "duration": 5,
    "start_time": "2022-07-25T08:22:52.569Z"
   },
   {
    "duration": 131,
    "start_time": "2022-07-25T08:22:57.879Z"
   },
   {
    "duration": 133,
    "start_time": "2022-07-25T08:23:55.073Z"
   },
   {
    "duration": 163,
    "start_time": "2022-07-25T08:24:01.089Z"
   },
   {
    "duration": 9,
    "start_time": "2022-07-25T08:36:53.381Z"
   },
   {
    "duration": 6,
    "start_time": "2022-07-25T08:37:04.199Z"
   },
   {
    "duration": 1673,
    "start_time": "2022-07-26T02:48:27.082Z"
   },
   {
    "duration": 65,
    "start_time": "2022-07-26T02:48:34.358Z"
   },
   {
    "duration": 18,
    "start_time": "2022-07-26T02:48:39.207Z"
   },
   {
    "duration": 24,
    "start_time": "2022-07-26T02:48:47.281Z"
   },
   {
    "duration": 99,
    "start_time": "2022-07-26T02:49:15.748Z"
   },
   {
    "duration": 6,
    "start_time": "2022-07-26T02:49:22.114Z"
   },
   {
    "duration": 10,
    "start_time": "2022-07-26T02:49:36.562Z"
   },
   {
    "duration": 6,
    "start_time": "2022-07-26T02:50:02.062Z"
   },
   {
    "duration": 6,
    "start_time": "2022-07-26T02:50:10.969Z"
   },
   {
    "duration": 9,
    "start_time": "2022-07-26T02:50:26.907Z"
   },
   {
    "duration": 7,
    "start_time": "2022-07-26T02:50:36.345Z"
   },
   {
    "duration": 6,
    "start_time": "2022-07-26T02:50:50.837Z"
   },
   {
    "duration": 9,
    "start_time": "2022-07-26T02:50:58.591Z"
   },
   {
    "duration": 158,
    "start_time": "2022-07-26T02:51:11.457Z"
   },
   {
    "duration": 9,
    "start_time": "2022-07-26T02:51:16.794Z"
   },
   {
    "duration": 134,
    "start_time": "2022-07-26T02:54:15.898Z"
   },
   {
    "duration": 8,
    "start_time": "2022-07-26T02:54:20.147Z"
   },
   {
    "duration": 170,
    "start_time": "2022-07-26T02:55:27.582Z"
   },
   {
    "duration": 8,
    "start_time": "2022-07-26T02:55:30.793Z"
   },
   {
    "duration": 163,
    "start_time": "2022-07-26T02:56:10.304Z"
   },
   {
    "duration": 177,
    "start_time": "2022-07-26T02:56:18.228Z"
   },
   {
    "duration": 9,
    "start_time": "2022-07-26T02:56:21.372Z"
   },
   {
    "duration": 172,
    "start_time": "2022-07-26T02:56:48.341Z"
   },
   {
    "duration": 8,
    "start_time": "2022-07-26T02:56:50.896Z"
   },
   {
    "duration": 165,
    "start_time": "2022-07-26T02:56:53.789Z"
   },
   {
    "duration": 9,
    "start_time": "2022-07-26T02:56:56.827Z"
   },
   {
    "duration": 10,
    "start_time": "2022-07-26T02:57:08.251Z"
   },
   {
    "duration": 9,
    "start_time": "2022-07-26T02:57:23.867Z"
   },
   {
    "duration": 173,
    "start_time": "2022-07-26T02:58:03.406Z"
   },
   {
    "duration": 9,
    "start_time": "2022-07-26T02:58:11.577Z"
   },
   {
    "duration": 182,
    "start_time": "2022-07-26T02:58:33.384Z"
   },
   {
    "duration": 8,
    "start_time": "2022-07-26T02:58:36.715Z"
   },
   {
    "duration": 187,
    "start_time": "2022-07-26T03:01:53.597Z"
   },
   {
    "duration": 9,
    "start_time": "2022-07-26T03:01:56.197Z"
   },
   {
    "duration": 180,
    "start_time": "2022-07-26T03:03:24.384Z"
   },
   {
    "duration": 6,
    "start_time": "2022-07-26T03:15:23.044Z"
   },
   {
    "duration": 59,
    "start_time": "2022-07-26T03:15:32.524Z"
   },
   {
    "duration": 6,
    "start_time": "2022-07-26T03:16:21.696Z"
   },
   {
    "duration": 77,
    "start_time": "2022-07-26T03:18:16.469Z"
   },
   {
    "duration": 200,
    "start_time": "2022-07-26T03:18:24.195Z"
   },
   {
    "duration": 190,
    "start_time": "2022-07-26T03:18:46.280Z"
   },
   {
    "duration": 6,
    "start_time": "2022-07-26T03:18:50.471Z"
   },
   {
    "duration": 7,
    "start_time": "2022-07-26T03:26:02.054Z"
   },
   {
    "duration": 185,
    "start_time": "2022-07-26T03:26:05.300Z"
   },
   {
    "duration": 7,
    "start_time": "2022-07-26T03:26:09.516Z"
   },
   {
    "duration": 186,
    "start_time": "2022-07-26T03:26:25.725Z"
   },
   {
    "duration": 6,
    "start_time": "2022-07-26T03:26:29.075Z"
   },
   {
    "duration": 7,
    "start_time": "2022-07-26T03:28:10.418Z"
   },
   {
    "duration": 7,
    "start_time": "2022-07-26T03:28:20.383Z"
   },
   {
    "duration": 200,
    "start_time": "2022-07-26T03:33:14.654Z"
   },
   {
    "duration": 8,
    "start_time": "2022-07-26T03:33:20.512Z"
   },
   {
    "duration": 461,
    "start_time": "2022-07-26T03:34:46.259Z"
   },
   {
    "duration": 7,
    "start_time": "2022-07-26T03:35:11.670Z"
   },
   {
    "duration": 191,
    "start_time": "2022-07-26T03:35:33.339Z"
   },
   {
    "duration": 196,
    "start_time": "2022-07-26T03:36:09.871Z"
   },
   {
    "duration": 190,
    "start_time": "2022-07-26T03:36:13.950Z"
   },
   {
    "duration": 8,
    "start_time": "2022-07-26T03:36:18.391Z"
   },
   {
    "duration": 203,
    "start_time": "2022-07-26T03:36:37.570Z"
   },
   {
    "duration": 190,
    "start_time": "2022-07-26T03:37:26.059Z"
   },
   {
    "duration": 7,
    "start_time": "2022-07-26T03:37:30.898Z"
   },
   {
    "duration": 133,
    "start_time": "2022-07-26T03:37:47.596Z"
   },
   {
    "duration": 33,
    "start_time": "2022-07-26T03:37:50.194Z"
   },
   {
    "duration": 18,
    "start_time": "2022-07-26T03:37:52.961Z"
   },
   {
    "duration": 24,
    "start_time": "2022-07-26T03:37:56.573Z"
   },
   {
    "duration": 8,
    "start_time": "2022-07-26T03:38:03.136Z"
   },
   {
    "duration": 234,
    "start_time": "2022-07-26T03:38:11.674Z"
   },
   {
    "duration": 8,
    "start_time": "2022-07-26T03:38:16.580Z"
   },
   {
    "duration": 196,
    "start_time": "2022-07-26T03:38:53.993Z"
   },
   {
    "duration": 8,
    "start_time": "2022-07-26T03:38:57.437Z"
   },
   {
    "duration": 232,
    "start_time": "2022-07-26T03:39:42.344Z"
   },
   {
    "duration": 7,
    "start_time": "2022-07-26T03:39:46.196Z"
   },
   {
    "duration": 134,
    "start_time": "2022-07-26T03:40:20.210Z"
   },
   {
    "duration": 32,
    "start_time": "2022-07-26T03:40:23.338Z"
   },
   {
    "duration": 23,
    "start_time": "2022-07-26T03:40:26.719Z"
   },
   {
    "duration": 24,
    "start_time": "2022-07-26T03:40:29.974Z"
   },
   {
    "duration": 46,
    "start_time": "2022-07-26T03:40:43.322Z"
   },
   {
    "duration": 8,
    "start_time": "2022-07-26T03:40:50.576Z"
   },
   {
    "duration": 7,
    "start_time": "2022-07-26T03:40:56.984Z"
   },
   {
    "duration": 6,
    "start_time": "2022-07-26T03:41:01.678Z"
   },
   {
    "duration": 201,
    "start_time": "2022-07-26T03:41:07.519Z"
   },
   {
    "duration": 7,
    "start_time": "2022-07-26T03:41:10.918Z"
   },
   {
    "duration": 64,
    "start_time": "2022-07-26T03:41:28.664Z"
   },
   {
    "duration": 12,
    "start_time": "2022-07-26T03:41:32.283Z"
   },
   {
    "duration": 6,
    "start_time": "2022-07-26T03:41:35.785Z"
   },
   {
    "duration": 7,
    "start_time": "2022-07-26T03:41:41.679Z"
   },
   {
    "duration": 200,
    "start_time": "2022-07-26T03:43:11.987Z"
   },
   {
    "duration": 7,
    "start_time": "2022-07-26T03:43:16.512Z"
   },
   {
    "duration": 7,
    "start_time": "2022-07-26T03:43:41.300Z"
   },
   {
    "duration": 213,
    "start_time": "2022-07-26T03:56:40.710Z"
   },
   {
    "duration": 7,
    "start_time": "2022-07-26T03:56:54.230Z"
   },
   {
    "duration": 202,
    "start_time": "2022-07-26T03:57:56.654Z"
   },
   {
    "duration": 7,
    "start_time": "2022-07-26T03:58:05.290Z"
   },
   {
    "duration": 135,
    "start_time": "2022-07-26T03:58:12.207Z"
   },
   {
    "duration": 31,
    "start_time": "2022-07-26T03:58:15.086Z"
   },
   {
    "duration": 18,
    "start_time": "2022-07-26T03:58:17.857Z"
   },
   {
    "duration": 24,
    "start_time": "2022-07-26T03:58:20.749Z"
   },
   {
    "duration": 8,
    "start_time": "2022-07-26T03:58:26.654Z"
   },
   {
    "duration": 218,
    "start_time": "2022-07-26T04:01:14.354Z"
   },
   {
    "duration": 8,
    "start_time": "2022-07-26T04:01:18.231Z"
   },
   {
    "duration": 208,
    "start_time": "2022-07-26T04:02:50.309Z"
   },
   {
    "duration": 8,
    "start_time": "2022-07-26T04:02:54.715Z"
   },
   {
    "duration": 228,
    "start_time": "2022-07-26T04:04:58.345Z"
   },
   {
    "duration": 255,
    "start_time": "2022-07-26T04:05:08.741Z"
   },
   {
    "duration": 8,
    "start_time": "2022-07-26T04:05:16.089Z"
   },
   {
    "duration": 240,
    "start_time": "2022-07-26T04:06:00.050Z"
   },
   {
    "duration": 217,
    "start_time": "2022-07-26T04:06:03.779Z"
   },
   {
    "duration": 8,
    "start_time": "2022-07-26T04:06:07.918Z"
   },
   {
    "duration": 297,
    "start_time": "2022-07-26T04:08:04.677Z"
   },
   {
    "duration": 12,
    "start_time": "2022-07-26T04:08:18.252Z"
   },
   {
    "duration": 255,
    "start_time": "2022-07-26T04:09:42.540Z"
   },
   {
    "duration": 8,
    "start_time": "2022-07-26T04:09:46.876Z"
   },
   {
    "duration": 268,
    "start_time": "2022-07-26T04:10:23.883Z"
   },
   {
    "duration": 8,
    "start_time": "2022-07-26T04:10:29.849Z"
   },
   {
    "duration": 252,
    "start_time": "2022-07-26T04:10:41.342Z"
   },
   {
    "duration": 9,
    "start_time": "2022-07-26T04:10:45.832Z"
   },
   {
    "duration": 156,
    "start_time": "2022-07-26T04:11:40.088Z"
   },
   {
    "duration": 47,
    "start_time": "2022-07-26T04:11:43.539Z"
   },
   {
    "duration": 21,
    "start_time": "2022-07-26T04:11:47.454Z"
   },
   {
    "duration": 26,
    "start_time": "2022-07-26T04:11:51.265Z"
   },
   {
    "duration": 8,
    "start_time": "2022-07-26T04:11:54.320Z"
   },
   {
    "duration": 243,
    "start_time": "2022-07-26T04:12:32.394Z"
   },
   {
    "duration": 8,
    "start_time": "2022-07-26T04:12:36.048Z"
   },
   {
    "duration": 141,
    "start_time": "2022-07-26T04:15:08.568Z"
   },
   {
    "duration": 33,
    "start_time": "2022-07-26T04:15:11.602Z"
   },
   {
    "duration": 28,
    "start_time": "2022-07-26T04:15:15.205Z"
   },
   {
    "duration": 36,
    "start_time": "2022-07-26T04:15:18.058Z"
   },
   {
    "duration": 10,
    "start_time": "2022-07-26T04:15:22.471Z"
   },
   {
    "duration": 13,
    "start_time": "2022-07-26T04:15:35.903Z"
   },
   {
    "duration": 6,
    "start_time": "2022-07-26T04:15:38.819Z"
   },
   {
    "duration": 233,
    "start_time": "2022-07-26T04:15:42.142Z"
   },
   {
    "duration": 6,
    "start_time": "2022-07-26T04:15:45.879Z"
   },
   {
    "duration": 10,
    "start_time": "2022-07-26T04:18:06.510Z"
   },
   {
    "duration": 224,
    "start_time": "2022-07-26T04:24:07.087Z"
   },
   {
    "duration": 9,
    "start_time": "2022-07-26T04:24:10.840Z"
   },
   {
    "duration": 1235,
    "start_time": "2022-07-26T04:24:40.560Z"
   },
   {
    "duration": 70,
    "start_time": "2022-07-26T04:24:41.798Z"
   },
   {
    "duration": 22,
    "start_time": "2022-07-26T04:24:41.870Z"
   },
   {
    "duration": 26,
    "start_time": "2022-07-26T04:24:41.894Z"
   },
   {
    "duration": 10,
    "start_time": "2022-07-26T04:24:41.937Z"
   },
   {
    "duration": 238,
    "start_time": "2022-07-26T04:24:41.949Z"
   },
   {
    "duration": 7,
    "start_time": "2022-07-26T04:24:42.188Z"
   },
   {
    "duration": 256,
    "start_time": "2022-07-26T04:25:13.789Z"
   },
   {
    "duration": 9,
    "start_time": "2022-07-26T04:25:18.209Z"
   },
   {
    "duration": 9,
    "start_time": "2022-07-26T04:25:56.785Z"
   },
   {
    "duration": 1210,
    "start_time": "2022-07-26T04:26:19.381Z"
   },
   {
    "duration": 67,
    "start_time": "2022-07-26T04:26:20.593Z"
   },
   {
    "duration": 18,
    "start_time": "2022-07-26T04:26:20.662Z"
   },
   {
    "duration": 24,
    "start_time": "2022-07-26T04:26:20.681Z"
   },
   {
    "duration": 32,
    "start_time": "2022-07-26T04:26:20.706Z"
   },
   {
    "duration": 229,
    "start_time": "2022-07-26T04:26:20.739Z"
   },
   {
    "duration": 8,
    "start_time": "2022-07-26T04:26:20.970Z"
   },
   {
    "duration": 8,
    "start_time": "2022-07-26T04:26:27.525Z"
   },
   {
    "duration": 7,
    "start_time": "2022-07-26T04:26:42.208Z"
   },
   {
    "duration": 10,
    "start_time": "2022-07-26T04:26:48.271Z"
   },
   {
    "duration": 234,
    "start_time": "2022-07-26T04:26:53.999Z"
   },
   {
    "duration": 8,
    "start_time": "2022-07-26T04:26:57.311Z"
   },
   {
    "duration": 9,
    "start_time": "2022-07-26T04:27:17.327Z"
   },
   {
    "duration": 9,
    "start_time": "2022-07-26T04:27:40.717Z"
   },
   {
    "duration": 231,
    "start_time": "2022-07-26T04:29:32.283Z"
   },
   {
    "duration": 7,
    "start_time": "2022-07-26T04:29:41.634Z"
   },
   {
    "duration": 12,
    "start_time": "2022-07-26T04:30:04.580Z"
   },
   {
    "duration": 362,
    "start_time": "2022-07-26T04:32:35.718Z"
   },
   {
    "duration": 254,
    "start_time": "2022-07-26T04:32:40.853Z"
   },
   {
    "duration": 12,
    "start_time": "2022-07-26T04:32:48.205Z"
   },
   {
    "duration": 252,
    "start_time": "2022-07-26T04:33:05.380Z"
   },
   {
    "duration": 10,
    "start_time": "2022-07-26T04:33:09.217Z"
   },
   {
    "duration": 7,
    "start_time": "2022-07-26T04:35:38.210Z"
   },
   {
    "duration": 6,
    "start_time": "2022-07-26T04:36:00.405Z"
   },
   {
    "duration": 7,
    "start_time": "2022-07-26T04:36:13.649Z"
   },
   {
    "duration": 6,
    "start_time": "2022-07-26T04:36:27.573Z"
   },
   {
    "duration": 8,
    "start_time": "2022-07-26T04:36:51.670Z"
   },
   {
    "duration": 33,
    "start_time": "2022-07-26T04:38:40.275Z"
   },
   {
    "duration": 27,
    "start_time": "2022-07-26T04:38:50.162Z"
   },
   {
    "duration": 12,
    "start_time": "2022-07-26T04:39:01.289Z"
   },
   {
    "duration": 10,
    "start_time": "2022-07-26T04:39:03.235Z"
   },
   {
    "duration": 31,
    "start_time": "2022-07-26T04:39:06.795Z"
   },
   {
    "duration": 18,
    "start_time": "2022-07-26T04:42:18.563Z"
   },
   {
    "duration": 34,
    "start_time": "2022-07-26T04:42:45.002Z"
   },
   {
    "duration": 8,
    "start_time": "2022-07-26T04:44:00.773Z"
   },
   {
    "duration": 12,
    "start_time": "2022-07-26T04:44:19.978Z"
   },
   {
    "duration": 11,
    "start_time": "2022-07-26T04:44:29.645Z"
   },
   {
    "duration": 12,
    "start_time": "2022-07-26T04:47:03.767Z"
   },
   {
    "duration": 11,
    "start_time": "2022-07-26T04:47:14.847Z"
   },
   {
    "duration": 11,
    "start_time": "2022-07-26T04:49:12.352Z"
   },
   {
    "duration": 11,
    "start_time": "2022-07-26T04:49:27.575Z"
   },
   {
    "duration": 10,
    "start_time": "2022-07-26T04:49:43.270Z"
   },
   {
    "duration": 12,
    "start_time": "2022-07-26T04:50:00.457Z"
   },
   {
    "duration": 16,
    "start_time": "2022-07-26T04:50:11.477Z"
   },
   {
    "duration": 14,
    "start_time": "2022-07-26T04:50:22.421Z"
   },
   {
    "duration": 8,
    "start_time": "2022-07-26T04:50:51.523Z"
   },
   {
    "duration": 9,
    "start_time": "2022-07-26T04:51:02.222Z"
   },
   {
    "duration": 9,
    "start_time": "2022-07-26T04:51:10.992Z"
   },
   {
    "duration": 9,
    "start_time": "2022-07-26T04:53:18.075Z"
   },
   {
    "duration": 11,
    "start_time": "2022-07-26T05:39:26.320Z"
   },
   {
    "duration": 13,
    "start_time": "2022-07-26T05:40:00.368Z"
   },
   {
    "duration": 9,
    "start_time": "2022-07-26T05:40:10.913Z"
   },
   {
    "duration": 13,
    "start_time": "2022-07-26T05:40:23.572Z"
   },
   {
    "duration": 50,
    "start_time": "2022-07-26T05:40:58.629Z"
   },
   {
    "duration": 11,
    "start_time": "2022-07-26T05:41:11.490Z"
   },
   {
    "duration": 8,
    "start_time": "2022-07-26T05:41:49.504Z"
   },
   {
    "duration": 230,
    "start_time": "2022-07-26T05:42:14.914Z"
   },
   {
    "duration": 8,
    "start_time": "2022-07-26T05:42:20.574Z"
   },
   {
    "duration": 10,
    "start_time": "2022-07-26T05:42:39.445Z"
   },
   {
    "duration": 10,
    "start_time": "2022-07-26T05:45:03.256Z"
   },
   {
    "duration": 8,
    "start_time": "2022-07-26T05:56:06.394Z"
   },
   {
    "duration": 12,
    "start_time": "2022-07-26T05:56:24.004Z"
   },
   {
    "duration": 184,
    "start_time": "2022-07-26T06:00:43.396Z"
   },
   {
    "duration": 156,
    "start_time": "2022-07-26T06:01:04.828Z"
   },
   {
    "duration": 141,
    "start_time": "2022-07-26T06:01:22.597Z"
   },
   {
    "duration": 150,
    "start_time": "2022-07-26T06:02:01.878Z"
   },
   {
    "duration": 925,
    "start_time": "2022-07-26T06:06:45.590Z"
   },
   {
    "duration": 724,
    "start_time": "2022-07-26T06:07:01.488Z"
   },
   {
    "duration": 1198,
    "start_time": "2022-07-26T06:07:33.708Z"
   },
   {
    "duration": 167,
    "start_time": "2022-07-26T06:07:38.107Z"
   },
   {
    "duration": 1131,
    "start_time": "2022-07-26T06:07:53.056Z"
   },
   {
    "duration": 452,
    "start_time": "2022-07-26T06:08:13.692Z"
   },
   {
    "duration": 169,
    "start_time": "2022-07-26T06:10:18.100Z"
   },
   {
    "duration": 144,
    "start_time": "2022-07-26T06:11:22.365Z"
   },
   {
    "duration": 149,
    "start_time": "2022-07-26T06:11:53.252Z"
   },
   {
    "duration": 96,
    "start_time": "2022-07-26T06:12:25.427Z"
   },
   {
    "duration": 129,
    "start_time": "2022-07-26T06:12:43.347Z"
   },
   {
    "duration": 124,
    "start_time": "2022-07-26T06:12:50.653Z"
   },
   {
    "duration": 216,
    "start_time": "2022-07-26T06:12:53.540Z"
   },
   {
    "duration": 143,
    "start_time": "2022-07-26T06:12:56.502Z"
   },
   {
    "duration": 144,
    "start_time": "2022-07-26T06:12:58.774Z"
   },
   {
    "duration": 139,
    "start_time": "2022-07-26T06:13:03.441Z"
   },
   {
    "duration": 148,
    "start_time": "2022-07-26T06:13:23.251Z"
   },
   {
    "duration": 463,
    "start_time": "2022-07-26T06:16:06.331Z"
   },
   {
    "duration": 153,
    "start_time": "2022-07-26T06:17:12.906Z"
   },
   {
    "duration": 164,
    "start_time": "2022-07-26T06:18:43.027Z"
   },
   {
    "duration": 175,
    "start_time": "2022-07-26T06:19:01.427Z"
   },
   {
    "duration": 177,
    "start_time": "2022-07-26T06:20:06.053Z"
   },
   {
    "duration": 201,
    "start_time": "2022-07-26T06:20:32.900Z"
   },
   {
    "duration": 1206,
    "start_time": "2022-07-26T06:21:41.413Z"
   },
   {
    "duration": 72,
    "start_time": "2022-07-26T06:21:42.621Z"
   },
   {
    "duration": 17,
    "start_time": "2022-07-26T06:21:42.694Z"
   },
   {
    "duration": 47,
    "start_time": "2022-07-26T06:21:42.713Z"
   },
   {
    "duration": 243,
    "start_time": "2022-07-26T06:21:42.762Z"
   },
   {
    "duration": 179,
    "start_time": "2022-07-26T06:21:43.007Z"
   },
   {
    "duration": 164,
    "start_time": "2022-07-26T06:21:43.188Z"
   },
   {
    "duration": 154,
    "start_time": "2022-07-26T06:21:43.354Z"
   },
   {
    "duration": 1386,
    "start_time": "2022-07-26T06:22:24.237Z"
   },
   {
    "duration": 74,
    "start_time": "2022-07-26T06:22:25.625Z"
   },
   {
    "duration": 17,
    "start_time": "2022-07-26T06:22:25.700Z"
   },
   {
    "duration": 36,
    "start_time": "2022-07-26T06:22:25.719Z"
   },
   {
    "duration": 248,
    "start_time": "2022-07-26T06:22:25.757Z"
   },
   {
    "duration": 211,
    "start_time": "2022-07-26T06:22:26.007Z"
   },
   {
    "duration": 176,
    "start_time": "2022-07-26T06:22:26.220Z"
   },
   {
    "duration": 173,
    "start_time": "2022-07-26T06:22:26.398Z"
   },
   {
    "duration": 32,
    "start_time": "2022-07-26T06:23:19.868Z"
   },
   {
    "duration": 157,
    "start_time": "2022-07-26T06:25:04.772Z"
   },
   {
    "duration": 397,
    "start_time": "2022-07-26T06:26:00.734Z"
   },
   {
    "duration": 513,
    "start_time": "2022-07-26T06:27:08.194Z"
   },
   {
    "duration": 496,
    "start_time": "2022-07-26T06:27:41.152Z"
   },
   {
    "duration": 40,
    "start_time": "2022-07-26T06:30:15.452Z"
   },
   {
    "duration": 24,
    "start_time": "2022-07-26T06:34:39.682Z"
   },
   {
    "duration": 117,
    "start_time": "2022-07-26T06:36:07.190Z"
   },
   {
    "duration": 34,
    "start_time": "2022-07-26T06:36:12.237Z"
   },
   {
    "duration": 30,
    "start_time": "2022-07-26T06:36:25.500Z"
   },
   {
    "duration": 26,
    "start_time": "2022-07-26T06:36:37.594Z"
   },
   {
    "duration": 26,
    "start_time": "2022-07-26T06:36:44.495Z"
   },
   {
    "duration": 25,
    "start_time": "2022-07-26T06:37:21.308Z"
   },
   {
    "duration": 10,
    "start_time": "2022-07-26T06:39:57.050Z"
   },
   {
    "duration": 6,
    "start_time": "2022-07-26T06:53:39.102Z"
   },
   {
    "duration": 34,
    "start_time": "2022-07-26T06:53:46.314Z"
   },
   {
    "duration": 355,
    "start_time": "2022-07-26T07:06:58.343Z"
   },
   {
    "duration": 18,
    "start_time": "2022-07-26T07:07:15.732Z"
   },
   {
    "duration": 18,
    "start_time": "2022-07-26T07:10:52.724Z"
   },
   {
    "duration": 18,
    "start_time": "2022-07-26T07:11:14.612Z"
   },
   {
    "duration": 18,
    "start_time": "2022-07-26T07:11:21.934Z"
   },
   {
    "duration": 7,
    "start_time": "2022-07-26T07:16:18.604Z"
   },
   {
    "duration": 52,
    "start_time": "2022-07-26T07:16:41.662Z"
   },
   {
    "duration": 42,
    "start_time": "2022-07-26T07:16:45.916Z"
   },
   {
    "duration": 7072,
    "start_time": "2022-07-26T07:17:54.131Z"
   },
   {
    "duration": 39,
    "start_time": "2022-07-26T07:18:09.827Z"
   },
   {
    "duration": 10,
    "start_time": "2022-07-26T07:20:50.450Z"
   },
   {
    "duration": 32,
    "start_time": "2022-07-26T07:20:56.553Z"
   },
   {
    "duration": 32,
    "start_time": "2022-07-26T07:21:09.452Z"
   },
   {
    "duration": 57,
    "start_time": "2022-07-27T02:22:26.618Z"
   },
   {
    "duration": 48,
    "start_time": "2022-07-27T02:22:32.258Z"
   },
   {
    "duration": 1457,
    "start_time": "2022-07-27T02:22:41.737Z"
   },
   {
    "duration": 65,
    "start_time": "2022-07-27T02:22:43.196Z"
   },
   {
    "duration": 18,
    "start_time": "2022-07-27T02:22:43.262Z"
   },
   {
    "duration": 38,
    "start_time": "2022-07-27T02:22:43.282Z"
   },
   {
    "duration": 209,
    "start_time": "2022-07-27T02:22:43.322Z"
   },
   {
    "duration": 478,
    "start_time": "2022-07-27T02:22:43.532Z"
   },
   {
    "duration": 13,
    "start_time": "2022-07-27T02:22:44.012Z"
   },
   {
    "duration": 31,
    "start_time": "2022-07-27T02:22:44.027Z"
   },
   {
    "duration": 18,
    "start_time": "2022-07-27T02:22:44.060Z"
   },
   {
    "duration": 50,
    "start_time": "2022-07-27T02:22:44.080Z"
   },
   {
    "duration": 14,
    "start_time": "2022-07-27T02:22:44.131Z"
   },
   {
    "duration": 97,
    "start_time": "2022-07-27T02:23:17.918Z"
   },
   {
    "duration": 51,
    "start_time": "2022-07-27T02:23:27.844Z"
   },
   {
    "duration": 15,
    "start_time": "2022-07-27T02:23:33.031Z"
   },
   {
    "duration": 13,
    "start_time": "2022-07-27T02:24:41.840Z"
   },
   {
    "duration": 14,
    "start_time": "2022-07-27T02:26:15.087Z"
   },
   {
    "duration": 15,
    "start_time": "2022-07-27T02:31:00.380Z"
   },
   {
    "duration": 4,
    "start_time": "2022-07-27T02:32:31.055Z"
   },
   {
    "duration": 3,
    "start_time": "2022-07-27T02:33:25.054Z"
   },
   {
    "duration": 6,
    "start_time": "2022-07-27T02:33:33.486Z"
   },
   {
    "duration": 49,
    "start_time": "2022-07-27T02:36:52.000Z"
   },
   {
    "duration": 195,
    "start_time": "2022-07-27T02:36:58.762Z"
   },
   {
    "duration": 193,
    "start_time": "2022-07-27T02:37:27.005Z"
   },
   {
    "duration": 454,
    "start_time": "2022-07-27T02:37:40.066Z"
   },
   {
    "duration": 365,
    "start_time": "2022-07-27T02:41:17.130Z"
   },
   {
    "duration": 378,
    "start_time": "2022-07-27T02:41:33.608Z"
   },
   {
    "duration": 383,
    "start_time": "2022-07-27T02:41:44.690Z"
   },
   {
    "duration": 347,
    "start_time": "2022-07-27T02:42:03.220Z"
   },
   {
    "duration": 470,
    "start_time": "2022-07-27T02:42:10.211Z"
   },
   {
    "duration": 372,
    "start_time": "2022-07-27T02:42:24.046Z"
   },
   {
    "duration": 368,
    "start_time": "2022-07-27T02:42:34.729Z"
   },
   {
    "duration": 385,
    "start_time": "2022-07-27T02:43:08.033Z"
   },
   {
    "duration": 403,
    "start_time": "2022-07-27T02:54:22.470Z"
   },
   {
    "duration": 365,
    "start_time": "2022-07-27T02:54:42.149Z"
   },
   {
    "duration": 9,
    "start_time": "2022-07-27T02:56:01.695Z"
   },
   {
    "duration": 13,
    "start_time": "2022-07-27T02:56:05.969Z"
   },
   {
    "duration": 279,
    "start_time": "2022-07-27T02:56:33.595Z"
   },
   {
    "duration": 197,
    "start_time": "2022-07-27T02:58:51.176Z"
   },
   {
    "duration": 189,
    "start_time": "2022-07-27T02:59:17.726Z"
   },
   {
    "duration": 7,
    "start_time": "2022-07-27T03:00:52.944Z"
   },
   {
    "duration": 205,
    "start_time": "2022-07-27T03:01:59.603Z"
   },
   {
    "duration": 183,
    "start_time": "2022-07-27T03:11:19.447Z"
   },
   {
    "duration": 179,
    "start_time": "2022-07-27T03:11:33.519Z"
   },
   {
    "duration": 189,
    "start_time": "2022-07-27T03:11:48.438Z"
   },
   {
    "duration": 1948,
    "start_time": "2022-07-27T09:56:20.743Z"
   },
   {
    "duration": 82,
    "start_time": "2022-07-27T09:56:22.693Z"
   },
   {
    "duration": 35,
    "start_time": "2022-07-27T09:56:22.777Z"
   },
   {
    "duration": 27,
    "start_time": "2022-07-27T09:56:22.815Z"
   },
   {
    "duration": 306,
    "start_time": "2022-07-27T09:56:22.845Z"
   },
   {
    "duration": 615,
    "start_time": "2022-07-27T09:56:23.154Z"
   },
   {
    "duration": 17,
    "start_time": "2022-07-27T09:56:23.771Z"
   },
   {
    "duration": 37,
    "start_time": "2022-07-27T09:56:23.790Z"
   },
   {
    "duration": 15,
    "start_time": "2022-07-27T09:56:23.828Z"
   },
   {
    "duration": 86,
    "start_time": "2022-07-27T09:56:23.846Z"
   },
   {
    "duration": 300,
    "start_time": "2022-07-27T09:56:23.935Z"
   },
   {
    "duration": 323,
    "start_time": "2022-07-27T09:56:24.238Z"
   },
   {
    "duration": 407,
    "start_time": "2022-07-27T09:59:46.372Z"
   },
   {
    "duration": 79,
    "start_time": "2022-07-27T10:02:03.633Z"
   },
   {
    "duration": 279,
    "start_time": "2022-07-27T10:03:00.468Z"
   },
   {
    "duration": 263,
    "start_time": "2022-07-27T10:04:13.402Z"
   },
   {
    "duration": 20,
    "start_time": "2022-07-27T10:14:26.197Z"
   },
   {
    "duration": 22,
    "start_time": "2022-07-27T10:14:41.948Z"
   },
   {
    "duration": 47,
    "start_time": "2022-07-27T10:16:22.566Z"
   },
   {
    "duration": 21,
    "start_time": "2022-07-27T10:16:35.588Z"
   },
   {
    "duration": 117,
    "start_time": "2022-07-27T10:16:54.460Z"
   },
   {
    "duration": 22,
    "start_time": "2022-07-27T10:17:13.451Z"
   },
   {
    "duration": 42,
    "start_time": "2022-07-27T10:22:18.156Z"
   },
   {
    "duration": 37,
    "start_time": "2022-07-27T10:22:28.207Z"
   },
   {
    "duration": 22,
    "start_time": "2022-07-27T10:24:16.999Z"
   },
   {
    "duration": 15,
    "start_time": "2022-07-27T10:25:02.153Z"
   },
   {
    "duration": 21,
    "start_time": "2022-07-27T10:25:45.628Z"
   },
   {
    "duration": 20,
    "start_time": "2022-07-27T10:25:52.168Z"
   },
   {
    "duration": 10,
    "start_time": "2022-07-27T10:27:47.022Z"
   },
   {
    "duration": 1467,
    "start_time": "2022-07-27T10:28:23.066Z"
   },
   {
    "duration": 79,
    "start_time": "2022-07-27T10:28:24.535Z"
   },
   {
    "duration": 21,
    "start_time": "2022-07-27T10:28:24.616Z"
   },
   {
    "duration": 67,
    "start_time": "2022-07-27T10:28:24.639Z"
   },
   {
    "duration": 284,
    "start_time": "2022-07-27T10:28:24.709Z"
   },
   {
    "duration": 629,
    "start_time": "2022-07-27T10:28:24.995Z"
   },
   {
    "duration": 21,
    "start_time": "2022-07-27T10:28:25.626Z"
   },
   {
    "duration": 95,
    "start_time": "2022-07-27T10:28:25.650Z"
   },
   {
    "duration": 35,
    "start_time": "2022-07-27T10:28:25.748Z"
   },
   {
    "duration": 124,
    "start_time": "2022-07-27T10:28:25.786Z"
   },
   {
    "duration": 282,
    "start_time": "2022-07-27T10:28:25.912Z"
   },
   {
    "duration": 292,
    "start_time": "2022-07-27T10:28:26.196Z"
   },
   {
    "duration": 462,
    "start_time": "2022-07-27T10:28:26.491Z"
   },
   {
    "duration": 25,
    "start_time": "2022-07-27T10:28:26.957Z"
   },
   {
    "duration": 57,
    "start_time": "2022-07-27T10:28:26.984Z"
   },
   {
    "duration": 94,
    "start_time": "2022-07-27T10:28:27.043Z"
   },
   {
    "duration": 15,
    "start_time": "2022-07-27T10:30:27.927Z"
   },
   {
    "duration": 79,
    "start_time": "2022-07-27T10:31:00.435Z"
   },
   {
    "duration": 135,
    "start_time": "2022-07-27T10:35:42.191Z"
   },
   {
    "duration": 12,
    "start_time": "2022-07-27T10:36:03.336Z"
   },
   {
    "duration": 24,
    "start_time": "2022-07-27T10:36:06.632Z"
   },
   {
    "duration": 12,
    "start_time": "2022-07-27T10:36:10.028Z"
   },
   {
    "duration": 22,
    "start_time": "2022-07-27T10:36:15.963Z"
   },
   {
    "duration": 2827,
    "start_time": "2022-07-27T10:36:39.503Z"
   },
   {
    "duration": 1555,
    "start_time": "2022-07-27T10:36:47.367Z"
   },
   {
    "duration": 1596,
    "start_time": "2022-07-27T10:36:53.254Z"
   },
   {
    "duration": 45,
    "start_time": "2022-07-27T10:37:40.854Z"
   },
   {
    "duration": 17,
    "start_time": "2022-07-27T10:37:46.590Z"
   },
   {
    "duration": 41,
    "start_time": "2022-07-27T10:38:03.943Z"
   },
   {
    "duration": 18,
    "start_time": "2022-07-27T10:39:36.323Z"
   },
   {
    "duration": 22,
    "start_time": "2022-07-27T10:40:13.823Z"
   },
   {
    "duration": 19,
    "start_time": "2022-07-27T10:40:23.824Z"
   },
   {
    "duration": 19,
    "start_time": "2022-07-27T10:40:59.817Z"
   },
   {
    "duration": 8,
    "start_time": "2022-07-27T10:42:01.624Z"
   },
   {
    "duration": 44,
    "start_time": "2022-07-27T10:54:40.457Z"
   },
   {
    "duration": 54,
    "start_time": "2022-07-27T10:54:49.891Z"
   },
   {
    "duration": 41,
    "start_time": "2022-07-27T10:55:03.552Z"
   },
   {
    "duration": 43,
    "start_time": "2022-07-27T10:56:01.755Z"
   },
   {
    "duration": 271,
    "start_time": "2022-07-27T10:56:21.790Z"
   },
   {
    "duration": 21,
    "start_time": "2022-07-27T11:00:44.537Z"
   },
   {
    "duration": 5,
    "start_time": "2022-07-27T11:01:06.870Z"
   },
   {
    "duration": 19,
    "start_time": "2022-07-27T11:01:18.586Z"
   },
   {
    "duration": 11,
    "start_time": "2022-07-27T11:02:35.340Z"
   },
   {
    "duration": 21,
    "start_time": "2022-07-27T11:04:37.584Z"
   },
   {
    "duration": 25,
    "start_time": "2022-07-27T11:05:17.675Z"
   },
   {
    "duration": 20,
    "start_time": "2022-07-27T11:05:22.374Z"
   },
   {
    "duration": 21,
    "start_time": "2022-07-27T11:07:00.457Z"
   },
   {
    "duration": 22,
    "start_time": "2022-07-27T11:07:11.052Z"
   },
   {
    "duration": 21,
    "start_time": "2022-07-27T11:07:16.237Z"
   },
   {
    "duration": 18,
    "start_time": "2022-07-27T11:07:23.928Z"
   },
   {
    "duration": 24,
    "start_time": "2022-07-27T11:07:44.143Z"
   },
   {
    "duration": 25,
    "start_time": "2022-07-27T11:07:49.405Z"
   },
   {
    "duration": 19,
    "start_time": "2022-07-27T11:08:12.074Z"
   },
   {
    "duration": 234,
    "start_time": "2022-07-27T11:11:58.597Z"
   },
   {
    "duration": 1637,
    "start_time": "2022-07-27T11:20:10.429Z"
   },
   {
    "duration": 1068,
    "start_time": "2022-07-27T11:20:49.279Z"
   },
   {
    "duration": 1090,
    "start_time": "2022-07-27T11:21:03.426Z"
   },
   {
    "duration": 1506,
    "start_time": "2022-07-27T11:21:35.249Z"
   },
   {
    "duration": 1534,
    "start_time": "2022-07-27T11:24:01.003Z"
   },
   {
    "duration": 82,
    "start_time": "2022-07-27T11:24:02.540Z"
   },
   {
    "duration": 21,
    "start_time": "2022-07-27T11:24:02.623Z"
   },
   {
    "duration": 92,
    "start_time": "2022-07-27T11:24:02.646Z"
   },
   {
    "duration": 313,
    "start_time": "2022-07-27T11:24:02.740Z"
   },
   {
    "duration": 606,
    "start_time": "2022-07-27T11:24:03.055Z"
   },
   {
    "duration": 15,
    "start_time": "2022-07-27T11:24:03.663Z"
   },
   {
    "duration": 43,
    "start_time": "2022-07-27T11:24:03.680Z"
   },
   {
    "duration": 15,
    "start_time": "2022-07-27T11:24:03.725Z"
   },
   {
    "duration": 66,
    "start_time": "2022-07-27T11:24:03.741Z"
   },
   {
    "duration": 264,
    "start_time": "2022-07-27T11:24:03.809Z"
   },
   {
    "duration": 285,
    "start_time": "2022-07-27T11:24:04.075Z"
   },
   {
    "duration": 364,
    "start_time": "2022-07-27T11:24:04.362Z"
   },
   {
    "duration": 19,
    "start_time": "2022-07-27T11:24:04.729Z"
   },
   {
    "duration": 74,
    "start_time": "2022-07-27T11:24:04.750Z"
   },
   {
    "duration": 65,
    "start_time": "2022-07-27T11:24:04.826Z"
   },
   {
    "duration": 41,
    "start_time": "2022-07-27T11:24:04.893Z"
   },
   {
    "duration": 213,
    "start_time": "2022-07-27T11:24:40.925Z"
   },
   {
    "duration": 33,
    "start_time": "2022-07-27T11:24:46.693Z"
   },
   {
    "duration": 272,
    "start_time": "2022-07-27T11:25:06.390Z"
   },
   {
    "duration": 21,
    "start_time": "2022-07-27T11:25:44.617Z"
   },
   {
    "duration": 127,
    "start_time": "2022-07-27T11:25:57.041Z"
   },
   {
    "duration": 21,
    "start_time": "2022-07-27T11:26:26.401Z"
   },
   {
    "duration": 22,
    "start_time": "2022-07-27T11:26:43.500Z"
   },
   {
    "duration": 30,
    "start_time": "2022-07-27T11:27:06.547Z"
   },
   {
    "duration": 44,
    "start_time": "2022-07-27T11:27:26.459Z"
   },
   {
    "duration": 24,
    "start_time": "2022-07-27T11:28:45.698Z"
   },
   {
    "duration": 23,
    "start_time": "2022-07-27T11:29:02.323Z"
   },
   {
    "duration": 36,
    "start_time": "2022-07-27T11:29:08.177Z"
   },
   {
    "duration": 26,
    "start_time": "2022-07-27T11:29:36.225Z"
   },
   {
    "duration": 25,
    "start_time": "2022-07-27T11:29:55.441Z"
   },
   {
    "duration": 26,
    "start_time": "2022-07-27T11:30:01.704Z"
   },
   {
    "duration": 34,
    "start_time": "2022-07-27T11:30:11.109Z"
   },
   {
    "duration": 35,
    "start_time": "2022-07-27T11:30:29.056Z"
   },
   {
    "duration": 16,
    "start_time": "2022-07-27T11:33:08.271Z"
   },
   {
    "duration": 21,
    "start_time": "2022-07-27T11:33:12.464Z"
   },
   {
    "duration": 25,
    "start_time": "2022-07-27T11:34:01.852Z"
   },
   {
    "duration": 17,
    "start_time": "2022-07-27T11:35:49.196Z"
   },
   {
    "duration": 28,
    "start_time": "2022-07-27T11:36:07.659Z"
   },
   {
    "duration": 18,
    "start_time": "2022-07-27T11:36:11.642Z"
   },
   {
    "duration": 15,
    "start_time": "2022-07-27T11:36:43.549Z"
   },
   {
    "duration": 23,
    "start_time": "2022-07-27T11:36:48.296Z"
   },
   {
    "duration": 22,
    "start_time": "2022-07-27T11:37:33.136Z"
   },
   {
    "duration": 110,
    "start_time": "2022-07-27T11:39:50.595Z"
   },
   {
    "duration": 85,
    "start_time": "2022-07-27T11:40:04.887Z"
   },
   {
    "duration": 26,
    "start_time": "2022-07-27T11:40:13.592Z"
   },
   {
    "duration": 25,
    "start_time": "2022-07-27T11:40:22.262Z"
   },
   {
    "duration": 35,
    "start_time": "2022-07-27T11:40:43.549Z"
   },
   {
    "duration": 35,
    "start_time": "2022-07-27T11:41:06.350Z"
   },
   {
    "duration": 23,
    "start_time": "2022-07-27T11:42:03.592Z"
   },
   {
    "duration": 37,
    "start_time": "2022-07-27T11:42:15.804Z"
   },
   {
    "duration": 1803,
    "start_time": "2022-07-28T06:26:44.975Z"
   },
   {
    "duration": 88,
    "start_time": "2022-07-28T06:26:46.780Z"
   },
   {
    "duration": 19,
    "start_time": "2022-07-28T06:26:46.869Z"
   },
   {
    "duration": 44,
    "start_time": "2022-07-28T06:26:46.890Z"
   },
   {
    "duration": 255,
    "start_time": "2022-07-28T06:26:46.936Z"
   },
   {
    "duration": 518,
    "start_time": "2022-07-28T06:26:47.193Z"
   },
   {
    "duration": 22,
    "start_time": "2022-07-28T06:26:47.713Z"
   },
   {
    "duration": 34,
    "start_time": "2022-07-28T06:26:47.736Z"
   },
   {
    "duration": 13,
    "start_time": "2022-07-28T06:26:47.772Z"
   },
   {
    "duration": 56,
    "start_time": "2022-07-28T06:26:47.789Z"
   },
   {
    "duration": 234,
    "start_time": "2022-07-28T06:26:47.847Z"
   },
   {
    "duration": 247,
    "start_time": "2022-07-28T06:26:48.083Z"
   },
   {
    "duration": 308,
    "start_time": "2022-07-28T06:26:48.331Z"
   },
   {
    "duration": 17,
    "start_time": "2022-07-28T06:26:48.640Z"
   },
   {
    "duration": 27,
    "start_time": "2022-07-28T06:26:48.658Z"
   },
   {
    "duration": 26,
    "start_time": "2022-07-28T06:26:48.687Z"
   },
   {
    "duration": 32,
    "start_time": "2022-07-28T06:26:48.715Z"
   },
   {
    "duration": 253,
    "start_time": "2022-07-28T06:28:30.856Z"
   },
   {
    "duration": 278,
    "start_time": "2022-07-28T06:29:06.580Z"
   },
   {
    "duration": 287,
    "start_time": "2022-07-28T06:29:41.795Z"
   },
   {
    "duration": 272,
    "start_time": "2022-07-28T06:30:09.756Z"
   },
   {
    "duration": 279,
    "start_time": "2022-07-28T06:30:16.585Z"
   },
   {
    "duration": 304,
    "start_time": "2022-07-28T06:31:11.909Z"
   },
   {
    "duration": 291,
    "start_time": "2022-07-28T06:31:21.123Z"
   },
   {
    "duration": 288,
    "start_time": "2022-07-28T06:31:53.750Z"
   },
   {
    "duration": 297,
    "start_time": "2022-07-28T06:32:21.923Z"
   },
   {
    "duration": 307,
    "start_time": "2022-07-28T06:33:00.848Z"
   },
   {
    "duration": 418,
    "start_time": "2022-07-28T06:33:42.689Z"
   },
   {
    "duration": 340,
    "start_time": "2022-07-28T06:34:08.133Z"
   },
   {
    "duration": 309,
    "start_time": "2022-07-28T06:35:04.666Z"
   },
   {
    "duration": 131,
    "start_time": "2022-07-28T06:35:26.637Z"
   },
   {
    "duration": 291,
    "start_time": "2022-07-28T06:35:34.279Z"
   },
   {
    "duration": 341,
    "start_time": "2022-07-28T06:35:50.339Z"
   },
   {
    "duration": 344,
    "start_time": "2022-07-28T06:36:54.731Z"
   },
   {
    "duration": 68,
    "start_time": "2022-07-28T06:37:47.264Z"
   },
   {
    "duration": 326,
    "start_time": "2022-07-28T06:37:58.147Z"
   },
   {
    "duration": 346,
    "start_time": "2022-07-28T06:38:06.162Z"
   },
   {
    "duration": 327,
    "start_time": "2022-07-28T06:38:15.215Z"
   },
   {
    "duration": 535,
    "start_time": "2022-07-28T06:40:53.299Z"
   },
   {
    "duration": 657,
    "start_time": "2022-07-28T06:46:53.030Z"
   },
   {
    "duration": 550,
    "start_time": "2022-07-28T06:47:37.120Z"
   },
   {
    "duration": 546,
    "start_time": "2022-07-28T06:48:26.641Z"
   },
   {
    "duration": 570,
    "start_time": "2022-07-28T06:48:47.185Z"
   },
   {
    "duration": 572,
    "start_time": "2022-07-28T06:49:55.809Z"
   },
   {
    "duration": 637,
    "start_time": "2022-07-28T06:50:14.100Z"
   },
   {
    "duration": 38,
    "start_time": "2022-07-28T08:35:34.489Z"
   },
   {
    "duration": 42,
    "start_time": "2022-07-28T08:36:13.906Z"
   },
   {
    "duration": 50,
    "start_time": "2022-07-28T08:44:38.564Z"
   },
   {
    "duration": 40,
    "start_time": "2022-07-28T08:45:02.752Z"
   },
   {
    "duration": 61,
    "start_time": "2022-07-28T08:46:11.832Z"
   },
   {
    "duration": 18,
    "start_time": "2022-07-28T08:46:55.174Z"
   },
   {
    "duration": 16,
    "start_time": "2022-07-28T08:46:58.759Z"
   },
   {
    "duration": 40,
    "start_time": "2022-07-28T08:47:10.280Z"
   },
   {
    "duration": 52,
    "start_time": "2022-07-28T08:47:51.555Z"
   },
   {
    "duration": 7,
    "start_time": "2022-07-28T08:49:01.762Z"
   },
   {
    "duration": 39,
    "start_time": "2022-07-28T08:49:18.194Z"
   },
   {
    "duration": 23,
    "start_time": "2022-07-28T08:53:21.179Z"
   },
   {
    "duration": 47,
    "start_time": "2022-07-28T08:55:56.128Z"
   },
   {
    "duration": 42,
    "start_time": "2022-07-28T08:56:04.117Z"
   },
   {
    "duration": 39,
    "start_time": "2022-07-28T08:56:57.203Z"
   },
   {
    "duration": 49,
    "start_time": "2022-07-28T08:57:23.999Z"
   },
   {
    "duration": 1293,
    "start_time": "2022-07-28T09:18:15.608Z"
   },
   {
    "duration": 82,
    "start_time": "2022-07-28T09:18:16.903Z"
   },
   {
    "duration": 17,
    "start_time": "2022-07-28T09:18:16.986Z"
   },
   {
    "duration": 34,
    "start_time": "2022-07-28T09:18:17.005Z"
   },
   {
    "duration": 244,
    "start_time": "2022-07-28T09:18:17.042Z"
   },
   {
    "duration": 523,
    "start_time": "2022-07-28T09:18:17.288Z"
   },
   {
    "duration": 16,
    "start_time": "2022-07-28T09:18:17.813Z"
   },
   {
    "duration": 25,
    "start_time": "2022-07-28T09:18:17.831Z"
   },
   {
    "duration": 12,
    "start_time": "2022-07-28T09:18:17.857Z"
   },
   {
    "duration": 61,
    "start_time": "2022-07-28T09:18:17.871Z"
   },
   {
    "duration": 236,
    "start_time": "2022-07-28T09:18:17.934Z"
   },
   {
    "duration": 238,
    "start_time": "2022-07-28T09:18:18.171Z"
   },
   {
    "duration": 306,
    "start_time": "2022-07-28T09:18:18.411Z"
   },
   {
    "duration": 16,
    "start_time": "2022-07-28T09:18:18.722Z"
   },
   {
    "duration": 16,
    "start_time": "2022-07-28T09:18:18.740Z"
   },
   {
    "duration": 9,
    "start_time": "2022-07-28T09:18:18.758Z"
   },
   {
    "duration": 638,
    "start_time": "2022-07-28T09:18:18.768Z"
   },
   {
    "duration": 4,
    "start_time": "2022-07-28T09:18:19.408Z"
   },
   {
    "duration": 41,
    "start_time": "2022-07-28T09:18:19.423Z"
   },
   {
    "duration": 5,
    "start_time": "2022-07-28T09:19:13.548Z"
   },
   {
    "duration": 41,
    "start_time": "2022-07-28T09:19:24.588Z"
   },
   {
    "duration": 11,
    "start_time": "2022-07-28T09:22:12.516Z"
   },
   {
    "duration": 17,
    "start_time": "2022-07-28T09:23:55.497Z"
   },
   {
    "duration": 8,
    "start_time": "2022-07-28T09:24:28.138Z"
   },
   {
    "duration": 113,
    "start_time": "2022-07-28T09:25:04.734Z"
   },
   {
    "duration": 1252,
    "start_time": "2022-07-28T09:26:43.049Z"
   },
   {
    "duration": 72,
    "start_time": "2022-07-28T09:26:44.303Z"
   },
   {
    "duration": 18,
    "start_time": "2022-07-28T09:26:44.376Z"
   },
   {
    "duration": 33,
    "start_time": "2022-07-28T09:26:44.396Z"
   },
   {
    "duration": 236,
    "start_time": "2022-07-28T09:26:44.431Z"
   },
   {
    "duration": 522,
    "start_time": "2022-07-28T09:26:44.669Z"
   },
   {
    "duration": 15,
    "start_time": "2022-07-28T09:26:45.192Z"
   },
   {
    "duration": 36,
    "start_time": "2022-07-28T09:26:45.208Z"
   },
   {
    "duration": 11,
    "start_time": "2022-07-28T09:26:45.246Z"
   },
   {
    "duration": 43,
    "start_time": "2022-07-28T09:26:45.260Z"
   },
   {
    "duration": 261,
    "start_time": "2022-07-28T09:26:45.305Z"
   },
   {
    "duration": 243,
    "start_time": "2022-07-28T09:26:45.567Z"
   },
   {
    "duration": 342,
    "start_time": "2022-07-28T09:26:45.812Z"
   },
   {
    "duration": 16,
    "start_time": "2022-07-28T09:26:46.156Z"
   },
   {
    "duration": 18,
    "start_time": "2022-07-28T09:26:46.174Z"
   },
   {
    "duration": 30,
    "start_time": "2022-07-28T09:26:46.194Z"
   },
   {
    "duration": 561,
    "start_time": "2022-07-28T09:26:46.226Z"
   },
   {
    "duration": 5,
    "start_time": "2022-07-28T09:26:46.789Z"
   },
   {
    "duration": 14,
    "start_time": "2022-07-28T09:26:46.796Z"
   },
   {
    "duration": 122,
    "start_time": "2022-07-28T09:26:46.811Z"
   },
   {
    "duration": 26,
    "start_time": "2022-07-28T09:28:16.763Z"
   },
   {
    "duration": 17,
    "start_time": "2022-07-28T09:30:52.393Z"
   },
   {
    "duration": 233,
    "start_time": "2022-07-28T09:31:28.205Z"
   },
   {
    "duration": 12,
    "start_time": "2022-07-28T09:32:00.566Z"
   },
   {
    "duration": 14,
    "start_time": "2022-07-28T09:32:09.292Z"
   },
   {
    "duration": 9,
    "start_time": "2022-07-28T09:32:22.516Z"
   },
   {
    "duration": 4,
    "start_time": "2022-07-28T09:32:55.316Z"
   },
   {
    "duration": 874,
    "start_time": "2022-07-28T09:34:54.862Z"
   },
   {
    "duration": 11,
    "start_time": "2022-07-28T09:36:39.930Z"
   },
   {
    "duration": 10,
    "start_time": "2022-07-28T09:42:18.537Z"
   },
   {
    "duration": 12,
    "start_time": "2022-07-28T09:42:28.984Z"
   },
   {
    "duration": 10,
    "start_time": "2022-07-28T09:43:01.309Z"
   },
   {
    "duration": 10,
    "start_time": "2022-07-28T09:45:46.169Z"
   },
   {
    "duration": 12,
    "start_time": "2022-07-28T09:47:11.645Z"
   },
   {
    "duration": 10,
    "start_time": "2022-07-28T09:47:17.446Z"
   },
   {
    "duration": 12,
    "start_time": "2022-07-28T10:05:55.606Z"
   },
   {
    "duration": 11,
    "start_time": "2022-07-28T10:06:32.459Z"
   },
   {
    "duration": 450,
    "start_time": "2022-07-28T10:07:35.769Z"
   },
   {
    "duration": 13,
    "start_time": "2022-07-28T10:14:34.838Z"
   },
   {
    "duration": 14,
    "start_time": "2022-07-28T10:15:11.792Z"
   },
   {
    "duration": 17,
    "start_time": "2022-07-28T10:18:32.386Z"
   },
   {
    "duration": 11,
    "start_time": "2022-07-28T10:18:45.363Z"
   },
   {
    "duration": 10,
    "start_time": "2022-07-28T10:21:41.412Z"
   },
   {
    "duration": 949,
    "start_time": "2022-07-28T10:21:49.115Z"
   },
   {
    "duration": 15,
    "start_time": "2022-07-28T10:22:09.347Z"
   },
   {
    "duration": 17,
    "start_time": "2022-07-28T10:22:57.226Z"
   },
   {
    "duration": 14,
    "start_time": "2022-07-28T10:23:03.438Z"
   },
   {
    "duration": 16,
    "start_time": "2022-07-28T10:23:37.193Z"
   },
   {
    "duration": 16,
    "start_time": "2022-07-28T10:23:42.427Z"
   },
   {
    "duration": 12,
    "start_time": "2022-07-28T10:24:14.760Z"
   },
   {
    "duration": 15,
    "start_time": "2022-07-28T10:24:39.256Z"
   },
   {
    "duration": 1259,
    "start_time": "2022-07-28T10:25:00.361Z"
   },
   {
    "duration": 72,
    "start_time": "2022-07-28T10:25:01.623Z"
   },
   {
    "duration": 29,
    "start_time": "2022-07-28T10:25:01.697Z"
   },
   {
    "duration": 17,
    "start_time": "2022-07-28T10:25:01.728Z"
   },
   {
    "duration": 246,
    "start_time": "2022-07-28T10:25:01.747Z"
   },
   {
    "duration": 532,
    "start_time": "2022-07-28T10:25:01.995Z"
   },
   {
    "duration": 13,
    "start_time": "2022-07-28T10:25:02.529Z"
   },
   {
    "duration": 32,
    "start_time": "2022-07-28T10:25:02.544Z"
   },
   {
    "duration": 12,
    "start_time": "2022-07-28T10:25:02.578Z"
   },
   {
    "duration": 62,
    "start_time": "2022-07-28T10:25:02.592Z"
   },
   {
    "duration": 238,
    "start_time": "2022-07-28T10:25:02.656Z"
   },
   {
    "duration": 244,
    "start_time": "2022-07-28T10:25:02.896Z"
   },
   {
    "duration": 309,
    "start_time": "2022-07-28T10:25:03.141Z"
   },
   {
    "duration": 16,
    "start_time": "2022-07-28T10:25:03.451Z"
   },
   {
    "duration": 16,
    "start_time": "2022-07-28T10:25:03.468Z"
   },
   {
    "duration": 9,
    "start_time": "2022-07-28T10:25:03.485Z"
   },
   {
    "duration": 566,
    "start_time": "2022-07-28T10:25:03.496Z"
   },
   {
    "duration": 6,
    "start_time": "2022-07-28T10:25:04.064Z"
   },
   {
    "duration": 16,
    "start_time": "2022-07-28T10:25:04.072Z"
   },
   {
    "duration": 14,
    "start_time": "2022-07-28T10:25:04.090Z"
   },
   {
    "duration": 103,
    "start_time": "2022-07-28T10:25:21.751Z"
   },
   {
    "duration": 13,
    "start_time": "2022-07-28T10:25:42.118Z"
   },
   {
    "duration": 4,
    "start_time": "2022-07-28T10:25:46.738Z"
   },
   {
    "duration": 17,
    "start_time": "2022-07-28T10:25:53.828Z"
   },
   {
    "duration": 9,
    "start_time": "2022-07-28T10:26:35.220Z"
   },
   {
    "duration": 7,
    "start_time": "2022-07-28T10:26:46.854Z"
   },
   {
    "duration": 11,
    "start_time": "2022-07-28T10:26:55.541Z"
   },
   {
    "duration": 10,
    "start_time": "2022-07-28T10:27:24.505Z"
   },
   {
    "duration": 8,
    "start_time": "2022-07-28T10:27:31.040Z"
   },
   {
    "duration": 8,
    "start_time": "2022-07-28T10:27:40.616Z"
   },
   {
    "duration": 12,
    "start_time": "2022-07-28T10:27:45.129Z"
   },
   {
    "duration": 8,
    "start_time": "2022-07-28T10:27:48.046Z"
   },
   {
    "duration": 10,
    "start_time": "2022-07-28T10:27:51.664Z"
   },
   {
    "duration": 7,
    "start_time": "2022-07-28T10:28:01.865Z"
   },
   {
    "duration": 170,
    "start_time": "2022-07-28T10:31:57.148Z"
   },
   {
    "duration": 149,
    "start_time": "2022-07-28T10:32:04.099Z"
   },
   {
    "duration": 5,
    "start_time": "2022-07-28T10:35:06.884Z"
   },
   {
    "duration": 11,
    "start_time": "2022-07-28T10:35:26.021Z"
   },
   {
    "duration": 41,
    "start_time": "2022-07-28T10:40:57.223Z"
   },
   {
    "duration": 23,
    "start_time": "2022-07-28T10:41:18.806Z"
   },
   {
    "duration": 36,
    "start_time": "2022-07-28T10:41:38.062Z"
   },
   {
    "duration": 17,
    "start_time": "2022-07-28T10:42:24.665Z"
   },
   {
    "duration": 18,
    "start_time": "2022-07-28T10:42:41.537Z"
   },
   {
    "duration": 21,
    "start_time": "2022-07-28T10:42:59.320Z"
   },
   {
    "duration": 18,
    "start_time": "2022-07-28T10:43:23.449Z"
   },
   {
    "duration": 21,
    "start_time": "2022-07-28T10:44:16.077Z"
   },
   {
    "duration": 49,
    "start_time": "2022-07-28T10:44:25.590Z"
   },
   {
    "duration": 42,
    "start_time": "2022-07-29T02:44:18.702Z"
   },
   {
    "duration": 1606,
    "start_time": "2022-07-29T02:44:24.599Z"
   },
   {
    "duration": 65,
    "start_time": "2022-07-29T02:44:26.208Z"
   },
   {
    "duration": 16,
    "start_time": "2022-07-29T02:44:26.275Z"
   },
   {
    "duration": 15,
    "start_time": "2022-07-29T02:44:26.293Z"
   },
   {
    "duration": 254,
    "start_time": "2022-07-29T02:44:26.310Z"
   },
   {
    "duration": 502,
    "start_time": "2022-07-29T02:44:26.565Z"
   },
   {
    "duration": 14,
    "start_time": "2022-07-29T02:44:27.069Z"
   },
   {
    "duration": 22,
    "start_time": "2022-07-29T02:44:27.084Z"
   },
   {
    "duration": 10,
    "start_time": "2022-07-29T02:44:27.107Z"
   },
   {
    "duration": 58,
    "start_time": "2022-07-29T02:44:27.119Z"
   },
   {
    "duration": 225,
    "start_time": "2022-07-29T02:44:27.179Z"
   },
   {
    "duration": 229,
    "start_time": "2022-07-29T02:44:27.405Z"
   },
   {
    "duration": 301,
    "start_time": "2022-07-29T02:44:27.635Z"
   },
   {
    "duration": 22,
    "start_time": "2022-07-29T02:44:27.939Z"
   },
   {
    "duration": 14,
    "start_time": "2022-07-29T02:44:27.963Z"
   },
   {
    "duration": 9,
    "start_time": "2022-07-29T02:44:27.978Z"
   },
   {
    "duration": 557,
    "start_time": "2022-07-29T02:44:27.988Z"
   },
   {
    "duration": 5,
    "start_time": "2022-07-29T02:44:28.552Z"
   },
   {
    "duration": 13,
    "start_time": "2022-07-29T02:44:28.559Z"
   },
   {
    "duration": 896,
    "start_time": "2022-07-29T02:44:28.574Z"
   },
   {
    "duration": 94,
    "start_time": "2022-07-29T02:44:41.289Z"
   },
   {
    "duration": 300,
    "start_time": "2022-07-29T02:50:48.179Z"
   },
   {
    "duration": 284,
    "start_time": "2022-07-29T02:51:13.466Z"
   },
   {
    "duration": 15,
    "start_time": "2022-07-29T02:51:22.942Z"
   },
   {
    "duration": 23,
    "start_time": "2022-07-29T02:52:22.061Z"
   },
   {
    "duration": 14,
    "start_time": "2022-07-29T02:53:01.011Z"
   },
   {
    "duration": 12,
    "start_time": "2022-07-29T03:00:56.271Z"
   },
   {
    "duration": 11,
    "start_time": "2022-07-29T03:01:22.431Z"
   },
   {
    "duration": 14,
    "start_time": "2022-07-29T03:01:44.675Z"
   },
   {
    "duration": 22,
    "start_time": "2022-07-29T03:01:52.364Z"
   },
   {
    "duration": 5,
    "start_time": "2022-07-29T03:02:19.481Z"
   },
   {
    "duration": 13,
    "start_time": "2022-07-29T03:02:33.957Z"
   },
   {
    "duration": 32,
    "start_time": "2022-07-29T03:03:03.557Z"
   },
   {
    "duration": 617,
    "start_time": "2022-07-29T03:03:39.918Z"
   },
   {
    "duration": 77,
    "start_time": "2022-07-29T03:03:59.936Z"
   },
   {
    "duration": 18,
    "start_time": "2022-07-29T03:04:16.077Z"
   },
   {
    "duration": 6,
    "start_time": "2022-07-29T03:04:39.217Z"
   },
   {
    "duration": 10,
    "start_time": "2022-07-29T03:04:49.730Z"
   },
   {
    "duration": 8,
    "start_time": "2022-07-29T03:05:07.152Z"
   },
   {
    "duration": 7,
    "start_time": "2022-07-29T03:05:24.066Z"
   },
   {
    "duration": 6,
    "start_time": "2022-07-29T03:05:47.553Z"
   },
   {
    "duration": 8,
    "start_time": "2022-07-29T03:05:51.457Z"
   },
   {
    "duration": 1276,
    "start_time": "2022-07-29T03:06:12.711Z"
   },
   {
    "duration": 87,
    "start_time": "2022-07-29T03:06:13.988Z"
   },
   {
    "duration": 17,
    "start_time": "2022-07-29T03:06:14.076Z"
   },
   {
    "duration": 14,
    "start_time": "2022-07-29T03:06:14.095Z"
   },
   {
    "duration": 241,
    "start_time": "2022-07-29T03:06:14.111Z"
   },
   {
    "duration": 478,
    "start_time": "2022-07-29T03:06:14.355Z"
   },
   {
    "duration": 27,
    "start_time": "2022-07-29T03:06:14.836Z"
   },
   {
    "duration": 31,
    "start_time": "2022-07-29T03:06:14.864Z"
   },
   {
    "duration": 11,
    "start_time": "2022-07-29T03:06:14.896Z"
   },
   {
    "duration": 54,
    "start_time": "2022-07-29T03:06:14.909Z"
   },
   {
    "duration": 241,
    "start_time": "2022-07-29T03:06:14.965Z"
   },
   {
    "duration": 208,
    "start_time": "2022-07-29T03:06:15.207Z"
   },
   {
    "duration": 280,
    "start_time": "2022-07-29T03:06:15.417Z"
   },
   {
    "duration": 15,
    "start_time": "2022-07-29T03:06:15.699Z"
   },
   {
    "duration": 40,
    "start_time": "2022-07-29T03:06:15.716Z"
   },
   {
    "duration": 13,
    "start_time": "2022-07-29T03:06:15.758Z"
   },
   {
    "duration": 551,
    "start_time": "2022-07-29T03:06:15.774Z"
   },
   {
    "duration": 6,
    "start_time": "2022-07-29T03:06:16.327Z"
   },
   {
    "duration": 25,
    "start_time": "2022-07-29T03:06:16.334Z"
   },
   {
    "duration": 96,
    "start_time": "2022-07-29T03:06:16.361Z"
   },
   {
    "duration": 14,
    "start_time": "2022-07-29T03:06:28.016Z"
   },
   {
    "duration": 15,
    "start_time": "2022-07-29T03:06:50.716Z"
   },
   {
    "duration": 919,
    "start_time": "2022-07-29T03:07:03.385Z"
   },
   {
    "duration": 875,
    "start_time": "2022-07-29T03:07:16.462Z"
   },
   {
    "duration": 8,
    "start_time": "2022-07-29T03:07:25.617Z"
   },
   {
    "duration": 6,
    "start_time": "2022-07-29T03:07:33.125Z"
   },
   {
    "duration": 30,
    "start_time": "2022-07-29T03:08:18.852Z"
   },
   {
    "duration": 8,
    "start_time": "2022-07-29T03:08:34.049Z"
   },
   {
    "duration": 34,
    "start_time": "2022-07-29T03:08:50.009Z"
   },
   {
    "duration": 7,
    "start_time": "2022-07-29T03:09:30.920Z"
   },
   {
    "duration": 8,
    "start_time": "2022-07-29T03:09:33.659Z"
   },
   {
    "duration": 6,
    "start_time": "2022-07-29T03:09:45.626Z"
   },
   {
    "duration": 7,
    "start_time": "2022-07-29T03:09:51.286Z"
   },
   {
    "duration": 8,
    "start_time": "2022-07-29T03:10:03.991Z"
   },
   {
    "duration": 7,
    "start_time": "2022-07-29T03:10:08.187Z"
   },
   {
    "duration": 7,
    "start_time": "2022-07-29T03:10:11.958Z"
   },
   {
    "duration": 1209,
    "start_time": "2022-07-29T03:12:03.659Z"
   },
   {
    "duration": 66,
    "start_time": "2022-07-29T03:12:04.870Z"
   },
   {
    "duration": 24,
    "start_time": "2022-07-29T03:12:04.938Z"
   },
   {
    "duration": 14,
    "start_time": "2022-07-29T03:12:04.963Z"
   },
   {
    "duration": 228,
    "start_time": "2022-07-29T03:12:04.979Z"
   },
   {
    "duration": 460,
    "start_time": "2022-07-29T03:12:05.208Z"
   },
   {
    "duration": 13,
    "start_time": "2022-07-29T03:12:05.670Z"
   },
   {
    "duration": 22,
    "start_time": "2022-07-29T03:12:05.685Z"
   },
   {
    "duration": 12,
    "start_time": "2022-07-29T03:12:05.708Z"
   },
   {
    "duration": 64,
    "start_time": "2022-07-29T03:12:05.722Z"
   },
   {
    "duration": 218,
    "start_time": "2022-07-29T03:12:05.787Z"
   },
   {
    "duration": 248,
    "start_time": "2022-07-29T03:12:06.007Z"
   },
   {
    "duration": 284,
    "start_time": "2022-07-29T03:12:06.257Z"
   },
   {
    "duration": 21,
    "start_time": "2022-07-29T03:12:06.543Z"
   },
   {
    "duration": 13,
    "start_time": "2022-07-29T03:12:06.566Z"
   },
   {
    "duration": 14,
    "start_time": "2022-07-29T03:12:06.580Z"
   },
   {
    "duration": 531,
    "start_time": "2022-07-29T03:12:06.596Z"
   },
   {
    "duration": 5,
    "start_time": "2022-07-29T03:12:07.128Z"
   },
   {
    "duration": 19,
    "start_time": "2022-07-29T03:12:07.134Z"
   },
   {
    "duration": 14,
    "start_time": "2022-07-29T03:12:07.154Z"
   },
   {
    "duration": 775,
    "start_time": "2022-07-29T03:12:58.484Z"
   },
   {
    "duration": 89,
    "start_time": "2022-07-29T03:13:27.566Z"
   },
   {
    "duration": 1236,
    "start_time": "2022-07-29T03:14:59.836Z"
   },
   {
    "duration": 64,
    "start_time": "2022-07-29T03:15:01.074Z"
   },
   {
    "duration": 18,
    "start_time": "2022-07-29T03:15:01.140Z"
   },
   {
    "duration": 14,
    "start_time": "2022-07-29T03:15:01.160Z"
   },
   {
    "duration": 222,
    "start_time": "2022-07-29T03:15:01.175Z"
   },
   {
    "duration": 447,
    "start_time": "2022-07-29T03:15:01.399Z"
   },
   {
    "duration": 16,
    "start_time": "2022-07-29T03:15:01.847Z"
   },
   {
    "duration": 40,
    "start_time": "2022-07-29T03:15:01.865Z"
   },
   {
    "duration": 15,
    "start_time": "2022-07-29T03:15:01.906Z"
   },
   {
    "duration": 70,
    "start_time": "2022-07-29T03:15:01.923Z"
   },
   {
    "duration": 194,
    "start_time": "2022-07-29T03:15:01.994Z"
   },
   {
    "duration": 210,
    "start_time": "2022-07-29T03:15:02.190Z"
   },
   {
    "duration": 297,
    "start_time": "2022-07-29T03:15:02.402Z"
   },
   {
    "duration": 15,
    "start_time": "2022-07-29T03:15:02.701Z"
   },
   {
    "duration": 26,
    "start_time": "2022-07-29T03:15:02.717Z"
   },
   {
    "duration": 37,
    "start_time": "2022-07-29T03:15:02.744Z"
   },
   {
    "duration": 491,
    "start_time": "2022-07-29T03:15:02.783Z"
   },
   {
    "duration": 6,
    "start_time": "2022-07-29T03:15:03.276Z"
   },
   {
    "duration": 30,
    "start_time": "2022-07-29T03:15:03.284Z"
   },
   {
    "duration": 94,
    "start_time": "2022-07-29T03:15:03.316Z"
   },
   {
    "duration": 17,
    "start_time": "2022-07-29T03:15:19.774Z"
   },
   {
    "duration": 14,
    "start_time": "2022-07-29T03:15:27.899Z"
   },
   {
    "duration": 969,
    "start_time": "2022-07-29T03:15:37.844Z"
   },
   {
    "duration": 908,
    "start_time": "2022-07-29T03:15:47.351Z"
   },
   {
    "duration": 33,
    "start_time": "2022-07-29T03:16:12.216Z"
   },
   {
    "duration": 31,
    "start_time": "2022-07-29T03:16:42.204Z"
   },
   {
    "duration": 16,
    "start_time": "2022-07-29T03:18:15.072Z"
   },
   {
    "duration": 864,
    "start_time": "2022-07-29T03:18:22.447Z"
   },
   {
    "duration": 11,
    "start_time": "2022-07-29T03:18:41.009Z"
   },
   {
    "duration": 931,
    "start_time": "2022-07-29T03:20:35.976Z"
   },
   {
    "duration": 37,
    "start_time": "2022-07-29T03:29:12.130Z"
   },
   {
    "duration": 12,
    "start_time": "2022-07-29T03:31:38.755Z"
   },
   {
    "duration": 8,
    "start_time": "2022-07-29T03:32:00.708Z"
   },
   {
    "duration": 9,
    "start_time": "2022-07-29T03:32:10.311Z"
   },
   {
    "duration": 9,
    "start_time": "2022-07-29T03:32:27.822Z"
   },
   {
    "duration": 1034,
    "start_time": "2022-07-29T03:32:45.762Z"
   },
   {
    "duration": 10,
    "start_time": "2022-07-29T03:32:58.016Z"
   },
   {
    "duration": 797,
    "start_time": "2022-07-29T03:33:12.817Z"
   },
   {
    "duration": 12,
    "start_time": "2022-07-29T03:33:38.103Z"
   },
   {
    "duration": 838,
    "start_time": "2022-07-29T03:35:04.323Z"
   },
   {
    "duration": 916,
    "start_time": "2022-07-29T03:35:12.640Z"
   },
   {
    "duration": 11,
    "start_time": "2022-07-29T03:36:22.601Z"
   },
   {
    "duration": 17,
    "start_time": "2022-07-29T03:37:43.622Z"
   },
   {
    "duration": 10,
    "start_time": "2022-07-29T03:37:58.355Z"
   },
   {
    "duration": 1490,
    "start_time": "2022-07-29T03:41:19.396Z"
   },
   {
    "duration": 91,
    "start_time": "2022-07-29T03:41:20.889Z"
   },
   {
    "duration": 30,
    "start_time": "2022-07-29T03:41:20.982Z"
   },
   {
    "duration": 71,
    "start_time": "2022-07-29T03:41:21.015Z"
   },
   {
    "duration": 348,
    "start_time": "2022-07-29T03:41:21.090Z"
   },
   {
    "duration": 663,
    "start_time": "2022-07-29T03:41:21.441Z"
   },
   {
    "duration": 13,
    "start_time": "2022-07-29T03:41:22.106Z"
   },
   {
    "duration": 48,
    "start_time": "2022-07-29T03:41:22.121Z"
   },
   {
    "duration": 17,
    "start_time": "2022-07-29T03:41:22.171Z"
   },
   {
    "duration": 66,
    "start_time": "2022-07-29T03:41:22.190Z"
   },
   {
    "duration": 302,
    "start_time": "2022-07-29T03:41:22.258Z"
   },
   {
    "duration": 307,
    "start_time": "2022-07-29T03:41:22.562Z"
   },
   {
    "duration": 523,
    "start_time": "2022-07-29T03:41:22.871Z"
   },
   {
    "duration": 21,
    "start_time": "2022-07-29T03:41:23.399Z"
   },
   {
    "duration": 45,
    "start_time": "2022-07-29T03:41:23.422Z"
   },
   {
    "duration": 11,
    "start_time": "2022-07-29T03:41:23.469Z"
   },
   {
    "duration": 752,
    "start_time": "2022-07-29T03:41:23.482Z"
   },
   {
    "duration": 15,
    "start_time": "2022-07-29T03:41:24.237Z"
   },
   {
    "duration": 16,
    "start_time": "2022-07-29T03:41:24.255Z"
   },
   {
    "duration": 129,
    "start_time": "2022-07-29T03:47:17.634Z"
   },
   {
    "duration": 26,
    "start_time": "2022-07-29T03:47:22.166Z"
   },
   {
    "duration": 22,
    "start_time": "2022-07-29T03:47:31.990Z"
   },
   {
    "duration": 21,
    "start_time": "2022-07-29T03:47:47.276Z"
   },
   {
    "duration": 24,
    "start_time": "2022-07-29T03:47:58.231Z"
   },
   {
    "duration": 410,
    "start_time": "2022-07-29T03:48:36.888Z"
   },
   {
    "duration": 372,
    "start_time": "2022-07-29T03:49:05.782Z"
   },
   {
    "duration": 349,
    "start_time": "2022-07-29T03:50:50.099Z"
   },
   {
    "duration": 324,
    "start_time": "2022-07-29T03:52:13.271Z"
   },
   {
    "duration": 14,
    "start_time": "2022-07-29T03:54:01.614Z"
   },
   {
    "duration": 17,
    "start_time": "2022-07-29T03:54:12.369Z"
   },
   {
    "duration": 25,
    "start_time": "2022-07-29T03:54:22.631Z"
   },
   {
    "duration": 243,
    "start_time": "2022-07-29T03:56:44.279Z"
   },
   {
    "duration": 241,
    "start_time": "2022-07-29T03:59:08.396Z"
   },
   {
    "duration": 15,
    "start_time": "2022-07-29T04:00:38.428Z"
   },
   {
    "duration": 262,
    "start_time": "2022-07-29T04:00:44.843Z"
   },
   {
    "duration": 239,
    "start_time": "2022-07-29T04:01:07.648Z"
   },
   {
    "duration": 346,
    "start_time": "2022-07-29T04:01:18.371Z"
   },
   {
    "duration": 261,
    "start_time": "2022-07-29T04:01:29.653Z"
   },
   {
    "duration": 225,
    "start_time": "2022-07-29T04:05:15.295Z"
   },
   {
    "duration": 7155,
    "start_time": "2022-07-29T04:21:02.625Z"
   },
   {
    "duration": 11,
    "start_time": "2022-07-29T04:27:59.598Z"
   },
   {
    "duration": 224,
    "start_time": "2022-07-29T04:40:37.979Z"
   },
   {
    "duration": 19235,
    "start_time": "2022-07-29T04:41:08.836Z"
   },
   {
    "duration": 390,
    "start_time": "2022-07-29T04:43:01.332Z"
   },
   {
    "duration": 245,
    "start_time": "2022-07-29T04:50:28.079Z"
   },
   {
    "duration": 264,
    "start_time": "2022-07-29T04:50:36.650Z"
   },
   {
    "duration": 20,
    "start_time": "2022-07-29T04:51:31.988Z"
   },
   {
    "duration": 1369,
    "start_time": "2022-07-29T04:53:47.293Z"
   },
   {
    "duration": 104,
    "start_time": "2022-07-29T04:53:48.670Z"
   },
   {
    "duration": 26,
    "start_time": "2022-07-29T04:53:48.780Z"
   },
   {
    "duration": 51,
    "start_time": "2022-07-29T04:53:48.808Z"
   },
   {
    "duration": 372,
    "start_time": "2022-07-29T04:53:48.862Z"
   },
   {
    "duration": 761,
    "start_time": "2022-07-29T04:53:49.236Z"
   },
   {
    "duration": 20,
    "start_time": "2022-07-29T04:53:49.999Z"
   },
   {
    "duration": 33,
    "start_time": "2022-07-29T04:53:50.021Z"
   },
   {
    "duration": 19,
    "start_time": "2022-07-29T04:53:50.055Z"
   },
   {
    "duration": 68,
    "start_time": "2022-07-29T04:53:50.076Z"
   },
   {
    "duration": 246,
    "start_time": "2022-07-29T04:53:50.146Z"
   },
   {
    "duration": 250,
    "start_time": "2022-07-29T04:53:50.394Z"
   },
   {
    "duration": 297,
    "start_time": "2022-07-29T04:53:50.646Z"
   },
   {
    "duration": 18,
    "start_time": "2022-07-29T04:53:50.946Z"
   },
   {
    "duration": 34,
    "start_time": "2022-07-29T04:53:50.966Z"
   },
   {
    "duration": 12,
    "start_time": "2022-07-29T04:53:51.001Z"
   },
   {
    "duration": 523,
    "start_time": "2022-07-29T04:53:51.015Z"
   },
   {
    "duration": 251,
    "start_time": "2022-07-29T04:53:51.540Z"
   },
   {
    "duration": 220,
    "start_time": "2022-07-29T04:53:51.792Z"
   },
   {
    "duration": 226,
    "start_time": "2022-07-29T04:53:52.013Z"
   },
   {
    "duration": 7735,
    "start_time": "2022-07-29T04:53:52.240Z"
   },
   {
    "duration": 12,
    "start_time": "2022-07-29T04:53:59.976Z"
   },
   {
    "duration": 217,
    "start_time": "2022-07-29T04:53:59.989Z"
   },
   {
    "duration": 616,
    "start_time": "2022-07-29T04:54:00.207Z"
   },
   {
    "duration": 114,
    "start_time": "2022-07-29T04:54:26.795Z"
   },
   {
    "duration": 10,
    "start_time": "2022-07-29T04:54:35.595Z"
   },
   {
    "duration": 17,
    "start_time": "2022-07-29T04:55:30.405Z"
   },
   {
    "duration": 467,
    "start_time": "2022-07-29T05:02:26.181Z"
   },
   {
    "duration": 360,
    "start_time": "2022-07-29T05:03:09.202Z"
   },
   {
    "duration": 483,
    "start_time": "2022-07-29T05:03:31.578Z"
   },
   {
    "duration": 293,
    "start_time": "2022-07-29T05:04:09.752Z"
   },
   {
    "duration": 104,
    "start_time": "2022-07-29T05:04:37.900Z"
   },
   {
    "duration": 91,
    "start_time": "2022-07-29T05:04:41.788Z"
   },
   {
    "duration": 257,
    "start_time": "2022-07-29T05:05:16.574Z"
   },
   {
    "duration": 459,
    "start_time": "2022-07-29T05:05:59.549Z"
   },
   {
    "duration": 256,
    "start_time": "2022-07-29T05:20:55.138Z"
   },
   {
    "duration": 430,
    "start_time": "2022-07-29T05:21:36.350Z"
   },
   {
    "duration": 14,
    "start_time": "2022-07-29T05:27:26.416Z"
   },
   {
    "duration": 19,
    "start_time": "2022-07-29T05:27:32.790Z"
   },
   {
    "duration": 113,
    "start_time": "2022-07-29T05:28:09.528Z"
   },
   {
    "duration": 240,
    "start_time": "2022-07-29T05:28:26.749Z"
   },
   {
    "duration": 1687,
    "start_time": "2022-07-31T04:05:05.856Z"
   },
   {
    "duration": 70,
    "start_time": "2022-07-31T04:05:07.545Z"
   },
   {
    "duration": 20,
    "start_time": "2022-07-31T04:05:07.617Z"
   },
   {
    "duration": 33,
    "start_time": "2022-07-31T04:05:07.639Z"
   },
   {
    "duration": 243,
    "start_time": "2022-07-31T04:05:07.674Z"
   },
   {
    "duration": 540,
    "start_time": "2022-07-31T04:05:07.923Z"
   },
   {
    "duration": 15,
    "start_time": "2022-07-31T04:05:08.465Z"
   },
   {
    "duration": 46,
    "start_time": "2022-07-31T04:05:08.482Z"
   },
   {
    "duration": 12,
    "start_time": "2022-07-31T04:05:08.530Z"
   },
   {
    "duration": 43,
    "start_time": "2022-07-31T04:05:08.545Z"
   },
   {
    "duration": 270,
    "start_time": "2022-07-31T04:05:08.590Z"
   },
   {
    "duration": 246,
    "start_time": "2022-07-31T04:05:08.861Z"
   },
   {
    "duration": 306,
    "start_time": "2022-07-31T04:05:09.109Z"
   },
   {
    "duration": 14,
    "start_time": "2022-07-31T04:05:09.423Z"
   },
   {
    "duration": 15,
    "start_time": "2022-07-31T04:05:09.439Z"
   },
   {
    "duration": 11,
    "start_time": "2022-07-31T04:05:09.456Z"
   },
   {
    "duration": 546,
    "start_time": "2022-07-31T04:05:09.469Z"
   },
   {
    "duration": 276,
    "start_time": "2022-07-31T04:05:10.017Z"
   },
   {
    "duration": 241,
    "start_time": "2022-07-31T04:05:10.295Z"
   },
   {
    "duration": 245,
    "start_time": "2022-07-31T04:05:10.537Z"
   },
   {
    "duration": 216,
    "start_time": "2022-07-31T04:05:10.784Z"
   },
   {
    "duration": 7295,
    "start_time": "2022-07-31T04:05:11.002Z"
   },
   {
    "duration": 10,
    "start_time": "2022-07-31T04:05:18.299Z"
   },
   {
    "duration": 376,
    "start_time": "2022-07-31T04:05:18.312Z"
   },
   {
    "duration": 350,
    "start_time": "2022-07-31T04:05:18.690Z"
   },
   {
    "duration": 226,
    "start_time": "2022-07-31T05:20:02.962Z"
   },
   {
    "duration": 256,
    "start_time": "2022-07-31T05:34:12.378Z"
   },
   {
    "duration": 1583,
    "start_time": "2022-07-31T06:49:58.878Z"
   },
   {
    "duration": 19,
    "start_time": "2022-07-31T06:50:20.476Z"
   },
   {
    "duration": 19,
    "start_time": "2022-07-31T06:50:38.513Z"
   },
   {
    "duration": 90,
    "start_time": "2022-07-31T07:12:46.505Z"
   },
   {
    "duration": 164,
    "start_time": "2022-07-31T08:18:24.027Z"
   },
   {
    "duration": 13,
    "start_time": "2022-07-31T08:18:24.193Z"
   },
   {
    "duration": 19,
    "start_time": "2022-07-31T08:18:24.208Z"
   },
   {
    "duration": 83,
    "start_time": "2022-07-31T08:18:24.229Z"
   },
   {
    "duration": 34,
    "start_time": "2022-07-31T08:18:24.314Z"
   },
   {
    "duration": 36,
    "start_time": "2022-07-31T08:18:24.349Z"
   },
   {
    "duration": 287,
    "start_time": "2022-07-31T08:18:24.388Z"
   },
   {
    "duration": 567,
    "start_time": "2022-07-31T08:18:24.677Z"
   },
   {
    "duration": 17,
    "start_time": "2022-07-31T08:18:25.245Z"
   },
   {
    "duration": 28,
    "start_time": "2022-07-31T08:18:25.265Z"
   },
   {
    "duration": 11,
    "start_time": "2022-07-31T08:18:25.295Z"
   },
   {
    "duration": 63,
    "start_time": "2022-07-31T08:18:25.308Z"
   },
   {
    "duration": 312,
    "start_time": "2022-07-31T08:18:25.372Z"
   },
   {
    "duration": 280,
    "start_time": "2022-07-31T08:18:25.686Z"
   },
   {
    "duration": 323,
    "start_time": "2022-07-31T08:18:25.968Z"
   },
   {
    "duration": 17,
    "start_time": "2022-07-31T08:18:26.293Z"
   },
   {
    "duration": 40,
    "start_time": "2022-07-31T08:18:26.312Z"
   },
   {
    "duration": 12,
    "start_time": "2022-07-31T08:18:26.354Z"
   },
   {
    "duration": 590,
    "start_time": "2022-07-31T08:18:26.368Z"
   },
   {
    "duration": 299,
    "start_time": "2022-07-31T08:18:26.961Z"
   },
   {
    "duration": 256,
    "start_time": "2022-07-31T08:18:27.261Z"
   },
   {
    "duration": 247,
    "start_time": "2022-07-31T08:18:27.519Z"
   },
   {
    "duration": 245,
    "start_time": "2022-07-31T08:18:27.768Z"
   },
   {
    "duration": 7897,
    "start_time": "2022-07-31T08:18:28.015Z"
   },
   {
    "duration": 14,
    "start_time": "2022-07-31T08:18:35.914Z"
   },
   {
    "duration": 450,
    "start_time": "2022-07-31T08:18:35.930Z"
   },
   {
    "duration": 415,
    "start_time": "2022-07-31T08:18:36.382Z"
   },
   {
    "duration": 28,
    "start_time": "2022-07-31T08:19:12.181Z"
   },
   {
    "duration": 64,
    "start_time": "2022-07-31T08:19:36.520Z"
   },
   {
    "duration": 23,
    "start_time": "2022-07-31T08:20:49.935Z"
   },
   {
    "duration": 168,
    "start_time": "2022-07-31T08:21:11.299Z"
   },
   {
    "duration": 178,
    "start_time": "2022-07-31T08:21:32.651Z"
   },
   {
    "duration": 275,
    "start_time": "2022-07-31T08:21:43.407Z"
   },
   {
    "duration": 163,
    "start_time": "2022-07-31T08:21:49.937Z"
   },
   {
    "duration": 178,
    "start_time": "2022-07-31T08:22:05.008Z"
   },
   {
    "duration": 1929,
    "start_time": "2022-08-02T05:19:12.821Z"
   },
   {
    "duration": 19,
    "start_time": "2022-08-02T05:19:14.752Z"
   },
   {
    "duration": 24,
    "start_time": "2022-08-02T05:19:14.772Z"
   },
   {
    "duration": 84,
    "start_time": "2022-08-02T05:19:14.798Z"
   },
   {
    "duration": 31,
    "start_time": "2022-08-02T05:19:14.885Z"
   },
   {
    "duration": 32,
    "start_time": "2022-08-02T05:19:14.918Z"
   },
   {
    "duration": 319,
    "start_time": "2022-08-02T05:19:14.953Z"
   },
   {
    "duration": 560,
    "start_time": "2022-08-02T05:19:15.275Z"
   },
   {
    "duration": 15,
    "start_time": "2022-08-02T05:19:15.837Z"
   },
   {
    "duration": 24,
    "start_time": "2022-08-02T05:19:15.854Z"
   },
   {
    "duration": 34,
    "start_time": "2022-08-02T05:19:15.880Z"
   },
   {
    "duration": 41,
    "start_time": "2022-08-02T05:19:15.916Z"
   },
   {
    "duration": 295,
    "start_time": "2022-08-02T05:19:15.959Z"
   },
   {
    "duration": 277,
    "start_time": "2022-08-02T05:19:16.258Z"
   },
   {
    "duration": 373,
    "start_time": "2022-08-02T05:19:16.537Z"
   },
   {
    "duration": 17,
    "start_time": "2022-08-02T05:19:16.912Z"
   },
   {
    "duration": 18,
    "start_time": "2022-08-02T05:19:16.931Z"
   },
   {
    "duration": 11,
    "start_time": "2022-08-02T05:19:16.951Z"
   },
   {
    "duration": 606,
    "start_time": "2022-08-02T05:19:16.964Z"
   },
   {
    "duration": 280,
    "start_time": "2022-08-02T05:19:17.572Z"
   },
   {
    "duration": 263,
    "start_time": "2022-08-02T05:19:17.853Z"
   },
   {
    "duration": 386,
    "start_time": "2022-08-02T05:19:18.118Z"
   },
   {
    "duration": 258,
    "start_time": "2022-08-02T05:19:18.506Z"
   },
   {
    "duration": 8248,
    "start_time": "2022-08-02T05:19:18.765Z"
   },
   {
    "duration": 11,
    "start_time": "2022-08-02T05:19:27.015Z"
   },
   {
    "duration": 381,
    "start_time": "2022-08-02T05:19:27.028Z"
   },
   {
    "duration": 384,
    "start_time": "2022-08-02T05:19:27.411Z"
   },
   {
    "duration": 14,
    "start_time": "2022-08-02T05:19:42.583Z"
   },
   {
    "duration": 36,
    "start_time": "2022-08-02T05:19:48.520Z"
   },
   {
    "duration": 11,
    "start_time": "2022-08-02T05:21:01.461Z"
   },
   {
    "duration": 36,
    "start_time": "2022-08-02T05:21:44.852Z"
   },
   {
    "duration": 46,
    "start_time": "2022-08-02T05:22:01.052Z"
   },
   {
    "duration": 46,
    "start_time": "2022-08-02T05:22:26.796Z"
   },
   {
    "duration": 43,
    "start_time": "2022-08-02T05:22:45.573Z"
   },
   {
    "duration": 33,
    "start_time": "2022-08-02T05:22:53.003Z"
   },
   {
    "duration": 13,
    "start_time": "2022-08-02T05:23:11.977Z"
   },
   {
    "duration": 113,
    "start_time": "2022-08-02T05:23:32.760Z"
   },
   {
    "duration": 13,
    "start_time": "2022-08-02T05:23:55.752Z"
   },
   {
    "duration": 42,
    "start_time": "2022-08-02T05:27:28.272Z"
   },
   {
    "duration": 13,
    "start_time": "2022-08-02T05:31:54.221Z"
   },
   {
    "duration": 41,
    "start_time": "2022-08-02T05:32:16.984Z"
   },
   {
    "duration": 46,
    "start_time": "2022-08-02T05:32:42.792Z"
   },
   {
    "duration": 24,
    "start_time": "2022-08-02T05:33:15.322Z"
   },
   {
    "duration": 24,
    "start_time": "2022-08-02T05:33:42.108Z"
   },
   {
    "duration": 23,
    "start_time": "2022-08-02T05:33:56.379Z"
   },
   {
    "duration": 45,
    "start_time": "2022-08-02T05:34:37.220Z"
   },
   {
    "duration": 23,
    "start_time": "2022-08-02T05:35:12.390Z"
   },
   {
    "duration": 23,
    "start_time": "2022-08-02T05:37:07.872Z"
   },
   {
    "duration": 1338,
    "start_time": "2022-08-02T05:37:59.089Z"
   },
   {
    "duration": 15,
    "start_time": "2022-08-02T05:38:07.689Z"
   },
   {
    "duration": 16,
    "start_time": "2022-08-02T05:39:22.963Z"
   },
   {
    "duration": 17,
    "start_time": "2022-08-02T05:39:39.888Z"
   },
   {
    "duration": 14,
    "start_time": "2022-08-02T05:39:56.178Z"
   },
   {
    "duration": 36,
    "start_time": "2022-08-02T05:40:09.915Z"
   },
   {
    "duration": 17,
    "start_time": "2022-08-02T05:40:26.728Z"
   },
   {
    "duration": 16,
    "start_time": "2022-08-02T05:40:33.923Z"
   },
   {
    "duration": 17,
    "start_time": "2022-08-02T05:41:22.303Z"
   },
   {
    "duration": 22,
    "start_time": "2022-08-02T05:41:38.299Z"
   },
   {
    "duration": 18,
    "start_time": "2022-08-02T05:42:03.869Z"
   },
   {
    "duration": 17,
    "start_time": "2022-08-02T05:42:24.577Z"
   },
   {
    "duration": 18,
    "start_time": "2022-08-02T05:42:28.271Z"
   },
   {
    "duration": 1202,
    "start_time": "2022-08-02T05:48:05.672Z"
   },
   {
    "duration": 18,
    "start_time": "2022-08-02T05:50:03.831Z"
   },
   {
    "duration": 1241,
    "start_time": "2022-08-02T05:50:35.060Z"
   },
   {
    "duration": 18,
    "start_time": "2022-08-02T05:50:52.586Z"
   },
   {
    "duration": 20,
    "start_time": "2022-08-02T05:51:10.621Z"
   },
   {
    "duration": 1316,
    "start_time": "2022-08-02T05:51:48.832Z"
   },
   {
    "duration": 38,
    "start_time": "2022-08-02T05:52:57.821Z"
   },
   {
    "duration": 18,
    "start_time": "2022-08-02T05:53:04.717Z"
   },
   {
    "duration": 19,
    "start_time": "2022-08-02T05:53:13.441Z"
   },
   {
    "duration": 84,
    "start_time": "2022-08-02T05:53:24.964Z"
   },
   {
    "duration": 20,
    "start_time": "2022-08-02T05:53:34.384Z"
   },
   {
    "duration": 26,
    "start_time": "2022-08-02T05:53:56.460Z"
   },
   {
    "duration": 25,
    "start_time": "2022-08-02T05:54:04.756Z"
   },
   {
    "duration": 31,
    "start_time": "2022-08-02T05:54:12.373Z"
   },
   {
    "duration": 15,
    "start_time": "2022-08-02T05:56:07.774Z"
   },
   {
    "duration": 1324,
    "start_time": "2022-08-02T05:56:23.777Z"
   },
   {
    "duration": 21,
    "start_time": "2022-08-02T05:56:25.103Z"
   },
   {
    "duration": 16,
    "start_time": "2022-08-02T05:56:25.126Z"
   },
   {
    "duration": 96,
    "start_time": "2022-08-02T05:56:25.144Z"
   },
   {
    "duration": 18,
    "start_time": "2022-08-02T05:56:25.241Z"
   },
   {
    "duration": 49,
    "start_time": "2022-08-02T05:56:25.261Z"
   },
   {
    "duration": 257,
    "start_time": "2022-08-02T05:56:25.312Z"
   },
   {
    "duration": 558,
    "start_time": "2022-08-02T05:56:25.571Z"
   },
   {
    "duration": 22,
    "start_time": "2022-08-02T05:56:26.131Z"
   },
   {
    "duration": 49,
    "start_time": "2022-08-02T05:56:26.156Z"
   },
   {
    "duration": 13,
    "start_time": "2022-08-02T05:56:26.207Z"
   },
   {
    "duration": 48,
    "start_time": "2022-08-02T05:56:26.221Z"
   },
   {
    "duration": 289,
    "start_time": "2022-08-02T05:56:26.271Z"
   },
   {
    "duration": 318,
    "start_time": "2022-08-02T05:56:26.562Z"
   },
   {
    "duration": 330,
    "start_time": "2022-08-02T05:56:26.881Z"
   },
   {
    "duration": 15,
    "start_time": "2022-08-02T05:56:27.213Z"
   },
   {
    "duration": 17,
    "start_time": "2022-08-02T05:56:27.230Z"
   },
   {
    "duration": 9,
    "start_time": "2022-08-02T05:56:27.248Z"
   },
   {
    "duration": 622,
    "start_time": "2022-08-02T05:56:27.259Z"
   },
   {
    "duration": 279,
    "start_time": "2022-08-02T05:56:27.883Z"
   },
   {
    "duration": 254,
    "start_time": "2022-08-02T05:56:28.164Z"
   },
   {
    "duration": 252,
    "start_time": "2022-08-02T05:56:28.420Z"
   },
   {
    "duration": 261,
    "start_time": "2022-08-02T05:56:28.673Z"
   },
   {
    "duration": 7778,
    "start_time": "2022-08-02T05:56:28.936Z"
   },
   {
    "duration": 15,
    "start_time": "2022-08-02T05:56:36.746Z"
   },
   {
    "duration": 413,
    "start_time": "2022-08-02T05:56:36.764Z"
   },
   {
    "duration": 390,
    "start_time": "2022-08-02T05:56:37.179Z"
   },
   {
    "duration": 52,
    "start_time": "2022-08-02T05:56:37.573Z"
   },
   {
    "duration": 32,
    "start_time": "2022-08-02T05:57:52.476Z"
   },
   {
    "duration": 18,
    "start_time": "2022-08-02T05:57:59.701Z"
   },
   {
    "duration": 25,
    "start_time": "2022-08-02T05:58:06.645Z"
   },
   {
    "duration": 1018,
    "start_time": "2022-08-02T05:58:23.516Z"
   },
   {
    "duration": 18,
    "start_time": "2022-08-02T05:58:34.741Z"
   },
   {
    "duration": 19,
    "start_time": "2022-08-02T05:58:39.225Z"
   },
   {
    "duration": 172,
    "start_time": "2022-08-02T05:58:59.459Z"
   },
   {
    "duration": 32,
    "start_time": "2022-08-02T06:00:01.761Z"
   },
   {
    "duration": 29,
    "start_time": "2022-08-02T06:00:27.719Z"
   },
   {
    "duration": 32,
    "start_time": "2022-08-02T06:00:46.859Z"
   },
   {
    "duration": 32,
    "start_time": "2022-08-02T06:03:51.300Z"
   },
   {
    "duration": 30,
    "start_time": "2022-08-02T06:03:55.571Z"
   },
   {
    "duration": 29,
    "start_time": "2022-08-02T06:04:00.618Z"
   },
   {
    "duration": 32,
    "start_time": "2022-08-02T06:05:13.102Z"
   },
   {
    "duration": 1276,
    "start_time": "2022-08-02T06:05:40.972Z"
   },
   {
    "duration": 16,
    "start_time": "2022-08-02T06:05:42.250Z"
   },
   {
    "duration": 14,
    "start_time": "2022-08-02T06:05:42.267Z"
   },
   {
    "duration": 74,
    "start_time": "2022-08-02T06:05:42.282Z"
   },
   {
    "duration": 19,
    "start_time": "2022-08-02T06:05:42.358Z"
   },
   {
    "duration": 40,
    "start_time": "2022-08-02T06:05:42.378Z"
   },
   {
    "duration": 236,
    "start_time": "2022-08-02T06:05:42.420Z"
   },
   {
    "duration": 532,
    "start_time": "2022-08-02T06:05:42.657Z"
   },
   {
    "duration": 1370,
    "start_time": "2022-08-02T06:05:43.191Z"
   },
   {
    "duration": 0,
    "start_time": "2022-08-02T06:05:44.564Z"
   },
   {
    "duration": 0,
    "start_time": "2022-08-02T06:05:44.566Z"
   },
   {
    "duration": 0,
    "start_time": "2022-08-02T06:05:44.567Z"
   },
   {
    "duration": 0,
    "start_time": "2022-08-02T06:05:44.569Z"
   },
   {
    "duration": 0,
    "start_time": "2022-08-02T06:05:44.570Z"
   },
   {
    "duration": 0,
    "start_time": "2022-08-02T06:05:44.572Z"
   },
   {
    "duration": 0,
    "start_time": "2022-08-02T06:05:44.573Z"
   },
   {
    "duration": 0,
    "start_time": "2022-08-02T06:05:44.575Z"
   },
   {
    "duration": 0,
    "start_time": "2022-08-02T06:05:44.576Z"
   },
   {
    "duration": 0,
    "start_time": "2022-08-02T06:05:44.578Z"
   },
   {
    "duration": 0,
    "start_time": "2022-08-02T06:05:44.579Z"
   },
   {
    "duration": 0,
    "start_time": "2022-08-02T06:05:44.581Z"
   },
   {
    "duration": 0,
    "start_time": "2022-08-02T06:05:44.582Z"
   },
   {
    "duration": 0,
    "start_time": "2022-08-02T06:05:44.584Z"
   },
   {
    "duration": 0,
    "start_time": "2022-08-02T06:05:44.586Z"
   },
   {
    "duration": 0,
    "start_time": "2022-08-02T06:05:44.588Z"
   },
   {
    "duration": 0,
    "start_time": "2022-08-02T06:05:44.589Z"
   },
   {
    "duration": 0,
    "start_time": "2022-08-02T06:05:44.591Z"
   },
   {
    "duration": 0,
    "start_time": "2022-08-02T06:05:44.592Z"
   },
   {
    "duration": 39,
    "start_time": "2022-08-02T06:06:10.792Z"
   },
   {
    "duration": 1387,
    "start_time": "2022-08-02T06:06:19.633Z"
   },
   {
    "duration": 17,
    "start_time": "2022-08-02T06:06:21.022Z"
   },
   {
    "duration": 17,
    "start_time": "2022-08-02T06:06:21.041Z"
   },
   {
    "duration": 91,
    "start_time": "2022-08-02T06:06:21.060Z"
   },
   {
    "duration": 19,
    "start_time": "2022-08-02T06:06:21.154Z"
   },
   {
    "duration": 51,
    "start_time": "2022-08-02T06:06:21.174Z"
   },
   {
    "duration": 246,
    "start_time": "2022-08-02T06:06:21.227Z"
   },
   {
    "duration": 522,
    "start_time": "2022-08-02T06:06:21.475Z"
   },
   {
    "duration": 51,
    "start_time": "2022-08-02T06:06:21.999Z"
   },
   {
    "duration": 30,
    "start_time": "2022-08-02T06:06:22.052Z"
   },
   {
    "duration": 37,
    "start_time": "2022-08-02T06:06:22.104Z"
   },
   {
    "duration": 86,
    "start_time": "2022-08-02T06:06:22.143Z"
   },
   {
    "duration": 257,
    "start_time": "2022-08-02T06:06:22.231Z"
   },
   {
    "duration": 260,
    "start_time": "2022-08-02T06:06:22.491Z"
   },
   {
    "duration": 369,
    "start_time": "2022-08-02T06:06:22.754Z"
   },
   {
    "duration": 19,
    "start_time": "2022-08-02T06:06:23.126Z"
   },
   {
    "duration": 21,
    "start_time": "2022-08-02T06:06:23.147Z"
   },
   {
    "duration": 38,
    "start_time": "2022-08-02T06:06:23.170Z"
   },
   {
    "duration": 624,
    "start_time": "2022-08-02T06:06:23.210Z"
   },
   {
    "duration": 286,
    "start_time": "2022-08-02T06:06:23.835Z"
   },
   {
    "duration": 276,
    "start_time": "2022-08-02T06:06:24.123Z"
   },
   {
    "duration": 275,
    "start_time": "2022-08-02T06:06:24.404Z"
   },
   {
    "duration": 277,
    "start_time": "2022-08-02T06:06:24.681Z"
   },
   {
    "duration": 8237,
    "start_time": "2022-08-02T06:06:24.960Z"
   },
   {
    "duration": 12,
    "start_time": "2022-08-02T06:06:33.199Z"
   },
   {
    "duration": 224,
    "start_time": "2022-08-02T06:06:33.212Z"
   },
   {
    "duration": 404,
    "start_time": "2022-08-02T06:06:33.437Z"
   },
   {
    "duration": 39,
    "start_time": "2022-08-02T06:06:33.843Z"
   },
   {
    "duration": 6,
    "start_time": "2022-08-02T06:06:51.898Z"
   },
   {
    "duration": 30,
    "start_time": "2022-08-02T06:06:56.933Z"
   },
   {
    "duration": 25,
    "start_time": "2022-08-02T06:07:23.335Z"
   },
   {
    "duration": 24,
    "start_time": "2022-08-02T06:07:33.240Z"
   },
   {
    "duration": 21,
    "start_time": "2022-08-02T06:07:41.435Z"
   },
   {
    "duration": 22,
    "start_time": "2022-08-02T06:07:46.037Z"
   },
   {
    "duration": 22,
    "start_time": "2022-08-02T06:07:51.984Z"
   },
   {
    "duration": 89,
    "start_time": "2022-08-02T06:13:09.342Z"
   },
   {
    "duration": 575,
    "start_time": "2022-08-02T06:20:38.645Z"
   },
   {
    "duration": 544,
    "start_time": "2022-08-02T06:20:48.731Z"
   },
   {
    "duration": 744,
    "start_time": "2022-08-02T06:21:05.522Z"
   },
   {
    "duration": 1437,
    "start_time": "2022-08-02T06:22:26.657Z"
   },
   {
    "duration": 23,
    "start_time": "2022-08-02T06:22:28.096Z"
   },
   {
    "duration": 18,
    "start_time": "2022-08-02T06:22:28.121Z"
   },
   {
    "duration": 102,
    "start_time": "2022-08-02T06:22:28.142Z"
   },
   {
    "duration": 18,
    "start_time": "2022-08-02T06:22:28.246Z"
   },
   {
    "duration": 55,
    "start_time": "2022-08-02T06:22:28.266Z"
   },
   {
    "duration": 269,
    "start_time": "2022-08-02T06:22:28.323Z"
   },
   {
    "duration": 578,
    "start_time": "2022-08-02T06:22:28.594Z"
   },
   {
    "duration": 61,
    "start_time": "2022-08-02T06:22:29.175Z"
   },
   {
    "duration": 29,
    "start_time": "2022-08-02T06:22:29.240Z"
   },
   {
    "duration": 13,
    "start_time": "2022-08-02T06:22:29.271Z"
   },
   {
    "duration": 60,
    "start_time": "2022-08-02T06:22:29.304Z"
   },
   {
    "duration": 255,
    "start_time": "2022-08-02T06:22:29.366Z"
   },
   {
    "duration": 255,
    "start_time": "2022-08-02T06:22:29.623Z"
   },
   {
    "duration": 375,
    "start_time": "2022-08-02T06:22:29.879Z"
   },
   {
    "duration": 17,
    "start_time": "2022-08-02T06:22:30.256Z"
   },
   {
    "duration": 43,
    "start_time": "2022-08-02T06:22:30.276Z"
   },
   {
    "duration": 13,
    "start_time": "2022-08-02T06:22:30.321Z"
   },
   {
    "duration": 644,
    "start_time": "2022-08-02T06:22:30.336Z"
   },
   {
    "duration": 308,
    "start_time": "2022-08-02T06:22:30.982Z"
   },
   {
    "duration": 299,
    "start_time": "2022-08-02T06:22:31.293Z"
   },
   {
    "duration": 276,
    "start_time": "2022-08-02T06:22:31.594Z"
   },
   {
    "duration": 316,
    "start_time": "2022-08-02T06:22:31.872Z"
   },
   {
    "duration": 8575,
    "start_time": "2022-08-02T06:22:32.190Z"
   },
   {
    "duration": 12,
    "start_time": "2022-08-02T06:22:40.768Z"
   },
   {
    "duration": 253,
    "start_time": "2022-08-02T06:22:40.782Z"
   },
   {
    "duration": 407,
    "start_time": "2022-08-02T06:22:41.037Z"
   },
   {
    "duration": 44,
    "start_time": "2022-08-02T06:22:41.447Z"
   },
   {
    "duration": 28,
    "start_time": "2022-08-02T06:23:55.957Z"
   },
   {
    "duration": 251,
    "start_time": "2022-08-02T06:24:14.604Z"
   },
   {
    "duration": 117,
    "start_time": "2022-08-02T06:28:30.662Z"
   },
   {
    "duration": 35,
    "start_time": "2022-08-02T06:28:38.011Z"
   },
   {
    "duration": 17,
    "start_time": "2022-08-02T06:28:59.318Z"
   },
   {
    "duration": 20,
    "start_time": "2022-08-02T06:29:26.062Z"
   },
   {
    "duration": 20,
    "start_time": "2022-08-02T06:29:30.980Z"
   },
   {
    "duration": 27,
    "start_time": "2022-08-02T06:29:48.268Z"
   },
   {
    "duration": 27,
    "start_time": "2022-08-02T06:39:42.036Z"
   },
   {
    "duration": 18,
    "start_time": "2022-08-02T06:40:27.684Z"
   },
   {
    "duration": 33,
    "start_time": "2022-08-02T06:40:42.540Z"
   },
   {
    "duration": 17,
    "start_time": "2022-08-02T06:41:02.159Z"
   },
   {
    "duration": 9,
    "start_time": "2022-08-02T06:42:11.833Z"
   },
   {
    "duration": 10,
    "start_time": "2022-08-02T06:42:44.435Z"
   },
   {
    "duration": 8,
    "start_time": "2022-08-02T06:43:03.031Z"
   },
   {
    "duration": 21,
    "start_time": "2022-08-02T06:43:35.356Z"
   },
   {
    "duration": 1745,
    "start_time": "2022-08-02T06:46:02.857Z"
   },
   {
    "duration": 1158,
    "start_time": "2022-08-02T06:46:12.041Z"
   },
   {
    "duration": 1242,
    "start_time": "2022-08-02T06:46:24.440Z"
   },
   {
    "duration": 10,
    "start_time": "2022-08-02T06:46:37.230Z"
   },
   {
    "duration": 2300,
    "start_time": "2022-08-02T06:47:56.464Z"
   },
   {
    "duration": 2259,
    "start_time": "2022-08-02T06:48:15.191Z"
   },
   {
    "duration": 11,
    "start_time": "2022-08-02T06:49:39.074Z"
   },
   {
    "duration": 14,
    "start_time": "2022-08-02T06:49:47.906Z"
   },
   {
    "duration": 130,
    "start_time": "2022-08-02T06:53:27.845Z"
   },
   {
    "duration": 18,
    "start_time": "2022-08-02T06:53:50.428Z"
   },
   {
    "duration": 16,
    "start_time": "2022-08-02T06:54:06.258Z"
   },
   {
    "duration": 17,
    "start_time": "2022-08-02T06:54:18.529Z"
   },
   {
    "duration": 18,
    "start_time": "2022-08-02T06:55:36.646Z"
   },
   {
    "duration": 17,
    "start_time": "2022-08-02T06:55:44.250Z"
   },
   {
    "duration": 9,
    "start_time": "2022-08-02T06:56:34.227Z"
   },
   {
    "duration": 16,
    "start_time": "2022-08-02T06:56:44.603Z"
   },
   {
    "duration": 57,
    "start_time": "2022-08-02T06:57:50.240Z"
   },
   {
    "duration": 44,
    "start_time": "2022-08-02T06:58:41.568Z"
   },
   {
    "duration": 39,
    "start_time": "2022-08-02T06:58:47.135Z"
   },
   {
    "duration": 38,
    "start_time": "2022-08-02T06:58:54.746Z"
   },
   {
    "duration": 52,
    "start_time": "2022-08-02T06:59:00.933Z"
   },
   {
    "duration": 15,
    "start_time": "2022-08-02T06:59:15.475Z"
   },
   {
    "duration": 24,
    "start_time": "2022-08-02T06:59:40.228Z"
   },
   {
    "duration": 32,
    "start_time": "2022-08-02T07:23:57.347Z"
   },
   {
    "duration": 22,
    "start_time": "2022-08-02T07:24:13.626Z"
   },
   {
    "duration": 145,
    "start_time": "2022-08-02T07:26:21.092Z"
   },
   {
    "duration": 147,
    "start_time": "2022-08-02T07:27:26.986Z"
   },
   {
    "duration": 175,
    "start_time": "2022-08-02T07:29:38.682Z"
   },
   {
    "duration": 167,
    "start_time": "2022-08-02T07:29:51.085Z"
   },
   {
    "duration": 26,
    "start_time": "2022-08-02T07:31:00.637Z"
   },
   {
    "duration": 192,
    "start_time": "2022-08-02T07:31:08.289Z"
   },
   {
    "duration": 230,
    "start_time": "2022-08-02T07:31:28.034Z"
   },
   {
    "duration": 183,
    "start_time": "2022-08-02T07:36:59.840Z"
   },
   {
    "duration": 186,
    "start_time": "2022-08-02T07:37:16.938Z"
   },
   {
    "duration": 21,
    "start_time": "2022-08-02T07:37:26.834Z"
   },
   {
    "duration": 324,
    "start_time": "2022-08-02T07:37:35.594Z"
   },
   {
    "duration": 227,
    "start_time": "2022-08-02T07:39:01.781Z"
   },
   {
    "duration": 171,
    "start_time": "2022-08-02T07:39:14.374Z"
   },
   {
    "duration": 349,
    "start_time": "2022-08-02T07:41:18.526Z"
   },
   {
    "duration": 269,
    "start_time": "2022-08-02T07:41:31.240Z"
   },
   {
    "duration": 49,
    "start_time": "2022-08-02T07:47:56.977Z"
   },
   {
    "duration": 16,
    "start_time": "2022-08-02T07:48:09.023Z"
   },
   {
    "duration": 294,
    "start_time": "2022-08-02T07:48:16.347Z"
   },
   {
    "duration": 18,
    "start_time": "2022-08-02T07:49:18.230Z"
   },
   {
    "duration": 111,
    "start_time": "2022-08-02T07:49:38.535Z"
   },
   {
    "duration": 120,
    "start_time": "2022-08-02T07:49:58.739Z"
   },
   {
    "duration": 135,
    "start_time": "2022-08-02T07:50:14.134Z"
   },
   {
    "duration": 132,
    "start_time": "2022-08-02T07:50:24.992Z"
   },
   {
    "duration": 121,
    "start_time": "2022-08-02T07:50:43.350Z"
   },
   {
    "duration": 237,
    "start_time": "2022-08-02T07:53:01.546Z"
   },
   {
    "duration": 283,
    "start_time": "2022-08-02T07:53:51.243Z"
   },
   {
    "duration": 230,
    "start_time": "2022-08-02T07:58:33.965Z"
   },
   {
    "duration": 239,
    "start_time": "2022-08-02T07:58:43.142Z"
   },
   {
    "duration": 1474,
    "start_time": "2022-08-02T08:41:01.380Z"
   },
   {
    "duration": 18,
    "start_time": "2022-08-02T08:41:02.857Z"
   },
   {
    "duration": 16,
    "start_time": "2022-08-02T08:41:02.877Z"
   },
   {
    "duration": 91,
    "start_time": "2022-08-02T08:41:02.895Z"
   },
   {
    "duration": 35,
    "start_time": "2022-08-02T08:41:02.989Z"
   },
   {
    "duration": 33,
    "start_time": "2022-08-02T08:41:03.027Z"
   },
   {
    "duration": 301,
    "start_time": "2022-08-02T08:41:03.062Z"
   },
   {
    "duration": 581,
    "start_time": "2022-08-02T08:41:03.365Z"
   },
   {
    "duration": 46,
    "start_time": "2022-08-02T08:41:03.949Z"
   },
   {
    "duration": 224,
    "start_time": "2022-08-02T08:41:03.997Z"
   },
   {
    "duration": 41,
    "start_time": "2022-08-02T08:41:04.224Z"
   },
   {
    "duration": 14,
    "start_time": "2022-08-02T08:41:04.267Z"
   },
   {
    "duration": 72,
    "start_time": "2022-08-02T08:41:04.283Z"
   },
   {
    "duration": 262,
    "start_time": "2022-08-02T08:41:04.357Z"
   },
   {
    "duration": 352,
    "start_time": "2022-08-02T08:41:04.621Z"
   },
   {
    "duration": 18,
    "start_time": "2022-08-02T08:41:04.975Z"
   },
   {
    "duration": 282,
    "start_time": "2022-08-02T08:41:04.994Z"
   },
   {
    "duration": 266,
    "start_time": "2022-08-02T08:41:05.278Z"
   },
   {
    "duration": 11,
    "start_time": "2022-08-02T08:41:05.546Z"
   },
   {
    "duration": 661,
    "start_time": "2022-08-02T08:41:05.559Z"
   },
   {
    "duration": 275,
    "start_time": "2022-08-02T08:41:06.222Z"
   },
   {
    "duration": 339,
    "start_time": "2022-08-02T08:41:06.499Z"
   },
   {
    "duration": 316,
    "start_time": "2022-08-02T08:41:06.840Z"
   },
   {
    "duration": 289,
    "start_time": "2022-08-02T08:41:07.158Z"
   },
   {
    "duration": 296,
    "start_time": "2022-08-02T08:41:07.449Z"
   },
   {
    "duration": 9046,
    "start_time": "2022-08-02T08:41:07.747Z"
   },
   {
    "duration": 13,
    "start_time": "2022-08-02T08:41:16.796Z"
   },
   {
    "duration": 281,
    "start_time": "2022-08-02T08:41:16.816Z"
   },
   {
    "duration": 426,
    "start_time": "2022-08-02T08:41:17.099Z"
   },
   {
    "duration": 47,
    "start_time": "2022-08-02T08:41:17.527Z"
   }
  ],
  "celltoolbar": "Необработанный формат ячейки",
  "colab": {
   "name": "DA+. Сборный проект 1. Шаблон (1).ipynb",
   "provenance": []
  },
  "kernelspec": {
   "display_name": "Python 3 (ipykernel)",
   "language": "python",
   "name": "python3"
  },
  "language_info": {
   "codemirror_mode": {
    "name": "ipython",
    "version": 3
   },
   "file_extension": ".py",
   "mimetype": "text/x-python",
   "name": "python",
   "nbconvert_exporter": "python",
   "pygments_lexer": "ipython3",
   "version": "3.9.12"
  },
  "toc": {
   "base_numbering": 1,
   "nav_menu": {
    "height": "277px",
    "width": "585px"
   },
   "number_sections": true,
   "sideBar": true,
   "skip_h1_title": true,
   "title_cell": "Table of Contents",
   "title_sidebar": "Contents",
   "toc_cell": false,
   "toc_position": {
    "height": "calc(100% - 180px)",
    "left": "10px",
    "top": "150px",
    "width": "375.391px"
   },
   "toc_section_display": true,
   "toc_window_display": false
  }
 },
 "nbformat": 4,
 "nbformat_minor": 1
}
